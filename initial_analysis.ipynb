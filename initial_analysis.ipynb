{
 "cells": [
  {
   "cell_type": "code",
   "execution_count": 1,
   "outputs": [],
   "source": [
    "import pandas as pd\n",
    "import numpy as np\n",
    "import matplotlib.pyplot as plt\n",
    "import seaborn as sns"
   ],
   "metadata": {
    "collapsed": false
   }
  },
  {
   "cell_type": "markdown",
   "source": [
    "# Filtering and preparing data"
   ],
   "metadata": {
    "collapsed": false
   }
  },
  {
   "cell_type": "code",
   "execution_count": 2,
   "metadata": {
    "collapsed": true
   },
   "outputs": [
    {
     "data": {
      "text/plain": "    index                                               name  \\\n0       0                     Australian National University   \n1       1                                  Monash University   \n2       2                           University of Queensland   \n3       3                               Macquarie University   \n4       4                                        UNSW Sydney   \n5       5                               Newcastle University   \n6       6                           University of Wollongong   \n7       7                            University of Melbourne   \n8       8                             University of Tasmania   \n9       9                             University of Adelaide   \n10     10                              James Cook University   \n11     11                                Flinders University   \n12     12                                    RMIT University   \n13     13                                La Trobe University   \n14     14                                Victoria University   \n15     15                          University of New England   \n16     16                                  Deakin University   \n17     17                                Griffith University   \n18     18                      Central Queensland University   \n19     19                      University of South Australia   \n20     20                 Swinburne University of Technology   \n21     21                                    Bond University   \n22     22                   University of the Sunshine Coast   \n23     23                           Charles Sturt University   \n24     24                             University of Canberra   \n25     25                              Federation University   \n26     26  Walter and Eliza Hall Institute of Medical Res...   \n27     27                          Charles Darwin University   \n28     28             Australian Institute of Marine Science   \n29     29                      Australian Antarctic Division   \n30     30                  University of Southern Queensland   \n31     31          QIMR Berghofer Medical Research Institute   \n32     33                                   Burnet Institute   \n33     34            Victor Chang Cardiac Research Institute   \n34     35              Murdoch Children's Research Institute   \n35     36                                     Mater Research   \n36     37          St Vincents Institute of Medical Research   \n37     38                       The Heart Research Institute   \n38     39        University Mental Health Research Institute   \n39     40  Australian Nuclear Science and Technology Orga...   \n40     41                          Naval Postgraduate School   \n41     42                       Rolls-Royce (United Kingdom)   \n42     43                                    CSL (Australia)   \n43     44                                BP (United Kingdom)   \n44     45                         Rio Tinto (United Kingdom)   \n45     46                                Department of Water   \n46     47                       BAE Systems (United Kingdom)   \n47     51            Defence Research and Development Canada   \n48     52                                Lions Eye Institute   \n49     53                              Mater Health Services   \n\n                                        link  \\\n0                     http://www.anu.edu.au/   \n1                     http://www.monash.edu/   \n2                      http://www.uq.edu.au/   \n3                          http://mq.edu.au/   \n4                   https://www.unsw.edu.au/   \n5                      http://www.ncl.ac.uk/   \n6          https://www.uow.edu.au/index.html   \n7                 http://www.unimelb.edu.au/   \n8                    http://www.utas.edu.au/   \n9                http://www.adelaide.edu.au/   \n10                    http://www.jcu.edu.au/   \n11               http://www.flinders.edu.au/   \n12                  https://www.rmit.edu.au/   \n13                http://www.latrobe.edu.au/   \n14                     http://www.vu.edu.au/   \n15                    http://www.une.edu.au/   \n16                 http://www.deakin.edu.au/   \n17               http://www.griffith.edu.au/   \n18                   https://www.cqu.edu.au/   \n19                 https://www.unisa.edu.au/   \n20              http://www.swinburne.edu.au/   \n21                       http://bond.edu.au/   \n22                    http://www.usc.edu.au/   \n23                    http://www.csu.edu.au/   \n24               http://www.canberra.edu.au/   \n25                https://federation.edu.au/   \n26                   http://www.wehi.edu.au/   \n27                    http://www.cdu.edu.au/   \n28                   http://www.aims.gov.au/   \n29             http://www.antarctica.gov.au/   \n30                    http://www.usq.edu.au/   \n31          http://www.qimrberghofer.edu.au/   \n32                 http://www.burnet.edu.au/   \n33            http://www.victorchang.edu.au/   \n34                  https://www.mcri.edu.au/   \n35             http://research.mater.org.au/   \n36                   https://www.svi.edu.au/   \n37                    http://www.hri.org.au/   \n38                    https://www.epipsi.gr/   \n39                  http://www.ansto.gov.au/   \n40                       http://www.nps.edu/   \n41              https://www.rolls-royce.com/   \n42                      https://www.csl.com/   \n43                        http://www.bp.com/   \n44                  http://www.riotinto.com/   \n45              https://www.water.wa.gov.au/   \n46                http://www.baesystems.com/   \n47  http://www.drdc-rddc.gc.ca/en/index.page   \n48                   https://www.lei.org.au/   \n49                  http://www.mater.org.au/   \n\n                                                value        type  \n0   ANU  Our COVID-19 pathway     b' html \\n [if l...   Education  \n1   Monash University - one of the top universitie...   Education  \n2   The University of Queensland \\n            Stu...   Education  \n3   \\n          \\n\\n            Macquarie Universi...   Education  \n4   UNSW Sydney | One of the best universities in ...   Education  \n5   The things we do here make a difference out th...   Education  \n6   Home - University of Wollongong \\xe2\\x80\\x93 U...   Education  \n7   The University of Melbourne, Australia - Austr...   Education  \n8   University of Tasmania | University of Tasmani...   Education  \n9   The University of Adelaide The University of A...   Education  \n10  Study at James Cook University in Queensland -...   Education  \n11  Flinders University - Adelaide, South Australi...   Education  \n12  RMIT University - RMIT University RMIT Univers...   Education  \n13  La Trobe University, Melbourne Victoria Austra...   Education  \n14  Victoria University, Australia VU home Study a...   Education  \n15  Home - University of New England (UNE) Home Fu...   Education  \n16  Home | Deakin Put Deakin first Courses by inte...   Education  \n17  Griffith University  Personalised for internat...   Education  \n18  CQUniversity   FIND A COURSE Human rights trai...   Education  \n19  UniSA - University of South Australia Universi...   Education  \n20  Swinburne University of Technology | Melbourne...   Education  \n21  Bond University | Gold Coast, Queensland, Aust...   Education  \n22  UniSC | University of the Sunshine Coast, Quee...   Education  \n23  Home - Charles Sturt University  Study Why Cha...   Education  \n24  \\n\\nUniversity of Canberra \\r\\n    University ...   Education  \n25  Federation University Australia - Federation U...   Education  \n26  WEHI | Walter and Eliza Hall Institute of Medi...   Nonprofit  \n27  Home | Charles Darwin University     \\n       ...   Education  \n28  The Australian Institute of Marine Science | A...    Facility  \n29  Australian Antarctic Program Keep in touch    ...  Government  \n30  University of Southern Queensland - University...   Education  \n31  Home - QIMR Berghofer  Help me support cancer ...    Facility  \n32  Burnet Institute  Support Us About COVID-19   ...   Nonprofit  \n33  Home of Heart Research | Fight Heart Disease -...   Nonprofit  \n34  Home - Murdoch Children\\'s Research Institute ...   Nonprofit  \n35   this website will overthrow your mind  Catch ...    Facility  \n36  SVI :: Welcome to SVI  Search MORE WAYS TO SUP...   Nonprofit  \n37  Heart Research Institute \\xe2\\x80\\xa2 Donate t...    Facility  \n38  \\xce\\x91\\xcf\\x81\\xcf\\x87\\xce\\xb9\\xce\\xba\\xce\\x...   Education  \n39  ANSTO | Science. Ingenuity. Sustainability   \\...  Government  \n40  Naval Postgraduate School - Naval Postgraduate...   Education  \n41  \\r\\n\\tRolls-Royce: Pioneering Cutting-Edge Tec...     Company  \n42  CSL is a global biotech leader. We have releas...     Company  \n43  Home  Reimagining energy \\n \\n                ...     Company  \n44  Rio Tinto | Global We produce materials essent...     Company  \n45  Home Home  Home page container QUICK LINKS The...  Government  \n46  Home | BAE Systems | International \\r\\n Search...     Company  \n47  Defence Research and Development Canada - Cana...  Government  \n48  Home - Lions Eye Institute  Better Vision    2...   Nonprofit  \n49  \\r\\n\\tHome - Mater\\r\\n  COVID-19 FAQs Importan...  Healthcare  ",
      "text/html": "<div>\n<style scoped>\n    .dataframe tbody tr th:only-of-type {\n        vertical-align: middle;\n    }\n\n    .dataframe tbody tr th {\n        vertical-align: top;\n    }\n\n    .dataframe thead th {\n        text-align: right;\n    }\n</style>\n<table border=\"1\" class=\"dataframe\">\n  <thead>\n    <tr style=\"text-align: right;\">\n      <th></th>\n      <th>index</th>\n      <th>name</th>\n      <th>link</th>\n      <th>value</th>\n      <th>type</th>\n    </tr>\n  </thead>\n  <tbody>\n    <tr>\n      <th>0</th>\n      <td>0</td>\n      <td>Australian National University</td>\n      <td>http://www.anu.edu.au/</td>\n      <td>ANU  Our COVID-19 pathway     b' html \\n [if l...</td>\n      <td>Education</td>\n    </tr>\n    <tr>\n      <th>1</th>\n      <td>1</td>\n      <td>Monash University</td>\n      <td>http://www.monash.edu/</td>\n      <td>Monash University - one of the top universitie...</td>\n      <td>Education</td>\n    </tr>\n    <tr>\n      <th>2</th>\n      <td>2</td>\n      <td>University of Queensland</td>\n      <td>http://www.uq.edu.au/</td>\n      <td>The University of Queensland \\n            Stu...</td>\n      <td>Education</td>\n    </tr>\n    <tr>\n      <th>3</th>\n      <td>3</td>\n      <td>Macquarie University</td>\n      <td>http://mq.edu.au/</td>\n      <td>\\n          \\n\\n            Macquarie Universi...</td>\n      <td>Education</td>\n    </tr>\n    <tr>\n      <th>4</th>\n      <td>4</td>\n      <td>UNSW Sydney</td>\n      <td>https://www.unsw.edu.au/</td>\n      <td>UNSW Sydney | One of the best universities in ...</td>\n      <td>Education</td>\n    </tr>\n    <tr>\n      <th>5</th>\n      <td>5</td>\n      <td>Newcastle University</td>\n      <td>http://www.ncl.ac.uk/</td>\n      <td>The things we do here make a difference out th...</td>\n      <td>Education</td>\n    </tr>\n    <tr>\n      <th>6</th>\n      <td>6</td>\n      <td>University of Wollongong</td>\n      <td>https://www.uow.edu.au/index.html</td>\n      <td>Home - University of Wollongong \\xe2\\x80\\x93 U...</td>\n      <td>Education</td>\n    </tr>\n    <tr>\n      <th>7</th>\n      <td>7</td>\n      <td>University of Melbourne</td>\n      <td>http://www.unimelb.edu.au/</td>\n      <td>The University of Melbourne, Australia - Austr...</td>\n      <td>Education</td>\n    </tr>\n    <tr>\n      <th>8</th>\n      <td>8</td>\n      <td>University of Tasmania</td>\n      <td>http://www.utas.edu.au/</td>\n      <td>University of Tasmania | University of Tasmani...</td>\n      <td>Education</td>\n    </tr>\n    <tr>\n      <th>9</th>\n      <td>9</td>\n      <td>University of Adelaide</td>\n      <td>http://www.adelaide.edu.au/</td>\n      <td>The University of Adelaide The University of A...</td>\n      <td>Education</td>\n    </tr>\n    <tr>\n      <th>10</th>\n      <td>10</td>\n      <td>James Cook University</td>\n      <td>http://www.jcu.edu.au/</td>\n      <td>Study at James Cook University in Queensland -...</td>\n      <td>Education</td>\n    </tr>\n    <tr>\n      <th>11</th>\n      <td>11</td>\n      <td>Flinders University</td>\n      <td>http://www.flinders.edu.au/</td>\n      <td>Flinders University - Adelaide, South Australi...</td>\n      <td>Education</td>\n    </tr>\n    <tr>\n      <th>12</th>\n      <td>12</td>\n      <td>RMIT University</td>\n      <td>https://www.rmit.edu.au/</td>\n      <td>RMIT University - RMIT University RMIT Univers...</td>\n      <td>Education</td>\n    </tr>\n    <tr>\n      <th>13</th>\n      <td>13</td>\n      <td>La Trobe University</td>\n      <td>http://www.latrobe.edu.au/</td>\n      <td>La Trobe University, Melbourne Victoria Austra...</td>\n      <td>Education</td>\n    </tr>\n    <tr>\n      <th>14</th>\n      <td>14</td>\n      <td>Victoria University</td>\n      <td>http://www.vu.edu.au/</td>\n      <td>Victoria University, Australia VU home Study a...</td>\n      <td>Education</td>\n    </tr>\n    <tr>\n      <th>15</th>\n      <td>15</td>\n      <td>University of New England</td>\n      <td>http://www.une.edu.au/</td>\n      <td>Home - University of New England (UNE) Home Fu...</td>\n      <td>Education</td>\n    </tr>\n    <tr>\n      <th>16</th>\n      <td>16</td>\n      <td>Deakin University</td>\n      <td>http://www.deakin.edu.au/</td>\n      <td>Home | Deakin Put Deakin first Courses by inte...</td>\n      <td>Education</td>\n    </tr>\n    <tr>\n      <th>17</th>\n      <td>17</td>\n      <td>Griffith University</td>\n      <td>http://www.griffith.edu.au/</td>\n      <td>Griffith University  Personalised for internat...</td>\n      <td>Education</td>\n    </tr>\n    <tr>\n      <th>18</th>\n      <td>18</td>\n      <td>Central Queensland University</td>\n      <td>https://www.cqu.edu.au/</td>\n      <td>CQUniversity   FIND A COURSE Human rights trai...</td>\n      <td>Education</td>\n    </tr>\n    <tr>\n      <th>19</th>\n      <td>19</td>\n      <td>University of South Australia</td>\n      <td>https://www.unisa.edu.au/</td>\n      <td>UniSA - University of South Australia Universi...</td>\n      <td>Education</td>\n    </tr>\n    <tr>\n      <th>20</th>\n      <td>20</td>\n      <td>Swinburne University of Technology</td>\n      <td>http://www.swinburne.edu.au/</td>\n      <td>Swinburne University of Technology | Melbourne...</td>\n      <td>Education</td>\n    </tr>\n    <tr>\n      <th>21</th>\n      <td>21</td>\n      <td>Bond University</td>\n      <td>http://bond.edu.au/</td>\n      <td>Bond University | Gold Coast, Queensland, Aust...</td>\n      <td>Education</td>\n    </tr>\n    <tr>\n      <th>22</th>\n      <td>22</td>\n      <td>University of the Sunshine Coast</td>\n      <td>http://www.usc.edu.au/</td>\n      <td>UniSC | University of the Sunshine Coast, Quee...</td>\n      <td>Education</td>\n    </tr>\n    <tr>\n      <th>23</th>\n      <td>23</td>\n      <td>Charles Sturt University</td>\n      <td>http://www.csu.edu.au/</td>\n      <td>Home - Charles Sturt University  Study Why Cha...</td>\n      <td>Education</td>\n    </tr>\n    <tr>\n      <th>24</th>\n      <td>24</td>\n      <td>University of Canberra</td>\n      <td>http://www.canberra.edu.au/</td>\n      <td>\\n\\nUniversity of Canberra \\r\\n    University ...</td>\n      <td>Education</td>\n    </tr>\n    <tr>\n      <th>25</th>\n      <td>25</td>\n      <td>Federation University</td>\n      <td>https://federation.edu.au/</td>\n      <td>Federation University Australia - Federation U...</td>\n      <td>Education</td>\n    </tr>\n    <tr>\n      <th>26</th>\n      <td>26</td>\n      <td>Walter and Eliza Hall Institute of Medical Res...</td>\n      <td>http://www.wehi.edu.au/</td>\n      <td>WEHI | Walter and Eliza Hall Institute of Medi...</td>\n      <td>Nonprofit</td>\n    </tr>\n    <tr>\n      <th>27</th>\n      <td>27</td>\n      <td>Charles Darwin University</td>\n      <td>http://www.cdu.edu.au/</td>\n      <td>Home | Charles Darwin University     \\n       ...</td>\n      <td>Education</td>\n    </tr>\n    <tr>\n      <th>28</th>\n      <td>28</td>\n      <td>Australian Institute of Marine Science</td>\n      <td>http://www.aims.gov.au/</td>\n      <td>The Australian Institute of Marine Science | A...</td>\n      <td>Facility</td>\n    </tr>\n    <tr>\n      <th>29</th>\n      <td>29</td>\n      <td>Australian Antarctic Division</td>\n      <td>http://www.antarctica.gov.au/</td>\n      <td>Australian Antarctic Program Keep in touch    ...</td>\n      <td>Government</td>\n    </tr>\n    <tr>\n      <th>30</th>\n      <td>30</td>\n      <td>University of Southern Queensland</td>\n      <td>http://www.usq.edu.au/</td>\n      <td>University of Southern Queensland - University...</td>\n      <td>Education</td>\n    </tr>\n    <tr>\n      <th>31</th>\n      <td>31</td>\n      <td>QIMR Berghofer Medical Research Institute</td>\n      <td>http://www.qimrberghofer.edu.au/</td>\n      <td>Home - QIMR Berghofer  Help me support cancer ...</td>\n      <td>Facility</td>\n    </tr>\n    <tr>\n      <th>32</th>\n      <td>33</td>\n      <td>Burnet Institute</td>\n      <td>http://www.burnet.edu.au/</td>\n      <td>Burnet Institute  Support Us About COVID-19   ...</td>\n      <td>Nonprofit</td>\n    </tr>\n    <tr>\n      <th>33</th>\n      <td>34</td>\n      <td>Victor Chang Cardiac Research Institute</td>\n      <td>http://www.victorchang.edu.au/</td>\n      <td>Home of Heart Research | Fight Heart Disease -...</td>\n      <td>Nonprofit</td>\n    </tr>\n    <tr>\n      <th>34</th>\n      <td>35</td>\n      <td>Murdoch Children's Research Institute</td>\n      <td>https://www.mcri.edu.au/</td>\n      <td>Home - Murdoch Children\\'s Research Institute ...</td>\n      <td>Nonprofit</td>\n    </tr>\n    <tr>\n      <th>35</th>\n      <td>36</td>\n      <td>Mater Research</td>\n      <td>http://research.mater.org.au/</td>\n      <td>this website will overthrow your mind  Catch ...</td>\n      <td>Facility</td>\n    </tr>\n    <tr>\n      <th>36</th>\n      <td>37</td>\n      <td>St Vincents Institute of Medical Research</td>\n      <td>https://www.svi.edu.au/</td>\n      <td>SVI :: Welcome to SVI  Search MORE WAYS TO SUP...</td>\n      <td>Nonprofit</td>\n    </tr>\n    <tr>\n      <th>37</th>\n      <td>38</td>\n      <td>The Heart Research Institute</td>\n      <td>http://www.hri.org.au/</td>\n      <td>Heart Research Institute \\xe2\\x80\\xa2 Donate t...</td>\n      <td>Facility</td>\n    </tr>\n    <tr>\n      <th>38</th>\n      <td>39</td>\n      <td>University Mental Health Research Institute</td>\n      <td>https://www.epipsi.gr/</td>\n      <td>\\xce\\x91\\xcf\\x81\\xcf\\x87\\xce\\xb9\\xce\\xba\\xce\\x...</td>\n      <td>Education</td>\n    </tr>\n    <tr>\n      <th>39</th>\n      <td>40</td>\n      <td>Australian Nuclear Science and Technology Orga...</td>\n      <td>http://www.ansto.gov.au/</td>\n      <td>ANSTO | Science. Ingenuity. Sustainability   \\...</td>\n      <td>Government</td>\n    </tr>\n    <tr>\n      <th>40</th>\n      <td>41</td>\n      <td>Naval Postgraduate School</td>\n      <td>http://www.nps.edu/</td>\n      <td>Naval Postgraduate School - Naval Postgraduate...</td>\n      <td>Education</td>\n    </tr>\n    <tr>\n      <th>41</th>\n      <td>42</td>\n      <td>Rolls-Royce (United Kingdom)</td>\n      <td>https://www.rolls-royce.com/</td>\n      <td>\\r\\n\\tRolls-Royce: Pioneering Cutting-Edge Tec...</td>\n      <td>Company</td>\n    </tr>\n    <tr>\n      <th>42</th>\n      <td>43</td>\n      <td>CSL (Australia)</td>\n      <td>https://www.csl.com/</td>\n      <td>CSL is a global biotech leader. We have releas...</td>\n      <td>Company</td>\n    </tr>\n    <tr>\n      <th>43</th>\n      <td>44</td>\n      <td>BP (United Kingdom)</td>\n      <td>http://www.bp.com/</td>\n      <td>Home  Reimagining energy \\n \\n                ...</td>\n      <td>Company</td>\n    </tr>\n    <tr>\n      <th>44</th>\n      <td>45</td>\n      <td>Rio Tinto (United Kingdom)</td>\n      <td>http://www.riotinto.com/</td>\n      <td>Rio Tinto | Global We produce materials essent...</td>\n      <td>Company</td>\n    </tr>\n    <tr>\n      <th>45</th>\n      <td>46</td>\n      <td>Department of Water</td>\n      <td>https://www.water.wa.gov.au/</td>\n      <td>Home Home  Home page container QUICK LINKS The...</td>\n      <td>Government</td>\n    </tr>\n    <tr>\n      <th>46</th>\n      <td>47</td>\n      <td>BAE Systems (United Kingdom)</td>\n      <td>http://www.baesystems.com/</td>\n      <td>Home | BAE Systems | International \\r\\n Search...</td>\n      <td>Company</td>\n    </tr>\n    <tr>\n      <th>47</th>\n      <td>51</td>\n      <td>Defence Research and Development Canada</td>\n      <td>http://www.drdc-rddc.gc.ca/en/index.page</td>\n      <td>Defence Research and Development Canada - Cana...</td>\n      <td>Government</td>\n    </tr>\n    <tr>\n      <th>48</th>\n      <td>52</td>\n      <td>Lions Eye Institute</td>\n      <td>https://www.lei.org.au/</td>\n      <td>Home - Lions Eye Institute  Better Vision    2...</td>\n      <td>Nonprofit</td>\n    </tr>\n    <tr>\n      <th>49</th>\n      <td>53</td>\n      <td>Mater Health Services</td>\n      <td>http://www.mater.org.au/</td>\n      <td>\\r\\n\\tHome - Mater\\r\\n  COVID-19 FAQs Importan...</td>\n      <td>Healthcare</td>\n    </tr>\n  </tbody>\n</table>\n</div>"
     },
     "execution_count": 2,
     "metadata": {},
     "output_type": "execute_result"
    }
   ],
   "source": [
    "# Dataset\n",
    "df = pd.read_csv(\"dataset_final_concat.csv\")\n",
    "df.head(50)"
   ]
  },
  {
   "cell_type": "code",
   "execution_count": 3,
   "outputs": [
    {
     "data": {
      "text/plain": "   index                            name                      link  \\\n0      0  Australian National University    http://www.anu.edu.au/   \n1      1               Monash University    http://www.monash.edu/   \n2      2        University of Queensland     http://www.uq.edu.au/   \n3      3            Macquarie University         http://mq.edu.au/   \n4      4                     UNSW Sydney  https://www.unsw.edu.au/   \n\n                                               value       type  \n0  ANU  Our COVID-19 pathway     b' html  [if lt ...  Education  \n1  Monash University - one of the top universitie...  Education  \n2  The University of Queensland             Study...  Education  \n3                        Macquarie University | T...  Education  \n4  UNSW Sydney | One of the best universities in ...  Education  ",
      "text/html": "<div>\n<style scoped>\n    .dataframe tbody tr th:only-of-type {\n        vertical-align: middle;\n    }\n\n    .dataframe tbody tr th {\n        vertical-align: top;\n    }\n\n    .dataframe thead th {\n        text-align: right;\n    }\n</style>\n<table border=\"1\" class=\"dataframe\">\n  <thead>\n    <tr style=\"text-align: right;\">\n      <th></th>\n      <th>index</th>\n      <th>name</th>\n      <th>link</th>\n      <th>value</th>\n      <th>type</th>\n    </tr>\n  </thead>\n  <tbody>\n    <tr>\n      <th>0</th>\n      <td>0</td>\n      <td>Australian National University</td>\n      <td>http://www.anu.edu.au/</td>\n      <td>ANU  Our COVID-19 pathway     b' html  [if lt ...</td>\n      <td>Education</td>\n    </tr>\n    <tr>\n      <th>1</th>\n      <td>1</td>\n      <td>Monash University</td>\n      <td>http://www.monash.edu/</td>\n      <td>Monash University - one of the top universitie...</td>\n      <td>Education</td>\n    </tr>\n    <tr>\n      <th>2</th>\n      <td>2</td>\n      <td>University of Queensland</td>\n      <td>http://www.uq.edu.au/</td>\n      <td>The University of Queensland             Study...</td>\n      <td>Education</td>\n    </tr>\n    <tr>\n      <th>3</th>\n      <td>3</td>\n      <td>Macquarie University</td>\n      <td>http://mq.edu.au/</td>\n      <td>Macquarie University | T...</td>\n      <td>Education</td>\n    </tr>\n    <tr>\n      <th>4</th>\n      <td>4</td>\n      <td>UNSW Sydney</td>\n      <td>https://www.unsw.edu.au/</td>\n      <td>UNSW Sydney | One of the best universities in ...</td>\n      <td>Education</td>\n    </tr>\n  </tbody>\n</table>\n</div>"
     },
     "execution_count": 3,
     "metadata": {},
     "output_type": "execute_result"
    }
   ],
   "source": [
    "# Remove linebreaks (\\n) from strings\n",
    "df['value'] = df['value'].apply(lambda x: x.replace(\"\\\\n\", \"\"))\n",
    "df.head()"
   ],
   "metadata": {
    "collapsed": false
   }
  },
  {
   "cell_type": "code",
   "execution_count": 4,
   "outputs": [
    {
     "data": {
      "text/plain": "   index                            name                      link  \\\n0      0  Australian National University    http://www.anu.edu.au/   \n1      1               Monash University    http://www.monash.edu/   \n2      2        University of Queensland     http://www.uq.edu.au/   \n3      3            Macquarie University         http://mq.edu.au/   \n4      4                     UNSW Sydney  https://www.unsw.edu.au/   \n\n                                               value       type  \n0  ANU  Our COVID-19 pathway     b' html  [if lt ...  Education  \n1  Monash University - one of the top universitie...  Education  \n2  The University of Queensland             Study...  Education  \n3                        Macquarie University | T...  Education  \n4  UNSW Sydney | One of the best universities in ...  Education  ",
      "text/html": "<div>\n<style scoped>\n    .dataframe tbody tr th:only-of-type {\n        vertical-align: middle;\n    }\n\n    .dataframe tbody tr th {\n        vertical-align: top;\n    }\n\n    .dataframe thead th {\n        text-align: right;\n    }\n</style>\n<table border=\"1\" class=\"dataframe\">\n  <thead>\n    <tr style=\"text-align: right;\">\n      <th></th>\n      <th>index</th>\n      <th>name</th>\n      <th>link</th>\n      <th>value</th>\n      <th>type</th>\n    </tr>\n  </thead>\n  <tbody>\n    <tr>\n      <th>0</th>\n      <td>0</td>\n      <td>Australian National University</td>\n      <td>http://www.anu.edu.au/</td>\n      <td>ANU  Our COVID-19 pathway     b' html  [if lt ...</td>\n      <td>Education</td>\n    </tr>\n    <tr>\n      <th>1</th>\n      <td>1</td>\n      <td>Monash University</td>\n      <td>http://www.monash.edu/</td>\n      <td>Monash University - one of the top universitie...</td>\n      <td>Education</td>\n    </tr>\n    <tr>\n      <th>2</th>\n      <td>2</td>\n      <td>University of Queensland</td>\n      <td>http://www.uq.edu.au/</td>\n      <td>The University of Queensland             Study...</td>\n      <td>Education</td>\n    </tr>\n    <tr>\n      <th>3</th>\n      <td>3</td>\n      <td>Macquarie University</td>\n      <td>http://mq.edu.au/</td>\n      <td>Macquarie University | T...</td>\n      <td>Education</td>\n    </tr>\n    <tr>\n      <th>4</th>\n      <td>4</td>\n      <td>UNSW Sydney</td>\n      <td>https://www.unsw.edu.au/</td>\n      <td>UNSW Sydney | One of the best universities in ...</td>\n      <td>Education</td>\n    </tr>\n  </tbody>\n</table>\n</div>"
     },
     "execution_count": 4,
     "metadata": {},
     "output_type": "execute_result"
    }
   ],
   "source": [
    "# Remove HTML tags - everything between <>\n",
    "import re\n",
    "df['value'] = df['value'].apply(lambda x: re.sub(\"<.*?>\", \"\", x))\n",
    "df.head()"
   ],
   "metadata": {
    "collapsed": false
   }
  },
  {
   "cell_type": "code",
   "execution_count": 5,
   "outputs": [
    {
     "name": "stderr",
     "output_type": "stream",
     "text": [
      "[nltk_data] Downloading package punkt to\n",
      "[nltk_data]     C:\\Users\\Martin\\AppData\\Roaming\\nltk_data...\n",
      "[nltk_data]   Unzipping tokenizers\\punkt.zip.\n"
     ]
    },
    {
     "data": {
      "text/plain": "True"
     },
     "execution_count": 5,
     "metadata": {},
     "output_type": "execute_result"
    }
   ],
   "source": [
    "# Downloading punkt to resolve errors\n",
    "import nltk\n",
    "nltk.download('punkt')"
   ],
   "metadata": {
    "collapsed": false
   }
  },
  {
   "cell_type": "code",
   "execution_count": 6,
   "outputs": [
    {
     "data": {
      "text/plain": "   index                            name                      link  \\\n0      0  Australian National University    http://www.anu.edu.au/   \n1      1               Monash University    http://www.monash.edu/   \n2      2        University of Queensland     http://www.uq.edu.au/   \n3      3            Macquarie University         http://mq.edu.au/   \n4      4                     UNSW Sydney  https://www.unsw.edu.au/   \n\n                                               value       type  \n0  ANU  Our COVID19 pathway     b html  if lt IE ...  Education  \n1  Monash University  one of the top universities...  Education  \n2  The University of Queensland             Study...  Education  \n3                        Macquarie University  Te...  Education  \n4  UNSW Sydney  One of the best universities in A...  Education  ",
      "text/html": "<div>\n<style scoped>\n    .dataframe tbody tr th:only-of-type {\n        vertical-align: middle;\n    }\n\n    .dataframe tbody tr th {\n        vertical-align: top;\n    }\n\n    .dataframe thead th {\n        text-align: right;\n    }\n</style>\n<table border=\"1\" class=\"dataframe\">\n  <thead>\n    <tr style=\"text-align: right;\">\n      <th></th>\n      <th>index</th>\n      <th>name</th>\n      <th>link</th>\n      <th>value</th>\n      <th>type</th>\n    </tr>\n  </thead>\n  <tbody>\n    <tr>\n      <th>0</th>\n      <td>0</td>\n      <td>Australian National University</td>\n      <td>http://www.anu.edu.au/</td>\n      <td>ANU  Our COVID19 pathway     b html  if lt IE ...</td>\n      <td>Education</td>\n    </tr>\n    <tr>\n      <th>1</th>\n      <td>1</td>\n      <td>Monash University</td>\n      <td>http://www.monash.edu/</td>\n      <td>Monash University  one of the top universities...</td>\n      <td>Education</td>\n    </tr>\n    <tr>\n      <th>2</th>\n      <td>2</td>\n      <td>University of Queensland</td>\n      <td>http://www.uq.edu.au/</td>\n      <td>The University of Queensland             Study...</td>\n      <td>Education</td>\n    </tr>\n    <tr>\n      <th>3</th>\n      <td>3</td>\n      <td>Macquarie University</td>\n      <td>http://mq.edu.au/</td>\n      <td>Macquarie University  Te...</td>\n      <td>Education</td>\n    </tr>\n    <tr>\n      <th>4</th>\n      <td>4</td>\n      <td>UNSW Sydney</td>\n      <td>https://www.unsw.edu.au/</td>\n      <td>UNSW Sydney  One of the best universities in A...</td>\n      <td>Education</td>\n    </tr>\n  </tbody>\n</table>\n</div>"
     },
     "execution_count": 6,
     "metadata": {},
     "output_type": "execute_result"
    }
   ],
   "source": [
    "# Remove special characters with regex\n",
    "import re\n",
    "df['value'] = df['value'].apply(lambda x: re.sub(r'[^A-Za-z0-9 ]+', '', str(x)))\n",
    "df.head()"
   ],
   "metadata": {
    "collapsed": false
   }
  },
  {
   "cell_type": "code",
   "execution_count": 7,
   "outputs": [
    {
     "data": {
      "text/plain": "    index                                               name  \\\n0       0                     Australian National University   \n1       1                                  Monash University   \n2       2                           University of Queensland   \n3       3                               Macquarie University   \n4       4                                        UNSW Sydney   \n5       5                               Newcastle University   \n6       6                           University of Wollongong   \n7       7                            University of Melbourne   \n8       8                             University of Tasmania   \n9       9                             University of Adelaide   \n10     10                              James Cook University   \n11     11                                Flinders University   \n12     12                                    RMIT University   \n13     13                                La Trobe University   \n14     14                                Victoria University   \n15     15                          University of New England   \n16     16                                  Deakin University   \n17     17                                Griffith University   \n18     18                      Central Queensland University   \n19     19                      University of South Australia   \n20     20                 Swinburne University of Technology   \n21     21                                    Bond University   \n22     22                   University of the Sunshine Coast   \n23     23                           Charles Sturt University   \n24     24                             University of Canberra   \n25     25                              Federation University   \n26     26  Walter and Eliza Hall Institute of Medical Res...   \n27     27                          Charles Darwin University   \n28     28             Australian Institute of Marine Science   \n29     29                      Australian Antarctic Division   \n30     30                  University of Southern Queensland   \n31     31          QIMR Berghofer Medical Research Institute   \n32     33                                   Burnet Institute   \n33     34            Victor Chang Cardiac Research Institute   \n34     35              Murdoch Children's Research Institute   \n35     36                                     Mater Research   \n36     37          St Vincents Institute of Medical Research   \n37     38                       The Heart Research Institute   \n38     39        University Mental Health Research Institute   \n39     40  Australian Nuclear Science and Technology Orga...   \n40     41                          Naval Postgraduate School   \n41     42                       Rolls-Royce (United Kingdom)   \n42     43                                    CSL (Australia)   \n43     44                                BP (United Kingdom)   \n44     45                         Rio Tinto (United Kingdom)   \n45     46                                Department of Water   \n46     47                       BAE Systems (United Kingdom)   \n47     51            Defence Research and Development Canada   \n48     52                                Lions Eye Institute   \n49     53                              Mater Health Services   \n\n                                        link  \\\n0                     http://www.anu.edu.au/   \n1                     http://www.monash.edu/   \n2                      http://www.uq.edu.au/   \n3                          http://mq.edu.au/   \n4                   https://www.unsw.edu.au/   \n5                      http://www.ncl.ac.uk/   \n6          https://www.uow.edu.au/index.html   \n7                 http://www.unimelb.edu.au/   \n8                    http://www.utas.edu.au/   \n9                http://www.adelaide.edu.au/   \n10                    http://www.jcu.edu.au/   \n11               http://www.flinders.edu.au/   \n12                  https://www.rmit.edu.au/   \n13                http://www.latrobe.edu.au/   \n14                     http://www.vu.edu.au/   \n15                    http://www.une.edu.au/   \n16                 http://www.deakin.edu.au/   \n17               http://www.griffith.edu.au/   \n18                   https://www.cqu.edu.au/   \n19                 https://www.unisa.edu.au/   \n20              http://www.swinburne.edu.au/   \n21                       http://bond.edu.au/   \n22                    http://www.usc.edu.au/   \n23                    http://www.csu.edu.au/   \n24               http://www.canberra.edu.au/   \n25                https://federation.edu.au/   \n26                   http://www.wehi.edu.au/   \n27                    http://www.cdu.edu.au/   \n28                   http://www.aims.gov.au/   \n29             http://www.antarctica.gov.au/   \n30                    http://www.usq.edu.au/   \n31          http://www.qimrberghofer.edu.au/   \n32                 http://www.burnet.edu.au/   \n33            http://www.victorchang.edu.au/   \n34                  https://www.mcri.edu.au/   \n35             http://research.mater.org.au/   \n36                   https://www.svi.edu.au/   \n37                    http://www.hri.org.au/   \n38                    https://www.epipsi.gr/   \n39                  http://www.ansto.gov.au/   \n40                       http://www.nps.edu/   \n41              https://www.rolls-royce.com/   \n42                      https://www.csl.com/   \n43                        http://www.bp.com/   \n44                  http://www.riotinto.com/   \n45              https://www.water.wa.gov.au/   \n46                http://www.baesystems.com/   \n47  http://www.drdc-rddc.gc.ca/en/index.page   \n48                   https://www.lei.org.au/   \n49                  http://www.mater.org.au/   \n\n                                                value        type  \n0   anu our covid19 pathway html endif skip naviga...   Education  \n1   monash university one the top universities aus...   Education  \n2   the university queensland study find degree st...   Education  \n3   macquarie university tertiary education macqua...   Education  \n4   unsw sydney one the best universities australi...   Education  \n5   the things here make difference out there newc...   Education  \n6   home university wollongong xe2x80x93 uow study...   Education  \n7   the university melbourne australia australias ...   Education  \n8   university tasmania university tasmania browse...   Education  \n9   the university adelaide the university adelaid...   Education  \n10  study james cook university queensland jcu aus...   Education  \n11  flinders university adelaide south australia f...   Education  \n12  rmit university rmit university rmit universit...   Education  \n13  trobe university melbourne victoria australia ...   Education  \n14  victoria university australia home study searc...   Education  \n15  home university new england une home future fi...   Education  \n16  home deakin put deakin first courses interest ...   Education  \n17  griffith university personalised for internati...   Education  \n18  cquniversity find course human rights trailbla...   Education  \n19  unisa university south australia university so...   Education  \n20  swinburne university technology melbourne aust...   Education  \n21  bond university gold coast queensland australi...   Education  \n22  unisc university the sunshine coast queensland...   Education  \n23  home charles sturt university study why charle...   Education  \n24  university canberra university canberrar canbe...   Education  \n25  federation university australia federation uni...   Education  \n26  wehi walter and eliza hall institute medical r...   Nonprofit  \n27  home charles darwin university semester 2023 a...   Education  \n28  the australian institute marine science aims a...    Facility  \n29  australian antarctic program keep touch html s...  Government  \n30  university southern queensland university sout...   Education  \n31  home qimr berghofer help support cancer resear...    Facility  \n32  burnet institute support about covid19 html 7e...   Nonprofit  \n33  home heart research fight heart disease victor...   Nonprofit  \n34  home murdoch childrens research institute worl...   Nonprofit  \n35  this website will overthrow your mind catch ht...    Facility  \n36  svi welcome svi search more ways support svis ...   Nonprofit  \n37  heart research institute xe2x80xa2 donate hear...    Facility  \n38  xcex91xcfx81xcfx87xcexb9xcexbaxcexae xcex95xce...   Education  \n39  ansto science ingenuity sustainability html sk...  Government  \n40  naval postgraduate school naval postgraduate s...   Education  \n41  rtrollsroyce pioneering cuttingedge technologi...     Company  \n42  csl global biotech leader have released our 20...     Company  \n43  home reimagining energy navigating net zero fi...     Company  \n44  rio tinto global produce materials essential h...     Company  \n45  home home home page container quick links the ...  Government  \n46  home bae systems international search rttttttt...     Company  \n47  defence research and development canada canada...  Government  \n48  home lions eye institute better vision septemb...   Nonprofit  \n49  rthome materr covid19 faqs important covid upd...  Healthcare  ",
      "text/html": "<div>\n<style scoped>\n    .dataframe tbody tr th:only-of-type {\n        vertical-align: middle;\n    }\n\n    .dataframe tbody tr th {\n        vertical-align: top;\n    }\n\n    .dataframe thead th {\n        text-align: right;\n    }\n</style>\n<table border=\"1\" class=\"dataframe\">\n  <thead>\n    <tr style=\"text-align: right;\">\n      <th></th>\n      <th>index</th>\n      <th>name</th>\n      <th>link</th>\n      <th>value</th>\n      <th>type</th>\n    </tr>\n  </thead>\n  <tbody>\n    <tr>\n      <th>0</th>\n      <td>0</td>\n      <td>Australian National University</td>\n      <td>http://www.anu.edu.au/</td>\n      <td>anu our covid19 pathway html endif skip naviga...</td>\n      <td>Education</td>\n    </tr>\n    <tr>\n      <th>1</th>\n      <td>1</td>\n      <td>Monash University</td>\n      <td>http://www.monash.edu/</td>\n      <td>monash university one the top universities aus...</td>\n      <td>Education</td>\n    </tr>\n    <tr>\n      <th>2</th>\n      <td>2</td>\n      <td>University of Queensland</td>\n      <td>http://www.uq.edu.au/</td>\n      <td>the university queensland study find degree st...</td>\n      <td>Education</td>\n    </tr>\n    <tr>\n      <th>3</th>\n      <td>3</td>\n      <td>Macquarie University</td>\n      <td>http://mq.edu.au/</td>\n      <td>macquarie university tertiary education macqua...</td>\n      <td>Education</td>\n    </tr>\n    <tr>\n      <th>4</th>\n      <td>4</td>\n      <td>UNSW Sydney</td>\n      <td>https://www.unsw.edu.au/</td>\n      <td>unsw sydney one the best universities australi...</td>\n      <td>Education</td>\n    </tr>\n    <tr>\n      <th>5</th>\n      <td>5</td>\n      <td>Newcastle University</td>\n      <td>http://www.ncl.ac.uk/</td>\n      <td>the things here make difference out there newc...</td>\n      <td>Education</td>\n    </tr>\n    <tr>\n      <th>6</th>\n      <td>6</td>\n      <td>University of Wollongong</td>\n      <td>https://www.uow.edu.au/index.html</td>\n      <td>home university wollongong xe2x80x93 uow study...</td>\n      <td>Education</td>\n    </tr>\n    <tr>\n      <th>7</th>\n      <td>7</td>\n      <td>University of Melbourne</td>\n      <td>http://www.unimelb.edu.au/</td>\n      <td>the university melbourne australia australias ...</td>\n      <td>Education</td>\n    </tr>\n    <tr>\n      <th>8</th>\n      <td>8</td>\n      <td>University of Tasmania</td>\n      <td>http://www.utas.edu.au/</td>\n      <td>university tasmania university tasmania browse...</td>\n      <td>Education</td>\n    </tr>\n    <tr>\n      <th>9</th>\n      <td>9</td>\n      <td>University of Adelaide</td>\n      <td>http://www.adelaide.edu.au/</td>\n      <td>the university adelaide the university adelaid...</td>\n      <td>Education</td>\n    </tr>\n    <tr>\n      <th>10</th>\n      <td>10</td>\n      <td>James Cook University</td>\n      <td>http://www.jcu.edu.au/</td>\n      <td>study james cook university queensland jcu aus...</td>\n      <td>Education</td>\n    </tr>\n    <tr>\n      <th>11</th>\n      <td>11</td>\n      <td>Flinders University</td>\n      <td>http://www.flinders.edu.au/</td>\n      <td>flinders university adelaide south australia f...</td>\n      <td>Education</td>\n    </tr>\n    <tr>\n      <th>12</th>\n      <td>12</td>\n      <td>RMIT University</td>\n      <td>https://www.rmit.edu.au/</td>\n      <td>rmit university rmit university rmit universit...</td>\n      <td>Education</td>\n    </tr>\n    <tr>\n      <th>13</th>\n      <td>13</td>\n      <td>La Trobe University</td>\n      <td>http://www.latrobe.edu.au/</td>\n      <td>trobe university melbourne victoria australia ...</td>\n      <td>Education</td>\n    </tr>\n    <tr>\n      <th>14</th>\n      <td>14</td>\n      <td>Victoria University</td>\n      <td>http://www.vu.edu.au/</td>\n      <td>victoria university australia home study searc...</td>\n      <td>Education</td>\n    </tr>\n    <tr>\n      <th>15</th>\n      <td>15</td>\n      <td>University of New England</td>\n      <td>http://www.une.edu.au/</td>\n      <td>home university new england une home future fi...</td>\n      <td>Education</td>\n    </tr>\n    <tr>\n      <th>16</th>\n      <td>16</td>\n      <td>Deakin University</td>\n      <td>http://www.deakin.edu.au/</td>\n      <td>home deakin put deakin first courses interest ...</td>\n      <td>Education</td>\n    </tr>\n    <tr>\n      <th>17</th>\n      <td>17</td>\n      <td>Griffith University</td>\n      <td>http://www.griffith.edu.au/</td>\n      <td>griffith university personalised for internati...</td>\n      <td>Education</td>\n    </tr>\n    <tr>\n      <th>18</th>\n      <td>18</td>\n      <td>Central Queensland University</td>\n      <td>https://www.cqu.edu.au/</td>\n      <td>cquniversity find course human rights trailbla...</td>\n      <td>Education</td>\n    </tr>\n    <tr>\n      <th>19</th>\n      <td>19</td>\n      <td>University of South Australia</td>\n      <td>https://www.unisa.edu.au/</td>\n      <td>unisa university south australia university so...</td>\n      <td>Education</td>\n    </tr>\n    <tr>\n      <th>20</th>\n      <td>20</td>\n      <td>Swinburne University of Technology</td>\n      <td>http://www.swinburne.edu.au/</td>\n      <td>swinburne university technology melbourne aust...</td>\n      <td>Education</td>\n    </tr>\n    <tr>\n      <th>21</th>\n      <td>21</td>\n      <td>Bond University</td>\n      <td>http://bond.edu.au/</td>\n      <td>bond university gold coast queensland australi...</td>\n      <td>Education</td>\n    </tr>\n    <tr>\n      <th>22</th>\n      <td>22</td>\n      <td>University of the Sunshine Coast</td>\n      <td>http://www.usc.edu.au/</td>\n      <td>unisc university the sunshine coast queensland...</td>\n      <td>Education</td>\n    </tr>\n    <tr>\n      <th>23</th>\n      <td>23</td>\n      <td>Charles Sturt University</td>\n      <td>http://www.csu.edu.au/</td>\n      <td>home charles sturt university study why charle...</td>\n      <td>Education</td>\n    </tr>\n    <tr>\n      <th>24</th>\n      <td>24</td>\n      <td>University of Canberra</td>\n      <td>http://www.canberra.edu.au/</td>\n      <td>university canberra university canberrar canbe...</td>\n      <td>Education</td>\n    </tr>\n    <tr>\n      <th>25</th>\n      <td>25</td>\n      <td>Federation University</td>\n      <td>https://federation.edu.au/</td>\n      <td>federation university australia federation uni...</td>\n      <td>Education</td>\n    </tr>\n    <tr>\n      <th>26</th>\n      <td>26</td>\n      <td>Walter and Eliza Hall Institute of Medical Res...</td>\n      <td>http://www.wehi.edu.au/</td>\n      <td>wehi walter and eliza hall institute medical r...</td>\n      <td>Nonprofit</td>\n    </tr>\n    <tr>\n      <th>27</th>\n      <td>27</td>\n      <td>Charles Darwin University</td>\n      <td>http://www.cdu.edu.au/</td>\n      <td>home charles darwin university semester 2023 a...</td>\n      <td>Education</td>\n    </tr>\n    <tr>\n      <th>28</th>\n      <td>28</td>\n      <td>Australian Institute of Marine Science</td>\n      <td>http://www.aims.gov.au/</td>\n      <td>the australian institute marine science aims a...</td>\n      <td>Facility</td>\n    </tr>\n    <tr>\n      <th>29</th>\n      <td>29</td>\n      <td>Australian Antarctic Division</td>\n      <td>http://www.antarctica.gov.au/</td>\n      <td>australian antarctic program keep touch html s...</td>\n      <td>Government</td>\n    </tr>\n    <tr>\n      <th>30</th>\n      <td>30</td>\n      <td>University of Southern Queensland</td>\n      <td>http://www.usq.edu.au/</td>\n      <td>university southern queensland university sout...</td>\n      <td>Education</td>\n    </tr>\n    <tr>\n      <th>31</th>\n      <td>31</td>\n      <td>QIMR Berghofer Medical Research Institute</td>\n      <td>http://www.qimrberghofer.edu.au/</td>\n      <td>home qimr berghofer help support cancer resear...</td>\n      <td>Facility</td>\n    </tr>\n    <tr>\n      <th>32</th>\n      <td>33</td>\n      <td>Burnet Institute</td>\n      <td>http://www.burnet.edu.au/</td>\n      <td>burnet institute support about covid19 html 7e...</td>\n      <td>Nonprofit</td>\n    </tr>\n    <tr>\n      <th>33</th>\n      <td>34</td>\n      <td>Victor Chang Cardiac Research Institute</td>\n      <td>http://www.victorchang.edu.au/</td>\n      <td>home heart research fight heart disease victor...</td>\n      <td>Nonprofit</td>\n    </tr>\n    <tr>\n      <th>34</th>\n      <td>35</td>\n      <td>Murdoch Children's Research Institute</td>\n      <td>https://www.mcri.edu.au/</td>\n      <td>home murdoch childrens research institute worl...</td>\n      <td>Nonprofit</td>\n    </tr>\n    <tr>\n      <th>35</th>\n      <td>36</td>\n      <td>Mater Research</td>\n      <td>http://research.mater.org.au/</td>\n      <td>this website will overthrow your mind catch ht...</td>\n      <td>Facility</td>\n    </tr>\n    <tr>\n      <th>36</th>\n      <td>37</td>\n      <td>St Vincents Institute of Medical Research</td>\n      <td>https://www.svi.edu.au/</td>\n      <td>svi welcome svi search more ways support svis ...</td>\n      <td>Nonprofit</td>\n    </tr>\n    <tr>\n      <th>37</th>\n      <td>38</td>\n      <td>The Heart Research Institute</td>\n      <td>http://www.hri.org.au/</td>\n      <td>heart research institute xe2x80xa2 donate hear...</td>\n      <td>Facility</td>\n    </tr>\n    <tr>\n      <th>38</th>\n      <td>39</td>\n      <td>University Mental Health Research Institute</td>\n      <td>https://www.epipsi.gr/</td>\n      <td>xcex91xcfx81xcfx87xcexb9xcexbaxcexae xcex95xce...</td>\n      <td>Education</td>\n    </tr>\n    <tr>\n      <th>39</th>\n      <td>40</td>\n      <td>Australian Nuclear Science and Technology Orga...</td>\n      <td>http://www.ansto.gov.au/</td>\n      <td>ansto science ingenuity sustainability html sk...</td>\n      <td>Government</td>\n    </tr>\n    <tr>\n      <th>40</th>\n      <td>41</td>\n      <td>Naval Postgraduate School</td>\n      <td>http://www.nps.edu/</td>\n      <td>naval postgraduate school naval postgraduate s...</td>\n      <td>Education</td>\n    </tr>\n    <tr>\n      <th>41</th>\n      <td>42</td>\n      <td>Rolls-Royce (United Kingdom)</td>\n      <td>https://www.rolls-royce.com/</td>\n      <td>rtrollsroyce pioneering cuttingedge technologi...</td>\n      <td>Company</td>\n    </tr>\n    <tr>\n      <th>42</th>\n      <td>43</td>\n      <td>CSL (Australia)</td>\n      <td>https://www.csl.com/</td>\n      <td>csl global biotech leader have released our 20...</td>\n      <td>Company</td>\n    </tr>\n    <tr>\n      <th>43</th>\n      <td>44</td>\n      <td>BP (United Kingdom)</td>\n      <td>http://www.bp.com/</td>\n      <td>home reimagining energy navigating net zero fi...</td>\n      <td>Company</td>\n    </tr>\n    <tr>\n      <th>44</th>\n      <td>45</td>\n      <td>Rio Tinto (United Kingdom)</td>\n      <td>http://www.riotinto.com/</td>\n      <td>rio tinto global produce materials essential h...</td>\n      <td>Company</td>\n    </tr>\n    <tr>\n      <th>45</th>\n      <td>46</td>\n      <td>Department of Water</td>\n      <td>https://www.water.wa.gov.au/</td>\n      <td>home home home page container quick links the ...</td>\n      <td>Government</td>\n    </tr>\n    <tr>\n      <th>46</th>\n      <td>47</td>\n      <td>BAE Systems (United Kingdom)</td>\n      <td>http://www.baesystems.com/</td>\n      <td>home bae systems international search rttttttt...</td>\n      <td>Company</td>\n    </tr>\n    <tr>\n      <th>47</th>\n      <td>51</td>\n      <td>Defence Research and Development Canada</td>\n      <td>http://www.drdc-rddc.gc.ca/en/index.page</td>\n      <td>defence research and development canada canada...</td>\n      <td>Government</td>\n    </tr>\n    <tr>\n      <th>48</th>\n      <td>52</td>\n      <td>Lions Eye Institute</td>\n      <td>https://www.lei.org.au/</td>\n      <td>home lions eye institute better vision septemb...</td>\n      <td>Nonprofit</td>\n    </tr>\n    <tr>\n      <th>49</th>\n      <td>53</td>\n      <td>Mater Health Services</td>\n      <td>http://www.mater.org.au/</td>\n      <td>rthome materr covid19 faqs important covid upd...</td>\n      <td>Healthcare</td>\n    </tr>\n  </tbody>\n</table>\n</div>"
     },
     "execution_count": 7,
     "metadata": {},
     "output_type": "execute_result"
    }
   ],
   "source": [
    "# Remove short characters\n",
    "df['value'] = df['value'].apply(lambda x: \" \".join([w.lower() for w in x.split() if len(w) > 2]))\n",
    "df.head(50)"
   ],
   "metadata": {
    "collapsed": false
   }
  },
  {
   "cell_type": "code",
   "execution_count": 8,
   "outputs": [
    {
     "name": "stderr",
     "output_type": "stream",
     "text": [
      "[nltk_data] Downloading package stopwords to\n",
      "[nltk_data]     C:\\Users\\Martin\\AppData\\Roaming\\nltk_data...\n",
      "[nltk_data]   Unzipping corpora\\stopwords.zip.\n"
     ]
    },
    {
     "data": {
      "text/plain": "True"
     },
     "execution_count": 8,
     "metadata": {},
     "output_type": "execute_result"
    }
   ],
   "source": [
    "# Downloading stopwords to resolve errors\n",
    "import nltk\n",
    "nltk.download('stopwords')"
   ],
   "metadata": {
    "collapsed": false
   }
  },
  {
   "cell_type": "code",
   "execution_count": 9,
   "outputs": [
    {
     "data": {
      "text/plain": "   index                            name                      link  \\\n0      0  Australian National University    http://www.anu.edu.au/   \n1      1               Monash University    http://www.monash.edu/   \n2      2        University of Queensland     http://www.uq.edu.au/   \n3      3            Macquarie University         http://mq.edu.au/   \n4      4                     UNSW Sydney  https://www.unsw.edu.au/   \n\n                                               value       type  \n0                anu covid19 pathway skip navigation  Education  \n1  monash university one top universities austral...  Education  \n2  university queensland study find degree study ...  Education  \n3  macquarie university tertiary education macqua...  Education  \n4  unsw sydney one best universities australia ex...  Education  ",
      "text/html": "<div>\n<style scoped>\n    .dataframe tbody tr th:only-of-type {\n        vertical-align: middle;\n    }\n\n    .dataframe tbody tr th {\n        vertical-align: top;\n    }\n\n    .dataframe thead th {\n        text-align: right;\n    }\n</style>\n<table border=\"1\" class=\"dataframe\">\n  <thead>\n    <tr style=\"text-align: right;\">\n      <th></th>\n      <th>index</th>\n      <th>name</th>\n      <th>link</th>\n      <th>value</th>\n      <th>type</th>\n    </tr>\n  </thead>\n  <tbody>\n    <tr>\n      <th>0</th>\n      <td>0</td>\n      <td>Australian National University</td>\n      <td>http://www.anu.edu.au/</td>\n      <td>anu covid19 pathway skip navigation</td>\n      <td>Education</td>\n    </tr>\n    <tr>\n      <th>1</th>\n      <td>1</td>\n      <td>Monash University</td>\n      <td>http://www.monash.edu/</td>\n      <td>monash university one top universities austral...</td>\n      <td>Education</td>\n    </tr>\n    <tr>\n      <th>2</th>\n      <td>2</td>\n      <td>University of Queensland</td>\n      <td>http://www.uq.edu.au/</td>\n      <td>university queensland study find degree study ...</td>\n      <td>Education</td>\n    </tr>\n    <tr>\n      <th>3</th>\n      <td>3</td>\n      <td>Macquarie University</td>\n      <td>http://mq.edu.au/</td>\n      <td>macquarie university tertiary education macqua...</td>\n      <td>Education</td>\n    </tr>\n    <tr>\n      <th>4</th>\n      <td>4</td>\n      <td>UNSW Sydney</td>\n      <td>https://www.unsw.edu.au/</td>\n      <td>unsw sydney one best universities australia ex...</td>\n      <td>Education</td>\n    </tr>\n  </tbody>\n</table>\n</div>"
     },
     "execution_count": 9,
     "metadata": {},
     "output_type": "execute_result"
    }
   ],
   "source": [
    "# Stop word removal with nltk\n",
    "from nltk.tokenize import word_tokenize\n",
    "from nltk.corpus import stopwords\n",
    "stop_words = set(stopwords.words('english'))\n",
    "stop_words.update([\"html\", \"endif\"])\n",
    "\n",
    "df['value'] = df['value'].apply(lambda x: \" \".join([word for word in word_tokenize(x) if word not in stop_words]))\n",
    "df.head()"
   ],
   "metadata": {
    "collapsed": false
   }
  },
  {
   "cell_type": "code",
   "execution_count": 10,
   "outputs": [
    {
     "data": {
      "text/plain": "   index                            name                      link  \\\n0      0  Australian National University    http://www.anu.edu.au/   \n1      1               Monash University    http://www.monash.edu/   \n2      2        University of Queensland     http://www.uq.edu.au/   \n3      3            Macquarie University         http://mq.edu.au/   \n4      4                     UNSW Sydney  https://www.unsw.edu.au/   \n\n                                               value       type  \n0                     anu covid19 pathway skip navig  Education  \n1  monash univers one top univers australia home ...  Education  \n2  univers queensland studi find degre studi skip...  Education  \n3  macquari univers tertiari educ macquari univer...  Education  \n4  unsw sydney one best univers australia explor ...  Education  ",
      "text/html": "<div>\n<style scoped>\n    .dataframe tbody tr th:only-of-type {\n        vertical-align: middle;\n    }\n\n    .dataframe tbody tr th {\n        vertical-align: top;\n    }\n\n    .dataframe thead th {\n        text-align: right;\n    }\n</style>\n<table border=\"1\" class=\"dataframe\">\n  <thead>\n    <tr style=\"text-align: right;\">\n      <th></th>\n      <th>index</th>\n      <th>name</th>\n      <th>link</th>\n      <th>value</th>\n      <th>type</th>\n    </tr>\n  </thead>\n  <tbody>\n    <tr>\n      <th>0</th>\n      <td>0</td>\n      <td>Australian National University</td>\n      <td>http://www.anu.edu.au/</td>\n      <td>anu covid19 pathway skip navig</td>\n      <td>Education</td>\n    </tr>\n    <tr>\n      <th>1</th>\n      <td>1</td>\n      <td>Monash University</td>\n      <td>http://www.monash.edu/</td>\n      <td>monash univers one top univers australia home ...</td>\n      <td>Education</td>\n    </tr>\n    <tr>\n      <th>2</th>\n      <td>2</td>\n      <td>University of Queensland</td>\n      <td>http://www.uq.edu.au/</td>\n      <td>univers queensland studi find degre studi skip...</td>\n      <td>Education</td>\n    </tr>\n    <tr>\n      <th>3</th>\n      <td>3</td>\n      <td>Macquarie University</td>\n      <td>http://mq.edu.au/</td>\n      <td>macquari univers tertiari educ macquari univer...</td>\n      <td>Education</td>\n    </tr>\n    <tr>\n      <th>4</th>\n      <td>4</td>\n      <td>UNSW Sydney</td>\n      <td>https://www.unsw.edu.au/</td>\n      <td>unsw sydney one best univers australia explor ...</td>\n      <td>Education</td>\n    </tr>\n  </tbody>\n</table>\n</div>"
     },
     "execution_count": 10,
     "metadata": {},
     "output_type": "execute_result"
    }
   ],
   "source": [
    "# stem the words\n",
    "from nltk.stem.porter import PorterStemmer\n",
    "stemmer = PorterStemmer()\n",
    "\n",
    "df['value'] = df['value'].apply(lambda sentence : \" \".join([stemmer.stem(word) for word in sentence.split(\" \")]))\n",
    "df.head()"
   ],
   "metadata": {
    "collapsed": false
   }
  },
  {
   "cell_type": "code",
   "execution_count": 23,
   "outputs": [
    {
     "name": "stdout",
     "output_type": "stream",
     "text": [
      "1211\n",
      "(83796, 6)\n",
      "0\n",
      "(82585, 6)\n"
     ]
    }
   ],
   "source": [
    "# Removing rows, where 'value' is nan\n",
    "print(df['value'].isna().sum())\n",
    "print(df.shape)\n",
    "\n",
    "df = df[df['value'].notna()]\n",
    "\n",
    "print(df['value'].isna().sum())\n",
    "print(df.shape)"
   ],
   "metadata": {
    "collapsed": false
   }
  },
  {
   "cell_type": "markdown",
   "source": [
    "# Bow vectorizer"
   ],
   "metadata": {
    "collapsed": false
   }
  },
  {
   "cell_type": "code",
   "execution_count": 3,
   "outputs": [],
   "source": [
    "# feature extraction\n",
    "from sklearn.feature_extraction.text import CountVectorizer\n",
    "bow_vectorizer = CountVectorizer(max_df=0.90, min_df=2, max_features=1000, stop_words='english')\n",
    "bow = bow_vectorizer.fit_transform(df['value'])"
   ],
   "metadata": {
    "collapsed": false
   }
  },
  {
   "cell_type": "code",
   "execution_count": 4,
   "outputs": [
    {
     "name": "stdout",
     "output_type": "stream",
     "text": [
      "[[0 0 0 0 0 0 0 0 0 0 0 0 0 0 0 0 0 0 0 0 0 0 0 0 0 0 0 0 0 0 0 0 0 0 0 0\n",
      "  0 0 0 0 0 0 0 0 0 0 0 0 0 0 0 0 0 0 0 0 0 0 0 0 0 0 0 0 0 0 0 0 0 0 0 0\n",
      "  0 0 0 0 0 0 0 0 0 0 0 0 0 0 0 0 0 0 0 0 0 0 0 0 0 0 0 0 0 0 0 0 0 0 0 0\n",
      "  0 0 0 0 0 0 0 0 0 0 0 0 0 0 0 0 0 0 0 0 0 0 0 0 0 0 0 0 0 0 0 0 0 0 0 0\n",
      "  0 0 0 0 0 0 0 0 0 0 0 0 0 0 0 0 0 0 0 0 0 0 0 0 0 0 0 0 0 0 0 0 0 0 0 0\n",
      "  0 0 0 0 0 0 0 0 0 0 0 0 0 0 0 0 0 0 0 0 0 0 0 0 0 0 0 0 0 0 1 0 0 0 0 0\n",
      "  0 0 0 0 0 0 0 0 0 0 0 0 0 0 0 0 0 0 0 0 0 0 0 0 0 0 0 0 0 0 0 0 0 0 0 0\n",
      "  0 0 0 0 0 0 0 0 0 0 0 0 0 0 0 0 0 0 0 0 0 0 0 0 0 0 0 0 0 0 0 0 0 0 0 0\n",
      "  0 0 0 0 0 0 0 0 0 0 0 0 0 0 0 0 0 0 0 0 0 0 0 0 0 0 0 0 0 0 0 0 0 0 0 0\n",
      "  0 0 0 0 0 0 0 0 0 0 0 0 0 0 0 0 0 0 0 0 0 0 0 0 0 0 0 0 0 0 0 0 0 0 0 0\n",
      "  0 0 0 0 0 0 0 0 0 0 0 0 0 0 0 0 0 0 0 0 0 0 0 0 0 0 0 0 0 0 0 0 0 0 0 0\n",
      "  0 0 0 0 0 0 0 0 0 0 0 0 0 0 0 0 0 0 0 0 0 0 0 0 0 0 0 0 0 0 0 0 0 0 0 0\n",
      "  0 0 0 0 0 0 0 0 0 0 0 0 0 0 0 0 0 0 0 0 0 0 0 0 0 0 0 0 0 0 0 0 0 0 0 0\n",
      "  0 0 0 0 0 0 0 0 0 0 0 0 0 0 0 0 0 0 0 0 0 0 0 0 0 0 0 0 0 0 0 0 0 0 0 0\n",
      "  0 0 0 0 0 0 0 0 0 0 0 0 0 0 0 0 0 0 0 0 0 0 0 0 0 0 0 0 0 0 0 0 0 0 0 0\n",
      "  0 0 0 0 0 0 0 0 0 0 0 0 0 0 0 0 0 0 0 0 0 0 0 0 0 0 0 0 0 0 0 0 0 0 0 0\n",
      "  0 0 0 0 0 1 0 0 0 0 0 0 0 0 0 0 0 0 0 0 0 0 0 0 0 0 0 0 0 0 0 0 0 0 0 0\n",
      "  0 0 0 0 0 0 0 0 0 0 0 0 0 0 0 0 0 0 0 0 0 0 0 0 0 0 0 0 0 0 0 0 0 0 0 0\n",
      "  0 0 0 0 0 0 0 0 0 0 0 0 0 0 0 0 0 0 0 0 0 0 0 0 0 0 0 0 0 0 0 0 0 0 0 0\n",
      "  0 0 0 0 0 0 0 0 0 0 0 0 0 0 0 0 0 0 0 0 0 0 0 0 0 0 0 0 0 0 0 0 0 0 0 0\n",
      "  0 0 0 0 0 0 0 0 0 0 0 0 0 0 0 0 0 0 0 0 0 0 0 0 0 0 0 0 0 0 0 0 0 0 0 0\n",
      "  0 0 0 0 0 0 0 0 0 0 0 0 0 0 0 0 0 0 0 0 0 0 0 0 0 0 0 0 0 0 0 0 0 0 0 0\n",
      "  0 0 0 0 0 0 0 0 1 0 0 0 0 0 0 0 0 0 0 0 0 0 0 0 0 0 0 0 0 0 0 0 0 0 0 0\n",
      "  0 0 0 0 0 0 0 0 0 0 0 0 0 0 0 0 0 0 0 0 0 0 0 0 0 0 0 0 0 0 0 0 0 0 0 0\n",
      "  0 0 0 0 0 0 0 0 0 0 0 0 0 0 0 0 0 0 0 0 0 0 0 0 0 0 0 0 0 0 0 0 0 0 0 0\n",
      "  0 0 0 0 0 0 0 0 0 0 0 0 0 0 0 0 0 0 0 0 0 0 0 0 0 0 0 0 0 0 0 0 0 0 0 0\n",
      "  0 0 0 0 0 0 0 0 0 0 0 0 0 0 0 0 0 0 0 0 0 0 0 0 0 0 0 0 0 0 0 0 0 0 0 0\n",
      "  0 0 0 0 0 0 0 0 0 0 0 0 0 0 0 0 0 0 0 0 0 0 0 0 0 0 0 0]]\n",
      "[[1 0 0 0 0 0 0 0 0 0 0 0 0 0 0 0 0 0 0 0 0 0 0 0 0 0 0 0 0 0 0 0 0 0 0 0\n",
      "  0 0 0 0 0 0 0 0 0 0 0 0 0 0 0 0 0 0 0 0 0 0 0 0 0 0 0 0 0 0 0 0 0 1 0 0\n",
      "  0 0 0 0 0 0 0 0 0 0 0 0 0 0 0 0 0 0 0 0 0 0 0 0 0 0 0 0 0 0 0 0 0 0 0 0\n",
      "  0 0 0 0 0 0 0 0 0 0 0 0 0 0 0 0 0 0 0 0 0 0 0 0 0 0 0 0 0 0 0 0 0 0 0 0\n",
      "  0 0 0 0 0 0 0 0 0 0 0 0 0 0 0 0 0 0 0 0 0 0 0 0 0 0 0 0 0 0 0 0 0 0 0 0\n",
      "  0 0 0 0 0 0 0 0 0 0 0 0 0 0 0 0 0 0 0 0 0 0 0 0 0 0 0 0 0 0 0 0 0 0 0 0\n",
      "  0 0 0 0 0 0 0 0 0 0 0 0 0 0 0 0 0 0 0 0 0 0 0 0 0 0 0 0 0 0 0 0 0 0 0 0\n",
      "  0 0 0 0 0 0 0 0 0 0 0 0 0 0 0 0 0 0 0 0 0 0 0 0 0 0 0 0 0 0 0 0 0 0 0 0\n",
      "  0 0 0 0 0 0 0 0 0 0 0 0 0 0 0 0 0 0 0 0 0 0 0 0 0 0 0 0 0 0 0 0 0 0 0 0\n",
      "  0 0 0 0 0 0 0 0 0 0 0 0 0 0 0 0 0 0 0 0 0 0 0 0 0 0 0 0 0 0 0 0 0 0 0 0\n",
      "  0 0 0 0 0 0 0 0 0 0 0 0 0 0 0 0 0 0 0 0 0 0 0 0 0 0 0 0 0 0 0 0 0 0 0 0\n",
      "  0 0 0 0 0 0 0 0 0 0 1 0 0 0 0 0 0 0 0 0 0 0 0 0 0 0 0 0 0 0 0 0 0 0 0 0\n",
      "  0 0 0 0 0 0 0 0 0 0 0 0 0 0 0 0 0 0 0 0 0 0 0 0 0 0 0 0 0 0 0 0 0 0 0 0\n",
      "  0 0 0 0 0 0 0 0 0 0 0 0 0 0 0 0 0 0 0 0 0 0 0 0 0 0 0 0 0 0 0 0 0 0 0 0\n",
      "  0 0 0 0 0 0 0 0 0 0 0 0 0 0 0 0 0 0 0 0 0 0 0 0 0 0 0 0 0 0 0 0 0 0 0 0\n",
      "  0 0 0 1 0 0 0 0 0 0 0 0 1 0 0 0 0 0 0 0 0 0 0 0 0 0 0 0 0 0 0 0 0 0 0 0\n",
      "  0 0 0 0 0 0 0 0 0 0 0 0 0 0 0 0 0 0 0 0 0 0 0 0 0 0 0 0 0 0 0 0 0 0 0 0\n",
      "  0 0 0 0 0 0 0 0 0 0 0 0 0 0 0 0 0 0 0 0 0 0 0 0 0 0 0 0 0 0 0 0 0 0 0 0\n",
      "  0 0 0 0 0 0 0 0 0 0 0 0 0 0 0 0 0 0 0 0 0 0 0 0 0 0 0 0 0 0 0 0 0 0 0 0\n",
      "  0 0 0 0 0 0 0 0 0 0 0 0 0 0 0 0 0 0 0 0 0 0 0 0 0 0 0 0 0 0 0 0 0 0 0 0\n",
      "  0 0 0 0 0 0 0 0 0 0 0 0 0 0 0 0 0 0 0 0 0 0 0 0 0 0 0 0 0 0 0 0 0 0 0 0\n",
      "  0 0 0 0 0 0 0 0 0 0 0 0 0 0 0 0 0 0 0 0 0 0 0 0 0 0 0 0 0 0 0 0 0 0 0 0\n",
      "  0 0 0 0 0 0 0 0 0 0 0 0 0 0 0 0 0 0 0 0 0 0 0 0 0 0 0 0 0 0 0 0 0 0 0 0\n",
      "  0 0 0 0 0 0 0 0 0 0 0 0 0 0 0 0 0 0 0 0 0 0 0 0 0 0 0 0 0 0 0 0 0 0 0 0\n",
      "  0 0 0 0 0 0 0 0 0 0 0 0 0 0 0 0 0 0 0 0 0 0 0 0 0 0 0 0 0 0 0 0 0 0 0 0\n",
      "  0 0 0 0 0 0 0 0 0 0 0 0 0 0 0 0 0 0 0 0 2 0 0 0 0 0 0 0 0 0 0 0 0 0 0 0\n",
      "  0 0 0 0 0 0 0 0 0 0 0 0 0 0 0 0 0 0 0 0 0 0 0 0 0 0 0 0 0 0 0 0 0 0 0 0\n",
      "  0 0 0 0 0 0 0 0 0 0 0 0 0 0 0 0 0 0 0 0 0 0 0 0 0 0 0 0]]\n",
      "[[0 0 0 0 0 0 0 0 0 0 0 0 0 0 0 0 0 0 0 0 0 0 0 0 0 0 0 0 0 0 0 0 0 0 0 0\n",
      "  0 0 0 0 0 0 0 0 0 0 0 0 0 0 0 0 0 0 0 0 0 0 0 0 0 0 0 0 0 0 0 0 0 0 0 0\n",
      "  0 0 0 0 0 0 0 0 0 0 0 0 0 0 0 0 0 0 0 0 0 0 0 0 0 0 0 0 0 0 0 0 0 0 0 0\n",
      "  0 0 0 0 0 0 0 0 0 0 0 0 0 0 0 0 0 0 0 0 0 0 0 0 0 0 0 0 0 0 0 0 0 0 0 0\n",
      "  0 0 0 0 0 0 0 0 0 0 0 0 0 0 0 0 0 0 0 0 0 0 0 0 0 0 0 0 0 0 0 0 0 0 0 0\n",
      "  0 0 0 0 0 0 0 0 0 0 0 0 0 0 0 0 0 0 0 0 0 0 0 0 0 0 0 0 0 0 0 0 0 0 0 0\n",
      "  0 0 0 0 0 0 0 0 0 0 0 1 0 0 0 0 0 0 0 0 0 0 0 0 0 0 0 0 0 0 0 0 0 0 0 0\n",
      "  0 0 0 0 0 0 0 0 0 0 0 0 0 0 0 0 0 0 0 0 0 0 0 0 0 0 0 0 0 0 0 0 0 0 0 0\n",
      "  0 0 0 0 0 0 0 0 0 0 0 0 0 0 0 0 0 0 0 0 0 0 0 0 0 0 0 0 0 0 0 0 0 0 0 0\n",
      "  0 0 0 0 0 0 0 0 0 0 0 0 0 0 0 0 0 0 0 0 0 0 0 0 0 0 0 0 0 0 0 0 0 0 0 0\n",
      "  0 0 0 0 0 0 0 0 0 0 0 0 0 0 0 0 0 0 0 0 0 0 0 0 0 0 0 0 0 0 0 0 0 0 0 0\n",
      "  0 0 0 0 0 0 0 0 0 0 0 0 0 0 0 0 0 0 0 0 0 0 0 0 0 0 0 0 0 0 0 0 0 0 0 0\n",
      "  0 0 0 0 0 0 0 0 0 0 0 0 0 0 0 0 0 0 0 0 0 0 0 0 0 0 0 0 0 0 0 0 0 0 0 0\n",
      "  0 0 0 0 0 0 0 0 0 0 0 0 0 0 0 0 0 0 0 0 0 0 0 0 0 0 0 0 0 0 0 0 0 0 0 0\n",
      "  0 0 0 0 0 0 0 0 0 0 0 0 0 0 0 0 0 0 0 0 0 0 0 0 0 0 0 0 0 0 0 0 0 0 0 0\n",
      "  0 0 0 0 0 0 0 0 0 0 0 0 0 0 0 0 0 1 0 0 0 0 0 0 0 0 0 0 0 0 0 0 0 0 0 0\n",
      "  0 0 0 0 0 0 0 0 0 0 0 0 0 0 0 0 0 0 0 0 0 0 0 0 0 0 0 0 0 0 0 0 0 0 0 0\n",
      "  0 0 0 0 0 0 0 0 0 0 0 0 0 0 0 0 0 0 0 0 0 0 0 0 0 0 0 0 0 0 0 0 0 0 0 0\n",
      "  0 0 0 0 0 0 0 0 0 0 0 0 0 0 0 0 0 0 0 0 0 0 0 0 0 0 0 0 0 0 0 0 0 0 0 0\n",
      "  0 0 0 0 0 0 0 0 0 0 0 0 0 0 0 0 0 0 0 0 0 0 0 0 0 0 0 0 0 0 0 0 0 0 0 0\n",
      "  0 0 0 0 0 0 0 0 0 0 0 0 0 0 0 0 0 0 0 0 0 0 0 0 0 0 0 0 0 0 0 0 0 0 0 0\n",
      "  0 0 0 0 0 0 0 0 0 0 0 0 0 0 0 0 0 0 0 0 0 0 0 0 0 0 0 0 0 0 0 0 0 0 0 0\n",
      "  0 0 0 0 0 0 0 0 1 0 0 0 0 0 0 0 0 0 0 0 0 0 0 0 0 0 0 0 0 0 0 0 0 0 0 0\n",
      "  0 0 0 0 0 0 0 0 0 0 0 0 0 2 0 0 0 0 0 0 0 0 0 0 0 0 0 0 0 0 0 0 0 0 0 0\n",
      "  0 0 0 0 0 0 0 0 0 0 0 0 0 0 0 0 0 0 0 0 0 0 0 0 0 0 0 0 0 0 0 0 0 0 0 0\n",
      "  0 0 0 0 0 0 0 0 0 0 0 0 0 0 0 0 0 0 0 0 1 0 0 0 0 0 0 0 0 0 0 0 0 0 0 0\n",
      "  0 0 0 0 0 0 0 0 0 0 0 0 0 0 0 0 0 0 0 0 0 0 0 0 0 0 0 0 0 0 0 0 0 0 0 0\n",
      "  0 0 0 0 0 0 0 0 0 0 0 0 0 0 0 0 0 0 0 0 0 0 0 0 0 0 0 0]]\n",
      "[[0 0 0 0 0 0 0 0 0 0 0 0 0 0 0 0 0 0 0 0 0 0 0 0 0 0 0 0 0 0 0 0 0 0 0 0\n",
      "  0 0 0 0 0 0 0 0 0 0 0 0 0 0 0 0 0 0 0 0 1 0 0 0 0 0 0 0 0 0 0 0 0 0 0 0\n",
      "  0 0 0 0 0 0 0 0 0 0 0 0 0 0 0 0 0 0 0 0 0 0 0 0 0 0 0 0 0 0 0 0 0 0 0 0\n",
      "  0 0 0 0 0 0 0 0 0 0 0 0 0 0 0 0 0 0 0 0 0 0 0 0 0 0 0 0 0 0 0 0 0 0 0 0\n",
      "  0 0 0 0 0 0 0 0 0 0 0 0 0 0 0 0 0 0 0 0 0 0 0 0 0 0 0 0 0 0 0 0 0 0 0 0\n",
      "  0 0 0 0 0 0 0 0 0 0 0 0 0 0 0 0 0 0 0 0 0 0 0 1 0 0 0 0 0 0 0 0 0 0 0 0\n",
      "  0 0 0 0 0 0 0 0 0 0 0 0 0 0 0 0 0 0 0 0 0 0 0 0 0 0 0 0 0 0 0 0 0 0 0 0\n",
      "  0 0 0 0 0 0 0 0 0 0 0 0 0 0 0 0 0 0 0 0 1 0 0 0 0 0 0 0 0 0 0 0 0 0 0 0\n",
      "  0 0 0 0 0 0 0 0 0 0 0 0 0 0 0 0 0 0 0 0 0 0 0 0 0 0 0 0 0 0 0 0 0 0 0 0\n",
      "  0 0 0 0 0 0 0 0 0 0 0 0 0 0 0 0 0 0 0 0 0 0 0 0 0 0 0 0 0 0 0 0 0 0 0 0\n",
      "  0 0 0 0 0 0 0 0 0 0 0 0 0 0 0 0 0 0 0 0 0 0 0 0 0 0 0 0 0 0 0 0 0 0 0 0\n",
      "  0 0 0 0 0 0 0 0 0 0 1 0 0 0 0 0 0 0 0 0 0 0 0 0 0 0 0 0 0 0 0 0 0 0 0 0\n",
      "  0 0 0 0 0 0 0 0 0 0 0 0 0 0 0 0 0 0 0 0 0 0 0 0 0 0 0 0 0 0 0 0 0 0 0 0\n",
      "  0 0 0 0 0 0 0 0 0 0 0 0 0 0 0 0 0 0 0 0 0 0 0 0 0 0 0 0 0 0 0 0 0 0 0 0\n",
      "  0 0 0 0 0 0 0 0 0 0 0 0 0 0 0 0 0 0 0 0 0 0 0 0 0 0 0 0 0 0 0 0 0 0 0 0\n",
      "  0 0 0 0 0 0 0 0 0 0 0 0 0 0 0 0 0 0 0 0 0 0 0 0 0 0 0 0 0 0 0 0 0 0 0 0\n",
      "  0 0 0 0 0 0 0 0 0 0 0 0 0 0 0 0 0 0 0 0 0 0 0 0 0 0 0 0 0 0 0 1 0 0 0 0\n",
      "  0 0 0 0 0 0 0 0 0 2 0 0 0 0 0 0 0 0 0 0 0 0 0 0 0 0 0 0 0 0 0 0 0 0 0 0\n",
      "  0 0 0 0 0 0 0 0 0 0 0 0 0 0 0 0 0 0 0 0 0 0 0 0 0 0 0 0 0 0 0 0 0 0 0 0\n",
      "  0 0 0 0 0 0 0 0 0 0 0 0 0 0 0 0 0 0 0 0 0 0 0 0 0 0 0 0 0 0 0 0 0 0 0 0\n",
      "  0 0 0 0 0 0 0 0 0 0 0 0 0 0 0 0 0 0 0 0 0 0 0 0 0 0 0 0 0 0 0 0 0 0 0 0\n",
      "  0 0 0 0 0 0 0 0 0 0 0 0 0 0 0 0 0 0 0 0 0 0 0 0 0 0 0 0 0 0 0 0 0 0 0 0\n",
      "  0 0 0 0 0 0 0 0 0 0 0 0 0 0 0 0 0 0 0 0 0 0 0 0 0 0 0 0 0 0 0 0 0 0 0 0\n",
      "  0 0 0 0 0 0 0 0 0 0 0 0 0 0 0 0 0 0 0 0 0 0 0 0 0 0 0 0 0 0 0 0 0 0 0 0\n",
      "  0 0 0 0 0 0 0 0 0 0 0 0 0 0 0 0 0 0 0 0 0 0 0 0 0 0 0 0 0 0 0 0 0 0 0 0\n",
      "  0 0 0 0 0 0 0 0 0 0 0 0 0 0 0 0 0 0 0 0 2 0 0 0 0 0 0 0 0 0 0 0 0 0 0 0\n",
      "  0 0 0 0 0 0 0 0 0 0 0 0 0 0 0 0 0 0 0 0 0 0 0 0 0 0 0 0 0 0 0 0 0 0 0 0\n",
      "  0 0 0 0 0 0 0 0 0 0 0 0 0 0 0 0 0 0 0 0 0 0 0 0 0 0 0 0]]\n",
      "[[0 0 0 0 0 0 0 0 0 0 0 0 0 0 0 0 0 0 0 0 0 0 0 0 0 0 0 0 0 0 0 0 0 0 0 0\n",
      "  0 0 0 0 0 0 0 0 0 0 0 0 0 0 0 0 0 0 0 0 0 0 0 0 0 0 0 0 0 0 0 0 0 1 0 0\n",
      "  0 0 0 0 0 0 0 0 0 0 0 0 0 0 0 1 0 0 0 0 0 0 0 0 0 0 0 0 0 0 0 0 0 0 0 0\n",
      "  0 0 0 0 0 0 0 0 0 0 0 0 0 0 0 0 0 0 0 0 0 0 0 0 0 0 0 0 0 0 0 0 0 0 0 0\n",
      "  0 0 0 0 0 0 0 0 0 0 0 0 0 0 0 0 0 0 0 0 0 0 0 0 0 0 0 0 0 0 0 0 0 0 0 0\n",
      "  0 0 0 0 0 0 0 0 0 0 1 0 0 0 0 0 0 0 0 0 0 0 0 0 0 0 0 0 0 0 1 0 1 0 0 0\n",
      "  0 0 0 0 0 0 0 0 0 0 0 0 0 0 0 0 0 0 0 0 0 0 0 0 0 0 0 0 0 0 0 0 0 0 0 0\n",
      "  0 0 0 0 0 0 0 0 0 0 0 0 0 0 0 0 0 0 0 0 0 0 0 0 0 0 0 0 0 0 0 0 0 0 0 0\n",
      "  0 0 0 0 0 0 0 0 0 0 0 0 0 0 0 0 0 0 0 0 0 0 0 0 0 0 1 0 0 0 0 0 0 0 0 0\n",
      "  0 0 0 0 0 0 0 0 0 0 0 0 0 0 0 0 0 0 0 0 0 0 0 0 0 0 0 0 0 0 0 0 0 0 0 0\n",
      "  0 0 0 0 0 0 0 0 0 0 0 0 0 0 0 0 0 0 0 0 0 0 0 0 0 0 0 0 0 0 0 0 0 0 0 0\n",
      "  0 0 0 0 0 0 0 0 0 0 0 0 0 0 0 0 0 0 0 0 0 0 0 0 0 0 0 0 0 0 0 0 0 0 0 0\n",
      "  0 0 0 0 0 0 0 0 0 0 0 0 0 0 0 0 0 0 0 0 0 0 0 0 0 0 0 0 0 0 0 0 0 0 0 0\n",
      "  0 0 0 0 0 0 0 0 0 0 0 0 0 0 0 0 0 0 0 0 0 0 0 0 0 0 0 1 0 0 0 0 0 0 0 0\n",
      "  0 0 0 0 0 0 0 0 0 0 0 0 0 0 0 0 0 0 0 0 0 0 0 0 0 0 0 0 0 1 0 0 0 0 0 0\n",
      "  0 0 0 0 0 0 0 0 0 0 0 0 0 0 0 0 0 0 0 0 0 0 0 0 0 0 0 0 0 0 0 0 0 0 0 0\n",
      "  0 0 0 0 0 0 0 0 0 0 0 0 0 0 0 0 0 0 0 0 0 0 0 0 0 0 0 0 0 0 0 0 0 0 0 0\n",
      "  1 0 0 0 0 0 0 0 0 0 0 0 0 0 0 0 0 0 0 0 0 0 0 0 0 0 0 0 0 0 0 0 0 0 0 0\n",
      "  0 0 0 0 0 0 0 0 0 0 0 0 0 0 0 0 0 0 0 0 0 0 0 0 0 0 0 0 0 0 0 0 0 0 0 0\n",
      "  0 0 0 0 0 0 0 0 0 0 0 0 0 0 0 0 0 0 0 0 0 0 0 0 0 0 0 0 0 0 0 0 0 0 0 0\n",
      "  0 0 0 0 0 0 0 0 0 0 0 1 0 0 0 0 0 0 0 0 0 0 0 0 0 0 0 0 0 0 0 0 0 0 0 0\n",
      "  0 0 0 0 0 0 0 0 0 0 0 0 0 0 0 0 0 0 0 0 0 0 0 0 0 0 0 0 0 0 0 0 0 0 0 0\n",
      "  0 0 0 0 0 0 0 0 1 0 0 0 0 0 0 0 0 0 0 0 0 0 0 0 0 0 0 0 0 0 0 0 0 0 0 0\n",
      "  0 0 0 0 0 0 0 0 0 0 0 0 0 1 0 0 0 0 0 0 0 0 0 0 0 0 0 0 0 0 0 0 0 0 0 0\n",
      "  0 0 0 0 0 0 0 0 0 0 0 0 0 0 0 0 0 0 0 0 0 0 0 0 0 0 0 0 0 0 0 0 0 0 0 0\n",
      "  0 0 0 0 0 0 0 0 0 0 0 0 0 0 0 0 0 0 0 0 1 0 0 0 0 0 0 0 0 0 0 0 0 0 0 0\n",
      "  0 0 0 0 0 0 0 0 1 0 0 0 0 0 0 0 0 0 0 0 0 0 0 0 0 0 0 0 0 0 0 0 0 0 0 0\n",
      "  0 0 0 0 0 0 0 0 0 0 0 0 0 0 0 0 0 0 0 0 0 0 0 0 0 0 0 0]]\n",
      "[[0 0 0 0 0 0 0 0 0 0 0 0 0 0 0 0 0 0 0 0 0 0 0 0 0 0 0 0 0 0 0 0 0 0 0 0\n",
      "  0 0 0 0 0 0 0 0 0 0 0 0 0 0 0 0 0 0 0 0 0 0 0 0 0 0 0 0 0 0 0 0 0 0 0 0\n",
      "  0 0 0 0 0 0 0 0 0 0 0 0 0 0 0 0 0 0 0 0 0 0 0 0 0 0 0 0 0 0 0 0 0 0 0 0\n",
      "  0 0 0 0 0 0 0 0 0 0 0 0 0 0 0 0 0 0 0 0 0 0 0 0 0 0 0 0 0 0 0 0 0 0 0 0\n",
      "  0 0 0 0 0 0 0 0 0 0 0 0 0 0 0 0 0 0 0 0 0 0 0 0 0 0 0 0 0 0 0 0 0 0 0 0\n",
      "  0 0 0 0 0 0 0 0 0 0 0 0 0 0 0 0 0 0 0 0 0 0 0 0 0 0 0 0 0 0 0 0 0 0 0 0\n",
      "  0 0 0 0 0 0 1 0 0 0 0 0 0 0 0 0 0 0 0 0 0 0 0 0 0 0 0 0 0 0 1 0 0 0 0 0\n",
      "  0 0 0 0 0 0 0 0 0 0 0 0 0 0 0 0 0 0 0 0 0 0 0 0 0 0 0 0 0 0 0 0 0 0 0 0\n",
      "  0 0 0 0 0 0 0 0 0 0 0 0 0 0 0 0 0 0 0 0 0 0 0 0 0 0 0 0 0 0 0 0 0 0 0 0\n",
      "  0 0 0 0 0 0 0 0 0 0 0 0 0 0 0 0 0 0 0 0 0 0 0 0 0 0 0 0 0 0 0 0 0 0 0 0\n",
      "  0 0 0 0 0 0 0 0 0 0 0 0 0 0 0 0 0 0 0 0 0 0 0 0 0 0 0 0 0 0 0 0 0 0 0 0\n",
      "  0 0 0 0 0 0 0 0 0 0 0 0 0 0 0 0 0 0 0 0 0 0 0 0 0 0 0 0 0 0 0 0 0 0 0 0\n",
      "  0 0 0 0 0 0 0 0 0 0 0 0 0 0 0 0 0 0 0 0 0 0 0 0 0 0 0 0 0 0 0 0 0 0 0 0\n",
      "  0 0 0 0 0 0 0 0 0 0 0 0 0 0 0 0 0 0 0 0 0 0 0 0 0 0 0 0 0 0 0 0 0 0 0 0\n",
      "  0 0 0 0 0 0 0 0 0 0 0 0 0 0 0 0 0 0 0 0 0 0 0 0 0 0 0 0 0 0 0 1 0 0 0 0\n",
      "  0 0 0 0 0 0 0 0 0 0 0 0 0 0 0 0 0 0 0 0 0 0 0 0 0 0 0 0 0 0 0 0 0 0 0 0\n",
      "  0 0 0 0 0 0 0 0 0 0 0 0 0 0 0 0 0 0 0 0 0 0 0 0 0 0 0 0 0 0 0 1 0 0 0 0\n",
      "  0 0 0 0 0 0 0 0 0 0 0 0 0 0 0 0 0 0 0 0 0 0 0 0 0 0 0 0 0 0 0 0 0 0 0 0\n",
      "  0 0 0 0 0 0 0 0 0 0 0 0 0 0 0 0 0 0 0 0 0 0 0 0 0 0 0 0 0 0 0 0 0 0 0 0\n",
      "  0 0 0 0 0 0 0 0 0 0 0 0 0 0 0 0 0 0 0 0 0 0 0 0 0 0 0 0 0 0 0 0 0 0 0 0\n",
      "  0 0 0 0 0 0 0 0 0 0 0 0 0 0 0 0 0 0 0 1 0 0 0 0 0 0 0 0 0 0 0 0 0 0 0 0\n",
      "  0 0 0 0 0 0 0 0 0 0 0 0 0 0 0 0 0 0 0 0 0 0 0 0 0 0 0 0 0 0 0 0 0 0 0 0\n",
      "  0 0 0 0 0 0 0 0 0 0 0 0 0 0 0 0 0 0 0 0 0 0 0 0 0 0 0 0 0 0 0 0 0 0 0 0\n",
      "  0 0 0 0 0 0 0 0 0 0 0 0 0 0 0 0 0 0 0 0 0 0 0 0 0 0 0 0 0 0 0 0 0 0 0 0\n",
      "  0 0 0 0 0 0 0 1 0 0 0 0 0 0 0 0 0 0 0 0 0 0 0 0 0 0 0 0 0 0 0 0 0 0 0 0\n",
      "  0 0 0 0 0 0 0 0 0 0 0 0 0 0 1 0 0 0 0 0 3 0 0 0 0 0 0 0 0 0 0 0 0 0 0 0\n",
      "  0 0 0 0 0 0 0 0 0 0 0 0 0 0 0 0 0 0 0 0 0 0 0 0 0 0 0 1 0 0 0 0 0 0 0 0\n",
      "  0 0 0 0 0 0 0 0 0 0 0 0 0 0 0 0 0 0 0 0 0 2 0 0 0 0 0 0]]\n",
      "[[0 0 0 0 0 0 0 0 0 0 0 0 0 0 0 0 0 0 0 0 0 0 0 0 0 0 0 0 0 0 0 0 0 0 0 0\n",
      "  0 0 0 0 0 0 0 0 0 0 0 0 0 0 0 0 0 0 0 0 0 0 0 0 0 0 0 0 0 0 0 0 0 0 0 0\n",
      "  0 0 0 0 0 0 0 0 0 0 0 0 0 0 0 0 0 0 0 0 0 0 0 0 0 0 0 0 0 0 0 0 0 0 0 0\n",
      "  0 0 0 0 0 0 0 0 0 0 0 0 0 0 0 0 0 0 0 0 0 0 0 0 0 0 0 0 0 0 0 0 0 0 0 0\n",
      "  0 0 0 0 0 0 0 0 0 0 0 0 0 0 0 0 0 0 0 0 0 0 0 0 0 0 0 0 0 0 0 0 0 0 0 0\n",
      "  0 0 0 0 0 0 0 0 0 0 0 0 0 0 0 0 0 0 0 1 0 0 0 0 0 0 0 0 0 0 0 0 0 0 0 0\n",
      "  0 0 0 0 0 0 0 0 0 0 0 0 0 0 0 0 0 0 0 0 0 0 0 0 0 0 0 0 0 0 0 0 0 0 0 0\n",
      "  0 0 0 0 0 0 0 0 0 0 0 0 0 0 0 0 0 0 0 0 0 0 0 0 0 0 0 0 0 0 0 0 0 0 0 0\n",
      "  0 0 0 0 0 0 0 0 0 0 0 0 0 0 0 0 0 0 0 0 0 0 0 0 0 0 0 0 0 0 0 0 0 0 0 0\n",
      "  0 0 0 0 0 0 0 0 0 0 0 0 0 0 0 0 0 0 0 0 0 0 0 0 0 0 0 0 0 0 0 0 0 0 0 0\n",
      "  0 0 0 0 0 0 0 0 0 0 0 0 0 0 0 0 0 0 0 0 0 0 0 0 0 0 0 0 0 0 0 0 0 0 0 0\n",
      "  0 0 0 0 0 0 0 0 0 0 1 0 0 0 0 0 0 0 0 0 0 0 0 0 0 0 0 0 0 0 0 0 0 0 0 0\n",
      "  0 0 0 0 0 0 0 0 0 0 0 0 0 0 0 0 0 0 0 0 0 0 0 0 0 0 0 0 0 0 0 0 0 0 0 0\n",
      "  0 0 0 0 0 0 0 0 0 0 0 0 0 0 0 0 0 0 0 0 0 0 0 0 0 0 0 0 0 0 0 0 0 0 0 0\n",
      "  0 0 0 0 0 0 0 0 0 0 0 0 0 0 0 0 0 0 0 0 0 0 0 0 0 0 0 0 0 0 0 0 0 0 0 0\n",
      "  0 0 0 0 0 0 0 0 0 0 0 0 0 0 0 0 0 0 0 0 0 0 0 0 0 0 0 0 0 0 0 0 0 0 0 0\n",
      "  0 0 0 0 0 0 0 0 0 0 0 0 0 0 0 0 0 0 0 0 0 0 0 0 0 0 0 0 0 0 0 0 0 0 0 0\n",
      "  0 0 0 0 0 0 0 0 0 0 0 0 0 0 0 0 0 0 0 0 0 0 0 0 0 0 0 0 0 0 0 0 0 0 0 0\n",
      "  0 0 0 0 0 0 2 0 0 0 0 0 0 0 0 0 0 0 0 0 0 0 0 0 0 0 0 0 0 1 0 0 0 0 0 0\n",
      "  0 0 0 0 0 0 0 0 0 0 0 0 0 0 0 0 0 0 0 0 0 0 0 0 0 0 0 0 0 0 0 0 0 0 0 0\n",
      "  0 0 0 0 0 0 0 0 0 0 0 0 0 0 0 0 0 0 0 0 0 0 0 0 0 0 0 0 0 0 0 0 0 0 0 0\n",
      "  0 0 0 0 0 0 0 0 0 0 0 0 0 0 0 0 0 0 0 0 0 0 0 0 0 0 0 0 0 0 0 0 0 0 0 0\n",
      "  0 0 0 0 0 0 0 0 0 0 0 0 0 0 0 0 0 0 0 0 0 0 0 0 0 0 0 0 0 0 0 0 0 0 0 0\n",
      "  0 0 0 0 0 0 0 0 0 0 0 0 1 1 0 0 0 0 0 0 0 0 0 0 0 0 0 0 0 0 0 0 0 0 0 0\n",
      "  0 0 0 0 0 0 0 0 0 0 0 0 0 0 0 0 0 0 0 0 0 0 0 0 0 0 0 0 0 0 0 0 0 0 0 0\n",
      "  0 0 0 0 0 0 0 0 0 0 0 0 0 0 0 0 0 0 0 0 1 0 0 0 0 0 0 0 0 0 0 0 0 0 0 0\n",
      "  0 0 0 0 0 0 0 0 0 0 0 0 0 0 0 0 0 0 0 0 0 0 0 0 0 0 0 0 0 0 0 0 0 1 0 0\n",
      "  0 0 0 0 0 0 0 0 0 0 0 0 0 1 0 0 0 0 0 0 0 0 0 0 0 0 0 0]]\n",
      "[[0 0 0 0 0 0 0 0 0 0 0 0 0 0 0 0 0 0 0 0 0 0 0 0 0 0 0 0 0 0 0 0 0 0 0 0\n",
      "  0 0 0 0 0 0 0 0 0 0 0 0 0 0 0 0 1 0 0 0 0 0 0 0 0 0 1 0 0 0 0 0 0 2 0 0\n",
      "  0 0 0 0 0 0 0 0 0 0 0 0 0 0 0 1 0 0 0 0 0 0 0 0 0 0 0 0 0 0 0 0 0 0 0 0\n",
      "  0 0 0 0 0 0 0 0 0 0 0 0 0 0 0 0 0 0 0 0 0 0 0 1 0 0 0 0 0 0 0 0 0 0 0 0\n",
      "  0 0 0 0 0 0 0 0 0 0 0 0 0 0 0 0 0 0 0 0 0 0 0 0 0 0 0 0 0 0 0 0 0 0 0 0\n",
      "  0 0 0 0 0 0 0 0 0 0 0 0 0 0 0 0 0 0 0 0 0 0 0 0 0 0 0 0 0 0 0 0 0 0 0 0\n",
      "  0 0 0 0 0 0 0 0 0 0 0 0 0 0 0 0 0 0 0 0 0 0 0 0 0 0 0 0 0 0 0 0 0 0 0 0\n",
      "  1 0 0 0 0 0 0 0 0 0 0 0 0 0 0 0 0 0 0 0 0 0 0 0 0 0 0 0 0 0 0 0 0 0 0 0\n",
      "  0 0 0 0 0 0 0 0 0 0 0 0 0 0 0 0 0 0 0 0 0 0 0 0 0 0 0 0 0 0 0 0 0 0 1 0\n",
      "  0 0 0 0 0 0 0 0 0 0 0 0 0 0 0 0 0 0 0 0 0 0 0 0 0 0 0 0 0 0 0 0 0 0 0 0\n",
      "  0 0 0 0 0 0 1 0 0 0 0 0 0 0 0 0 0 0 0 0 0 0 0 0 0 0 0 0 0 0 0 0 0 0 0 0\n",
      "  0 0 0 0 0 0 0 0 0 0 0 0 0 0 0 0 0 0 0 0 0 0 0 0 0 0 0 0 0 0 0 0 0 0 0 0\n",
      "  0 0 0 0 0 0 0 0 0 0 0 0 0 0 0 0 0 0 0 0 0 0 0 0 0 0 0 0 0 0 0 0 0 0 0 0\n",
      "  0 0 0 0 0 0 0 0 0 0 0 0 0 0 0 0 0 0 0 0 0 0 0 0 0 0 0 0 0 0 0 0 0 0 0 0\n",
      "  0 0 0 0 0 0 0 0 0 0 0 0 0 0 0 0 0 0 0 0 0 0 0 0 0 0 0 0 0 0 0 0 0 0 0 0\n",
      "  0 0 0 0 0 0 0 0 0 0 0 0 0 0 0 0 0 0 0 0 0 0 0 0 0 0 0 0 0 0 0 0 0 0 0 0\n",
      "  0 0 0 0 0 0 0 0 0 0 0 0 0 0 0 0 0 0 0 0 0 0 0 0 0 0 0 0 0 0 0 0 0 0 0 0\n",
      "  0 0 0 0 0 0 0 0 0 0 0 0 0 0 0 0 0 0 0 0 0 0 0 0 0 0 0 0 0 0 0 0 0 0 0 0\n",
      "  0 0 0 0 0 0 0 0 0 0 0 0 0 0 0 0 0 0 0 0 0 0 0 0 0 0 0 0 0 0 0 0 0 0 0 0\n",
      "  0 0 0 0 0 0 0 0 0 0 0 0 0 0 0 0 0 0 0 0 0 0 0 0 0 0 0 0 0 0 0 0 0 0 0 0\n",
      "  0 0 0 0 0 0 0 0 0 0 0 0 0 0 0 0 0 0 0 0 0 0 0 0 0 0 0 0 0 0 0 0 0 0 0 0\n",
      "  0 0 0 0 0 0 0 0 0 0 0 0 0 0 0 0 0 0 0 0 0 0 0 0 0 0 0 0 0 0 0 0 0 0 0 0\n",
      "  0 0 0 0 0 0 0 0 0 0 0 0 0 0 0 0 0 0 0 0 0 0 0 0 0 0 0 0 0 0 0 0 0 0 0 0\n",
      "  0 0 0 0 0 0 0 0 0 0 0 0 0 0 0 0 0 0 0 0 0 0 0 0 0 0 0 0 0 0 0 0 0 0 0 0\n",
      "  0 0 0 0 0 1 0 0 0 0 0 0 0 0 0 0 0 0 0 0 0 0 0 0 0 0 0 0 0 0 0 0 0 0 0 0\n",
      "  0 0 0 0 0 0 0 0 0 0 0 0 0 0 0 0 0 0 0 0 2 0 0 0 0 0 0 0 0 0 0 0 0 0 0 0\n",
      "  0 0 0 0 0 0 0 0 0 0 0 0 0 0 0 0 0 0 0 0 0 0 0 0 0 0 0 0 0 0 0 0 0 1 0 0\n",
      "  0 0 0 0 0 0 0 0 0 0 0 0 0 0 0 0 0 0 0 0 0 0 0 0 0 0 0 0]]\n",
      "[[0 0 0 0 0 0 0 0 0 0 0 0 0 0 0 0 0 0 0 0 0 0 0 0 0 0 0 0 0 0 0 0 0 0 0 0\n",
      "  0 0 0 0 0 0 0 0 0 0 0 0 0 0 0 0 0 0 0 0 0 0 0 0 0 0 0 0 0 0 0 0 0 0 0 0\n",
      "  0 0 0 0 0 0 0 0 0 0 0 0 0 0 0 0 0 0 0 0 0 0 0 0 0 0 0 0 0 0 0 0 0 0 0 0\n",
      "  0 0 0 0 0 0 0 0 0 0 0 0 0 0 0 0 0 0 0 0 0 0 0 0 0 0 0 0 0 0 0 0 0 0 0 0\n",
      "  0 0 0 0 0 0 0 0 0 0 0 0 0 0 0 0 0 0 0 0 0 0 0 0 0 0 0 0 0 0 0 0 0 0 0 0\n",
      "  0 0 0 0 0 0 0 0 0 0 1 0 0 0 0 0 0 0 0 0 0 0 0 0 0 0 0 0 0 1 0 0 0 0 0 0\n",
      "  0 0 0 0 0 0 0 0 0 0 0 0 0 0 0 0 0 0 0 0 0 0 0 0 0 0 0 0 0 0 0 0 0 0 0 0\n",
      "  0 0 0 0 0 0 0 0 0 0 0 0 0 0 0 0 0 0 0 0 0 0 0 0 0 0 0 0 0 0 0 0 0 0 0 0\n",
      "  0 0 0 0 0 0 0 0 0 0 0 0 0 0 0 0 0 0 0 0 0 0 0 0 0 0 0 0 0 0 0 0 0 0 0 0\n",
      "  0 0 0 0 0 0 0 0 0 0 0 0 0 0 0 0 0 0 0 0 0 0 0 0 0 0 0 0 0 0 0 0 0 0 0 0\n",
      "  0 0 0 0 0 0 0 0 0 0 0 0 0 0 0 0 0 0 0 0 0 0 0 0 0 0 0 0 0 0 0 0 0 0 0 0\n",
      "  0 0 0 0 0 0 0 0 0 0 0 0 0 0 0 0 0 0 0 0 0 0 0 0 0 0 0 0 0 0 0 0 0 0 0 0\n",
      "  0 0 0 0 0 0 0 0 0 0 0 0 0 0 0 0 0 0 0 0 0 0 0 0 0 0 0 0 0 0 0 0 0 0 0 0\n",
      "  0 0 0 0 0 0 0 0 0 0 0 0 0 0 0 0 0 0 0 0 0 0 0 0 0 0 0 0 0 0 0 0 0 0 0 0\n",
      "  0 0 0 0 0 0 0 0 0 0 0 0 0 0 0 0 0 0 0 0 0 0 0 0 0 0 0 0 0 0 0 0 0 0 0 0\n",
      "  0 0 0 0 0 0 0 0 0 0 0 0 0 0 0 0 0 0 0 0 0 0 0 0 0 0 0 0 0 0 0 0 0 0 0 0\n",
      "  0 0 0 0 0 0 0 0 0 0 0 0 0 0 0 0 0 0 0 0 0 0 0 0 0 0 0 0 0 0 0 0 0 0 0 0\n",
      "  0 0 0 0 0 0 0 0 0 0 0 0 0 0 0 0 0 0 0 0 0 0 0 0 0 0 0 0 0 0 0 0 0 0 0 0\n",
      "  0 0 0 0 0 0 0 0 0 0 0 0 0 0 0 0 0 0 0 0 0 0 0 0 0 0 0 0 0 0 0 0 0 0 0 0\n",
      "  0 0 0 0 0 0 0 0 0 0 0 0 0 0 0 0 0 0 0 0 0 0 0 0 0 0 0 0 0 0 0 0 0 0 0 0\n",
      "  0 0 0 0 0 0 0 0 0 0 0 0 0 0 0 0 0 0 0 0 0 0 0 0 0 0 0 0 0 0 0 0 0 0 0 0\n",
      "  0 0 0 0 0 0 0 0 0 0 0 0 0 0 0 0 0 0 0 0 0 0 0 0 0 0 0 0 0 0 0 0 0 0 0 0\n",
      "  0 0 0 0 0 0 0 0 1 0 0 0 0 0 0 0 0 0 0 0 0 0 0 0 0 0 0 0 0 0 0 0 0 0 0 0\n",
      "  0 0 0 0 0 0 0 0 0 0 0 0 0 1 0 0 0 0 0 0 0 0 0 0 0 0 0 0 0 0 0 0 0 0 0 0\n",
      "  0 0 0 0 0 0 0 0 0 0 0 0 0 0 0 0 0 0 0 0 0 0 0 0 0 0 0 0 0 0 0 0 0 0 0 0\n",
      "  0 0 0 0 0 0 0 0 0 0 0 0 0 0 0 0 0 0 0 0 2 0 0 0 0 0 0 0 0 0 0 0 0 0 0 0\n",
      "  0 0 0 0 0 0 0 0 0 0 0 0 0 0 0 0 0 0 0 0 0 0 0 0 0 0 0 0 0 0 0 0 0 0 0 0\n",
      "  0 0 0 0 0 0 0 0 0 0 0 0 0 0 0 0 0 0 0 0 0 0 0 0 0 0 0 0]]\n",
      "[[0 0 0 0 0 0 1 0 0 0 0 0 0 0 0 0 0 0 0 0 0 0 0 0 0 0 0 0 0 0 0 0 0 0 0 0\n",
      "  0 0 0 0 0 0 0 0 0 0 0 0 0 0 0 0 0 0 0 0 0 0 0 0 0 0 0 0 0 0 0 0 0 0 0 0\n",
      "  0 0 0 0 0 0 0 0 0 0 0 0 0 0 0 0 0 0 0 0 0 0 0 0 0 0 0 0 0 0 0 0 0 0 0 0\n",
      "  0 0 0 0 0 0 0 0 0 0 0 0 0 0 0 0 0 0 0 0 0 0 0 0 0 0 0 0 0 0 0 0 0 0 0 0\n",
      "  0 0 0 0 0 0 0 0 0 0 0 0 0 0 0 0 0 0 0 0 0 0 0 0 0 0 0 0 0 0 0 0 0 0 0 0\n",
      "  0 0 0 0 0 0 0 0 0 0 0 0 0 0 0 0 0 0 0 0 0 0 0 0 0 0 0 0 0 0 0 0 0 0 0 0\n",
      "  0 0 0 0 0 0 0 0 0 0 0 0 0 0 0 0 0 0 0 0 0 0 0 0 0 0 0 0 0 0 0 0 0 0 0 0\n",
      "  0 0 0 0 0 0 0 0 0 0 0 0 0 0 0 0 0 0 0 0 0 0 0 0 0 0 0 0 0 0 0 0 0 0 0 0\n",
      "  0 0 0 0 0 0 0 0 0 0 0 0 0 0 0 0 0 0 0 0 0 0 0 0 0 0 0 0 0 0 0 0 0 0 0 0\n",
      "  0 0 0 0 0 0 0 0 0 0 0 0 0 0 0 0 0 0 0 0 0 0 0 0 0 0 0 0 0 0 0 0 0 0 0 0\n",
      "  0 0 0 0 0 0 0 0 0 0 0 0 0 0 0 0 0 0 0 0 0 0 0 0 0 0 0 0 0 0 0 0 0 0 0 0\n",
      "  0 0 0 0 0 0 0 0 0 0 0 0 0 0 0 0 0 0 0 0 0 0 0 0 0 0 0 0 0 0 0 0 0 0 0 0\n",
      "  0 0 0 0 0 0 0 0 0 0 0 0 0 0 0 0 0 0 0 0 0 0 0 0 0 0 0 0 0 0 0 0 0 0 0 0\n",
      "  0 0 0 0 0 0 0 0 0 0 0 0 0 0 0 0 0 0 0 0 0 0 0 0 0 0 0 0 0 0 0 0 0 0 0 0\n",
      "  0 0 0 0 0 0 0 0 0 0 0 0 0 0 0 0 0 0 0 0 0 0 0 0 0 0 0 0 0 0 0 0 0 0 0 0\n",
      "  0 0 0 0 0 0 0 0 0 0 0 0 0 0 0 0 0 0 0 0 0 0 0 0 0 0 0 0 0 0 0 0 0 0 0 0\n",
      "  0 0 0 0 0 0 0 0 0 0 0 0 0 0 0 0 0 0 0 0 0 0 0 0 0 0 0 0 0 0 0 0 0 0 0 0\n",
      "  0 0 0 0 0 0 0 0 0 0 0 0 0 0 0 0 0 0 0 0 0 0 0 0 0 0 0 0 0 0 0 0 0 0 0 0\n",
      "  0 0 0 0 0 0 0 0 0 0 0 0 0 0 0 0 0 0 0 0 0 0 0 0 0 0 0 0 0 0 0 0 0 0 0 0\n",
      "  0 0 0 0 0 0 0 0 0 0 0 0 0 0 0 0 0 0 0 0 0 0 0 0 0 0 0 0 0 0 0 0 0 0 0 0\n",
      "  0 0 0 0 0 0 0 0 0 0 0 0 0 0 0 0 0 0 0 0 0 0 0 0 0 0 0 0 0 0 0 0 0 0 0 0\n",
      "  0 0 0 0 0 0 0 0 0 0 0 0 0 0 0 0 0 0 0 0 0 0 0 0 0 0 0 0 0 0 0 0 0 0 0 0\n",
      "  0 0 0 0 0 0 0 0 0 0 0 0 0 0 0 0 0 0 0 0 0 0 0 0 0 0 0 0 0 0 0 0 0 0 0 0\n",
      "  0 0 0 0 0 0 0 0 0 0 0 0 0 1 0 0 0 0 0 0 0 0 0 0 0 0 0 0 0 0 0 0 0 0 0 0\n",
      "  0 0 0 0 0 0 0 0 0 0 0 0 0 0 0 0 0 0 0 0 0 0 0 0 0 0 0 0 0 0 0 0 0 0 0 0\n",
      "  0 0 0 0 0 0 0 0 0 0 0 0 0 0 0 0 0 0 0 0 2 0 0 0 0 0 0 0 0 0 0 0 0 0 0 0\n",
      "  0 0 0 0 0 0 0 0 0 0 0 0 0 0 0 0 0 0 0 0 0 0 0 0 0 0 0 0 0 0 0 0 0 0 0 0\n",
      "  0 0 0 0 0 0 0 0 0 0 0 0 0 0 0 0 0 0 0 0 0 0 0 0 0 0 0 0]]\n"
     ]
    }
   ],
   "source": [
    "for b in bow[:10]:\n",
    "    print(b.toarray())"
   ],
   "metadata": {
    "collapsed": false
   }
  },
  {
   "cell_type": "code",
   "execution_count": 5,
   "outputs": [
    {
     "data": {
      "text/plain": "0        2\n1        2\n2        2\n3        2\n4        2\n        ..\n82580    1\n82581    2\n82582    2\n82583    7\n82584    5\nName: type, Length: 82585, dtype: int8"
     },
     "execution_count": 5,
     "metadata": {},
     "output_type": "execute_result"
    }
   ],
   "source": [
    "df['type'] = df['type'].astype('category')\n",
    "# df['type'] = df['type'].cat.codes\n",
    "categories_dict = dict(enumerate(df['type'].cat.categories))\n",
    "df['type'] = df['type'].cat.codes\n",
    "\n",
    "df['type']"
   ],
   "metadata": {
    "collapsed": false
   }
  },
  {
   "cell_type": "code",
   "execution_count": 6,
   "outputs": [
    {
     "data": {
      "text/plain": "{0: 'Archive',\n 1: 'Company',\n 2: 'Education',\n 3: 'Facility',\n 4: 'Government',\n 5: 'Healthcare',\n 6: 'Nonprofit',\n 7: 'Other'}"
     },
     "execution_count": 6,
     "metadata": {},
     "output_type": "execute_result"
    }
   ],
   "source": [
    "categories_dict"
   ],
   "metadata": {
    "collapsed": false
   }
  },
  {
   "cell_type": "code",
   "execution_count": 7,
   "outputs": [],
   "source": [
    "from sklearn.model_selection import train_test_split\n",
    "X_train, X_test, y_train, y_test = train_test_split(bow, df[\"type\"], random_state=42, test_size=0.25)"
   ],
   "metadata": {
    "collapsed": false
   }
  },
  {
   "cell_type": "markdown",
   "source": [
    "### Logistic Regresion Model"
   ],
   "metadata": {
    "collapsed": false
   }
  },
  {
   "cell_type": "code",
   "execution_count": 8,
   "outputs": [],
   "source": [
    "from sklearn.linear_model import LogisticRegression\n",
    "from sklearn.metrics import f1_score, accuracy_score"
   ],
   "metadata": {
    "collapsed": false
   }
  },
  {
   "cell_type": "code",
   "execution_count": 9,
   "outputs": [
    {
     "data": {
      "text/plain": "LogisticRegression(max_iter=10000)"
     },
     "execution_count": 9,
     "metadata": {},
     "output_type": "execute_result"
    }
   ],
   "source": [
    "# training\n",
    "model = LogisticRegression(max_iter=10000)\n",
    "model.fit(X_train, y_train)"
   ],
   "metadata": {
    "collapsed": false
   }
  },
  {
   "cell_type": "code",
   "execution_count": 10,
   "outputs": [
    {
     "name": "stdout",
     "output_type": "stream",
     "text": [
      "F1 Score:               0.601\n",
      "Percentual F1 Score:    60.12 %\n"
     ]
    }
   ],
   "source": [
    "# testing\n",
    "pred = model.predict(X_test)\n",
    "print(f\"F1 Score:               {round(f1_score(y_test, pred, average='micro'), 3)}\")\n",
    "print(f\"Percentual F1 Score:    {round(f1_score(y_test, pred, average='micro') * 100, 2)} %\")"
   ],
   "metadata": {
    "collapsed": false
   }
  },
  {
   "cell_type": "code",
   "execution_count": 11,
   "outputs": [
    {
     "name": "stdout",
     "output_type": "stream",
     "text": [
      "Accuracy Score:                 0.601\n",
      "Percentual Accuracy Score:      60.12 %\n"
     ]
    }
   ],
   "source": [
    "print(f\"Accuracy Score:                 {round(accuracy_score(y_test, pred), 3)}\")\n",
    "print(f\"Percentual Accuracy Score:      {round(accuracy_score(y_test, pred) * 100, 2)} %\")"
   ],
   "metadata": {
    "collapsed": false
   }
  },
  {
   "cell_type": "code",
   "execution_count": 12,
   "outputs": [
    {
     "data": {
      "text/plain": "<Figure size 640x480 with 2 Axes>",
      "image/png": "[encoded data removed]"
     },
     "metadata": {},
     "output_type": "display_data"
    }
   ],
   "source": [
    "from sklearn.metrics import confusion_matrix, ConfusionMatrixDisplay\n",
    "\n",
    "labels = [categories_dict[c] for c in model.classes_]\n",
    "\n",
    "cm = confusion_matrix(y_test, pred, labels=model.classes_)\n",
    "# disp = ConfusionMatrixDisplay(confusion_matrix=cm, display_labels=model.classes_)\n",
    "disp = ConfusionMatrixDisplay(confusion_matrix=cm, display_labels=labels)\n",
    "disp.plot(cmap='summer')\n",
    "plt.rcParams[\"figure.figsize\"] = (7, 7)\n",
    "plt.grid(False)\n",
    "plt.title(\"Confusion matrix\", fontsize=20)\n",
    "plt.xticks(rotation=30)\n",
    "plt.show()"
   ],
   "metadata": {
    "collapsed": false
   }
  },
  {
   "cell_type": "markdown",
   "source": [
    "## Word embedding"
   ],
   "metadata": {
    "collapsed": false
   }
  },
  {
   "cell_type": "code",
   "execution_count": 35,
   "outputs": [],
   "source": [
    "from nltk.tokenize import sent_tokenize, word_tokenize\n",
    "import gensim\n",
    "from gensim.models import Word2Vec"
   ],
   "metadata": {
    "collapsed": false
   }
  },
  {
   "cell_type": "code",
   "execution_count": 36,
   "outputs": [],
   "source": [
    "import warnings\n",
    "warnings.filterwarnings(action='ignore')"
   ],
   "metadata": {
    "collapsed": false
   }
  },
  {
   "cell_type": "code",
   "execution_count": 20,
   "outputs": [],
   "source": [
    "model1 = Word2Vec(df['title'].tolist(), min_count=1, vector_size=100, window=5)"
   ],
   "metadata": {
    "collapsed": false
   }
  },
  {
   "cell_type": "code",
   "execution_count": 22,
   "outputs": [
    {
     "data": {
      "text/plain": "['home',\n 'university',\n 'universidad',\n 'technology',\n 'college',\n 'health',\n 'engineering',\n 'future',\n 'welcome',\n 'care',\n 'international',\n 'company',\n 'better',\n 'pivovarsk',\n 'universidade',\n 'lilly',\n 'systematic',\n 'lukrom',\n 'kunskapsbolaget',\n 'reviews',\n 'that',\n 'solutions',\n 'medical',\n 'research',\n 'aitek',\n 'server',\n 'video',\n 'salamanca',\n 'group',\n 'innovative',\n 'univille',\n 'dubai',\n 'multiscreen',\n 'metropolitana',\n 'umla',\n 'genefluidics',\n 'campus',\n 'innovatia',\n 'xbchler',\n 'innovate',\n 'latin',\n 'innovations',\n 'inicio',\n 'social',\n 'world',\n 'zamora',\n 'applications',\n 'maintenance',\n 'experience',\n 'software',\n 'interaction',\n 'nice',\n 'noterik',\n 'customer',\n 'tolerante',\n 'para',\n 'studia',\n 'forks',\n 'grand',\n 'east',\n 'technical',\n 'community',\n 'northland',\n 'mtaa',\n 'rsau',\n 'main',\n 'xb3jmiasto',\n 'x84sk',\n 'xbcsza',\n 'uczelnia',\n 'gdynia',\n 'wsaib',\n 'vida',\n 'yogyakarta',\n 'instiper',\n 'miyazaki',\n 'widyatama',\n 'universitas',\n 'excellence',\n 'academic',\n 'committed',\n 'bangladesh',\n 'southern',\n 'dublin',\n 'pluralista',\n 'laica',\n 'xbablica',\n 'codema',\n '3dnet',\n 'agency',\n 'looking',\n 'signal',\n 'active',\n 'point',\n 'abbott',\n 'diagnostics',\n 'rapid',\n 'spectris',\n 'brighter',\n 'takeda',\n 'alekseev',\n 'nnstu',\n 'blog',\n 'microsoft',\n 'azure',\n 'tools',\n 'efficiency',\n 'clinical',\n 'design',\n 'distinct',\n 'state',\n 'truman',\n 'canada',\n 'hamilton',\n 'christian',\n 'redeemer',\n 'cartagena',\n 'xa9cnica',\n 'polit',\n 'atlanta',\n 'emory',\n 'technologies',\n 'page',\n 'gmbh',\n 'brain',\n 'energy',\n 'surface',\n 'aluminium',\n 'collaboration',\n 'sharing',\n 'image',\n 'intelligent',\n 'river',\n 'port',\n 'processing',\n 'artificiale',\n 'intelligenza',\n 'tecnologie',\n 'glycomimetics',\n 'manufacturer',\n 'supply',\n 'pump',\n 'centrifugal',\n 'sustainable',\n 'connected',\n 'sensors',\n 'connectors',\n 'connectivity',\n 'gamble',\n 'procter',\n 'idec',\n 'neurotechnology',\n 'interfaces',\n 'computer',\n 'thief',\n 'minnesota',\n 'falls',\n 'genera',\n 'site',\n 'ensaplv',\n 'enter',\n 'zurich',\n 'spol',\n 'pivo',\n 'praha',\n 'xafm',\n 'klub',\n 'x8cesk',\n 'republika',\n 'x99ebujete',\n 'jistotu',\n 'sofar',\n 'pick',\n 'bienvenue',\n 'villette',\n 'paris',\n 'therapeutics',\n 'xa1titu',\n 'zdravlja',\n 'xbeivotinja',\n 'okoli',\n 'xa1a',\n 'calliditas',\n 'theracos',\n 'architecture',\n 'hugedomains',\n 'yuasa',\n 'cnslab',\n 'ecole',\n 'nationale',\n 'xa9rieure',\n 'your',\n 'nation',\n 'implant',\n 'silexon',\n 'global',\n 'witricity',\n 'powering',\n 'life',\n 'wirelessly',\n 'kigali',\n 'spine',\n 'austrian',\n 'wave',\n 'uluslararas',\n 'final',\n 'x9cniversitesi',\n 'eberth',\n 'arzneimittel',\n 'insulators',\n 'accredited',\n 'endoprothetik',\n 'customelec',\n 'made',\n 'germany',\n 'balsillie',\n 'school',\n 'affairs',\n 'ginger',\n 'apptronik',\n 'internationally',\n 'human',\n 'centered',\n 'robotics',\n 'products',\n 'services',\n 'modul',\n 'usmjereni',\n 'west',\n 'texbio',\n 'delivery',\n 'enwave',\n 'corporation',\n 'opus',\n 'kleijnen',\n 'independent',\n 'produces',\n 'disseminates',\n 'assessments',\n 'evidence',\n 'chefer',\n 'ledare',\n 'chef',\n 'hyra',\n 'bosch',\n 'slovenia',\n 'dehydration',\n 'with',\n 'opportunities',\n 'national',\n 'antibodies',\n 'homepage',\n 'thomas',\n 'kampen',\n 'upeace',\n 'hague',\n 'institute',\n 'product',\n 'kosen',\n 'nagano',\n 'xbekddi',\n 'abreos',\n 'biosciences',\n 'unlock',\n 'norgesf',\n 'xb4r',\n 'alltid',\n 'everything',\n 'brand',\n 'tablet',\n 'appliances',\n 'audio',\n 'broadcom',\n 'connecting',\n 'instituto',\n 'analysis',\n 'federal',\n 'xa1s',\n 'xa1gina',\n 'inicial',\n 'drug',\n 'packaging',\n 'american',\n 'xdot',\n 'advanced',\n 'zlatarna',\n 'patient',\n 'pediatrix',\n 'acasa',\n 'universitatea',\n 'romano',\n 'americana',\n 'celje',\n 'southwest',\n 'alert',\n 'eset',\n 'endpoint',\n 'antivirus',\n 'lanka',\n 'twelcome',\n 'theological']"
     },
     "execution_count": 22,
     "metadata": {},
     "output_type": "execute_result"
    }
   ],
   "source": [
    "# words = list(model1.wv.key_to_index)\n",
    "# words"
   ],
   "metadata": {
    "collapsed": false
   }
  },
  {
   "cell_type": "code",
   "execution_count": 23,
   "outputs": [
    {
     "data": {
      "text/plain": "array([-8.6950343e-03,  3.7087623e-03,  5.2420925e-03,  5.7465034e-03,\n        7.5341244e-03, -6.1776172e-03,  1.1682920e-03,  6.1499341e-03,\n       -2.8569617e-03, -6.1844853e-03, -4.5765229e-04, -8.4674312e-03,\n       -5.6817210e-03,  7.0501966e-03,  3.3904954e-03,  7.1568084e-03,\n        6.7197988e-03,  7.4638627e-03, -3.8720090e-03, -6.5899309e-04,\n        2.3513932e-03, -4.5180474e-03,  8.3733918e-03, -9.8684635e-03,\n        6.7824037e-03,  2.9601676e-03, -4.9841139e-03,  4.3616612e-03,\n       -1.7626288e-03,  6.6802553e-03,  9.9993628e-03, -4.3722144e-03,\n       -6.3214928e-04, -5.7001826e-03,  3.7799408e-03,  2.7956725e-03,\n        6.9439462e-03,  6.0233120e-03,  9.4923321e-03,  9.1640418e-03,\n        8.0095576e-03, -7.0530646e-03, -9.1888215e-03, -3.3967712e-04,\n       -3.0517427e-03,  7.7859992e-03,  5.9403940e-03, -1.5417126e-03,\n        1.5900094e-03,  1.7599098e-03,  7.8572752e-03, -9.6420860e-03,\n       -1.6119778e-04,  3.4920792e-03, -9.4249210e-04,  8.4684901e-03,\n        9.0502677e-03,  6.5482729e-03, -7.8337133e-04,  7.7847959e-03,\n       -8.5348384e-03,  3.2634474e-03, -4.6254992e-03, -5.1395162e-03,\n        3.5257812e-03,  5.3472985e-03,  7.8229625e-03, -5.6842412e-03,\n        7.3568826e-03,  6.7244722e-03, -3.7521613e-03, -8.6974166e-03,\n        5.4812240e-03,  6.5143956e-03, -7.7363645e-04, -6.6544600e-03,\n       -7.0413412e-03, -2.4906110e-03,  5.0878436e-03, -3.6223792e-03,\n       -9.3887364e-03,  3.8130227e-03,  4.8522628e-03, -6.4057005e-03,\n        1.2108473e-03, -1.9863793e-03, -1.5414755e-05, -9.7966678e-03,\n        2.7880021e-03, -4.7779223e-03,  1.1842058e-03, -1.5369317e-03,\n        2.1484329e-03, -7.9049598e-03, -2.6505855e-03,  2.7541481e-03,\n        5.3359549e-03, -2.4190247e-03, -9.4623361e-03,  4.4876533e-03],\n      dtype=float32)"
     },
     "execution_count": 23,
     "metadata": {},
     "output_type": "execute_result"
    }
   ],
   "source": [
    "# model1.wv['university']"
   ],
   "metadata": {
    "collapsed": false
   }
  },
  {
   "cell_type": "markdown",
   "source": "## Training",
   "metadata": {
    "collapsed": false
   }
  },
  {
   "cell_type": "code",
   "execution_count": 38,
   "outputs": [],
   "source": [
    "from sklearn.model_selection import train_test_split\n",
    "\n",
    "X = df['title']\n",
    "y = pd.get_dummies(df['type'])\n",
    "X_train, X_test, y_train, y_test = train_test_split(X, y, test_size=0.3)"
   ],
   "metadata": {
    "collapsed": false
   }
  },
  {
   "cell_type": "code",
   "execution_count": 39,
   "outputs": [
    {
     "data": {
      "text/plain": "index    15752\nname     15752\nlink     15752\ntype     15752\ndtype: int64"
     },
     "execution_count": 39,
     "metadata": {},
     "output_type": "execute_result"
    }
   ],
   "source": [
    "df[df['type'] == 'Education'].count()"
   ],
   "metadata": {
    "collapsed": false
   }
  },
  {
   "cell_type": "code",
   "execution_count": 40,
   "outputs": [
    {
     "data": {
      "text/plain": "array([[<AxesSubplot:title={'center':'Company'}>,\n        <AxesSubplot:title={'center':'Education'}>]], dtype=object)"
     },
     "execution_count": 40,
     "metadata": {},
     "output_type": "execute_result"
    },
    {
     "data": {
      "text/plain": "<Figure size 640x480 with 2 Axes>",
      "image/png": "[encoded data removed]"
     },
     "metadata": {},
     "output_type": "display_data"
    }
   ],
   "source": [
    "# X\n",
    "y.hist()"
   ],
   "metadata": {
    "collapsed": false
   }
  },
  {
   "cell_type": "code",
   "execution_count": 41,
   "outputs": [
    {
     "data": {
      "text/plain": "      index                                               name  \\\n411     491                                 Leipzig University   \n699     826                             Royal Military Academy   \n1283   1537  Ion Ionescu de la Brad University of Agricultu...   \n1588   1904                                 Adelphi University   \n1789   2119                                     Eckerd College   \n\n                                        link       type  \\\n411           https://www.uni-leipzig.de/en/  Education   \n699                 http://www.rma.ac.be/en/  Education   \n1283  http://www.uaiasi.ro/index.php?lang=en  Education   \n1588                 http://www.adelphi.edu/  Education   \n1789                 https://www.eckerd.edu/  Education   \n\n                                                  title  \n411                      Universit xa4t Leipzig leipzig  \n699                                            Homepage  \n1283    Ionescu Brad Iasi University Life Sciences IULS  \n1588  Adelphi University Higher Education College Lo...  \n1789        Liberal Arts College Florida Eckerd College  ",
      "text/html": "<div>\n<style scoped>\n    .dataframe tbody tr th:only-of-type {\n        vertical-align: middle;\n    }\n\n    .dataframe tbody tr th {\n        vertical-align: top;\n    }\n\n    .dataframe thead th {\n        text-align: right;\n    }\n</style>\n<table border=\"1\" class=\"dataframe\">\n  <thead>\n    <tr style=\"text-align: right;\">\n      <th></th>\n      <th>index</th>\n      <th>name</th>\n      <th>link</th>\n      <th>type</th>\n      <th>title</th>\n    </tr>\n  </thead>\n  <tbody>\n    <tr>\n      <th>411</th>\n      <td>491</td>\n      <td>Leipzig University</td>\n      <td>https://www.uni-leipzig.de/en/</td>\n      <td>Education</td>\n      <td>Universit xa4t Leipzig leipzig</td>\n    </tr>\n    <tr>\n      <th>699</th>\n      <td>826</td>\n      <td>Royal Military Academy</td>\n      <td>http://www.rma.ac.be/en/</td>\n      <td>Education</td>\n      <td>Homepage</td>\n    </tr>\n    <tr>\n      <th>1283</th>\n      <td>1537</td>\n      <td>Ion Ionescu de la Brad University of Agricultu...</td>\n      <td>http://www.uaiasi.ro/index.php?lang=en</td>\n      <td>Education</td>\n      <td>Ionescu Brad Iasi University Life Sciences IULS</td>\n    </tr>\n    <tr>\n      <th>1588</th>\n      <td>1904</td>\n      <td>Adelphi University</td>\n      <td>http://www.adelphi.edu/</td>\n      <td>Education</td>\n      <td>Adelphi University Higher Education College Lo...</td>\n    </tr>\n    <tr>\n      <th>1789</th>\n      <td>2119</td>\n      <td>Eckerd College</td>\n      <td>https://www.eckerd.edu/</td>\n      <td>Education</td>\n      <td>Liberal Arts College Florida Eckerd College</td>\n    </tr>\n  </tbody>\n</table>\n</div>"
     },
     "execution_count": 41,
     "metadata": {},
     "output_type": "execute_result"
    }
   ],
   "source": [
    "df.head()"
   ],
   "metadata": {
    "collapsed": false
   }
  },
  {
   "cell_type": "code",
   "execution_count": 42,
   "outputs": [
    {
     "data": {
      "text/plain": "[[285, 27, 249, 298],\n [144, 83, 287, 39, 262, 132, 282],\n [223, 282, 132, 269, 133, 273],\n [196, 166, 74, 32],\n [81],\n [115, 125, 279, 212, 16],\n [109, 262],\n [266, 266],\n [264, 57, 240, 33, 174, 264],\n [109, 57, 237],\n [36, 14, 223, 18, 130, 207, 10, 113],\n [112],\n [258, 285, 178, 249, 282, 116, 198],\n [232, 25],\n [78, 165, 91],\n [109, 139, 285],\n [234, 222, 153, 168, 272, 57, 74, 38, 296, 77, 253, 188, 125, 196, 3],\n [72, 145, 190, 220, 58, 237],\n [],\n [109, 153],\n [97, 285, 57, 69, 274, 85],\n [137, 22, 274, 213, 70, 137, 295],\n [79, 270, 214, 163, 19, 79, 270, 214, 163, 19],\n [16, 109],\n [168, 156, 5, 167, 34, 20, 69],\n [56, 44, 217],\n [3, 263],\n [93, 267, 142, 142],\n [],\n [250, 222, 242, 242, 242],\n [133, 224, 224, 91],\n [144, 243, 109, 100, 153],\n [285, 161, 169, 168, 282, 296, 56, 285],\n [277, 50, 249, 173, 242, 286, 21],\n [109],\n [159, 113, 91, 195, 159, 113, 91],\n [227],\n [150, 66, 224, 7, 239, 293, 199],\n [32, 109],\n [109, 285, 147],\n [86, 86],\n [183, 59, 43, 68, 189, 243, 217],\n [109, 115],\n [109, 59, 80],\n [113, 32, 77],\n [255, 265, 55, 157, 235, 15],\n [93, 211, 73, 5, 194],\n [109, 109, 262],\n [],\n [38, 285, 169, 52],\n [109, 299, 20],\n [18, 26, 175, 133],\n [277, 188, 95, 5, 113, 268, 82, 277, 32, 138, 233],\n [],\n [37, 194, 105, 280],\n [43, 125, 233, 109, 166],\n [108, 279, 100, 30, 50, 175, 43, 254],\n [93, 44, 158, 219, 171, 231],\n [],\n [109, 117, 126],\n [170, 238, 8, 291, 32],\n [153, 172, 282, 13, 61, 282],\n [41, 117, 68, 140, 113],\n [279],\n [178, 107, 42],\n [81],\n [109, 193],\n [],\n [141, 267, 190, 165],\n [109, 84, 69]]"
     },
     "execution_count": 42,
     "metadata": {},
     "output_type": "execute_result"
    }
   ],
   "source": [
    "from keras.preprocessing.text import one_hot\n",
    "from keras_preprocessing.sequence import pad_sequences\n",
    "\n",
    "my_vocab_size = 300\n",
    "encoded_train = [one_hot(w, my_vocab_size) for w in X_train]\n",
    "encoded_train"
   ],
   "metadata": {
    "collapsed": false
   }
  },
  {
   "cell_type": "code",
   "execution_count": 43,
   "outputs": [
    {
     "name": "stdout",
     "output_type": "stream",
     "text": [
      "30\n"
     ]
    },
    {
     "data": {
      "text/plain": "array([[  0,   0,   0, ...,  27, 249, 298],\n       [  0,   0,   0, ..., 262, 132, 282],\n       [  0,   0,   0, ..., 269, 133, 273],\n       ...,\n       [  0,   0,   0, ...,   0,   0,   0],\n       [  0,   0,   0, ..., 267, 190, 165],\n       [  0,   0,   0, ..., 109,  84,  69]])"
     },
     "execution_count": 43,
     "metadata": {},
     "output_type": "execute_result"
    }
   ],
   "source": [
    "# length = max([len(s) for s in encoded_train])\n",
    "length = 30\n",
    "print(length)\n",
    "padded_train = pad_sequences(encoded_train, maxlen=length, padding='pre')\n",
    "padded_train"
   ],
   "metadata": {
    "collapsed": false
   }
  },
  {
   "cell_type": "code",
   "execution_count": 44,
   "outputs": [
    {
     "data": {
      "text/plain": "70"
     },
     "execution_count": 44,
     "metadata": {},
     "output_type": "execute_result"
    }
   ],
   "source": [
    "X_train.shape[0]"
   ],
   "metadata": {
    "collapsed": false
   }
  },
  {
   "cell_type": "code",
   "execution_count": 51,
   "outputs": [
    {
     "name": "stdout",
     "output_type": "stream",
     "text": [
      "Model: \"sequential_6\"\n",
      "_________________________________________________________________\n",
      " Layer (type)                Output Shape              Param #   \n",
      "=================================================================\n",
      " embedding_4 (Embedding)     (None, 30, 1)             300       \n",
      "                                                                 \n",
      " flatten_3 (Flatten)         (None, 30)                0         \n",
      "                                                                 \n",
      " dense_4 (Dense)             (None, 2)                 62        \n",
      "                                                                 \n",
      "=================================================================\n",
      "Total params: 362\n",
      "Trainable params: 362\n",
      "Non-trainable params: 0\n",
      "_________________________________________________________________\n",
      "Epoch 1/20\n",
      "3/3 [==============================] - 1s 2ms/step - loss: 0.6923 - accuracy: 0.4857\n",
      "Epoch 2/20\n",
      "3/3 [==============================] - 0s 2ms/step - loss: 0.6913 - accuracy: 0.5714\n",
      "Epoch 3/20\n",
      "3/3 [==============================] - 0s 2ms/step - loss: 0.6902 - accuracy: 0.6429\n",
      "Epoch 4/20\n",
      "3/3 [==============================] - 0s 2ms/step - loss: 0.6894 - accuracy: 0.6571\n",
      "Epoch 5/20\n",
      "3/3 [==============================] - 0s 2ms/step - loss: 0.6885 - accuracy: 0.6857\n",
      "Epoch 6/20\n",
      "3/3 [==============================] - 0s 2ms/step - loss: 0.6875 - accuracy: 0.6714\n",
      "Epoch 7/20\n",
      "3/3 [==============================] - 0s 2ms/step - loss: 0.6865 - accuracy: 0.6571\n",
      "Epoch 8/20\n",
      "3/3 [==============================] - 0s 2ms/step - loss: 0.6854 - accuracy: 0.6571\n",
      "Epoch 9/20\n",
      "3/3 [==============================] - 0s 2ms/step - loss: 0.6843 - accuracy: 0.6571\n",
      "Epoch 10/20\n",
      "3/3 [==============================] - 0s 3ms/step - loss: 0.6830 - accuracy: 0.6571\n",
      "Epoch 11/20\n",
      "3/3 [==============================] - 0s 2ms/step - loss: 0.6819 - accuracy: 0.6571\n",
      "Epoch 12/20\n",
      "3/3 [==============================] - 0s 2ms/step - loss: 0.6806 - accuracy: 0.6571\n",
      "Epoch 13/20\n",
      "3/3 [==============================] - 0s 2ms/step - loss: 0.6792 - accuracy: 0.6571\n",
      "Epoch 14/20\n",
      "3/3 [==============================] - 0s 2ms/step - loss: 0.6777 - accuracy: 0.6429\n",
      "Epoch 15/20\n",
      "3/3 [==============================] - 0s 2ms/step - loss: 0.6762 - accuracy: 0.6429\n",
      "Epoch 16/20\n",
      "3/3 [==============================] - 0s 2ms/step - loss: 0.6747 - accuracy: 0.6429\n",
      "Epoch 17/20\n",
      "3/3 [==============================] - 0s 3ms/step - loss: 0.6728 - accuracy: 0.6429\n",
      "Epoch 18/20\n",
      "3/3 [==============================] - 0s 4ms/step - loss: 0.6711 - accuracy: 0.6429\n",
      "Epoch 19/20\n",
      "3/3 [==============================] - 0s 2ms/step - loss: 0.6690 - accuracy: 0.6429\n",
      "Epoch 20/20\n",
      "3/3 [==============================] - 0s 2ms/step - loss: 0.6674 - accuracy: 0.6429\n"
     ]
    },
    {
     "data": {
      "text/plain": "<keras.callbacks.History at 0x252c657e4d0>"
     },
     "execution_count": 51,
     "metadata": {},
     "output_type": "execute_result"
    }
   ],
   "source": [
    "from keras.models import Sequential\n",
    "from keras import layers\n",
    "\n",
    "model = Sequential()\n",
    "model.add(layers.Embedding(my_vocab_size, 1, input_length=length))\n",
    "model.add(layers.Flatten())\n",
    "model.add(layers.Dense(2, activation='sigmoid'))\n",
    "model.summary()\n",
    "model.compile(optimizer='adam', loss='binary_crossentropy', metrics=['accuracy']) # f1-score / f2-score\n",
    "model.fit(padded_train, y_train, epochs=20)"
   ],
   "metadata": {
    "collapsed": false
   }
  },
  {
   "cell_type": "code",
   "execution_count": 52,
   "outputs": [
    {
     "name": "stdout",
     "output_type": "stream",
     "text": [
      "Accuracy: 64.28571343421936%\n",
      "Loss: 66.5788471698761%\n"
     ]
    }
   ],
   "source": [
    "loss, accuracy = model.evaluate(padded_train, y_train, verbose=0)\n",
    "print(f'Accuracy: {accuracy*100}%')\n",
    "print(f'Loss: {loss*100}%')"
   ],
   "metadata": {
    "collapsed": false
   }
  },
  {
   "cell_type": "markdown",
   "source": "## Prediction",
   "metadata": {
    "collapsed": false
   }
  },
  {
   "cell_type": "code",
   "execution_count": 53,
   "outputs": [
    {
     "data": {
      "text/plain": "[[93, 283, 202, 285, 84, 69, 57],\n [96, 197, 170],\n [170, 54, 156],\n [283, 287],\n [],\n [73, 5, 113, 67, 90, 58, 199, 179, 69, 132, 232, 213],\n [62, 3, 125, 289, 125, 62],\n [42, 109, 179, 176, 279, 231, 141],\n [296, 268],\n [186, 265, 76, 50, 3],\n [109, 167],\n [19, 47, 209, 154, 236, 102, 237],\n [125, 25, 214, 193],\n [161, 214, 68],\n [154],\n [77, 294, 42, 260, 95, 231, 102, 146, 36],\n [39, 285],\n [],\n [179, 190, 112],\n [122, 12, 133],\n [195, 212, 233, 124, 262, 18, 38, 233],\n [237, 44, 3, 264, 237, 44],\n [262, 73, 285, 106, 296, 285, 281],\n [196, 237, 196],\n [162],\n [198, 222, 198, 222, 81],\n [57, 100],\n [],\n [],\n [140, 8]]"
     },
     "execution_count": 53,
     "metadata": {},
     "output_type": "execute_result"
    }
   ],
   "source": [
    "encoded_test = [one_hot(d, my_vocab_size) for d in X_test]\n",
    "encoded_test"
   ],
   "metadata": {
    "collapsed": false
   }
  },
  {
   "cell_type": "code",
   "execution_count": 54,
   "outputs": [
    {
     "data": {
      "text/plain": "array([[  0,   0,   0,   0,   0,   0,   0,   0,   0,   0,   0,   0,   0,\n          0,   0,   0,   0,   0,   0,   0,   0,   0,   0,  93, 283, 202,\n        285,  84,  69,  57],\n       [  0,   0,   0,   0,   0,   0,   0,   0,   0,   0,   0,   0,   0,\n          0,   0,   0,   0,   0,   0,   0,   0,   0,   0,   0,   0,   0,\n          0,  96, 197, 170],\n       [  0,   0,   0,   0,   0,   0,   0,   0,   0,   0,   0,   0,   0,\n          0,   0,   0,   0,   0,   0,   0,   0,   0,   0,   0,   0,   0,\n          0, 170,  54, 156],\n       [  0,   0,   0,   0,   0,   0,   0,   0,   0,   0,   0,   0,   0,\n          0,   0,   0,   0,   0,   0,   0,   0,   0,   0,   0,   0,   0,\n          0,   0, 283, 287],\n       [  0,   0,   0,   0,   0,   0,   0,   0,   0,   0,   0,   0,   0,\n          0,   0,   0,   0,   0,   0,   0,   0,   0,   0,   0,   0,   0,\n          0,   0,   0,   0],\n       [  0,   0,   0,   0,   0,   0,   0,   0,   0,   0,   0,   0,   0,\n          0,   0,   0,   0,   0,  73,   5, 113,  67,  90,  58, 199, 179,\n         69, 132, 232, 213],\n       [  0,   0,   0,   0,   0,   0,   0,   0,   0,   0,   0,   0,   0,\n          0,   0,   0,   0,   0,   0,   0,   0,   0,   0,   0,  62,   3,\n        125, 289, 125,  62],\n       [  0,   0,   0,   0,   0,   0,   0,   0,   0,   0,   0,   0,   0,\n          0,   0,   0,   0,   0,   0,   0,   0,   0,   0,  42, 109, 179,\n        176, 279, 231, 141],\n       [  0,   0,   0,   0,   0,   0,   0,   0,   0,   0,   0,   0,   0,\n          0,   0,   0,   0,   0,   0,   0,   0,   0,   0,   0,   0,   0,\n          0,   0, 296, 268],\n       [  0,   0,   0,   0,   0,   0,   0,   0,   0,   0,   0,   0,   0,\n          0,   0,   0,   0,   0,   0,   0,   0,   0,   0,   0,   0, 186,\n        265,  76,  50,   3],\n       [  0,   0,   0,   0,   0,   0,   0,   0,   0,   0,   0,   0,   0,\n          0,   0,   0,   0,   0,   0,   0,   0,   0,   0,   0,   0,   0,\n          0,   0, 109, 167],\n       [  0,   0,   0,   0,   0,   0,   0,   0,   0,   0,   0,   0,   0,\n          0,   0,   0,   0,   0,   0,   0,   0,   0,   0,  19,  47, 209,\n        154, 236, 102, 237],\n       [  0,   0,   0,   0,   0,   0,   0,   0,   0,   0,   0,   0,   0,\n          0,   0,   0,   0,   0,   0,   0,   0,   0,   0,   0,   0,   0,\n        125,  25, 214, 193],\n       [  0,   0,   0,   0,   0,   0,   0,   0,   0,   0,   0,   0,   0,\n          0,   0,   0,   0,   0,   0,   0,   0,   0,   0,   0,   0,   0,\n          0, 161, 214,  68],\n       [  0,   0,   0,   0,   0,   0,   0,   0,   0,   0,   0,   0,   0,\n          0,   0,   0,   0,   0,   0,   0,   0,   0,   0,   0,   0,   0,\n          0,   0,   0, 154],\n       [  0,   0,   0,   0,   0,   0,   0,   0,   0,   0,   0,   0,   0,\n          0,   0,   0,   0,   0,   0,   0,   0,  77, 294,  42, 260,  95,\n        231, 102, 146,  36],\n       [  0,   0,   0,   0,   0,   0,   0,   0,   0,   0,   0,   0,   0,\n          0,   0,   0,   0,   0,   0,   0,   0,   0,   0,   0,   0,   0,\n          0,   0,  39, 285],\n       [  0,   0,   0,   0,   0,   0,   0,   0,   0,   0,   0,   0,   0,\n          0,   0,   0,   0,   0,   0,   0,   0,   0,   0,   0,   0,   0,\n          0,   0,   0,   0],\n       [  0,   0,   0,   0,   0,   0,   0,   0,   0,   0,   0,   0,   0,\n          0,   0,   0,   0,   0,   0,   0,   0,   0,   0,   0,   0,   0,\n          0, 179, 190, 112],\n       [  0,   0,   0,   0,   0,   0,   0,   0,   0,   0,   0,   0,   0,\n          0,   0,   0,   0,   0,   0,   0,   0,   0,   0,   0,   0,   0,\n          0, 122,  12, 133],\n       [  0,   0,   0,   0,   0,   0,   0,   0,   0,   0,   0,   0,   0,\n          0,   0,   0,   0,   0,   0,   0,   0,   0, 195, 212, 233, 124,\n        262,  18,  38, 233],\n       [  0,   0,   0,   0,   0,   0,   0,   0,   0,   0,   0,   0,   0,\n          0,   0,   0,   0,   0,   0,   0,   0,   0,   0,   0, 237,  44,\n          3, 264, 237,  44],\n       [  0,   0,   0,   0,   0,   0,   0,   0,   0,   0,   0,   0,   0,\n          0,   0,   0,   0,   0,   0,   0,   0,   0,   0, 262,  73, 285,\n        106, 296, 285, 281],\n       [  0,   0,   0,   0,   0,   0,   0,   0,   0,   0,   0,   0,   0,\n          0,   0,   0,   0,   0,   0,   0,   0,   0,   0,   0,   0,   0,\n          0, 196, 237, 196],\n       [  0,   0,   0,   0,   0,   0,   0,   0,   0,   0,   0,   0,   0,\n          0,   0,   0,   0,   0,   0,   0,   0,   0,   0,   0,   0,   0,\n          0,   0,   0, 162],\n       [  0,   0,   0,   0,   0,   0,   0,   0,   0,   0,   0,   0,   0,\n          0,   0,   0,   0,   0,   0,   0,   0,   0,   0,   0,   0, 198,\n        222, 198, 222,  81],\n       [  0,   0,   0,   0,   0,   0,   0,   0,   0,   0,   0,   0,   0,\n          0,   0,   0,   0,   0,   0,   0,   0,   0,   0,   0,   0,   0,\n          0,   0,  57, 100],\n       [  0,   0,   0,   0,   0,   0,   0,   0,   0,   0,   0,   0,   0,\n          0,   0,   0,   0,   0,   0,   0,   0,   0,   0,   0,   0,   0,\n          0,   0,   0,   0],\n       [  0,   0,   0,   0,   0,   0,   0,   0,   0,   0,   0,   0,   0,\n          0,   0,   0,   0,   0,   0,   0,   0,   0,   0,   0,   0,   0,\n          0,   0,   0,   0],\n       [  0,   0,   0,   0,   0,   0,   0,   0,   0,   0,   0,   0,   0,\n          0,   0,   0,   0,   0,   0,   0,   0,   0,   0,   0,   0,   0,\n          0,   0, 140,   8]])"
     },
     "execution_count": 54,
     "metadata": {},
     "output_type": "execute_result"
    }
   ],
   "source": [
    "# max_length = max([len(s) for s in encoded_test])\n",
    "max_length = 30\n",
    "padded_test = pad_sequences(encoded_test, maxlen=max_length, padding='pre')\n",
    "padded_test"
   ],
   "metadata": {
    "collapsed": false
   }
  },
  {
   "cell_type": "code",
   "execution_count": 55,
   "outputs": [
    {
     "name": "stdout",
     "output_type": "stream",
     "text": [
      "1/1 [==============================] - 0s 103ms/step\n"
     ]
    },
    {
     "data": {
      "text/plain": "array([[0.5437173 , 0.4584041 ],\n       [0.5365406 , 0.46633968],\n       [0.5448143 , 0.45645759],\n       [0.53566754, 0.46743187],\n       [0.5381318 , 0.47471654],\n       [0.53397644, 0.4745932 ],\n       [0.54288816, 0.46179783],\n       [0.5364037 , 0.47644925],\n       [0.53896075, 0.46993384],\n       [0.53859293, 0.46174416],\n       [0.53411174, 0.47517934],\n       [0.53559965, 0.46202266],\n       [0.5409792 , 0.46502942],\n       [0.54475975, 0.45993534],\n       [0.5402793 , 0.46859512],\n       [0.5286595 , 0.47910473],\n       [0.53586435, 0.47503412],\n       [0.5381318 , 0.47471654],\n       [0.5427069 , 0.4655775 ],\n       [0.53981924, 0.46293086],\n       [0.5522755 , 0.4609692 ],\n       [0.545287  , 0.4732072 ],\n       [0.53687376, 0.48162746],\n       [0.53488326, 0.47270864],\n       [0.53861845, 0.47332904],\n       [0.5368256 , 0.47181955],\n       [0.5359697 , 0.46593273],\n       [0.5381318 , 0.47471654],\n       [0.5381318 , 0.47471654],\n       [0.5359126 , 0.463321  ]], dtype=float32)"
     },
     "execution_count": 55,
     "metadata": {},
     "output_type": "execute_result"
    }
   ],
   "source": [
    "predictions = model.predict(padded_test)\n",
    "# predictions = np.argmax(predictions, axis=1)\n",
    "predictions"
   ],
   "metadata": {
    "collapsed": false
   }
  },
  {
   "cell_type": "code",
   "execution_count": 56,
   "outputs": [
    {
     "data": {
      "text/plain": "       Company  Education\n1283         0          1\n14239        1          0\n20484        1          0\n76435        1          0\n61688        0          1\n35187        1          0\n58045        0          1\n22009        1          0\n3986         0          1\n37514        1          0\n65596        0          1\n13794        1          0\n12968        1          0\n59254        1          0\n51740        1          0\n64030        0          1\n26396        0          1\n67872        0          1\n70308        1          0\n31943        0          1\n36396        1          0\n82051        1          0\n24713        0          1\n50367        1          0\n12342        1          0\n17476        1          0\n81473        1          0\n28757        0          1\n41890        1          0\n78455        1          0",
      "text/html": "<div>\n<style scoped>\n    .dataframe tbody tr th:only-of-type {\n        vertical-align: middle;\n    }\n\n    .dataframe tbody tr th {\n        vertical-align: top;\n    }\n\n    .dataframe thead th {\n        text-align: right;\n    }\n</style>\n<table border=\"1\" class=\"dataframe\">\n  <thead>\n    <tr style=\"text-align: right;\">\n      <th></th>\n      <th>Company</th>\n      <th>Education</th>\n    </tr>\n  </thead>\n  <tbody>\n    <tr>\n      <th>1283</th>\n      <td>0</td>\n      <td>1</td>\n    </tr>\n    <tr>\n      <th>14239</th>\n      <td>1</td>\n      <td>0</td>\n    </tr>\n    <tr>\n      <th>20484</th>\n      <td>1</td>\n      <td>0</td>\n    </tr>\n    <tr>\n      <th>76435</th>\n      <td>1</td>\n      <td>0</td>\n    </tr>\n    <tr>\n      <th>61688</th>\n      <td>0</td>\n      <td>1</td>\n    </tr>\n    <tr>\n      <th>35187</th>\n      <td>1</td>\n      <td>0</td>\n    </tr>\n    <tr>\n      <th>58045</th>\n      <td>0</td>\n      <td>1</td>\n    </tr>\n    <tr>\n      <th>22009</th>\n      <td>1</td>\n      <td>0</td>\n    </tr>\n    <tr>\n      <th>3986</th>\n      <td>0</td>\n      <td>1</td>\n    </tr>\n    <tr>\n      <th>37514</th>\n      <td>1</td>\n      <td>0</td>\n    </tr>\n    <tr>\n      <th>65596</th>\n      <td>0</td>\n      <td>1</td>\n    </tr>\n    <tr>\n      <th>13794</th>\n      <td>1</td>\n      <td>0</td>\n    </tr>\n    <tr>\n      <th>12968</th>\n      <td>1</td>\n      <td>0</td>\n    </tr>\n    <tr>\n      <th>59254</th>\n      <td>1</td>\n      <td>0</td>\n    </tr>\n    <tr>\n      <th>51740</th>\n      <td>1</td>\n      <td>0</td>\n    </tr>\n    <tr>\n      <th>64030</th>\n      <td>0</td>\n      <td>1</td>\n    </tr>\n    <tr>\n      <th>26396</th>\n      <td>0</td>\n      <td>1</td>\n    </tr>\n    <tr>\n      <th>67872</th>\n      <td>0</td>\n      <td>1</td>\n    </tr>\n    <tr>\n      <th>70308</th>\n      <td>1</td>\n      <td>0</td>\n    </tr>\n    <tr>\n      <th>31943</th>\n      <td>0</td>\n      <td>1</td>\n    </tr>\n    <tr>\n      <th>36396</th>\n      <td>1</td>\n      <td>0</td>\n    </tr>\n    <tr>\n      <th>82051</th>\n      <td>1</td>\n      <td>0</td>\n    </tr>\n    <tr>\n      <th>24713</th>\n      <td>0</td>\n      <td>1</td>\n    </tr>\n    <tr>\n      <th>50367</th>\n      <td>1</td>\n      <td>0</td>\n    </tr>\n    <tr>\n      <th>12342</th>\n      <td>1</td>\n      <td>0</td>\n    </tr>\n    <tr>\n      <th>17476</th>\n      <td>1</td>\n      <td>0</td>\n    </tr>\n    <tr>\n      <th>81473</th>\n      <td>1</td>\n      <td>0</td>\n    </tr>\n    <tr>\n      <th>28757</th>\n      <td>0</td>\n      <td>1</td>\n    </tr>\n    <tr>\n      <th>41890</th>\n      <td>1</td>\n      <td>0</td>\n    </tr>\n    <tr>\n      <th>78455</th>\n      <td>1</td>\n      <td>0</td>\n    </tr>\n  </tbody>\n</table>\n</div>"
     },
     "execution_count": 56,
     "metadata": {},
     "output_type": "execute_result"
    }
   ],
   "source": [
    "y_test"
   ],
   "metadata": {
    "collapsed": false
   }
  }
 ],
 "metadata": {
  "kernelspec": {
   "display_name": "Python 3",
   "language": "python",
   "name": "python3"
  },
  "language_info": {
   "codemirror_mode": {
    "name": "ipython",
    "version": 2
   },
   "file_extension": ".py",
   "mimetype": "text/x-python",
   "name": "python",
   "nbconvert_exporter": "python",
   "pygments_lexer": "ipython2",
   "version": "2.7.6"
  }
 },
 "nbformat": 4,
 "nbformat_minor": 0
}
