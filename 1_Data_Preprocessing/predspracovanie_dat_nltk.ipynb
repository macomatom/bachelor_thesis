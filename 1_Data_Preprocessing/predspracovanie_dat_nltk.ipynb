{
 "cells": [
  {
   "cell_type": "code",
   "execution_count": 1,
   "outputs": [],
   "source": [
    "import pandas as pd\n",
    "from langdetect import detect, detect_langs, DetectorFactory\n",
    "import re"
   ],
   "metadata": {
    "collapsed": false
   }
  },
  {
   "cell_type": "code",
   "execution_count": 43,
   "outputs": [],
   "source": [
    "# Znovu parsovat stranky a zistovat ci su znaky z anglickej abecedy. Ak nie, tak disregardnut celu stranku?\n",
    "\n",
    "# useful commands\n",
    "# df.apply(lambda x : x.....) - vykona funkciu pre cely stlpec po jednotlivych prvkoch\n",
    "# sentence to vec stanleyfok\n",
    "# tf-idf - ngram-frazy\n",
    "# page rank"
   ],
   "metadata": {
    "collapsed": false
   }
  },
  {
   "cell_type": "markdown",
   "source": [
    "# Filtering and preparing data"
   ],
   "metadata": {
    "collapsed": false
   }
  },
  {
   "cell_type": "code",
   "execution_count": null,
   "outputs": [],
   "source": [
    "# Dataset so zlucenymi hodnotami\n",
    "# df = pd.read_csv(\"dataset_final_concat.csv\")\n",
    "df = pd.read_csv(\"../2_Extrahovanie_atributov_z_HTML_kodu/dataset_concat.csv\")\n",
    "print(df.shape)\n",
    "# print(df['value'].count())\n",
    "# df = df.loc[df['type'].isin(['Education', 'Company'])]\n",
    "df.head(50)"
   ],
   "metadata": {
    "collapsed": false,
    "pycharm": {
     "is_executing": true
    }
   }
  },
  {
   "cell_type": "code",
   "execution_count": null,
   "outputs": [],
   "source": [
    "df2 = df.rename(columns= {\"name\": \"názov\", \"link\": \"URL_adresa\", \"type\": \"kategória\", \"value\": \"text\"})\n",
    "df2.head()"
   ],
   "metadata": {
    "collapsed": false
   }
  },
  {
   "cell_type": "code",
   "execution_count": 3,
   "outputs": [],
   "source": [
    "# # Remove linebreaks (\\n) from strings\n",
    "# df['value'] = df['value'].apply(lambda x: x.replace(\"\\\\n\", \"\"))\n",
    "# df.head()"
   ],
   "metadata": {
    "collapsed": false
   }
  },
  {
   "cell_type": "code",
   "execution_count": 4,
   "outputs": [
    {
     "data": {
      "text/plain": "   index                            name                      link  lang_eng  \\\n0      0  Australian National University    http://www.anu.edu.au/         1   \n1      1               Monash University    http://www.monash.edu/         1   \n2      2        University of Queensland     http://www.uq.edu.au/         1   \n3      3            Macquarie University         http://mq.edu.au/         1   \n4      4                     UNSW Sydney  https://www.unsw.edu.au/         1   \n\n   valid_dir                                              value       type  \n0          1  ANU Newsroom - ANU Study with us - ANU Researc...  Education  \n1          1  Monash University - one of the top universitie...  Education  \n2          1  The University of Queensland The University of...  Education  \n3          1  \\n          \\n\\n            Macquarie Universi...  Education  \n4          1  UNSW Sydney | One of the best universities in ...  Education  ",
      "text/html": "<div>\n<style scoped>\n    .dataframe tbody tr th:only-of-type {\n        vertical-align: middle;\n    }\n\n    .dataframe tbody tr th {\n        vertical-align: top;\n    }\n\n    .dataframe thead th {\n        text-align: right;\n    }\n</style>\n<table border=\"1\" class=\"dataframe\">\n  <thead>\n    <tr style=\"text-align: right;\">\n      <th></th>\n      <th>index</th>\n      <th>name</th>\n      <th>link</th>\n      <th>lang_eng</th>\n      <th>valid_dir</th>\n      <th>value</th>\n      <th>type</th>\n    </tr>\n  </thead>\n  <tbody>\n    <tr>\n      <th>0</th>\n      <td>0</td>\n      <td>Australian National University</td>\n      <td>http://www.anu.edu.au/</td>\n      <td>1</td>\n      <td>1</td>\n      <td>ANU Newsroom - ANU Study with us - ANU Researc...</td>\n      <td>Education</td>\n    </tr>\n    <tr>\n      <th>1</th>\n      <td>1</td>\n      <td>Monash University</td>\n      <td>http://www.monash.edu/</td>\n      <td>1</td>\n      <td>1</td>\n      <td>Monash University - one of the top universitie...</td>\n      <td>Education</td>\n    </tr>\n    <tr>\n      <th>2</th>\n      <td>2</td>\n      <td>University of Queensland</td>\n      <td>http://www.uq.edu.au/</td>\n      <td>1</td>\n      <td>1</td>\n      <td>The University of Queensland The University of...</td>\n      <td>Education</td>\n    </tr>\n    <tr>\n      <th>3</th>\n      <td>3</td>\n      <td>Macquarie University</td>\n      <td>http://mq.edu.au/</td>\n      <td>1</td>\n      <td>1</td>\n      <td>\\n          \\n\\n            Macquarie Universi...</td>\n      <td>Education</td>\n    </tr>\n    <tr>\n      <th>4</th>\n      <td>4</td>\n      <td>UNSW Sydney</td>\n      <td>https://www.unsw.edu.au/</td>\n      <td>1</td>\n      <td>1</td>\n      <td>UNSW Sydney | One of the best universities in ...</td>\n      <td>Education</td>\n    </tr>\n  </tbody>\n</table>\n</div>"
     },
     "execution_count": 4,
     "metadata": {},
     "output_type": "execute_result"
    }
   ],
   "source": [
    "# Remove everything between <>\n",
    "df['value'] = df['value'].apply(lambda x: re.sub(\"<.*?>\", \"\", x))\n",
    "df['value'] = df['value'].apply(lambda x: re.sub(\"\\[.*?\\]\", \"\", x))\n",
    "df.head()"
   ],
   "metadata": {
    "collapsed": false
   }
  },
  {
   "cell_type": "code",
   "execution_count": 6,
   "outputs": [
    {
     "name": "stderr",
     "output_type": "stream",
     "text": [
      "[nltk_data] Downloading package punkt to\n",
      "[nltk_data]     C:\\Users\\Martin\\AppData\\Roaming\\nltk_data...\n",
      "[nltk_data]   Package punkt is already up-to-date!\n"
     ]
    },
    {
     "data": {
      "text/plain": "True"
     },
     "execution_count": 6,
     "metadata": {},
     "output_type": "execute_result"
    }
   ],
   "source": [
    "# Downloading punkt to resolve errors\n",
    "import nltk\n",
    "nltk.download('punkt')"
   ],
   "metadata": {
    "collapsed": false
   }
  },
  {
   "cell_type": "code",
   "execution_count": 7,
   "outputs": [
    {
     "data": {
      "text/plain": "    index                                  name  \\\n0       0        Australian National University   \n1       1                     Monash University   \n2       2              University of Queensland   \n3       3                  Macquarie University   \n4       4                           UNSW Sydney   \n..    ...                                   ...   \n95    132                    Glyndwr University   \n96    133       Queen Mary University of London   \n97    135  Royal College of Surgeons in Ireland   \n98    136                      Renault (France)   \n99    140  Institute for Atomic Energy Research   \n\n                                link  lang_eng  valid_dir  \\\n0             http://www.anu.edu.au/         1          1   \n1             http://www.monash.edu/         1          1   \n2              http://www.uq.edu.au/         1          1   \n3                  http://mq.edu.au/         1          1   \n4           https://www.unsw.edu.au/         1          1   \n..                               ...       ...        ...   \n95         http://www.glyndwr.ac.uk/         1          1   \n96            http://www.qmul.ac.uk/         1          1   \n97               http://www.rcsi.ie/         1          1   \n98     https://group.renault.com/en/         1          1   \n99  http://www.aeki.kfki.hu/?lang=en         1          1   \n\n                                                value       type  \n0   ANU Newsroom - ANU Study with us - ANU Researc...  Education  \n1   Monash University - one of the top universitie...  Education  \n2   The University of Queensland The University of...  Education  \n3   Macquarie University | Tertiary Education Curr...  Education  \n4   UNSW Sydney | One of the best universities in ...  Education  \n..                                                ...        ...  \n95  Home - Wrexham Glyndwr University Home - Wrexh...  Education  \n96  Queen Mary University of London Foundation cou...  Education  \n97  RCSI Dublin – Homepage - Royal College of Surg...  Education  \n98  Renault Group, car manufacturer In their foots...    Company  \n99                                                      Facility  \n\n[100 rows x 7 columns]",
      "text/html": "<div>\n<style scoped>\n    .dataframe tbody tr th:only-of-type {\n        vertical-align: middle;\n    }\n\n    .dataframe tbody tr th {\n        vertical-align: top;\n    }\n\n    .dataframe thead th {\n        text-align: right;\n    }\n</style>\n<table border=\"1\" class=\"dataframe\">\n  <thead>\n    <tr style=\"text-align: right;\">\n      <th></th>\n      <th>index</th>\n      <th>name</th>\n      <th>link</th>\n      <th>lang_eng</th>\n      <th>valid_dir</th>\n      <th>value</th>\n      <th>type</th>\n    </tr>\n  </thead>\n  <tbody>\n    <tr>\n      <th>0</th>\n      <td>0</td>\n      <td>Australian National University</td>\n      <td>http://www.anu.edu.au/</td>\n      <td>1</td>\n      <td>1</td>\n      <td>ANU Newsroom - ANU Study with us - ANU Researc...</td>\n      <td>Education</td>\n    </tr>\n    <tr>\n      <th>1</th>\n      <td>1</td>\n      <td>Monash University</td>\n      <td>http://www.monash.edu/</td>\n      <td>1</td>\n      <td>1</td>\n      <td>Monash University - one of the top universitie...</td>\n      <td>Education</td>\n    </tr>\n    <tr>\n      <th>2</th>\n      <td>2</td>\n      <td>University of Queensland</td>\n      <td>http://www.uq.edu.au/</td>\n      <td>1</td>\n      <td>1</td>\n      <td>The University of Queensland The University of...</td>\n      <td>Education</td>\n    </tr>\n    <tr>\n      <th>3</th>\n      <td>3</td>\n      <td>Macquarie University</td>\n      <td>http://mq.edu.au/</td>\n      <td>1</td>\n      <td>1</td>\n      <td>Macquarie University | Tertiary Education Curr...</td>\n      <td>Education</td>\n    </tr>\n    <tr>\n      <th>4</th>\n      <td>4</td>\n      <td>UNSW Sydney</td>\n      <td>https://www.unsw.edu.au/</td>\n      <td>1</td>\n      <td>1</td>\n      <td>UNSW Sydney | One of the best universities in ...</td>\n      <td>Education</td>\n    </tr>\n    <tr>\n      <th>...</th>\n      <td>...</td>\n      <td>...</td>\n      <td>...</td>\n      <td>...</td>\n      <td>...</td>\n      <td>...</td>\n      <td>...</td>\n    </tr>\n    <tr>\n      <th>95</th>\n      <td>132</td>\n      <td>Glyndwr University</td>\n      <td>http://www.glyndwr.ac.uk/</td>\n      <td>1</td>\n      <td>1</td>\n      <td>Home - Wrexham Glyndwr University Home - Wrexh...</td>\n      <td>Education</td>\n    </tr>\n    <tr>\n      <th>96</th>\n      <td>133</td>\n      <td>Queen Mary University of London</td>\n      <td>http://www.qmul.ac.uk/</td>\n      <td>1</td>\n      <td>1</td>\n      <td>Queen Mary University of London Foundation cou...</td>\n      <td>Education</td>\n    </tr>\n    <tr>\n      <th>97</th>\n      <td>135</td>\n      <td>Royal College of Surgeons in Ireland</td>\n      <td>http://www.rcsi.ie/</td>\n      <td>1</td>\n      <td>1</td>\n      <td>RCSI Dublin – Homepage - Royal College of Surg...</td>\n      <td>Education</td>\n    </tr>\n    <tr>\n      <th>98</th>\n      <td>136</td>\n      <td>Renault (France)</td>\n      <td>https://group.renault.com/en/</td>\n      <td>1</td>\n      <td>1</td>\n      <td>Renault Group, car manufacturer In their foots...</td>\n      <td>Company</td>\n    </tr>\n    <tr>\n      <th>99</th>\n      <td>140</td>\n      <td>Institute for Atomic Energy Research</td>\n      <td>http://www.aeki.kfki.hu/?lang=en</td>\n      <td>1</td>\n      <td>1</td>\n      <td></td>\n      <td>Facility</td>\n    </tr>\n  </tbody>\n</table>\n<p>100 rows × 7 columns</p>\n</div>"
     },
     "execution_count": 7,
     "metadata": {},
     "output_type": "execute_result"
    }
   ],
   "source": [
    "# Remove URL links\n",
    "# URL patter with protocol\n",
    "url_pattern1 = \"^\\\"?https?:\\\\/\\\\/(?:www\\\\.)?[-a-zA-Z0-9@:%._\\\\+~#=]{1,256}\\\\.[a-zA-Z0-9()]{1,6}\\\\b(?:[-a-zA-Z0-9()@:%_\\\\+.~#?&\\\\/=]*)\\\"?$\"\n",
    "# URL patter without protocol\n",
    "url_pattern2 = \"^[-a-zA-Z0-9@:%._\\\\+~#=]{1,256}\\\\.[a-zA-Z0-9()]{1,6}\\\\b(?:[-a-zA-Z0-9()@:%_\\\\+.~#?&\\\\/=]*)$\"\n",
    "\n",
    "df['value'] = df['value'].apply(lambda x: \" \".join([w for w in x.split() if not (re.match(url_pattern1, w) or re.match(url_pattern2, w))]))\n",
    "df.head(100)"
   ],
   "metadata": {
    "collapsed": false
   }
  },
  {
   "cell_type": "code",
   "execution_count": 8,
   "outputs": [
    {
     "data": {
      "text/plain": "   index                            name                      link  lang_eng  \\\n0      0  Australian National University    http://www.anu.edu.au/         1   \n1      1               Monash University    http://www.monash.edu/         1   \n2      2        University of Queensland     http://www.uq.edu.au/         1   \n3      3            Macquarie University         http://mq.edu.au/         1   \n4      4                     UNSW Sydney  https://www.unsw.edu.au/         1   \n\n   valid_dir                                              value       type  \n0          1  ANU Newsroom   ANU Study with us   ANU Researc...  Education  \n1          1  Monash University   one of the top universitie...  Education  \n2          1  The University of Queensland The University of...  Education  \n3          1  Macquarie University   Tertiary Education Curr...  Education  \n4          1  UNSW Sydney   One of the best universities in ...  Education  ",
      "text/html": "<div>\n<style scoped>\n    .dataframe tbody tr th:only-of-type {\n        vertical-align: middle;\n    }\n\n    .dataframe tbody tr th {\n        vertical-align: top;\n    }\n\n    .dataframe thead th {\n        text-align: right;\n    }\n</style>\n<table border=\"1\" class=\"dataframe\">\n  <thead>\n    <tr style=\"text-align: right;\">\n      <th></th>\n      <th>index</th>\n      <th>name</th>\n      <th>link</th>\n      <th>lang_eng</th>\n      <th>valid_dir</th>\n      <th>value</th>\n      <th>type</th>\n    </tr>\n  </thead>\n  <tbody>\n    <tr>\n      <th>0</th>\n      <td>0</td>\n      <td>Australian National University</td>\n      <td>http://www.anu.edu.au/</td>\n      <td>1</td>\n      <td>1</td>\n      <td>ANU Newsroom   ANU Study with us   ANU Researc...</td>\n      <td>Education</td>\n    </tr>\n    <tr>\n      <th>1</th>\n      <td>1</td>\n      <td>Monash University</td>\n      <td>http://www.monash.edu/</td>\n      <td>1</td>\n      <td>1</td>\n      <td>Monash University   one of the top universitie...</td>\n      <td>Education</td>\n    </tr>\n    <tr>\n      <th>2</th>\n      <td>2</td>\n      <td>University of Queensland</td>\n      <td>http://www.uq.edu.au/</td>\n      <td>1</td>\n      <td>1</td>\n      <td>The University of Queensland The University of...</td>\n      <td>Education</td>\n    </tr>\n    <tr>\n      <th>3</th>\n      <td>3</td>\n      <td>Macquarie University</td>\n      <td>http://mq.edu.au/</td>\n      <td>1</td>\n      <td>1</td>\n      <td>Macquarie University   Tertiary Education Curr...</td>\n      <td>Education</td>\n    </tr>\n    <tr>\n      <th>4</th>\n      <td>4</td>\n      <td>UNSW Sydney</td>\n      <td>https://www.unsw.edu.au/</td>\n      <td>1</td>\n      <td>1</td>\n      <td>UNSW Sydney   One of the best universities in ...</td>\n      <td>Education</td>\n    </tr>\n  </tbody>\n</table>\n</div>"
     },
     "execution_count": 8,
     "metadata": {},
     "output_type": "execute_result"
    }
   ],
   "source": [
    "# Remove special characters with regex\n",
    "df['value'] = df['value'].apply(lambda x: re.sub(r'[^A-Za-z ]+', ' ', str(x)))\n",
    "df.head()"
   ],
   "metadata": {
    "collapsed": false
   }
  },
  {
   "cell_type": "code",
   "execution_count": 9,
   "outputs": [
    {
     "data": {
      "text/plain": "    index                                               name  \\\n0       0                     Australian National University   \n1       1                                  Monash University   \n2       2                           University of Queensland   \n3       3                               Macquarie University   \n4       4                                        UNSW Sydney   \n5       5                               Newcastle University   \n6       6                           University of Wollongong   \n7       7                            University of Melbourne   \n8       8                             University of Tasmania   \n9       9                             University of Adelaide   \n10     10                              James Cook University   \n11     11                                Flinders University   \n12     12                                    RMIT University   \n13     13                                La Trobe University   \n14     14                                Victoria University   \n15     15                          University of New England   \n16     16                                  Deakin University   \n17     17                                Griffith University   \n18     18                      Central Queensland University   \n19     19                      University of South Australia   \n20     20                 Swinburne University of Technology   \n21     21                                    Bond University   \n22     22                   University of the Sunshine Coast   \n23     23                           Charles Sturt University   \n24     24                             University of Canberra   \n25     25                              Federation University   \n26     26  Walter and Eliza Hall Institute of Medical Res...   \n27     27                          Charles Darwin University   \n28     28             Australian Institute of Marine Science   \n29     29                      Australian Antarctic Division   \n30     30                  University of Southern Queensland   \n31     31          QIMR Berghofer Medical Research Institute   \n32     33                                   Burnet Institute   \n33     34            Victor Chang Cardiac Research Institute   \n34     35              Murdoch Children's Research Institute   \n35     36                                     Mater Research   \n36     37          St Vincents Institute of Medical Research   \n37     38                       The Heart Research Institute   \n38     40  Australian Nuclear Science and Technology Orga...   \n39     42                       Rolls-Royce (United Kingdom)   \n40     43                                    CSL (Australia)   \n41     44                                BP (United Kingdom)   \n42     45                         Rio Tinto (United Kingdom)   \n43     47                       BAE Systems (United Kingdom)   \n44     51            Defence Research and Development Canada   \n45     52                                Lions Eye Institute   \n46     53                              Mater Health Services   \n47     55                       Trojan Technologies (Canada)   \n48     56                                The Alfred Hospital   \n49     57              Washington State Department of Health   \n\n                                          link  lang_eng  valid_dir  \\\n0                       http://www.anu.edu.au/         1          1   \n1                       http://www.monash.edu/         1          1   \n2                        http://www.uq.edu.au/         1          1   \n3                            http://mq.edu.au/         1          1   \n4                     https://www.unsw.edu.au/         1          1   \n5                        http://www.ncl.ac.uk/         1          1   \n6            https://www.uow.edu.au/index.html         1          1   \n7                   http://www.unimelb.edu.au/         1          1   \n8                      http://www.utas.edu.au/         1          1   \n9                  http://www.adelaide.edu.au/         1          1   \n10                      http://www.jcu.edu.au/         1          1   \n11                 http://www.flinders.edu.au/         1          1   \n12                    https://www.rmit.edu.au/         1          1   \n13                  http://www.latrobe.edu.au/         1          1   \n14                       http://www.vu.edu.au/         1          1   \n15                      http://www.une.edu.au/         1          1   \n16                   http://www.deakin.edu.au/         1          1   \n17                 http://www.griffith.edu.au/         1          1   \n18                     https://www.cqu.edu.au/         1          1   \n19                   https://www.unisa.edu.au/         1          1   \n20                http://www.swinburne.edu.au/         1          1   \n21                         http://bond.edu.au/         1          1   \n22                      http://www.usc.edu.au/         1          1   \n23                      http://www.csu.edu.au/         1          1   \n24                 http://www.canberra.edu.au/         1          1   \n25                  https://federation.edu.au/         1          1   \n26                     http://www.wehi.edu.au/         1          1   \n27                      http://www.cdu.edu.au/         1          1   \n28                     http://www.aims.gov.au/         1          1   \n29               http://www.antarctica.gov.au/         1          1   \n30                      http://www.usq.edu.au/         1          1   \n31            http://www.qimrberghofer.edu.au/         1          1   \n32                   http://www.burnet.edu.au/         1          1   \n33              http://www.victorchang.edu.au/         1          1   \n34                    https://www.mcri.edu.au/         1          1   \n35               http://research.mater.org.au/         1          1   \n36                     https://www.svi.edu.au/         1          1   \n37                      http://www.hri.org.au/         1          1   \n38                    http://www.ansto.gov.au/         1          1   \n39                https://www.rolls-royce.com/         1          1   \n40                        https://www.csl.com/         1          1   \n41                          http://www.bp.com/         1          1   \n42                    http://www.riotinto.com/         1          1   \n43                  http://www.baesystems.com/         1          1   \n44    http://www.drdc-rddc.gc.ca/en/index.page         1          1   \n45                     https://www.lei.org.au/         1          1   \n46                    http://www.mater.org.au/         1          1   \n47          http://www.trojantechnologies.com/         1          1   \n48  https://www.alfredhealth.org.au/the-alfred         1          1   \n49                      http://www.doh.wa.gov/         1          1   \n\n                                                value        type  \n0   anu newsroom anu study with us anu research in...   Education  \n1   monash university one of the top universities ...   Education  \n2   the university of queensland the university of...   Education  \n3   macquarie university tertiary education curren...   Education  \n4   unsw sydney one of the best universities in au...   Education  \n5   the things we do here make a difference out th...   Education  \n6   university of wollongong uow a world class uni...   Education  \n7   the university of melbourne australia australi...   Education  \n8   university of tasmania coronavirus updates uni...   Education  \n9   the university of adelaide the university of a...   Education  \n10  study at james cook university in queensland j...   Education  \n11  flinders university adelaide south australia f...   Education  \n12  rmit university rmit university rmit universit...   Education  \n13  la trobe university melbourne victoria austral...   Education  \n14  victoria university australia search victoria ...   Education  \n15  home university of new england une covid safe ...   Education  \n16  home deakin home deakin deakin deakin deakin d...   Education  \n17  griffith university library research engage ab...   Education  \n18  cquniversity cquniversity faqs cquniversity cq...   Education  \n19  unisa university of south australia home study...   Education  \n20  swinburne university of technology melbourne a...   Education  \n21  bond university bond university gold coast que...   Education  \n22  unisc university of the sunshine coast queensl...   Education  \n23  home charles sturt university page not found c...   Education  \n24  university of canberra university of canberra ...   Education  \n25  home federation university australia home fede...   Education  \n26  wehi walter and eliza hall institute of medica...   Nonprofit  \n27  home charles darwin university find a course a...   Education  \n28  the australian institute of marine science aim...    Facility  \n29  australian antarctic program about antarctica ...  Government  \n30  university of southern queensland university o...   Education  \n31  home qimr berghofer donate now qimr berghofer ...    Facility  \n32  burnet institute news amp events burnet instit...   Nonprofit  \n33  home of heart research victor chang cardiac re...   Nonprofit  \n34  home murdoch children s research institute mcr...   Nonprofit  \n35  this website will overthrow your mind catch on...    Facility  \n36  svi welcome to svi svi search results svi life...   Nonprofit  \n37  heart research institute donate to heart disea...    Facility  \n38  ansto science ingenuity sustainability ansto c...  Government  \n39  rolls royce delivering complex power solutions...     Company  \n40  csl is a global biotech leader partnering csl ...     Company  \n41  home cookie preferences home sustainability ho...     Company  \n42  rio tinto global about smart mining partnering...     Company  \n43  home bae systems international home bae system...     Company  \n44  defence research and development canada defenc...  Government  \n45  home lions eye institute about us lions eye in...   Nonprofit  \n46  home mater about mater mission mater values ma...  Healthcare  \n47  trojan technologies trojan technologies trojan...     Company  \n48  the alfred alfred health what you need to know...  Healthcare  \n49  washington state department of health about us...  Government  ",
      "text/html": "<div>\n<style scoped>\n    .dataframe tbody tr th:only-of-type {\n        vertical-align: middle;\n    }\n\n    .dataframe tbody tr th {\n        vertical-align: top;\n    }\n\n    .dataframe thead th {\n        text-align: right;\n    }\n</style>\n<table border=\"1\" class=\"dataframe\">\n  <thead>\n    <tr style=\"text-align: right;\">\n      <th></th>\n      <th>index</th>\n      <th>name</th>\n      <th>link</th>\n      <th>lang_eng</th>\n      <th>valid_dir</th>\n      <th>value</th>\n      <th>type</th>\n    </tr>\n  </thead>\n  <tbody>\n    <tr>\n      <th>0</th>\n      <td>0</td>\n      <td>Australian National University</td>\n      <td>http://www.anu.edu.au/</td>\n      <td>1</td>\n      <td>1</td>\n      <td>anu newsroom anu study with us anu research in...</td>\n      <td>Education</td>\n    </tr>\n    <tr>\n      <th>1</th>\n      <td>1</td>\n      <td>Monash University</td>\n      <td>http://www.monash.edu/</td>\n      <td>1</td>\n      <td>1</td>\n      <td>monash university one of the top universities ...</td>\n      <td>Education</td>\n    </tr>\n    <tr>\n      <th>2</th>\n      <td>2</td>\n      <td>University of Queensland</td>\n      <td>http://www.uq.edu.au/</td>\n      <td>1</td>\n      <td>1</td>\n      <td>the university of queensland the university of...</td>\n      <td>Education</td>\n    </tr>\n    <tr>\n      <th>3</th>\n      <td>3</td>\n      <td>Macquarie University</td>\n      <td>http://mq.edu.au/</td>\n      <td>1</td>\n      <td>1</td>\n      <td>macquarie university tertiary education curren...</td>\n      <td>Education</td>\n    </tr>\n    <tr>\n      <th>4</th>\n      <td>4</td>\n      <td>UNSW Sydney</td>\n      <td>https://www.unsw.edu.au/</td>\n      <td>1</td>\n      <td>1</td>\n      <td>unsw sydney one of the best universities in au...</td>\n      <td>Education</td>\n    </tr>\n    <tr>\n      <th>5</th>\n      <td>5</td>\n      <td>Newcastle University</td>\n      <td>http://www.ncl.ac.uk/</td>\n      <td>1</td>\n      <td>1</td>\n      <td>the things we do here make a difference out th...</td>\n      <td>Education</td>\n    </tr>\n    <tr>\n      <th>6</th>\n      <td>6</td>\n      <td>University of Wollongong</td>\n      <td>https://www.uow.edu.au/index.html</td>\n      <td>1</td>\n      <td>1</td>\n      <td>university of wollongong uow a world class uni...</td>\n      <td>Education</td>\n    </tr>\n    <tr>\n      <th>7</th>\n      <td>7</td>\n      <td>University of Melbourne</td>\n      <td>http://www.unimelb.edu.au/</td>\n      <td>1</td>\n      <td>1</td>\n      <td>the university of melbourne australia australi...</td>\n      <td>Education</td>\n    </tr>\n    <tr>\n      <th>8</th>\n      <td>8</td>\n      <td>University of Tasmania</td>\n      <td>http://www.utas.edu.au/</td>\n      <td>1</td>\n      <td>1</td>\n      <td>university of tasmania coronavirus updates uni...</td>\n      <td>Education</td>\n    </tr>\n    <tr>\n      <th>9</th>\n      <td>9</td>\n      <td>University of Adelaide</td>\n      <td>http://www.adelaide.edu.au/</td>\n      <td>1</td>\n      <td>1</td>\n      <td>the university of adelaide the university of a...</td>\n      <td>Education</td>\n    </tr>\n    <tr>\n      <th>10</th>\n      <td>10</td>\n      <td>James Cook University</td>\n      <td>http://www.jcu.edu.au/</td>\n      <td>1</td>\n      <td>1</td>\n      <td>study at james cook university in queensland j...</td>\n      <td>Education</td>\n    </tr>\n    <tr>\n      <th>11</th>\n      <td>11</td>\n      <td>Flinders University</td>\n      <td>http://www.flinders.edu.au/</td>\n      <td>1</td>\n      <td>1</td>\n      <td>flinders university adelaide south australia f...</td>\n      <td>Education</td>\n    </tr>\n    <tr>\n      <th>12</th>\n      <td>12</td>\n      <td>RMIT University</td>\n      <td>https://www.rmit.edu.au/</td>\n      <td>1</td>\n      <td>1</td>\n      <td>rmit university rmit university rmit universit...</td>\n      <td>Education</td>\n    </tr>\n    <tr>\n      <th>13</th>\n      <td>13</td>\n      <td>La Trobe University</td>\n      <td>http://www.latrobe.edu.au/</td>\n      <td>1</td>\n      <td>1</td>\n      <td>la trobe university melbourne victoria austral...</td>\n      <td>Education</td>\n    </tr>\n    <tr>\n      <th>14</th>\n      <td>14</td>\n      <td>Victoria University</td>\n      <td>http://www.vu.edu.au/</td>\n      <td>1</td>\n      <td>1</td>\n      <td>victoria university australia search victoria ...</td>\n      <td>Education</td>\n    </tr>\n    <tr>\n      <th>15</th>\n      <td>15</td>\n      <td>University of New England</td>\n      <td>http://www.une.edu.au/</td>\n      <td>1</td>\n      <td>1</td>\n      <td>home university of new england une covid safe ...</td>\n      <td>Education</td>\n    </tr>\n    <tr>\n      <th>16</th>\n      <td>16</td>\n      <td>Deakin University</td>\n      <td>http://www.deakin.edu.au/</td>\n      <td>1</td>\n      <td>1</td>\n      <td>home deakin home deakin deakin deakin deakin d...</td>\n      <td>Education</td>\n    </tr>\n    <tr>\n      <th>17</th>\n      <td>17</td>\n      <td>Griffith University</td>\n      <td>http://www.griffith.edu.au/</td>\n      <td>1</td>\n      <td>1</td>\n      <td>griffith university library research engage ab...</td>\n      <td>Education</td>\n    </tr>\n    <tr>\n      <th>18</th>\n      <td>18</td>\n      <td>Central Queensland University</td>\n      <td>https://www.cqu.edu.au/</td>\n      <td>1</td>\n      <td>1</td>\n      <td>cquniversity cquniversity faqs cquniversity cq...</td>\n      <td>Education</td>\n    </tr>\n    <tr>\n      <th>19</th>\n      <td>19</td>\n      <td>University of South Australia</td>\n      <td>https://www.unisa.edu.au/</td>\n      <td>1</td>\n      <td>1</td>\n      <td>unisa university of south australia home study...</td>\n      <td>Education</td>\n    </tr>\n    <tr>\n      <th>20</th>\n      <td>20</td>\n      <td>Swinburne University of Technology</td>\n      <td>http://www.swinburne.edu.au/</td>\n      <td>1</td>\n      <td>1</td>\n      <td>swinburne university of technology melbourne a...</td>\n      <td>Education</td>\n    </tr>\n    <tr>\n      <th>21</th>\n      <td>21</td>\n      <td>Bond University</td>\n      <td>http://bond.edu.au/</td>\n      <td>1</td>\n      <td>1</td>\n      <td>bond university bond university gold coast que...</td>\n      <td>Education</td>\n    </tr>\n    <tr>\n      <th>22</th>\n      <td>22</td>\n      <td>University of the Sunshine Coast</td>\n      <td>http://www.usc.edu.au/</td>\n      <td>1</td>\n      <td>1</td>\n      <td>unisc university of the sunshine coast queensl...</td>\n      <td>Education</td>\n    </tr>\n    <tr>\n      <th>23</th>\n      <td>23</td>\n      <td>Charles Sturt University</td>\n      <td>http://www.csu.edu.au/</td>\n      <td>1</td>\n      <td>1</td>\n      <td>home charles sturt university page not found c...</td>\n      <td>Education</td>\n    </tr>\n    <tr>\n      <th>24</th>\n      <td>24</td>\n      <td>University of Canberra</td>\n      <td>http://www.canberra.edu.au/</td>\n      <td>1</td>\n      <td>1</td>\n      <td>university of canberra university of canberra ...</td>\n      <td>Education</td>\n    </tr>\n    <tr>\n      <th>25</th>\n      <td>25</td>\n      <td>Federation University</td>\n      <td>https://federation.edu.au/</td>\n      <td>1</td>\n      <td>1</td>\n      <td>home federation university australia home fede...</td>\n      <td>Education</td>\n    </tr>\n    <tr>\n      <th>26</th>\n      <td>26</td>\n      <td>Walter and Eliza Hall Institute of Medical Res...</td>\n      <td>http://www.wehi.edu.au/</td>\n      <td>1</td>\n      <td>1</td>\n      <td>wehi walter and eliza hall institute of medica...</td>\n      <td>Nonprofit</td>\n    </tr>\n    <tr>\n      <th>27</th>\n      <td>27</td>\n      <td>Charles Darwin University</td>\n      <td>http://www.cdu.edu.au/</td>\n      <td>1</td>\n      <td>1</td>\n      <td>home charles darwin university find a course a...</td>\n      <td>Education</td>\n    </tr>\n    <tr>\n      <th>28</th>\n      <td>28</td>\n      <td>Australian Institute of Marine Science</td>\n      <td>http://www.aims.gov.au/</td>\n      <td>1</td>\n      <td>1</td>\n      <td>the australian institute of marine science aim...</td>\n      <td>Facility</td>\n    </tr>\n    <tr>\n      <th>29</th>\n      <td>29</td>\n      <td>Australian Antarctic Division</td>\n      <td>http://www.antarctica.gov.au/</td>\n      <td>1</td>\n      <td>1</td>\n      <td>australian antarctic program about antarctica ...</td>\n      <td>Government</td>\n    </tr>\n    <tr>\n      <th>30</th>\n      <td>30</td>\n      <td>University of Southern Queensland</td>\n      <td>http://www.usq.edu.au/</td>\n      <td>1</td>\n      <td>1</td>\n      <td>university of southern queensland university o...</td>\n      <td>Education</td>\n    </tr>\n    <tr>\n      <th>31</th>\n      <td>31</td>\n      <td>QIMR Berghofer Medical Research Institute</td>\n      <td>http://www.qimrberghofer.edu.au/</td>\n      <td>1</td>\n      <td>1</td>\n      <td>home qimr berghofer donate now qimr berghofer ...</td>\n      <td>Facility</td>\n    </tr>\n    <tr>\n      <th>32</th>\n      <td>33</td>\n      <td>Burnet Institute</td>\n      <td>http://www.burnet.edu.au/</td>\n      <td>1</td>\n      <td>1</td>\n      <td>burnet institute news amp events burnet instit...</td>\n      <td>Nonprofit</td>\n    </tr>\n    <tr>\n      <th>33</th>\n      <td>34</td>\n      <td>Victor Chang Cardiac Research Institute</td>\n      <td>http://www.victorchang.edu.au/</td>\n      <td>1</td>\n      <td>1</td>\n      <td>home of heart research victor chang cardiac re...</td>\n      <td>Nonprofit</td>\n    </tr>\n    <tr>\n      <th>34</th>\n      <td>35</td>\n      <td>Murdoch Children's Research Institute</td>\n      <td>https://www.mcri.edu.au/</td>\n      <td>1</td>\n      <td>1</td>\n      <td>home murdoch children s research institute mcr...</td>\n      <td>Nonprofit</td>\n    </tr>\n    <tr>\n      <th>35</th>\n      <td>36</td>\n      <td>Mater Research</td>\n      <td>http://research.mater.org.au/</td>\n      <td>1</td>\n      <td>1</td>\n      <td>this website will overthrow your mind catch on...</td>\n      <td>Facility</td>\n    </tr>\n    <tr>\n      <th>36</th>\n      <td>37</td>\n      <td>St Vincents Institute of Medical Research</td>\n      <td>https://www.svi.edu.au/</td>\n      <td>1</td>\n      <td>1</td>\n      <td>svi welcome to svi svi search results svi life...</td>\n      <td>Nonprofit</td>\n    </tr>\n    <tr>\n      <th>37</th>\n      <td>38</td>\n      <td>The Heart Research Institute</td>\n      <td>http://www.hri.org.au/</td>\n      <td>1</td>\n      <td>1</td>\n      <td>heart research institute donate to heart disea...</td>\n      <td>Facility</td>\n    </tr>\n    <tr>\n      <th>38</th>\n      <td>40</td>\n      <td>Australian Nuclear Science and Technology Orga...</td>\n      <td>http://www.ansto.gov.au/</td>\n      <td>1</td>\n      <td>1</td>\n      <td>ansto science ingenuity sustainability ansto c...</td>\n      <td>Government</td>\n    </tr>\n    <tr>\n      <th>39</th>\n      <td>42</td>\n      <td>Rolls-Royce (United Kingdom)</td>\n      <td>https://www.rolls-royce.com/</td>\n      <td>1</td>\n      <td>1</td>\n      <td>rolls royce delivering complex power solutions...</td>\n      <td>Company</td>\n    </tr>\n    <tr>\n      <th>40</th>\n      <td>43</td>\n      <td>CSL (Australia)</td>\n      <td>https://www.csl.com/</td>\n      <td>1</td>\n      <td>1</td>\n      <td>csl is a global biotech leader partnering csl ...</td>\n      <td>Company</td>\n    </tr>\n    <tr>\n      <th>41</th>\n      <td>44</td>\n      <td>BP (United Kingdom)</td>\n      <td>http://www.bp.com/</td>\n      <td>1</td>\n      <td>1</td>\n      <td>home cookie preferences home sustainability ho...</td>\n      <td>Company</td>\n    </tr>\n    <tr>\n      <th>42</th>\n      <td>45</td>\n      <td>Rio Tinto (United Kingdom)</td>\n      <td>http://www.riotinto.com/</td>\n      <td>1</td>\n      <td>1</td>\n      <td>rio tinto global about smart mining partnering...</td>\n      <td>Company</td>\n    </tr>\n    <tr>\n      <th>43</th>\n      <td>47</td>\n      <td>BAE Systems (United Kingdom)</td>\n      <td>http://www.baesystems.com/</td>\n      <td>1</td>\n      <td>1</td>\n      <td>home bae systems international home bae system...</td>\n      <td>Company</td>\n    </tr>\n    <tr>\n      <th>44</th>\n      <td>51</td>\n      <td>Defence Research and Development Canada</td>\n      <td>http://www.drdc-rddc.gc.ca/en/index.page</td>\n      <td>1</td>\n      <td>1</td>\n      <td>defence research and development canada defenc...</td>\n      <td>Government</td>\n    </tr>\n    <tr>\n      <th>45</th>\n      <td>52</td>\n      <td>Lions Eye Institute</td>\n      <td>https://www.lei.org.au/</td>\n      <td>1</td>\n      <td>1</td>\n      <td>home lions eye institute about us lions eye in...</td>\n      <td>Nonprofit</td>\n    </tr>\n    <tr>\n      <th>46</th>\n      <td>53</td>\n      <td>Mater Health Services</td>\n      <td>http://www.mater.org.au/</td>\n      <td>1</td>\n      <td>1</td>\n      <td>home mater about mater mission mater values ma...</td>\n      <td>Healthcare</td>\n    </tr>\n    <tr>\n      <th>47</th>\n      <td>55</td>\n      <td>Trojan Technologies (Canada)</td>\n      <td>http://www.trojantechnologies.com/</td>\n      <td>1</td>\n      <td>1</td>\n      <td>trojan technologies trojan technologies trojan...</td>\n      <td>Company</td>\n    </tr>\n    <tr>\n      <th>48</th>\n      <td>56</td>\n      <td>The Alfred Hospital</td>\n      <td>https://www.alfredhealth.org.au/the-alfred</td>\n      <td>1</td>\n      <td>1</td>\n      <td>the alfred alfred health what you need to know...</td>\n      <td>Healthcare</td>\n    </tr>\n    <tr>\n      <th>49</th>\n      <td>57</td>\n      <td>Washington State Department of Health</td>\n      <td>http://www.doh.wa.gov/</td>\n      <td>1</td>\n      <td>1</td>\n      <td>washington state department of health about us...</td>\n      <td>Government</td>\n    </tr>\n  </tbody>\n</table>\n</div>"
     },
     "execution_count": 9,
     "metadata": {},
     "output_type": "execute_result"
    }
   ],
   "source": [
    "# Change words to lower case\n",
    "df['value'] = df['value'].apply(lambda x: \" \".join([w.lower() for w in x.split()]))\n",
    "df.head(50)"
   ],
   "metadata": {
    "collapsed": false
   }
  },
  {
   "cell_type": "code",
   "execution_count": 11,
   "outputs": [
    {
     "name": "stderr",
     "output_type": "stream",
     "text": [
      "[nltk_data] Downloading package omw-1.4 to\n",
      "[nltk_data]     C:\\Users\\Martin\\AppData\\Roaming\\nltk_data...\n",
      "[nltk_data] Downloading package wordnet to\n",
      "[nltk_data]     C:\\Users\\Martin\\AppData\\Roaming\\nltk_data...\n",
      "[nltk_data]   Package wordnet is already up-to-date!\n"
     ]
    },
    {
     "data": {
      "text/plain": "   index                            name                      link  lang_eng  \\\n0      0  Australian National University    http://www.anu.edu.au/         1   \n1      1               Monash University    http://www.monash.edu/         1   \n2      2        University of Queensland     http://www.uq.edu.au/         1   \n3      3            Macquarie University         http://mq.edu.au/         1   \n4      4                     UNSW Sydney  https://www.unsw.edu.au/         1   \n\n   valid_dir                                              value       type  \n0          1  anu newsroom anu study with u anu research inn...  Education  \n1          1  monash university one of the top university in...  Education  \n2          1  the university of queensland the university of...  Education  \n3          1  macquarie university tertiary education curren...  Education  \n4          1  unsw sydney one of the best university in aust...  Education  ",
      "text/html": "<div>\n<style scoped>\n    .dataframe tbody tr th:only-of-type {\n        vertical-align: middle;\n    }\n\n    .dataframe tbody tr th {\n        vertical-align: top;\n    }\n\n    .dataframe thead th {\n        text-align: right;\n    }\n</style>\n<table border=\"1\" class=\"dataframe\">\n  <thead>\n    <tr style=\"text-align: right;\">\n      <th></th>\n      <th>index</th>\n      <th>name</th>\n      <th>link</th>\n      <th>lang_eng</th>\n      <th>valid_dir</th>\n      <th>value</th>\n      <th>type</th>\n    </tr>\n  </thead>\n  <tbody>\n    <tr>\n      <th>0</th>\n      <td>0</td>\n      <td>Australian National University</td>\n      <td>http://www.anu.edu.au/</td>\n      <td>1</td>\n      <td>1</td>\n      <td>anu newsroom anu study with u anu research inn...</td>\n      <td>Education</td>\n    </tr>\n    <tr>\n      <th>1</th>\n      <td>1</td>\n      <td>Monash University</td>\n      <td>http://www.monash.edu/</td>\n      <td>1</td>\n      <td>1</td>\n      <td>monash university one of the top university in...</td>\n      <td>Education</td>\n    </tr>\n    <tr>\n      <th>2</th>\n      <td>2</td>\n      <td>University of Queensland</td>\n      <td>http://www.uq.edu.au/</td>\n      <td>1</td>\n      <td>1</td>\n      <td>the university of queensland the university of...</td>\n      <td>Education</td>\n    </tr>\n    <tr>\n      <th>3</th>\n      <td>3</td>\n      <td>Macquarie University</td>\n      <td>http://mq.edu.au/</td>\n      <td>1</td>\n      <td>1</td>\n      <td>macquarie university tertiary education curren...</td>\n      <td>Education</td>\n    </tr>\n    <tr>\n      <th>4</th>\n      <td>4</td>\n      <td>UNSW Sydney</td>\n      <td>https://www.unsw.edu.au/</td>\n      <td>1</td>\n      <td>1</td>\n      <td>unsw sydney one of the best university in aust...</td>\n      <td>Education</td>\n    </tr>\n  </tbody>\n</table>\n</div>"
     },
     "execution_count": 11,
     "metadata": {},
     "output_type": "execute_result"
    }
   ],
   "source": [
    "# Lemmatize words\n",
    "nltk.download('omw-1.4')\n",
    "nltk.download(\"wordnet\")\n",
    "\n",
    "from nltk.stem import WordNetLemmatizer\n",
    "lemmatizer = WordNetLemmatizer()\n",
    "\n",
    "df['value'] = df['value'].apply(lambda x: \" \".join([lemmatizer.lemmatize(w) for w in x.split()]))\n",
    "df.head()"
   ],
   "metadata": {
    "collapsed": false
   }
  },
  {
   "cell_type": "code",
   "execution_count": 12,
   "outputs": [
    {
     "data": {
      "text/plain": "    index                                               name  \\\n0       0                     Australian National University   \n1       1                                  Monash University   \n2       2                           University of Queensland   \n3       3                               Macquarie University   \n4       4                                        UNSW Sydney   \n5       5                               Newcastle University   \n6       6                           University of Wollongong   \n7       7                            University of Melbourne   \n8       8                             University of Tasmania   \n9       9                             University of Adelaide   \n10     10                              James Cook University   \n11     11                                Flinders University   \n12     12                                    RMIT University   \n13     13                                La Trobe University   \n14     14                                Victoria University   \n15     15                          University of New England   \n16     16                                  Deakin University   \n17     17                                Griffith University   \n18     18                      Central Queensland University   \n19     19                      University of South Australia   \n20     20                 Swinburne University of Technology   \n21     21                                    Bond University   \n22     22                   University of the Sunshine Coast   \n23     23                           Charles Sturt University   \n24     24                             University of Canberra   \n25     25                              Federation University   \n26     26  Walter and Eliza Hall Institute of Medical Res...   \n27     27                          Charles Darwin University   \n28     28             Australian Institute of Marine Science   \n29     29                      Australian Antarctic Division   \n30     30                  University of Southern Queensland   \n31     31          QIMR Berghofer Medical Research Institute   \n32     33                                   Burnet Institute   \n33     34            Victor Chang Cardiac Research Institute   \n34     35              Murdoch Children's Research Institute   \n35     36                                     Mater Research   \n36     37          St Vincents Institute of Medical Research   \n37     38                       The Heart Research Institute   \n38     40  Australian Nuclear Science and Technology Orga...   \n39     42                       Rolls-Royce (United Kingdom)   \n40     43                                    CSL (Australia)   \n41     44                                BP (United Kingdom)   \n42     45                         Rio Tinto (United Kingdom)   \n43     47                       BAE Systems (United Kingdom)   \n44     51            Defence Research and Development Canada   \n45     52                                Lions Eye Institute   \n46     53                              Mater Health Services   \n47     55                       Trojan Technologies (Canada)   \n48     56                                The Alfred Hospital   \n49     57              Washington State Department of Health   \n\n                                          link  lang_eng  valid_dir  \\\n0                       http://www.anu.edu.au/         1          1   \n1                       http://www.monash.edu/         1          1   \n2                        http://www.uq.edu.au/         1          1   \n3                            http://mq.edu.au/         1          1   \n4                     https://www.unsw.edu.au/         1          1   \n5                        http://www.ncl.ac.uk/         1          1   \n6            https://www.uow.edu.au/index.html         1          1   \n7                   http://www.unimelb.edu.au/         1          1   \n8                      http://www.utas.edu.au/         1          1   \n9                  http://www.adelaide.edu.au/         1          1   \n10                      http://www.jcu.edu.au/         1          1   \n11                 http://www.flinders.edu.au/         1          1   \n12                    https://www.rmit.edu.au/         1          1   \n13                  http://www.latrobe.edu.au/         1          1   \n14                       http://www.vu.edu.au/         1          1   \n15                      http://www.une.edu.au/         1          1   \n16                   http://www.deakin.edu.au/         1          1   \n17                 http://www.griffith.edu.au/         1          1   \n18                     https://www.cqu.edu.au/         1          1   \n19                   https://www.unisa.edu.au/         1          1   \n20                http://www.swinburne.edu.au/         1          1   \n21                         http://bond.edu.au/         1          1   \n22                      http://www.usc.edu.au/         1          1   \n23                      http://www.csu.edu.au/         1          1   \n24                 http://www.canberra.edu.au/         1          1   \n25                  https://federation.edu.au/         1          1   \n26                     http://www.wehi.edu.au/         1          1   \n27                      http://www.cdu.edu.au/         1          1   \n28                     http://www.aims.gov.au/         1          1   \n29               http://www.antarctica.gov.au/         1          1   \n30                      http://www.usq.edu.au/         1          1   \n31            http://www.qimrberghofer.edu.au/         1          1   \n32                   http://www.burnet.edu.au/         1          1   \n33              http://www.victorchang.edu.au/         1          1   \n34                    https://www.mcri.edu.au/         1          1   \n35               http://research.mater.org.au/         1          1   \n36                     https://www.svi.edu.au/         1          1   \n37                      http://www.hri.org.au/         1          1   \n38                    http://www.ansto.gov.au/         1          1   \n39                https://www.rolls-royce.com/         1          1   \n40                        https://www.csl.com/         1          1   \n41                          http://www.bp.com/         1          1   \n42                    http://www.riotinto.com/         1          1   \n43                  http://www.baesystems.com/         1          1   \n44    http://www.drdc-rddc.gc.ca/en/index.page         1          1   \n45                     https://www.lei.org.au/         1          1   \n46                    http://www.mater.org.au/         1          1   \n47          http://www.trojantechnologies.com/         1          1   \n48  https://www.alfredhealth.org.au/the-alfred         1          1   \n49                      http://www.doh.wa.gov/         1          1   \n\n                                                value        type  \n0   anu newsroom anu study with anu research innov...   Education  \n1   monash university one the top university austr...   Education  \n2   the university queensland the university queen...   Education  \n3   macquarie university tertiary education curren...   Education  \n4   unsw sydney one the best university australia ...   Education  \n5   the thing here make difference out there newca...   Education  \n6   university wollongong uow world class universi...   Education  \n7   the university melbourne australia australia b...   Education  \n8   university tasmania coronavirus update univers...   Education  \n9   the university adelaide the university adelaid...   Education  \n10  study james cook university queensland jcu aus...   Education  \n11  flinders university adelaide south australia f...   Education  \n12  rmit university rmit university rmit universit...   Education  \n13  trobe university melbourne victoria australia ...   Education  \n14  victoria university australia search victoria ...   Education  \n15  home university new england une covid safe cam...   Education  \n16  home deakin home deakin deakin deakin deakin d...   Education  \n17  griffith university library research engage ab...   Education  \n18  cquniversity cquniversity faq cquniversity cqu...   Education  \n19  unisa university south australia home study un...   Education  \n20  swinburne university technology melbourne aust...   Education  \n21  bond university bond university gold coast que...   Education  \n22  unisc university the sunshine coast queensland...   Education  \n23  home charles sturt university page not found c...   Education  \n24  university canberra university canberra suppor...   Education  \n25  home federation university australia home fede...   Education  \n26  wehi walter and eliza hall institute medical r...   Nonprofit  \n27  home charles darwin university find course app...   Education  \n28  the australian institute marine science aim re...    Facility  \n29  australian antarctic program about antarctica ...  Government  \n30  university southern queensland university sout...   Education  \n31  home qimr berghofer donate now qimr berghofer ...    Facility  \n32  burnet institute news amp event burnet institu...   Nonprofit  \n33  home heart research victor chang cardiac resea...   Nonprofit  \n34  home murdoch child research institute mcri mur...   Nonprofit  \n35  this website will overthrow your mind catch ht...    Facility  \n36  svi welcome svi svi search result svi life the...   Nonprofit  \n37  heart research institute donate heart disease ...    Facility  \n38  ansto science ingenuity sustainability ansto c...  Government  \n39  roll royce delivering complex power solution r...     Company  \n40  csl global biotech leader partnering csl limit...     Company  \n41  home cookie preference home sustainability hom...     Company  \n42  rio tinto global about smart mining partnering...     Company  \n43  home bae system international home bae system ...     Company  \n44  defence research and development canada defenc...  Government  \n45  home lion eye institute about lion eye institu...   Nonprofit  \n46  home mater about mater mission mater value mat...  Healthcare  \n47  trojan technology trojan technology trojan tec...     Company  \n48  the alfred alfred health what you need know al...  Healthcare  \n49  washington state department health about washi...  Government  ",
      "text/html": "<div>\n<style scoped>\n    .dataframe tbody tr th:only-of-type {\n        vertical-align: middle;\n    }\n\n    .dataframe tbody tr th {\n        vertical-align: top;\n    }\n\n    .dataframe thead th {\n        text-align: right;\n    }\n</style>\n<table border=\"1\" class=\"dataframe\">\n  <thead>\n    <tr style=\"text-align: right;\">\n      <th></th>\n      <th>index</th>\n      <th>name</th>\n      <th>link</th>\n      <th>lang_eng</th>\n      <th>valid_dir</th>\n      <th>value</th>\n      <th>type</th>\n    </tr>\n  </thead>\n  <tbody>\n    <tr>\n      <th>0</th>\n      <td>0</td>\n      <td>Australian National University</td>\n      <td>http://www.anu.edu.au/</td>\n      <td>1</td>\n      <td>1</td>\n      <td>anu newsroom anu study with anu research innov...</td>\n      <td>Education</td>\n    </tr>\n    <tr>\n      <th>1</th>\n      <td>1</td>\n      <td>Monash University</td>\n      <td>http://www.monash.edu/</td>\n      <td>1</td>\n      <td>1</td>\n      <td>monash university one the top university austr...</td>\n      <td>Education</td>\n    </tr>\n    <tr>\n      <th>2</th>\n      <td>2</td>\n      <td>University of Queensland</td>\n      <td>http://www.uq.edu.au/</td>\n      <td>1</td>\n      <td>1</td>\n      <td>the university queensland the university queen...</td>\n      <td>Education</td>\n    </tr>\n    <tr>\n      <th>3</th>\n      <td>3</td>\n      <td>Macquarie University</td>\n      <td>http://mq.edu.au/</td>\n      <td>1</td>\n      <td>1</td>\n      <td>macquarie university tertiary education curren...</td>\n      <td>Education</td>\n    </tr>\n    <tr>\n      <th>4</th>\n      <td>4</td>\n      <td>UNSW Sydney</td>\n      <td>https://www.unsw.edu.au/</td>\n      <td>1</td>\n      <td>1</td>\n      <td>unsw sydney one the best university australia ...</td>\n      <td>Education</td>\n    </tr>\n    <tr>\n      <th>5</th>\n      <td>5</td>\n      <td>Newcastle University</td>\n      <td>http://www.ncl.ac.uk/</td>\n      <td>1</td>\n      <td>1</td>\n      <td>the thing here make difference out there newca...</td>\n      <td>Education</td>\n    </tr>\n    <tr>\n      <th>6</th>\n      <td>6</td>\n      <td>University of Wollongong</td>\n      <td>https://www.uow.edu.au/index.html</td>\n      <td>1</td>\n      <td>1</td>\n      <td>university wollongong uow world class universi...</td>\n      <td>Education</td>\n    </tr>\n    <tr>\n      <th>7</th>\n      <td>7</td>\n      <td>University of Melbourne</td>\n      <td>http://www.unimelb.edu.au/</td>\n      <td>1</td>\n      <td>1</td>\n      <td>the university melbourne australia australia b...</td>\n      <td>Education</td>\n    </tr>\n    <tr>\n      <th>8</th>\n      <td>8</td>\n      <td>University of Tasmania</td>\n      <td>http://www.utas.edu.au/</td>\n      <td>1</td>\n      <td>1</td>\n      <td>university tasmania coronavirus update univers...</td>\n      <td>Education</td>\n    </tr>\n    <tr>\n      <th>9</th>\n      <td>9</td>\n      <td>University of Adelaide</td>\n      <td>http://www.adelaide.edu.au/</td>\n      <td>1</td>\n      <td>1</td>\n      <td>the university adelaide the university adelaid...</td>\n      <td>Education</td>\n    </tr>\n    <tr>\n      <th>10</th>\n      <td>10</td>\n      <td>James Cook University</td>\n      <td>http://www.jcu.edu.au/</td>\n      <td>1</td>\n      <td>1</td>\n      <td>study james cook university queensland jcu aus...</td>\n      <td>Education</td>\n    </tr>\n    <tr>\n      <th>11</th>\n      <td>11</td>\n      <td>Flinders University</td>\n      <td>http://www.flinders.edu.au/</td>\n      <td>1</td>\n      <td>1</td>\n      <td>flinders university adelaide south australia f...</td>\n      <td>Education</td>\n    </tr>\n    <tr>\n      <th>12</th>\n      <td>12</td>\n      <td>RMIT University</td>\n      <td>https://www.rmit.edu.au/</td>\n      <td>1</td>\n      <td>1</td>\n      <td>rmit university rmit university rmit universit...</td>\n      <td>Education</td>\n    </tr>\n    <tr>\n      <th>13</th>\n      <td>13</td>\n      <td>La Trobe University</td>\n      <td>http://www.latrobe.edu.au/</td>\n      <td>1</td>\n      <td>1</td>\n      <td>trobe university melbourne victoria australia ...</td>\n      <td>Education</td>\n    </tr>\n    <tr>\n      <th>14</th>\n      <td>14</td>\n      <td>Victoria University</td>\n      <td>http://www.vu.edu.au/</td>\n      <td>1</td>\n      <td>1</td>\n      <td>victoria university australia search victoria ...</td>\n      <td>Education</td>\n    </tr>\n    <tr>\n      <th>15</th>\n      <td>15</td>\n      <td>University of New England</td>\n      <td>http://www.une.edu.au/</td>\n      <td>1</td>\n      <td>1</td>\n      <td>home university new england une covid safe cam...</td>\n      <td>Education</td>\n    </tr>\n    <tr>\n      <th>16</th>\n      <td>16</td>\n      <td>Deakin University</td>\n      <td>http://www.deakin.edu.au/</td>\n      <td>1</td>\n      <td>1</td>\n      <td>home deakin home deakin deakin deakin deakin d...</td>\n      <td>Education</td>\n    </tr>\n    <tr>\n      <th>17</th>\n      <td>17</td>\n      <td>Griffith University</td>\n      <td>http://www.griffith.edu.au/</td>\n      <td>1</td>\n      <td>1</td>\n      <td>griffith university library research engage ab...</td>\n      <td>Education</td>\n    </tr>\n    <tr>\n      <th>18</th>\n      <td>18</td>\n      <td>Central Queensland University</td>\n      <td>https://www.cqu.edu.au/</td>\n      <td>1</td>\n      <td>1</td>\n      <td>cquniversity cquniversity faq cquniversity cqu...</td>\n      <td>Education</td>\n    </tr>\n    <tr>\n      <th>19</th>\n      <td>19</td>\n      <td>University of South Australia</td>\n      <td>https://www.unisa.edu.au/</td>\n      <td>1</td>\n      <td>1</td>\n      <td>unisa university south australia home study un...</td>\n      <td>Education</td>\n    </tr>\n    <tr>\n      <th>20</th>\n      <td>20</td>\n      <td>Swinburne University of Technology</td>\n      <td>http://www.swinburne.edu.au/</td>\n      <td>1</td>\n      <td>1</td>\n      <td>swinburne university technology melbourne aust...</td>\n      <td>Education</td>\n    </tr>\n    <tr>\n      <th>21</th>\n      <td>21</td>\n      <td>Bond University</td>\n      <td>http://bond.edu.au/</td>\n      <td>1</td>\n      <td>1</td>\n      <td>bond university bond university gold coast que...</td>\n      <td>Education</td>\n    </tr>\n    <tr>\n      <th>22</th>\n      <td>22</td>\n      <td>University of the Sunshine Coast</td>\n      <td>http://www.usc.edu.au/</td>\n      <td>1</td>\n      <td>1</td>\n      <td>unisc university the sunshine coast queensland...</td>\n      <td>Education</td>\n    </tr>\n    <tr>\n      <th>23</th>\n      <td>23</td>\n      <td>Charles Sturt University</td>\n      <td>http://www.csu.edu.au/</td>\n      <td>1</td>\n      <td>1</td>\n      <td>home charles sturt university page not found c...</td>\n      <td>Education</td>\n    </tr>\n    <tr>\n      <th>24</th>\n      <td>24</td>\n      <td>University of Canberra</td>\n      <td>http://www.canberra.edu.au/</td>\n      <td>1</td>\n      <td>1</td>\n      <td>university canberra university canberra suppor...</td>\n      <td>Education</td>\n    </tr>\n    <tr>\n      <th>25</th>\n      <td>25</td>\n      <td>Federation University</td>\n      <td>https://federation.edu.au/</td>\n      <td>1</td>\n      <td>1</td>\n      <td>home federation university australia home fede...</td>\n      <td>Education</td>\n    </tr>\n    <tr>\n      <th>26</th>\n      <td>26</td>\n      <td>Walter and Eliza Hall Institute of Medical Res...</td>\n      <td>http://www.wehi.edu.au/</td>\n      <td>1</td>\n      <td>1</td>\n      <td>wehi walter and eliza hall institute medical r...</td>\n      <td>Nonprofit</td>\n    </tr>\n    <tr>\n      <th>27</th>\n      <td>27</td>\n      <td>Charles Darwin University</td>\n      <td>http://www.cdu.edu.au/</td>\n      <td>1</td>\n      <td>1</td>\n      <td>home charles darwin university find course app...</td>\n      <td>Education</td>\n    </tr>\n    <tr>\n      <th>28</th>\n      <td>28</td>\n      <td>Australian Institute of Marine Science</td>\n      <td>http://www.aims.gov.au/</td>\n      <td>1</td>\n      <td>1</td>\n      <td>the australian institute marine science aim re...</td>\n      <td>Facility</td>\n    </tr>\n    <tr>\n      <th>29</th>\n      <td>29</td>\n      <td>Australian Antarctic Division</td>\n      <td>http://www.antarctica.gov.au/</td>\n      <td>1</td>\n      <td>1</td>\n      <td>australian antarctic program about antarctica ...</td>\n      <td>Government</td>\n    </tr>\n    <tr>\n      <th>30</th>\n      <td>30</td>\n      <td>University of Southern Queensland</td>\n      <td>http://www.usq.edu.au/</td>\n      <td>1</td>\n      <td>1</td>\n      <td>university southern queensland university sout...</td>\n      <td>Education</td>\n    </tr>\n    <tr>\n      <th>31</th>\n      <td>31</td>\n      <td>QIMR Berghofer Medical Research Institute</td>\n      <td>http://www.qimrberghofer.edu.au/</td>\n      <td>1</td>\n      <td>1</td>\n      <td>home qimr berghofer donate now qimr berghofer ...</td>\n      <td>Facility</td>\n    </tr>\n    <tr>\n      <th>32</th>\n      <td>33</td>\n      <td>Burnet Institute</td>\n      <td>http://www.burnet.edu.au/</td>\n      <td>1</td>\n      <td>1</td>\n      <td>burnet institute news amp event burnet institu...</td>\n      <td>Nonprofit</td>\n    </tr>\n    <tr>\n      <th>33</th>\n      <td>34</td>\n      <td>Victor Chang Cardiac Research Institute</td>\n      <td>http://www.victorchang.edu.au/</td>\n      <td>1</td>\n      <td>1</td>\n      <td>home heart research victor chang cardiac resea...</td>\n      <td>Nonprofit</td>\n    </tr>\n    <tr>\n      <th>34</th>\n      <td>35</td>\n      <td>Murdoch Children's Research Institute</td>\n      <td>https://www.mcri.edu.au/</td>\n      <td>1</td>\n      <td>1</td>\n      <td>home murdoch child research institute mcri mur...</td>\n      <td>Nonprofit</td>\n    </tr>\n    <tr>\n      <th>35</th>\n      <td>36</td>\n      <td>Mater Research</td>\n      <td>http://research.mater.org.au/</td>\n      <td>1</td>\n      <td>1</td>\n      <td>this website will overthrow your mind catch ht...</td>\n      <td>Facility</td>\n    </tr>\n    <tr>\n      <th>36</th>\n      <td>37</td>\n      <td>St Vincents Institute of Medical Research</td>\n      <td>https://www.svi.edu.au/</td>\n      <td>1</td>\n      <td>1</td>\n      <td>svi welcome svi svi search result svi life the...</td>\n      <td>Nonprofit</td>\n    </tr>\n    <tr>\n      <th>37</th>\n      <td>38</td>\n      <td>The Heart Research Institute</td>\n      <td>http://www.hri.org.au/</td>\n      <td>1</td>\n      <td>1</td>\n      <td>heart research institute donate heart disease ...</td>\n      <td>Facility</td>\n    </tr>\n    <tr>\n      <th>38</th>\n      <td>40</td>\n      <td>Australian Nuclear Science and Technology Orga...</td>\n      <td>http://www.ansto.gov.au/</td>\n      <td>1</td>\n      <td>1</td>\n      <td>ansto science ingenuity sustainability ansto c...</td>\n      <td>Government</td>\n    </tr>\n    <tr>\n      <th>39</th>\n      <td>42</td>\n      <td>Rolls-Royce (United Kingdom)</td>\n      <td>https://www.rolls-royce.com/</td>\n      <td>1</td>\n      <td>1</td>\n      <td>roll royce delivering complex power solution r...</td>\n      <td>Company</td>\n    </tr>\n    <tr>\n      <th>40</th>\n      <td>43</td>\n      <td>CSL (Australia)</td>\n      <td>https://www.csl.com/</td>\n      <td>1</td>\n      <td>1</td>\n      <td>csl global biotech leader partnering csl limit...</td>\n      <td>Company</td>\n    </tr>\n    <tr>\n      <th>41</th>\n      <td>44</td>\n      <td>BP (United Kingdom)</td>\n      <td>http://www.bp.com/</td>\n      <td>1</td>\n      <td>1</td>\n      <td>home cookie preference home sustainability hom...</td>\n      <td>Company</td>\n    </tr>\n    <tr>\n      <th>42</th>\n      <td>45</td>\n      <td>Rio Tinto (United Kingdom)</td>\n      <td>http://www.riotinto.com/</td>\n      <td>1</td>\n      <td>1</td>\n      <td>rio tinto global about smart mining partnering...</td>\n      <td>Company</td>\n    </tr>\n    <tr>\n      <th>43</th>\n      <td>47</td>\n      <td>BAE Systems (United Kingdom)</td>\n      <td>http://www.baesystems.com/</td>\n      <td>1</td>\n      <td>1</td>\n      <td>home bae system international home bae system ...</td>\n      <td>Company</td>\n    </tr>\n    <tr>\n      <th>44</th>\n      <td>51</td>\n      <td>Defence Research and Development Canada</td>\n      <td>http://www.drdc-rddc.gc.ca/en/index.page</td>\n      <td>1</td>\n      <td>1</td>\n      <td>defence research and development canada defenc...</td>\n      <td>Government</td>\n    </tr>\n    <tr>\n      <th>45</th>\n      <td>52</td>\n      <td>Lions Eye Institute</td>\n      <td>https://www.lei.org.au/</td>\n      <td>1</td>\n      <td>1</td>\n      <td>home lion eye institute about lion eye institu...</td>\n      <td>Nonprofit</td>\n    </tr>\n    <tr>\n      <th>46</th>\n      <td>53</td>\n      <td>Mater Health Services</td>\n      <td>http://www.mater.org.au/</td>\n      <td>1</td>\n      <td>1</td>\n      <td>home mater about mater mission mater value mat...</td>\n      <td>Healthcare</td>\n    </tr>\n    <tr>\n      <th>47</th>\n      <td>55</td>\n      <td>Trojan Technologies (Canada)</td>\n      <td>http://www.trojantechnologies.com/</td>\n      <td>1</td>\n      <td>1</td>\n      <td>trojan technology trojan technology trojan tec...</td>\n      <td>Company</td>\n    </tr>\n    <tr>\n      <th>48</th>\n      <td>56</td>\n      <td>The Alfred Hospital</td>\n      <td>https://www.alfredhealth.org.au/the-alfred</td>\n      <td>1</td>\n      <td>1</td>\n      <td>the alfred alfred health what you need know al...</td>\n      <td>Healthcare</td>\n    </tr>\n    <tr>\n      <th>49</th>\n      <td>57</td>\n      <td>Washington State Department of Health</td>\n      <td>http://www.doh.wa.gov/</td>\n      <td>1</td>\n      <td>1</td>\n      <td>washington state department health about washi...</td>\n      <td>Government</td>\n    </tr>\n  </tbody>\n</table>\n</div>"
     },
     "execution_count": 12,
     "metadata": {},
     "output_type": "execute_result"
    }
   ],
   "source": [
    "# Remove short words\n",
    "df['value'] = df['value'].apply(lambda x: \" \".join([w for w in x.split() if len(w) > 2]))\n",
    "df.head(50)"
   ],
   "metadata": {
    "collapsed": false
   }
  },
  {
   "cell_type": "code",
   "execution_count": 13,
   "outputs": [],
   "source": [
    "# # stem the words\n",
    "# from nltk.stem.porter import PorterStemmer\n",
    "# stemmer = PorterStemmer()\n",
    "#\n",
    "# df['value'] = df['value'].apply(lambda sentence : \" \".join([stemmer.stem(word) for word in sentence.split(\" \")]))\n",
    "# df.head()"
   ],
   "metadata": {
    "collapsed": false
   }
  },
  {
   "cell_type": "code",
   "execution_count": 14,
   "outputs": [
    {
     "name": "stderr",
     "output_type": "stream",
     "text": [
      "[nltk_data] Downloading package stopwords to\n",
      "[nltk_data]     C:\\Users\\Martin\\AppData\\Roaming\\nltk_data...\n",
      "[nltk_data]   Package stopwords is already up-to-date!\n"
     ]
    },
    {
     "data": {
      "text/plain": "True"
     },
     "execution_count": 14,
     "metadata": {},
     "output_type": "execute_result"
    }
   ],
   "source": [
    "# Downloading stopwords to resolve errors\n",
    "import nltk\n",
    "nltk.download('stopwords')"
   ],
   "metadata": {
    "collapsed": false
   }
  },
  {
   "cell_type": "code",
   "execution_count": 15,
   "outputs": [
    {
     "data": {
      "text/plain": "   index                            name                      link  lang_eng  \\\n0      0  Australian National University    http://www.anu.edu.au/         1   \n1      1               Monash University    http://www.monash.edu/         1   \n2      2        University of Queensland     http://www.uq.edu.au/         1   \n3      3            Macquarie University         http://mq.edu.au/         1   \n4      4                     UNSW Sydney  https://www.unsw.edu.au/         1   \n\n   valid_dir                                              value       type  \n0          1  anu newsroom anu study anu research innovation...  Education  \n1          1  monash university one top university australia...  Education  \n2          1  university queensland university queensland ch...  Education  \n3          1  macquarie university tertiary education curren...  Education  \n4          1  unsw sydney one best university australia unsw...  Education  ",
      "text/html": "<div>\n<style scoped>\n    .dataframe tbody tr th:only-of-type {\n        vertical-align: middle;\n    }\n\n    .dataframe tbody tr th {\n        vertical-align: top;\n    }\n\n    .dataframe thead th {\n        text-align: right;\n    }\n</style>\n<table border=\"1\" class=\"dataframe\">\n  <thead>\n    <tr style=\"text-align: right;\">\n      <th></th>\n      <th>index</th>\n      <th>name</th>\n      <th>link</th>\n      <th>lang_eng</th>\n      <th>valid_dir</th>\n      <th>value</th>\n      <th>type</th>\n    </tr>\n  </thead>\n  <tbody>\n    <tr>\n      <th>0</th>\n      <td>0</td>\n      <td>Australian National University</td>\n      <td>http://www.anu.edu.au/</td>\n      <td>1</td>\n      <td>1</td>\n      <td>anu newsroom anu study anu research innovation...</td>\n      <td>Education</td>\n    </tr>\n    <tr>\n      <th>1</th>\n      <td>1</td>\n      <td>Monash University</td>\n      <td>http://www.monash.edu/</td>\n      <td>1</td>\n      <td>1</td>\n      <td>monash university one top university australia...</td>\n      <td>Education</td>\n    </tr>\n    <tr>\n      <th>2</th>\n      <td>2</td>\n      <td>University of Queensland</td>\n      <td>http://www.uq.edu.au/</td>\n      <td>1</td>\n      <td>1</td>\n      <td>university queensland university queensland ch...</td>\n      <td>Education</td>\n    </tr>\n    <tr>\n      <th>3</th>\n      <td>3</td>\n      <td>Macquarie University</td>\n      <td>http://mq.edu.au/</td>\n      <td>1</td>\n      <td>1</td>\n      <td>macquarie university tertiary education curren...</td>\n      <td>Education</td>\n    </tr>\n    <tr>\n      <th>4</th>\n      <td>4</td>\n      <td>UNSW Sydney</td>\n      <td>https://www.unsw.edu.au/</td>\n      <td>1</td>\n      <td>1</td>\n      <td>unsw sydney one best university australia unsw...</td>\n      <td>Education</td>\n    </tr>\n  </tbody>\n</table>\n</div>"
     },
     "execution_count": 15,
     "metadata": {},
     "output_type": "execute_result"
    }
   ],
   "source": [
    "# Stop word removal with nltk and custom stop words\n",
    "from nltk.tokenize import word_tokenize\n",
    "from nltk.corpus import stopwords\n",
    "stop_words = set(stopwords.words('english'))\n",
    "my_stop_words = ['html', 'endif', 'content', 'skip', 'page', 'found', 'main', 'home', 'search', 'navigation', 'contact', 'menu', 'xhtml', 'error', 'endobj', 'find', 'link', 'http', 'form', 'welcome', 'cooky', 'covid', 'xmlns', 'sorry', 'sign', 'login', 'obj', 'toggle', 'get', 'file', 'org', 'template', 'tab', 'please', 'scn', 'utf', 'com', 'true', 'nka', 'try', 'lang', 'rdfa', 'oops', 'request', 'version', 'www', 'ha', 'dtd', 'xml', 'endstream', 'cookie', 'layout', 'end', 'false', 'click', 'rdfs', 'xobject', 'entityid', 'procset', 'mediabox', 'lsdexception', 'jfif', 'xmlschema', 'cdefghijstuvwxyzcdefghijstuvwxyz', 'viewerpreferences', 'osf', 'ogp', 'trimbox, webflow', 'xpacket', '']\n",
    "stop_words.update(my_stop_words)\n",
    "\n",
    "df['value'] = df['value'].apply(lambda x: \" \".join([word for word in word_tokenize(x) if word not in stop_words]))\n",
    "df.head()"
   ],
   "metadata": {
    "collapsed": false
   }
  },
  {
   "cell_type": "code",
   "execution_count": 16,
   "outputs": [
    {
     "name": "stdout",
     "output_type": "stream",
     "text": [
      "(46278, 7)\n",
      "(39566, 7)\n"
     ]
    }
   ],
   "source": [
    "# Remove websites, that have less than 20 tokens as values\n",
    "# df['value'] = df['value'].apply(lambda x: \" \".join([word for word in word_tokenize(x) if word not in stop_words]))\n",
    "print(df.shape)\n",
    "df = df[[len(i.split()) > 20 for i in df['value']]] #should be faster than above\n",
    "print(df.shape)"
   ],
   "metadata": {
    "collapsed": false
   }
  },
  {
   "cell_type": "code",
   "execution_count": 17,
   "outputs": [
    {
     "data": {
      "text/plain": "array(['', '[UNK]', 'public', 'university', 'health', 'research',\n       'service', 'foundation', 'news', 'institute', 'college',\n       'transitional', 'center', 'care', 'technology', 'information',\n       'product', 'community', 'new', 'program', 'science', 'resource',\n       'hospital', 'site', 'event', 'system', 'solution', 'support',\n       'medical', 'school', 'education', 'top', 'inc', 'privacy',\n       'student', 'website', 'group', 'help', 'policy', 'library',\n       'international', 'looking', 'patient', 'location', 'overview',\n       'national', 'company', 'cancer', 'state', 'development', 'global',\n       'society', 'study', 'board', 'career', 'mission', 'open', 'trust',\n       'association', 'life', 'team', 'world', 'history', 'work',\n       'project', 'museum', 'type', 'theme', 'management', 'business',\n       'member', 'child', 'centre', 'latest', 'office', 'application',\n       'online', 'name', 'class', 'partner', 'visit', 'family', 'art',\n       'strict', 'time', 'department', 'council', 'newsletter', 'know',\n       'data', 'right', 'quick', 'stream', 'people', 'admission',\n       'industry', 'join', 'need', 'healthcare', 'donate', 'innovation',\n       'medium', 'clinical', 'academic', 'vision', 'report', 'future',\n       'staff', 'network', 'update', 'use', 'american', 'campus', 'learn',\n       'course', 'area', 'social', 'county', 'english', 'energy', 'story',\n       'make', 'access', 'experience', 'grant', 'follow', 'close',\n       'account', 'year', 'treatment', 'engineering', 'director', 'apply',\n       'facebook', 'directory', 'city', 'quality', 'medicine',\n       'publication', 'leadership', 'homepage', 'design', 'learning',\n       'view', 'node', 'press', 'call', 'archive', 'today', 'disease',\n       'opportunity', 'fund', 'connect', 'training', 'high', 'one',\n       'best', 'impact', 'field', 'digital', 'general', 'award',\n       'primary', 'language', 'membership', 'email', 'blog', 'change',\n       'post', 'academy', 'share', 'north', 'free', 'recent', 'result',\n       'value', 'address', 'corporation', 'professional', 'current',\n       'exist', 'portal', 'back', 'explore', 'software', 'power',\n       'available', 'begin', 'woman', 'subscribe', 'south', 'way', 'stay',\n       'first', 'accessibility', 'organization', 'annual', 'path',\n       'united', 'question', 'corporate', 'tool', 'info', 'term',\n       'category', 'web', 'government', 'better', 'safety', 'food',\n       'start', 'list', 'user', 'affair', 'therapeutic', 'section',\n       'faculty', 'advanced', 'core', 'jump', 'partnership', 'meet',\n       'customer', 'server', 'job', 'scientific', 'hour', 'district',\n       'filter', 'header', 'touch', 'day', 'laboratory', 'building',\n       'plan', 'last', 'related', 'human', 'water', 'doe', 'video',\n       'material', 'platform', 'action', 'degree', 'head', 'financial',\n       'featured', 'technical', 'output', 'veteran', 'copyright', 'ietf',\n       'javascript', 'requested', 'leader', 'appointment', 'published',\n       'market', 'give', 'canada', 'investor', 'may', 'central', 'region',\n       'map', 'america', 'nicht', 'performance', 'see', 'book', 'offer',\n       'doctor', 'process', 'benefit', 'based', 'trial', 'committee',\n       'universal', 'title', 'browser', 'cell', 'log', 'enter', 'non',\n       'font', 'upcoming', 'message', 'country', 'ltd', 'india', 'clinic',\n       'leading', 'statement', 'therapy', 'encoding', 'gmt', 'alumnus',\n       'coronavirus', 'calendar', 'control', 'expert', 'ltr', 'analysis',\n       'gefunden', 'choose', 'west', 'mobile', 'space', 'executive',\n       'release', 'testing', 'want', 'like', 'twig', 'suggestion', 'dir',\n       'york', 'eye', 'coordinated', 'document', 'meeting', 'visitor',\n       'breadcrumb', 'article', 'conference', 'feb', 'test', 'programme',\n       'select', 'could', 'might', 'drug', 'topic', 'sustainable',\n       'regional', 'facility', 'strategy', 'aid', 'working', 'seite',\n       'important', 'date', 'take', 'surgery', 'line', 'reserved', 'next',\n       'president', 'pharmaceutical', 'environmental', 'environment',\n       'donation', 'governance', 'popular', 'security', 'cart', 'read',\n       'size', 'parent', 'custom', 'together', 'debug', 'become',\n       'associate', 'sioc', 'heart', 'emergency', 'build', 'park',\n       'provider', 'official', 'activity', 'local', 'focus', 'notice',\n       'graduate', 'unavailable', 'east', 'text', 'funding', 'faq',\n       'color', 'create', 'innovative', 'undergraduate', 'key',\n       'australia', 'index', 'changed', 'removed', 'manufacturing', 'lab',\n       'code', 'discovery', 'register', 'standard', 'california', 'full',\n       'prefix', 'texas', 'condition', 'law', 'temporarily', 'logo',\n       'shop', 'agency', 'royal', 'utility', 'initiative',\n       'communication', 'sustainability', 'expertise', 'protection',\n       'living', 'secondary', 'western', 'success', 'european', 'let',\n       'provide', 'window', 'ministry', 'schedule', 'part', 'hook',\n       'discover', 'option', 'twitter', 'excellence', 'client',\n       'collection', 'consulting', 'strategic', 'alliance', 'british',\n       'africa', 'detail', 'using', 'practice', 'house', 'device',\n       'climate', 'organisation', 'php', 'every', 'module', 'valley',\n       'culture', 'specialty', 'production', 'specialist', 'challenge',\n       'place', 'case', 'youth', 'february', 'str', 'administration',\n       'approach', 'level', 'mental', 'tech', 'phone', 'guide', 'insight',\n       'alert', 'giving', 'check', 'knowledge', 'san', 'something',\n       'profile', 'connected', 'gallery', 'cost', 'setting', 'industrial',\n       'scholarship', 'download', 'laser', 'private', 'domain', 'issue',\n       'gift', 'relation', 'show', 'step', 'volunteer', 'animal',\n       'justice', 'range', 'function', 'catalog', 'additional', 'equity',\n       'background', 'marine', 'feature', 'involved', 'useful', 'improve',\n       'pharma', 'number', 'great', 'tour', 'natural', 'canadian',\n       'adobe', 'making', 'virtual', 'commission', 'integrated', 'london',\n       'risk', 'well', 'diversity', 'sport', 'john', 'model',\n       'institution', 'eastern', 'australian', 'url', 'footer', 'unit',\n       'position', 'educational', 'live', 'vaccine', 'early', 'fact',\n       'registration', 'google', 'announcement', 'image', 'brand',\n       'oncology', 'florida', 'washington', 'foaf', 'component', 'usa',\n       'skos', 'employee', 'ireland', 'good', 'brain', 'possible',\n       'border', 'institut', 'review', 'conservation', 'advisory',\n       'federal', 'chicago', 'higher', 'physician', 'supporting', 'purl',\n       'historical', 'pacific', 'hope', 'special', 'powered', 'analytics',\n       'southern', 'air', 'goal', 'nav', 'llc', 'enable', 'sale',\n       'priority', 'insurance', 'planning', 'loading', 'applied',\n       'pipeline', 'adult', 'defence', 'since', 'difference', 'past',\n       'long', 'imaging', 'operation', 'europe', 'purpose', 'und',\n       'equipment', 'memorial', 'monitoring', 'source', 'browse',\n       'generation', 'master', 'inclusion', 'economic', 'turn',\n       'response', 'personal', 'film', 'length', 'smart', 'northern',\n       'cause', 'limited', 'plant', 'structparents', 'order', 'common',\n       'pro', 'lake', 'visiting', 'land', 'real', 'item', 'healthy',\n       'heritage', 'principal', 'ready', 'collaboration', 'prevention',\n       'cloud', 'return', 'employment', 'sector', 'chemical', 'svg',\n       'accreditation', 'around', 'password', 'die', 'assistance', 'also',\n       'humanity', 'sensor', 'dwt', 'agriculture', 'construction',\n       'feedback', 'worldwide', 'saint', 'frequently', 'active',\n       'problem', 'following', 'asked', 'keep', 'spring', 'pay',\n       'trustee', 'gmbh', 'young', 'series', 'island', 'submit', 'store',\n       'officer', 'legal', 'flatedecode', 'look', 'individual', 'buy',\n       'instancebegin', 'guideline', 'codeoutsidehtmlislocked', 'updated',\n       'subtype', 'matter', 'headquarters', 'black', 'box', 'extgstate',\n       'mailing', 'forum', 'division', 'block', 'teaching', 'charity',\n       'direction', 'friend', 'across', 'gas', 'union', 'receive',\n       'major', 'structure', 'set', 'christian', 'wrong', 'would',\n       'housing', 'assessment', 'bank', 'paper', 'journal', 'investment',\n       'consumer', 'advocacy', 'river', 'created', 'height', 'portfolio',\n       'made', 'started', 'small', 'march', 'carolina', 'capability',\n       'farm', 'safe', 'save', 'highlight', 'forest', 'indian',\n       'researcher', 'interested', 'ohio', 'idea', 'bioscience', 'supply',\n       'breast', 'disability', 'nature', 'enterprise', 'disorder',\n       'machine', 'certificate', 'tag', 'moved', 'fellowship', 'kid',\n       'biology', 'interest', 'illinois', 'seminary', 'growth',\n       'creating', 'blood', 'max', 'room', 'nutrition', 'app', 'road',\n       'body', 'reference', 'legacy', 'cape', 'voice', 'independent',\n       'bio', 'internet', 'drive', 'display', 'commercial', 'journey',\n       'fast', 'music', 'low', 'talk', 'improving', 'wildlife', 'sea',\n       'include', 'commitment', 'pediatric', 'virginia', 'padding',\n       'founder', 'hub', 'precision', 'helping', 'act', 'exhibition',\n       'finance', 'zum', 'infrastructure', 'dynamic', 'required',\n       'record', 'hit', 'fee', 'width', 'margin', 'introduction',\n       'creative', 'newsroom', 'boston', 'pain', 'donor', 'sure',\n       'consortium', 'crisis', 'computer', 'reach', 'delivery',\n       'intelligence', 'street', 'hill', 'der', 'left', 'processing',\n       'bay', 'advancing', 'status', 'longer', 'schema', 'sitemap',\n       'structelem', 'edge', 'bar', 'providing', 'african',\n       'presentation', 'simulation', 'coating', 'capital', 'garden',\n       'engagement', 'love', 'developing', 'authority', 'xref', 'self',\n       'teacher', 'workshop', 'automotive', 'property', 'payment', 'nbsp',\n       'electronics', 'supplier', 'solar', 'skill', 'nursing', 'contenu',\n       'var', 'stem', 'senior', 'dedicated', 'sponsor', 'light', 'big',\n       'manage', 'including', 'club', 'greater', 'ocean', 'requirement',\n       'georgia', 'thank', 'hand', 'los', 'bill', 'choice',\n       'certification', 'recovery', 'instrument', 'thing', 'nonstruct',\n       'card', 'transform', 'changing', 'campaign', 'opening', 'went',\n       'outcome', 'green', 'forward', 'getting', 'marketing', 'accept',\n       'helpful', 'loaded', 'aller', 'nation', 'wellness', 'evaluation',\n       'esc', 'informed', 'potential', 'lead', 'used', 'complete',\n       'diabetes', 'automation', 'continue', 'optical', 'feed', 'men',\n       'two', 'transfer', 'understanding', 'fri', 'ceo', 'behavioral',\n       'aerospace', 'rotate', 'provides', 'connection', 'para', 'serve',\n       'nsf', 'asia', 'framework', 'internal', 'earth', 'bim', 'session',\n       'license', 'mountain', 'transition', 'procedure', 'transport',\n       'diagnostics', 'phd', 'physical', 'advantage', 'chief',\n       'pagination', 'price', 'chinese', 'comprehensive', 'recherche',\n       'colorado', 'advice', 'survey', 'cultural', 'carbon', 'wisconsin',\n       'mary', 'michigan', 'come', 'method', 'pagina', 'cure', 'flow',\n       'advance', 'progress', 'blue', 'wordpress', 'sie', 'added',\n       'ticket', 'consultant', 'basic', 'tomorrow', 'near', 'beyond',\n       'plc', 'tax', 'engineer', 'specific', 'biotechnology', 'molecular',\n       'vehicle', 'gina', 'fishery', 'consent', 'bachelor', 'critical',\n       'historic', 'game', 'frameset', 'point', 'phase', 'button',\n       'committed', 'scientist', 'effective', 'inhalt', 'accessible',\n       'fellow', 'designed', 'alaska', 'physic', 'object', 'complex',\n       'agricultural', 'unique', 'scotland', 'million', 'without', 'seem',\n       'plastic', 'summer', 'many', 'kit', 'biomedical', 'universit',\n       'inquiry', 'single', 'dermatology', 'responsibility', 'detection',\n       'develop', 'military', 'coalition'], dtype='<U23')"
     },
     "execution_count": 17,
     "metadata": {},
     "output_type": "execute_result"
    }
   ],
   "source": [
    "import numpy as np\n",
    "import tensorflow as tf\n",
    "\n",
    "# Create the layer\n",
    "vectorize_layer = tf.keras.layers.TextVectorization(\n",
    "    max_tokens=1000,\n",
    "    output_mode='int',\n",
    "    output_sequence_length=1000\n",
    ")\n",
    "vectorize_layer.adapt(np.array(df['value']).flatten())\n",
    "\n",
    "vocab = np.array(vectorize_layer.get_vocabulary())\n",
    "vocab[:1000]"
   ],
   "metadata": {
    "collapsed": false
   }
  },
  {
   "cell_type": "code",
   "execution_count": 18,
   "outputs": [],
   "source": [
    "df.to_csv(\"dataset_lemmatized.csv\", index=False)"
   ],
   "metadata": {
    "collapsed": false
   }
  },
  {
   "cell_type": "code",
   "execution_count": 59,
   "outputs": [],
   "source": [
    "# # Removing rows, where 'value' is nan\n",
    "# print(df['value'].isna().sum())\n",
    "# print(df.shape)\n",
    "#\n",
    "# df = df[df['value'].notna()]\n",
    "#\n",
    "# print(df['value'].isna().sum())\n",
    "# print(df.shape)"
   ],
   "metadata": {
    "collapsed": false
   }
  },
  {
   "cell_type": "code",
   "execution_count": 60,
   "outputs": [],
   "source": [
    "# # Remove empty rows\n",
    "# print(df['value'].isna().sum())\n",
    "# print(df.shape)\n",
    "#\n",
    "# df = df[df['value'] != \"\"]\n",
    "#\n",
    "# print(df['value'].isna().sum())\n",
    "# print(df.shape)"
   ],
   "metadata": {
    "collapsed": false
   }
  },
  {
   "cell_type": "code",
   "execution_count": 61,
   "outputs": [],
   "source": [
    "# # Removing rows where language is not English\n",
    "# def language_detection(text, method = \"single\"):\n",
    "#     try:\n",
    "#         result = detect_langs(text) if method.lower() != \"single\" else detect(text)\n",
    "#         return int(result == \"en\")\n",
    "#     except:\n",
    "#         print(text)\n",
    "#         return 0\n",
    "#\n",
    "# DetectorFactory.seed = 0\n",
    "# print(language_detection(\"Hello there, what a lovely evening!\"))\n",
    "# # df = df[df['value'].apply(language_detection)]\n",
    "# df['lang_eng'] = df['value'].apply(language_detection)\n",
    "# print(df.shape)"
   ],
   "metadata": {
    "collapsed": false
   }
  },
  {
   "cell_type": "code",
   "execution_count": 62,
   "outputs": [],
   "source": [
    "# df.head()"
   ],
   "metadata": {
    "collapsed": false
   }
  },
  {
   "cell_type": "code",
   "execution_count": 63,
   "outputs": [],
   "source": [
    "# df['lang_eng'].value_counts()"
   ],
   "metadata": {
    "collapsed": false
   }
  },
  {
   "cell_type": "code",
   "execution_count": 64,
   "outputs": [],
   "source": [
    "# df2 = df.drop('value', axis=1)"
   ],
   "metadata": {
    "collapsed": false
   }
  },
  {
   "cell_type": "code",
   "execution_count": 65,
   "outputs": [],
   "source": [
    "# df2.to_csv(\"dataset_unreachable_urls_filtered_with_lang_labels.csv\", index=False)"
   ],
   "metadata": {
    "collapsed": false
   }
  },
  {
   "cell_type": "code",
   "execution_count": 66,
   "outputs": [],
   "source": [
    "# from sklearn import model_selection\n",
    "#\n",
    "# Train_X, Test_X, Train_Y, Test_Y = model_selection.train_test_split(df['value'], df['type'], test_size=0.3)\n",
    "# from sklearn.preprocessing import LabelEncoder\n",
    "#\n",
    "# Encoder = LabelEncoder()\n",
    "# Train_Y = Encoder.fit_transform(Train_Y)\n",
    "# Test_Y = Encoder.fit_transform(Test_Y)\n",
    "# from sklearn.feature_extraction.text import TfidfVectorizer\n",
    "#\n",
    "# Tfidf_vect = TfidfVectorizer(max_features=5000)\n",
    "# Tfidf_vect.fit(df['value'])\n",
    "# Train_X_Tfidf = Tfidf_vect.transform(Train_X)\n",
    "# Test_X_Tfidf = Tfidf_vect.transform(Test_X)\n",
    "# print(Tfidf_vect.vocabulary_)"
   ],
   "metadata": {
    "collapsed": false
   }
  },
  {
   "cell_type": "code",
   "execution_count": 67,
   "outputs": [],
   "source": [
    "# df.shape\n",
    "# df.to_csv(\"dataset_final_stem.csv\")"
   ],
   "metadata": {
    "collapsed": false
   }
  }
 ],
 "metadata": {
  "kernelspec": {
   "display_name": "Python 3",
   "language": "python",
   "name": "python3"
  },
  "language_info": {
   "codemirror_mode": {
    "name": "ipython",
    "version": 2
   },
   "file_extension": ".py",
   "mimetype": "text/x-python",
   "name": "python",
   "nbconvert_exporter": "python",
   "pygments_lexer": "ipython2",
   "version": "2.7.6"
  }
 },
 "nbformat": 4,
 "nbformat_minor": 0
}
