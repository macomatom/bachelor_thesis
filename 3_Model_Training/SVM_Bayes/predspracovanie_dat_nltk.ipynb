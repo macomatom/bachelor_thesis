{
 "cells": [
  {
   "cell_type": "code",
   "execution_count": 1,
   "outputs": [],
   "source": [
    "import pandas as pd\n",
    "from langdetect import detect, detect_langs, DetectorFactory\n",
    "import re"
   ],
   "metadata": {
    "collapsed": false
   }
  },
  {
   "cell_type": "code",
   "execution_count": 2,
   "outputs": [],
   "source": [
    "# Znovu parsovat stranky a zistovat ci su znaky z anglickej abecedy. Ak nie, tak disregardnut celu stranku?\n",
    "\n",
    "# useful commands\n",
    "# df.apply(lambda x : x.....) - vykona funkciu pre cely stlpec po jednotlivych prvkoch\n",
    "# sentence to vec stanleyfok\n",
    "# tf-idf - ngram-frazy\n",
    "# page rank"
   ],
   "metadata": {
    "collapsed": false
   }
  },
  {
   "cell_type": "markdown",
   "source": [
    "# Filtering and preparing data"
   ],
   "metadata": {
    "collapsed": false
   }
  },
  {
   "cell_type": "code",
   "execution_count": 3,
   "outputs": [
    {
     "data": {
      "text/plain": "    index                                               name  \\\n0       0                     Australian National University   \n1       1                                  Monash University   \n2       2                           University of Queensland   \n3       3                               Macquarie University   \n4       4                                        UNSW Sydney   \n5       5                               Newcastle University   \n6       6                           University of Wollongong   \n7       7                            University of Melbourne   \n8       8                             University of Tasmania   \n9       9                             University of Adelaide   \n10     10                              James Cook University   \n11     11                                Flinders University   \n12     12                                    RMIT University   \n13     13                                La Trobe University   \n14     14                                Victoria University   \n15     15                          University of New England   \n16     16                                  Deakin University   \n17     17                                Griffith University   \n18     18                      Central Queensland University   \n19     19                      University of South Australia   \n20     20                 Swinburne University of Technology   \n21     21                                    Bond University   \n22     22                   University of the Sunshine Coast   \n23     23                           Charles Sturt University   \n24     24                             University of Canberra   \n25     25                              Federation University   \n26     26  Walter and Eliza Hall Institute of Medical Res...   \n27     27                          Charles Darwin University   \n28     28             Australian Institute of Marine Science   \n29     29                      Australian Antarctic Division   \n30     30                  University of Southern Queensland   \n31     31          QIMR Berghofer Medical Research Institute   \n32     33                                   Burnet Institute   \n33     34            Victor Chang Cardiac Research Institute   \n34     35              Murdoch Children's Research Institute   \n35     36                                     Mater Research   \n36     37          St Vincents Institute of Medical Research   \n37     38                       The Heart Research Institute   \n38     39        University Mental Health Research Institute   \n39     40  Australian Nuclear Science and Technology Orga...   \n40     41                          Naval Postgraduate School   \n41     42                       Rolls-Royce (United Kingdom)   \n42     43                                    CSL (Australia)   \n43     44                                BP (United Kingdom)   \n44     45                         Rio Tinto (United Kingdom)   \n45     46                                Department of Water   \n46     47                       BAE Systems (United Kingdom)   \n47     51            Defence Research and Development Canada   \n48     52                                Lions Eye Institute   \n49     53                              Mater Health Services   \n\n                                        link  \\\n0                     http://www.anu.edu.au/   \n1                     http://www.monash.edu/   \n2                      http://www.uq.edu.au/   \n3                          http://mq.edu.au/   \n4                   https://www.unsw.edu.au/   \n5                      http://www.ncl.ac.uk/   \n6          https://www.uow.edu.au/index.html   \n7                 http://www.unimelb.edu.au/   \n8                    http://www.utas.edu.au/   \n9                http://www.adelaide.edu.au/   \n10                    http://www.jcu.edu.au/   \n11               http://www.flinders.edu.au/   \n12                  https://www.rmit.edu.au/   \n13                http://www.latrobe.edu.au/   \n14                     http://www.vu.edu.au/   \n15                    http://www.une.edu.au/   \n16                 http://www.deakin.edu.au/   \n17               http://www.griffith.edu.au/   \n18                   https://www.cqu.edu.au/   \n19                 https://www.unisa.edu.au/   \n20              http://www.swinburne.edu.au/   \n21                       http://bond.edu.au/   \n22                    http://www.usc.edu.au/   \n23                    http://www.csu.edu.au/   \n24               http://www.canberra.edu.au/   \n25                https://federation.edu.au/   \n26                   http://www.wehi.edu.au/   \n27                    http://www.cdu.edu.au/   \n28                   http://www.aims.gov.au/   \n29             http://www.antarctica.gov.au/   \n30                    http://www.usq.edu.au/   \n31          http://www.qimrberghofer.edu.au/   \n32                 http://www.burnet.edu.au/   \n33            http://www.victorchang.edu.au/   \n34                  https://www.mcri.edu.au/   \n35             http://research.mater.org.au/   \n36                   https://www.svi.edu.au/   \n37                    http://www.hri.org.au/   \n38                    https://www.epipsi.gr/   \n39                  http://www.ansto.gov.au/   \n40                       http://www.nps.edu/   \n41              https://www.rolls-royce.com/   \n42                      https://www.csl.com/   \n43                        http://www.bp.com/   \n44                  http://www.riotinto.com/   \n45              https://www.water.wa.gov.au/   \n46                http://www.baesystems.com/   \n47  http://www.drdc-rddc.gc.ca/en/index.page   \n48                   https://www.lei.org.au/   \n49                  http://www.mater.org.au/   \n\n                                                value        type  \n0   ANU  Our COVID-19 pathway     b' html \\n [if l...   Education  \n1   Monash University - one of the top universitie...   Education  \n2   The University of Queensland \\n            Stu...   Education  \n3   \\n          \\n\\n            Macquarie Universi...   Education  \n4   UNSW Sydney | One of the best universities in ...   Education  \n5   The things we do here make a difference out th...   Education  \n6   Home - University of Wollongong \\xe2\\x80\\x93 U...   Education  \n7   The University of Melbourne, Australia - Austr...   Education  \n8   University of Tasmania | University of Tasmani...   Education  \n9   The University of Adelaide The University of A...   Education  \n10  Study at James Cook University in Queensland -...   Education  \n11  Flinders University - Adelaide, South Australi...   Education  \n12  RMIT University - RMIT University RMIT Univers...   Education  \n13  La Trobe University, Melbourne Victoria Austra...   Education  \n14  Victoria University, Australia VU home Study a...   Education  \n15  Home - University of New England (UNE) Home Fu...   Education  \n16  Home | Deakin Put Deakin first Courses by inte...   Education  \n17  Griffith University  Personalised for internat...   Education  \n18  CQUniversity   FIND A COURSE Human rights trai...   Education  \n19  UniSA - University of South Australia Universi...   Education  \n20  Swinburne University of Technology | Melbourne...   Education  \n21  Bond University | Gold Coast, Queensland, Aust...   Education  \n22  UniSC | University of the Sunshine Coast, Quee...   Education  \n23  Home - Charles Sturt University  Study Why Cha...   Education  \n24  \\n\\nUniversity of Canberra \\r\\n    University ...   Education  \n25  Federation University Australia - Federation U...   Education  \n26  WEHI | Walter and Eliza Hall Institute of Medi...   Nonprofit  \n27  Home | Charles Darwin University     \\n       ...   Education  \n28  The Australian Institute of Marine Science | A...    Facility  \n29  Australian Antarctic Program Keep in touch    ...  Government  \n30  University of Southern Queensland - University...   Education  \n31  Home - QIMR Berghofer  Help me support cancer ...    Facility  \n32  Burnet Institute  Support Us About COVID-19   ...   Nonprofit  \n33  Home of Heart Research | Fight Heart Disease -...   Nonprofit  \n34  Home - Murdoch Children\\'s Research Institute ...   Nonprofit  \n35   this website will overthrow your mind  Catch ...    Facility  \n36  SVI :: Welcome to SVI  Search MORE WAYS TO SUP...   Nonprofit  \n37  Heart Research Institute \\xe2\\x80\\xa2 Donate t...    Facility  \n38  \\xce\\x91\\xcf\\x81\\xcf\\x87\\xce\\xb9\\xce\\xba\\xce\\x...   Education  \n39  ANSTO | Science. Ingenuity. Sustainability   \\...  Government  \n40  Naval Postgraduate School - Naval Postgraduate...   Education  \n41  \\r\\n\\tRolls-Royce: Pioneering Cutting-Edge Tec...     Company  \n42  CSL is a global biotech leader. We have releas...     Company  \n43  Home  Reimagining energy \\n \\n                ...     Company  \n44  Rio Tinto | Global We produce materials essent...     Company  \n45  Home Home  Home page container QUICK LINKS The...  Government  \n46  Home | BAE Systems | International \\r\\n Search...     Company  \n47  Defence Research and Development Canada - Cana...  Government  \n48  Home - Lions Eye Institute  Better Vision    2...   Nonprofit  \n49  \\r\\n\\tHome - Mater\\r\\n  COVID-19 FAQs Importan...  Healthcare  ",
      "text/html": "<div>\n<style scoped>\n    .dataframe tbody tr th:only-of-type {\n        vertical-align: middle;\n    }\n\n    .dataframe tbody tr th {\n        vertical-align: top;\n    }\n\n    .dataframe thead th {\n        text-align: right;\n    }\n</style>\n<table border=\"1\" class=\"dataframe\">\n  <thead>\n    <tr style=\"text-align: right;\">\n      <th></th>\n      <th>index</th>\n      <th>name</th>\n      <th>link</th>\n      <th>value</th>\n      <th>type</th>\n    </tr>\n  </thead>\n  <tbody>\n    <tr>\n      <th>0</th>\n      <td>0</td>\n      <td>Australian National University</td>\n      <td>http://www.anu.edu.au/</td>\n      <td>ANU  Our COVID-19 pathway     b' html \\n [if l...</td>\n      <td>Education</td>\n    </tr>\n    <tr>\n      <th>1</th>\n      <td>1</td>\n      <td>Monash University</td>\n      <td>http://www.monash.edu/</td>\n      <td>Monash University - one of the top universitie...</td>\n      <td>Education</td>\n    </tr>\n    <tr>\n      <th>2</th>\n      <td>2</td>\n      <td>University of Queensland</td>\n      <td>http://www.uq.edu.au/</td>\n      <td>The University of Queensland \\n            Stu...</td>\n      <td>Education</td>\n    </tr>\n    <tr>\n      <th>3</th>\n      <td>3</td>\n      <td>Macquarie University</td>\n      <td>http://mq.edu.au/</td>\n      <td>\\n          \\n\\n            Macquarie Universi...</td>\n      <td>Education</td>\n    </tr>\n    <tr>\n      <th>4</th>\n      <td>4</td>\n      <td>UNSW Sydney</td>\n      <td>https://www.unsw.edu.au/</td>\n      <td>UNSW Sydney | One of the best universities in ...</td>\n      <td>Education</td>\n    </tr>\n    <tr>\n      <th>5</th>\n      <td>5</td>\n      <td>Newcastle University</td>\n      <td>http://www.ncl.ac.uk/</td>\n      <td>The things we do here make a difference out th...</td>\n      <td>Education</td>\n    </tr>\n    <tr>\n      <th>6</th>\n      <td>6</td>\n      <td>University of Wollongong</td>\n      <td>https://www.uow.edu.au/index.html</td>\n      <td>Home - University of Wollongong \\xe2\\x80\\x93 U...</td>\n      <td>Education</td>\n    </tr>\n    <tr>\n      <th>7</th>\n      <td>7</td>\n      <td>University of Melbourne</td>\n      <td>http://www.unimelb.edu.au/</td>\n      <td>The University of Melbourne, Australia - Austr...</td>\n      <td>Education</td>\n    </tr>\n    <tr>\n      <th>8</th>\n      <td>8</td>\n      <td>University of Tasmania</td>\n      <td>http://www.utas.edu.au/</td>\n      <td>University of Tasmania | University of Tasmani...</td>\n      <td>Education</td>\n    </tr>\n    <tr>\n      <th>9</th>\n      <td>9</td>\n      <td>University of Adelaide</td>\n      <td>http://www.adelaide.edu.au/</td>\n      <td>The University of Adelaide The University of A...</td>\n      <td>Education</td>\n    </tr>\n    <tr>\n      <th>10</th>\n      <td>10</td>\n      <td>James Cook University</td>\n      <td>http://www.jcu.edu.au/</td>\n      <td>Study at James Cook University in Queensland -...</td>\n      <td>Education</td>\n    </tr>\n    <tr>\n      <th>11</th>\n      <td>11</td>\n      <td>Flinders University</td>\n      <td>http://www.flinders.edu.au/</td>\n      <td>Flinders University - Adelaide, South Australi...</td>\n      <td>Education</td>\n    </tr>\n    <tr>\n      <th>12</th>\n      <td>12</td>\n      <td>RMIT University</td>\n      <td>https://www.rmit.edu.au/</td>\n      <td>RMIT University - RMIT University RMIT Univers...</td>\n      <td>Education</td>\n    </tr>\n    <tr>\n      <th>13</th>\n      <td>13</td>\n      <td>La Trobe University</td>\n      <td>http://www.latrobe.edu.au/</td>\n      <td>La Trobe University, Melbourne Victoria Austra...</td>\n      <td>Education</td>\n    </tr>\n    <tr>\n      <th>14</th>\n      <td>14</td>\n      <td>Victoria University</td>\n      <td>http://www.vu.edu.au/</td>\n      <td>Victoria University, Australia VU home Study a...</td>\n      <td>Education</td>\n    </tr>\n    <tr>\n      <th>15</th>\n      <td>15</td>\n      <td>University of New England</td>\n      <td>http://www.une.edu.au/</td>\n      <td>Home - University of New England (UNE) Home Fu...</td>\n      <td>Education</td>\n    </tr>\n    <tr>\n      <th>16</th>\n      <td>16</td>\n      <td>Deakin University</td>\n      <td>http://www.deakin.edu.au/</td>\n      <td>Home | Deakin Put Deakin first Courses by inte...</td>\n      <td>Education</td>\n    </tr>\n    <tr>\n      <th>17</th>\n      <td>17</td>\n      <td>Griffith University</td>\n      <td>http://www.griffith.edu.au/</td>\n      <td>Griffith University  Personalised for internat...</td>\n      <td>Education</td>\n    </tr>\n    <tr>\n      <th>18</th>\n      <td>18</td>\n      <td>Central Queensland University</td>\n      <td>https://www.cqu.edu.au/</td>\n      <td>CQUniversity   FIND A COURSE Human rights trai...</td>\n      <td>Education</td>\n    </tr>\n    <tr>\n      <th>19</th>\n      <td>19</td>\n      <td>University of South Australia</td>\n      <td>https://www.unisa.edu.au/</td>\n      <td>UniSA - University of South Australia Universi...</td>\n      <td>Education</td>\n    </tr>\n    <tr>\n      <th>20</th>\n      <td>20</td>\n      <td>Swinburne University of Technology</td>\n      <td>http://www.swinburne.edu.au/</td>\n      <td>Swinburne University of Technology | Melbourne...</td>\n      <td>Education</td>\n    </tr>\n    <tr>\n      <th>21</th>\n      <td>21</td>\n      <td>Bond University</td>\n      <td>http://bond.edu.au/</td>\n      <td>Bond University | Gold Coast, Queensland, Aust...</td>\n      <td>Education</td>\n    </tr>\n    <tr>\n      <th>22</th>\n      <td>22</td>\n      <td>University of the Sunshine Coast</td>\n      <td>http://www.usc.edu.au/</td>\n      <td>UniSC | University of the Sunshine Coast, Quee...</td>\n      <td>Education</td>\n    </tr>\n    <tr>\n      <th>23</th>\n      <td>23</td>\n      <td>Charles Sturt University</td>\n      <td>http://www.csu.edu.au/</td>\n      <td>Home - Charles Sturt University  Study Why Cha...</td>\n      <td>Education</td>\n    </tr>\n    <tr>\n      <th>24</th>\n      <td>24</td>\n      <td>University of Canberra</td>\n      <td>http://www.canberra.edu.au/</td>\n      <td>\\n\\nUniversity of Canberra \\r\\n    University ...</td>\n      <td>Education</td>\n    </tr>\n    <tr>\n      <th>25</th>\n      <td>25</td>\n      <td>Federation University</td>\n      <td>https://federation.edu.au/</td>\n      <td>Federation University Australia - Federation U...</td>\n      <td>Education</td>\n    </tr>\n    <tr>\n      <th>26</th>\n      <td>26</td>\n      <td>Walter and Eliza Hall Institute of Medical Res...</td>\n      <td>http://www.wehi.edu.au/</td>\n      <td>WEHI | Walter and Eliza Hall Institute of Medi...</td>\n      <td>Nonprofit</td>\n    </tr>\n    <tr>\n      <th>27</th>\n      <td>27</td>\n      <td>Charles Darwin University</td>\n      <td>http://www.cdu.edu.au/</td>\n      <td>Home | Charles Darwin University     \\n       ...</td>\n      <td>Education</td>\n    </tr>\n    <tr>\n      <th>28</th>\n      <td>28</td>\n      <td>Australian Institute of Marine Science</td>\n      <td>http://www.aims.gov.au/</td>\n      <td>The Australian Institute of Marine Science | A...</td>\n      <td>Facility</td>\n    </tr>\n    <tr>\n      <th>29</th>\n      <td>29</td>\n      <td>Australian Antarctic Division</td>\n      <td>http://www.antarctica.gov.au/</td>\n      <td>Australian Antarctic Program Keep in touch    ...</td>\n      <td>Government</td>\n    </tr>\n    <tr>\n      <th>30</th>\n      <td>30</td>\n      <td>University of Southern Queensland</td>\n      <td>http://www.usq.edu.au/</td>\n      <td>University of Southern Queensland - University...</td>\n      <td>Education</td>\n    </tr>\n    <tr>\n      <th>31</th>\n      <td>31</td>\n      <td>QIMR Berghofer Medical Research Institute</td>\n      <td>http://www.qimrberghofer.edu.au/</td>\n      <td>Home - QIMR Berghofer  Help me support cancer ...</td>\n      <td>Facility</td>\n    </tr>\n    <tr>\n      <th>32</th>\n      <td>33</td>\n      <td>Burnet Institute</td>\n      <td>http://www.burnet.edu.au/</td>\n      <td>Burnet Institute  Support Us About COVID-19   ...</td>\n      <td>Nonprofit</td>\n    </tr>\n    <tr>\n      <th>33</th>\n      <td>34</td>\n      <td>Victor Chang Cardiac Research Institute</td>\n      <td>http://www.victorchang.edu.au/</td>\n      <td>Home of Heart Research | Fight Heart Disease -...</td>\n      <td>Nonprofit</td>\n    </tr>\n    <tr>\n      <th>34</th>\n      <td>35</td>\n      <td>Murdoch Children's Research Institute</td>\n      <td>https://www.mcri.edu.au/</td>\n      <td>Home - Murdoch Children\\'s Research Institute ...</td>\n      <td>Nonprofit</td>\n    </tr>\n    <tr>\n      <th>35</th>\n      <td>36</td>\n      <td>Mater Research</td>\n      <td>http://research.mater.org.au/</td>\n      <td>this website will overthrow your mind  Catch ...</td>\n      <td>Facility</td>\n    </tr>\n    <tr>\n      <th>36</th>\n      <td>37</td>\n      <td>St Vincents Institute of Medical Research</td>\n      <td>https://www.svi.edu.au/</td>\n      <td>SVI :: Welcome to SVI  Search MORE WAYS TO SUP...</td>\n      <td>Nonprofit</td>\n    </tr>\n    <tr>\n      <th>37</th>\n      <td>38</td>\n      <td>The Heart Research Institute</td>\n      <td>http://www.hri.org.au/</td>\n      <td>Heart Research Institute \\xe2\\x80\\xa2 Donate t...</td>\n      <td>Facility</td>\n    </tr>\n    <tr>\n      <th>38</th>\n      <td>39</td>\n      <td>University Mental Health Research Institute</td>\n      <td>https://www.epipsi.gr/</td>\n      <td>\\xce\\x91\\xcf\\x81\\xcf\\x87\\xce\\xb9\\xce\\xba\\xce\\x...</td>\n      <td>Education</td>\n    </tr>\n    <tr>\n      <th>39</th>\n      <td>40</td>\n      <td>Australian Nuclear Science and Technology Orga...</td>\n      <td>http://www.ansto.gov.au/</td>\n      <td>ANSTO | Science. Ingenuity. Sustainability   \\...</td>\n      <td>Government</td>\n    </tr>\n    <tr>\n      <th>40</th>\n      <td>41</td>\n      <td>Naval Postgraduate School</td>\n      <td>http://www.nps.edu/</td>\n      <td>Naval Postgraduate School - Naval Postgraduate...</td>\n      <td>Education</td>\n    </tr>\n    <tr>\n      <th>41</th>\n      <td>42</td>\n      <td>Rolls-Royce (United Kingdom)</td>\n      <td>https://www.rolls-royce.com/</td>\n      <td>\\r\\n\\tRolls-Royce: Pioneering Cutting-Edge Tec...</td>\n      <td>Company</td>\n    </tr>\n    <tr>\n      <th>42</th>\n      <td>43</td>\n      <td>CSL (Australia)</td>\n      <td>https://www.csl.com/</td>\n      <td>CSL is a global biotech leader. We have releas...</td>\n      <td>Company</td>\n    </tr>\n    <tr>\n      <th>43</th>\n      <td>44</td>\n      <td>BP (United Kingdom)</td>\n      <td>http://www.bp.com/</td>\n      <td>Home  Reimagining energy \\n \\n                ...</td>\n      <td>Company</td>\n    </tr>\n    <tr>\n      <th>44</th>\n      <td>45</td>\n      <td>Rio Tinto (United Kingdom)</td>\n      <td>http://www.riotinto.com/</td>\n      <td>Rio Tinto | Global We produce materials essent...</td>\n      <td>Company</td>\n    </tr>\n    <tr>\n      <th>45</th>\n      <td>46</td>\n      <td>Department of Water</td>\n      <td>https://www.water.wa.gov.au/</td>\n      <td>Home Home  Home page container QUICK LINKS The...</td>\n      <td>Government</td>\n    </tr>\n    <tr>\n      <th>46</th>\n      <td>47</td>\n      <td>BAE Systems (United Kingdom)</td>\n      <td>http://www.baesystems.com/</td>\n      <td>Home | BAE Systems | International \\r\\n Search...</td>\n      <td>Company</td>\n    </tr>\n    <tr>\n      <th>47</th>\n      <td>51</td>\n      <td>Defence Research and Development Canada</td>\n      <td>http://www.drdc-rddc.gc.ca/en/index.page</td>\n      <td>Defence Research and Development Canada - Cana...</td>\n      <td>Government</td>\n    </tr>\n    <tr>\n      <th>48</th>\n      <td>52</td>\n      <td>Lions Eye Institute</td>\n      <td>https://www.lei.org.au/</td>\n      <td>Home - Lions Eye Institute  Better Vision    2...</td>\n      <td>Nonprofit</td>\n    </tr>\n    <tr>\n      <th>49</th>\n      <td>53</td>\n      <td>Mater Health Services</td>\n      <td>http://www.mater.org.au/</td>\n      <td>\\r\\n\\tHome - Mater\\r\\n  COVID-19 FAQs Importan...</td>\n      <td>Healthcare</td>\n    </tr>\n  </tbody>\n</table>\n</div>"
     },
     "execution_count": 3,
     "metadata": {},
     "output_type": "execute_result"
    }
   ],
   "source": [
    "# Dataset so zlucenymi hodnotami\n",
    "df = pd.read_csv(\"dataset_final_concat.csv\")\n",
    "# df = df.loc[df['type'].isin(['Education', 'Company'])]\n",
    "df.head(50)"
   ],
   "metadata": {
    "collapsed": false
   }
  },
  {
   "cell_type": "code",
   "execution_count": 4,
   "outputs": [
    {
     "data": {
      "text/plain": "   index                            name                      link  \\\n0      0  Australian National University    http://www.anu.edu.au/   \n1      1               Monash University    http://www.monash.edu/   \n2      2        University of Queensland     http://www.uq.edu.au/   \n3      3            Macquarie University         http://mq.edu.au/   \n4      4                     UNSW Sydney  https://www.unsw.edu.au/   \n\n                                               value       type  \n0  ANU  Our COVID-19 pathway     b' html  [if lt ...  Education  \n1  Monash University - one of the top universitie...  Education  \n2  The University of Queensland             Study...  Education  \n3                        Macquarie University | T...  Education  \n4  UNSW Sydney | One of the best universities in ...  Education  ",
      "text/html": "<div>\n<style scoped>\n    .dataframe tbody tr th:only-of-type {\n        vertical-align: middle;\n    }\n\n    .dataframe tbody tr th {\n        vertical-align: top;\n    }\n\n    .dataframe thead th {\n        text-align: right;\n    }\n</style>\n<table border=\"1\" class=\"dataframe\">\n  <thead>\n    <tr style=\"text-align: right;\">\n      <th></th>\n      <th>index</th>\n      <th>name</th>\n      <th>link</th>\n      <th>value</th>\n      <th>type</th>\n    </tr>\n  </thead>\n  <tbody>\n    <tr>\n      <th>0</th>\n      <td>0</td>\n      <td>Australian National University</td>\n      <td>http://www.anu.edu.au/</td>\n      <td>ANU  Our COVID-19 pathway     b' html  [if lt ...</td>\n      <td>Education</td>\n    </tr>\n    <tr>\n      <th>1</th>\n      <td>1</td>\n      <td>Monash University</td>\n      <td>http://www.monash.edu/</td>\n      <td>Monash University - one of the top universitie...</td>\n      <td>Education</td>\n    </tr>\n    <tr>\n      <th>2</th>\n      <td>2</td>\n      <td>University of Queensland</td>\n      <td>http://www.uq.edu.au/</td>\n      <td>The University of Queensland             Study...</td>\n      <td>Education</td>\n    </tr>\n    <tr>\n      <th>3</th>\n      <td>3</td>\n      <td>Macquarie University</td>\n      <td>http://mq.edu.au/</td>\n      <td>Macquarie University | T...</td>\n      <td>Education</td>\n    </tr>\n    <tr>\n      <th>4</th>\n      <td>4</td>\n      <td>UNSW Sydney</td>\n      <td>https://www.unsw.edu.au/</td>\n      <td>UNSW Sydney | One of the best universities in ...</td>\n      <td>Education</td>\n    </tr>\n  </tbody>\n</table>\n</div>"
     },
     "execution_count": 4,
     "metadata": {},
     "output_type": "execute_result"
    }
   ],
   "source": [
    "# Remove linebreaks (\\n) from strings\n",
    "df['value'] = df['value'].apply(lambda x: x.replace(\"\\\\n\", \"\"))\n",
    "df.head()"
   ],
   "metadata": {
    "collapsed": false
   }
  },
  {
   "cell_type": "code",
   "execution_count": 5,
   "outputs": [
    {
     "data": {
      "text/plain": "   index                            name                      link  \\\n0      0  Australian National University    http://www.anu.edu.au/   \n1      1               Monash University    http://www.monash.edu/   \n2      2        University of Queensland     http://www.uq.edu.au/   \n3      3            Macquarie University         http://mq.edu.au/   \n4      4                     UNSW Sydney  https://www.unsw.edu.au/   \n\n                                               value       type  \n0  ANU  Our COVID-19 pathway     b' html  [if lt ...  Education  \n1  Monash University - one of the top universitie...  Education  \n2  The University of Queensland             Study...  Education  \n3                        Macquarie University | T...  Education  \n4  UNSW Sydney | One of the best universities in ...  Education  ",
      "text/html": "<div>\n<style scoped>\n    .dataframe tbody tr th:only-of-type {\n        vertical-align: middle;\n    }\n\n    .dataframe tbody tr th {\n        vertical-align: top;\n    }\n\n    .dataframe thead th {\n        text-align: right;\n    }\n</style>\n<table border=\"1\" class=\"dataframe\">\n  <thead>\n    <tr style=\"text-align: right;\">\n      <th></th>\n      <th>index</th>\n      <th>name</th>\n      <th>link</th>\n      <th>value</th>\n      <th>type</th>\n    </tr>\n  </thead>\n  <tbody>\n    <tr>\n      <th>0</th>\n      <td>0</td>\n      <td>Australian National University</td>\n      <td>http://www.anu.edu.au/</td>\n      <td>ANU  Our COVID-19 pathway     b' html  [if lt ...</td>\n      <td>Education</td>\n    </tr>\n    <tr>\n      <th>1</th>\n      <td>1</td>\n      <td>Monash University</td>\n      <td>http://www.monash.edu/</td>\n      <td>Monash University - one of the top universitie...</td>\n      <td>Education</td>\n    </tr>\n    <tr>\n      <th>2</th>\n      <td>2</td>\n      <td>University of Queensland</td>\n      <td>http://www.uq.edu.au/</td>\n      <td>The University of Queensland             Study...</td>\n      <td>Education</td>\n    </tr>\n    <tr>\n      <th>3</th>\n      <td>3</td>\n      <td>Macquarie University</td>\n      <td>http://mq.edu.au/</td>\n      <td>Macquarie University | T...</td>\n      <td>Education</td>\n    </tr>\n    <tr>\n      <th>4</th>\n      <td>4</td>\n      <td>UNSW Sydney</td>\n      <td>https://www.unsw.edu.au/</td>\n      <td>UNSW Sydney | One of the best universities in ...</td>\n      <td>Education</td>\n    </tr>\n  </tbody>\n</table>\n</div>"
     },
     "execution_count": 5,
     "metadata": {},
     "output_type": "execute_result"
    }
   ],
   "source": [
    "# Remove everything between <>\n",
    "df['value'] = df['value'].apply(lambda x: re.sub(\"<.*?>\", \"\", x))\n",
    "df.head()"
   ],
   "metadata": {
    "collapsed": false
   }
  },
  {
   "cell_type": "code",
   "execution_count": 6,
   "outputs": [
    {
     "name": "stderr",
     "output_type": "stream",
     "text": [
      "[nltk_data] Downloading package punkt to\n",
      "[nltk_data]     C:\\Users\\Martin\\AppData\\Roaming\\nltk_data...\n",
      "[nltk_data]   Package punkt is already up-to-date!\n"
     ]
    },
    {
     "data": {
      "text/plain": "True"
     },
     "execution_count": 6,
     "metadata": {},
     "output_type": "execute_result"
    }
   ],
   "source": [
    "# Downloading punkt to resolve errors\n",
    "import nltk\n",
    "nltk.download('punkt')"
   ],
   "metadata": {
    "collapsed": false
   }
  },
  {
   "cell_type": "code",
   "execution_count": 7,
   "outputs": [
    {
     "data": {
      "text/plain": "    index                                   name  \\\n0       0         Australian National University   \n1       1                      Monash University   \n2       2               University of Queensland   \n3       3                   Macquarie University   \n4       4                            UNSW Sydney   \n..    ...                                    ...   \n95    108  European Molecular Biology Laboratory   \n96    109           PSA Peugeot Citroën (France)   \n97    110           London South Bank University   \n98    111  Physikalisch-Technische Bundesanstalt   \n99    112             Queen's University Belfast   \n\n                                     link  \\\n0                  http://www.anu.edu.au/   \n1                  http://www.monash.edu/   \n2                   http://www.uq.edu.au/   \n3                       http://mq.edu.au/   \n4                https://www.unsw.edu.au/   \n..                                    ...   \n95                       http://embl.org/   \n96  http://www.psa-peugeot-citroen.com/en   \n97                 http://www.lsbu.ac.uk/   \n98                https://www.ptb.de/cms/   \n99                  http://www.qub.ac.uk/   \n\n                                                value        type  \n0   ANU Our COVID-19 pathway b' html [if lt IE 7 ]...   Education  \n1   Monash University - one of the top universitie...   Education  \n2   The University of Queensland Study at UQ Find ...   Education  \n3   Macquarie University | Tertiary Education Macq...   Education  \n4   UNSW Sydney | One of the best universities in ...   Education  \n..                                                ...         ...  \n95  European Molecular Biology Laboratory | b' htm...  Government  \n96  Official Global Website | Stellantis Menu Stel...     Company  \n97  London South Bank University | London South Ba...   Education  \n98  Physikalisch-Technische Bundesanstalt Die PTB ...    Facility  \n99  Queen\\'s University Belfast: Shaping a Better ...   Education  \n\n[100 rows x 5 columns]",
      "text/html": "<div>\n<style scoped>\n    .dataframe tbody tr th:only-of-type {\n        vertical-align: middle;\n    }\n\n    .dataframe tbody tr th {\n        vertical-align: top;\n    }\n\n    .dataframe thead th {\n        text-align: right;\n    }\n</style>\n<table border=\"1\" class=\"dataframe\">\n  <thead>\n    <tr style=\"text-align: right;\">\n      <th></th>\n      <th>index</th>\n      <th>name</th>\n      <th>link</th>\n      <th>value</th>\n      <th>type</th>\n    </tr>\n  </thead>\n  <tbody>\n    <tr>\n      <th>0</th>\n      <td>0</td>\n      <td>Australian National University</td>\n      <td>http://www.anu.edu.au/</td>\n      <td>ANU Our COVID-19 pathway b' html [if lt IE 7 ]...</td>\n      <td>Education</td>\n    </tr>\n    <tr>\n      <th>1</th>\n      <td>1</td>\n      <td>Monash University</td>\n      <td>http://www.monash.edu/</td>\n      <td>Monash University - one of the top universitie...</td>\n      <td>Education</td>\n    </tr>\n    <tr>\n      <th>2</th>\n      <td>2</td>\n      <td>University of Queensland</td>\n      <td>http://www.uq.edu.au/</td>\n      <td>The University of Queensland Study at UQ Find ...</td>\n      <td>Education</td>\n    </tr>\n    <tr>\n      <th>3</th>\n      <td>3</td>\n      <td>Macquarie University</td>\n      <td>http://mq.edu.au/</td>\n      <td>Macquarie University | Tertiary Education Macq...</td>\n      <td>Education</td>\n    </tr>\n    <tr>\n      <th>4</th>\n      <td>4</td>\n      <td>UNSW Sydney</td>\n      <td>https://www.unsw.edu.au/</td>\n      <td>UNSW Sydney | One of the best universities in ...</td>\n      <td>Education</td>\n    </tr>\n    <tr>\n      <th>...</th>\n      <td>...</td>\n      <td>...</td>\n      <td>...</td>\n      <td>...</td>\n      <td>...</td>\n    </tr>\n    <tr>\n      <th>95</th>\n      <td>108</td>\n      <td>European Molecular Biology Laboratory</td>\n      <td>http://embl.org/</td>\n      <td>European Molecular Biology Laboratory | b' htm...</td>\n      <td>Government</td>\n    </tr>\n    <tr>\n      <th>96</th>\n      <td>109</td>\n      <td>PSA Peugeot Citroën (France)</td>\n      <td>http://www.psa-peugeot-citroen.com/en</td>\n      <td>Official Global Website | Stellantis Menu Stel...</td>\n      <td>Company</td>\n    </tr>\n    <tr>\n      <th>97</th>\n      <td>110</td>\n      <td>London South Bank University</td>\n      <td>http://www.lsbu.ac.uk/</td>\n      <td>London South Bank University | London South Ba...</td>\n      <td>Education</td>\n    </tr>\n    <tr>\n      <th>98</th>\n      <td>111</td>\n      <td>Physikalisch-Technische Bundesanstalt</td>\n      <td>https://www.ptb.de/cms/</td>\n      <td>Physikalisch-Technische Bundesanstalt Die PTB ...</td>\n      <td>Facility</td>\n    </tr>\n    <tr>\n      <th>99</th>\n      <td>112</td>\n      <td>Queen's University Belfast</td>\n      <td>http://www.qub.ac.uk/</td>\n      <td>Queen\\'s University Belfast: Shaping a Better ...</td>\n      <td>Education</td>\n    </tr>\n  </tbody>\n</table>\n<p>100 rows × 5 columns</p>\n</div>"
     },
     "execution_count": 7,
     "metadata": {},
     "output_type": "execute_result"
    }
   ],
   "source": [
    "# Remove URL links\n",
    "# URL patter with protocol\n",
    "url_pattern1 = \"^\\\"?https?:\\\\/\\\\/(?:www\\\\.)?[-a-zA-Z0-9@:%._\\\\+~#=]{1,256}\\\\.[a-zA-Z0-9()]{1,6}\\\\b(?:[-a-zA-Z0-9()@:%_\\\\+.~#?&\\\\/=]*)\\\"?$\"\n",
    "# URL patter without protocol\n",
    "url_pattern2 = \"^[-a-zA-Z0-9@:%._\\\\+~#=]{1,256}\\\\.[a-zA-Z0-9()]{1,6}\\\\b(?:[-a-zA-Z0-9()@:%_\\\\+.~#?&\\\\/=]*)$\"\n",
    "\n",
    "df['value'] = df['value'].apply(lambda x: \" \".join([w for w in x.split() if not (re.match(url_pattern1, w) or re.match(url_pattern2, w))]))\n",
    "df.head(100)"
   ],
   "metadata": {
    "collapsed": false
   }
  },
  {
   "cell_type": "code",
   "execution_count": 8,
   "outputs": [
    {
     "data": {
      "text/plain": "   index                            name                      link  \\\n0      0  Australian National University    http://www.anu.edu.au/   \n1      1               Monash University    http://www.monash.edu/   \n2      2        University of Queensland     http://www.uq.edu.au/   \n3      3            Macquarie University         http://mq.edu.au/   \n4      4                     UNSW Sydney  https://www.unsw.edu.au/   \n\n                                               value       type  \n0  ANU Our COVID19 pathway b html if lt IE 7  end...  Education  \n1  Monash University  one of the top universities...  Education  \n2  The University of Queensland Study at UQ Find ...  Education  \n3  Macquarie University  Tertiary Education Macqu...  Education  \n4  UNSW Sydney  One of the best universities in A...  Education  ",
      "text/html": "<div>\n<style scoped>\n    .dataframe tbody tr th:only-of-type {\n        vertical-align: middle;\n    }\n\n    .dataframe tbody tr th {\n        vertical-align: top;\n    }\n\n    .dataframe thead th {\n        text-align: right;\n    }\n</style>\n<table border=\"1\" class=\"dataframe\">\n  <thead>\n    <tr style=\"text-align: right;\">\n      <th></th>\n      <th>index</th>\n      <th>name</th>\n      <th>link</th>\n      <th>value</th>\n      <th>type</th>\n    </tr>\n  </thead>\n  <tbody>\n    <tr>\n      <th>0</th>\n      <td>0</td>\n      <td>Australian National University</td>\n      <td>http://www.anu.edu.au/</td>\n      <td>ANU Our COVID19 pathway b html if lt IE 7  end...</td>\n      <td>Education</td>\n    </tr>\n    <tr>\n      <th>1</th>\n      <td>1</td>\n      <td>Monash University</td>\n      <td>http://www.monash.edu/</td>\n      <td>Monash University  one of the top universities...</td>\n      <td>Education</td>\n    </tr>\n    <tr>\n      <th>2</th>\n      <td>2</td>\n      <td>University of Queensland</td>\n      <td>http://www.uq.edu.au/</td>\n      <td>The University of Queensland Study at UQ Find ...</td>\n      <td>Education</td>\n    </tr>\n    <tr>\n      <th>3</th>\n      <td>3</td>\n      <td>Macquarie University</td>\n      <td>http://mq.edu.au/</td>\n      <td>Macquarie University  Tertiary Education Macqu...</td>\n      <td>Education</td>\n    </tr>\n    <tr>\n      <th>4</th>\n      <td>4</td>\n      <td>UNSW Sydney</td>\n      <td>https://www.unsw.edu.au/</td>\n      <td>UNSW Sydney  One of the best universities in A...</td>\n      <td>Education</td>\n    </tr>\n  </tbody>\n</table>\n</div>"
     },
     "execution_count": 8,
     "metadata": {},
     "output_type": "execute_result"
    }
   ],
   "source": [
    "# Remove special characters with regex\n",
    "df['value'] = df['value'].apply(lambda x: re.sub(r'[^A-Za-z0-9 ]+', '', str(x)))\n",
    "df.head()"
   ],
   "metadata": {
    "collapsed": false
   }
  },
  {
   "cell_type": "code",
   "execution_count": 9,
   "outputs": [
    {
     "data": {
      "text/plain": "    index                                               name  \\\n0       0                     Australian National University   \n1       1                                  Monash University   \n2       2                           University of Queensland   \n3       3                               Macquarie University   \n4       4                                        UNSW Sydney   \n5       5                               Newcastle University   \n6       6                           University of Wollongong   \n7       7                            University of Melbourne   \n8       8                             University of Tasmania   \n9       9                             University of Adelaide   \n10     10                              James Cook University   \n11     11                                Flinders University   \n12     12                                    RMIT University   \n13     13                                La Trobe University   \n14     14                                Victoria University   \n15     15                          University of New England   \n16     16                                  Deakin University   \n17     17                                Griffith University   \n18     18                      Central Queensland University   \n19     19                      University of South Australia   \n20     20                 Swinburne University of Technology   \n21     21                                    Bond University   \n22     22                   University of the Sunshine Coast   \n23     23                           Charles Sturt University   \n24     24                             University of Canberra   \n25     25                              Federation University   \n26     26  Walter and Eliza Hall Institute of Medical Res...   \n27     27                          Charles Darwin University   \n28     28             Australian Institute of Marine Science   \n29     29                      Australian Antarctic Division   \n30     30                  University of Southern Queensland   \n31     31          QIMR Berghofer Medical Research Institute   \n32     33                                   Burnet Institute   \n33     34            Victor Chang Cardiac Research Institute   \n34     35              Murdoch Children's Research Institute   \n35     36                                     Mater Research   \n36     37          St Vincents Institute of Medical Research   \n37     38                       The Heart Research Institute   \n38     39        University Mental Health Research Institute   \n39     40  Australian Nuclear Science and Technology Orga...   \n40     41                          Naval Postgraduate School   \n41     42                       Rolls-Royce (United Kingdom)   \n42     43                                    CSL (Australia)   \n43     44                                BP (United Kingdom)   \n44     45                         Rio Tinto (United Kingdom)   \n45     46                                Department of Water   \n46     47                       BAE Systems (United Kingdom)   \n47     51            Defence Research and Development Canada   \n48     52                                Lions Eye Institute   \n49     53                              Mater Health Services   \n\n                                        link  \\\n0                     http://www.anu.edu.au/   \n1                     http://www.monash.edu/   \n2                      http://www.uq.edu.au/   \n3                          http://mq.edu.au/   \n4                   https://www.unsw.edu.au/   \n5                      http://www.ncl.ac.uk/   \n6          https://www.uow.edu.au/index.html   \n7                 http://www.unimelb.edu.au/   \n8                    http://www.utas.edu.au/   \n9                http://www.adelaide.edu.au/   \n10                    http://www.jcu.edu.au/   \n11               http://www.flinders.edu.au/   \n12                  https://www.rmit.edu.au/   \n13                http://www.latrobe.edu.au/   \n14                     http://www.vu.edu.au/   \n15                    http://www.une.edu.au/   \n16                 http://www.deakin.edu.au/   \n17               http://www.griffith.edu.au/   \n18                   https://www.cqu.edu.au/   \n19                 https://www.unisa.edu.au/   \n20              http://www.swinburne.edu.au/   \n21                       http://bond.edu.au/   \n22                    http://www.usc.edu.au/   \n23                    http://www.csu.edu.au/   \n24               http://www.canberra.edu.au/   \n25                https://federation.edu.au/   \n26                   http://www.wehi.edu.au/   \n27                    http://www.cdu.edu.au/   \n28                   http://www.aims.gov.au/   \n29             http://www.antarctica.gov.au/   \n30                    http://www.usq.edu.au/   \n31          http://www.qimrberghofer.edu.au/   \n32                 http://www.burnet.edu.au/   \n33            http://www.victorchang.edu.au/   \n34                  https://www.mcri.edu.au/   \n35             http://research.mater.org.au/   \n36                   https://www.svi.edu.au/   \n37                    http://www.hri.org.au/   \n38                    https://www.epipsi.gr/   \n39                  http://www.ansto.gov.au/   \n40                       http://www.nps.edu/   \n41              https://www.rolls-royce.com/   \n42                      https://www.csl.com/   \n43                        http://www.bp.com/   \n44                  http://www.riotinto.com/   \n45              https://www.water.wa.gov.au/   \n46                http://www.baesystems.com/   \n47  http://www.drdc-rddc.gc.ca/en/index.page   \n48                   https://www.lei.org.au/   \n49                  http://www.mater.org.au/   \n\n                                                value        type  \n0   anu our covid19 pathway html endif skip naviga...   Education  \n1   monash university one the top universities aus...   Education  \n2   the university queensland study find degree st...   Education  \n3   macquarie university tertiary education macqua...   Education  \n4   unsw sydney one the best universities australi...   Education  \n5   the things here make difference out there newc...   Education  \n6   home university wollongong xe2x80x93 uow study...   Education  \n7   the university melbourne australia australias ...   Education  \n8   university tasmania university tasmania browse...   Education  \n9   the university adelaide the university adelaid...   Education  \n10  study james cook university queensland jcu aus...   Education  \n11  flinders university adelaide south australia f...   Education  \n12  rmit university rmit university rmit universit...   Education  \n13  trobe university melbourne victoria australia ...   Education  \n14  victoria university australia home study searc...   Education  \n15  home university new england une home future fi...   Education  \n16  home deakin put deakin first courses interest ...   Education  \n17  griffith university personalised for internati...   Education  \n18  cquniversity find course human rights trailbla...   Education  \n19  unisa university south australia university so...   Education  \n20  swinburne university technology melbourne aust...   Education  \n21  bond university gold coast queensland australi...   Education  \n22  unisc university the sunshine coast queensland...   Education  \n23  home charles sturt university study why charle...   Education  \n24  university canberra university canberrar canbe...   Education  \n25  federation university australia federation uni...   Education  \n26  wehi walter and eliza hall institute medical r...   Nonprofit  \n27  home charles darwin university semester 2023 a...   Education  \n28  the australian institute marine science aims a...    Facility  \n29  australian antarctic program keep touch html s...  Government  \n30  university southern queensland university sout...   Education  \n31  home qimr berghofer help support cancer resear...    Facility  \n32  burnet institute support about covid19 html 7e...   Nonprofit  \n33  home heart research fight heart disease victor...   Nonprofit  \n34  home murdoch childrens research institute worl...   Nonprofit  \n35  this website will overthrow your mind catch ht...    Facility  \n36  svi welcome svi search more ways support svis ...   Nonprofit  \n37  heart research institute xe2x80xa2 donate hear...    Facility  \n38  xcex91xcfx81xcfx87xcexb9xcexbaxcexae xcex95xce...   Education  \n39  ansto science ingenuity sustainability html sk...  Government  \n40  naval postgraduate school naval postgraduate s...   Education  \n41  rtrollsroyce pioneering cuttingedge technologi...     Company  \n42  csl global biotech leader have released our 20...     Company  \n43  home reimagining energy navigating net zero fi...     Company  \n44  rio tinto global produce materials essential h...     Company  \n45  home home home page container quick links the ...  Government  \n46  home bae systems international search rttttttt...     Company  \n47  defence research and development canada defenc...  Government  \n48  home lions eye institute better vision septemb...   Nonprofit  \n49  rthome materr covid19 faqs important covid upd...  Healthcare  ",
      "text/html": "<div>\n<style scoped>\n    .dataframe tbody tr th:only-of-type {\n        vertical-align: middle;\n    }\n\n    .dataframe tbody tr th {\n        vertical-align: top;\n    }\n\n    .dataframe thead th {\n        text-align: right;\n    }\n</style>\n<table border=\"1\" class=\"dataframe\">\n  <thead>\n    <tr style=\"text-align: right;\">\n      <th></th>\n      <th>index</th>\n      <th>name</th>\n      <th>link</th>\n      <th>value</th>\n      <th>type</th>\n    </tr>\n  </thead>\n  <tbody>\n    <tr>\n      <th>0</th>\n      <td>0</td>\n      <td>Australian National University</td>\n      <td>http://www.anu.edu.au/</td>\n      <td>anu our covid19 pathway html endif skip naviga...</td>\n      <td>Education</td>\n    </tr>\n    <tr>\n      <th>1</th>\n      <td>1</td>\n      <td>Monash University</td>\n      <td>http://www.monash.edu/</td>\n      <td>monash university one the top universities aus...</td>\n      <td>Education</td>\n    </tr>\n    <tr>\n      <th>2</th>\n      <td>2</td>\n      <td>University of Queensland</td>\n      <td>http://www.uq.edu.au/</td>\n      <td>the university queensland study find degree st...</td>\n      <td>Education</td>\n    </tr>\n    <tr>\n      <th>3</th>\n      <td>3</td>\n      <td>Macquarie University</td>\n      <td>http://mq.edu.au/</td>\n      <td>macquarie university tertiary education macqua...</td>\n      <td>Education</td>\n    </tr>\n    <tr>\n      <th>4</th>\n      <td>4</td>\n      <td>UNSW Sydney</td>\n      <td>https://www.unsw.edu.au/</td>\n      <td>unsw sydney one the best universities australi...</td>\n      <td>Education</td>\n    </tr>\n    <tr>\n      <th>5</th>\n      <td>5</td>\n      <td>Newcastle University</td>\n      <td>http://www.ncl.ac.uk/</td>\n      <td>the things here make difference out there newc...</td>\n      <td>Education</td>\n    </tr>\n    <tr>\n      <th>6</th>\n      <td>6</td>\n      <td>University of Wollongong</td>\n      <td>https://www.uow.edu.au/index.html</td>\n      <td>home university wollongong xe2x80x93 uow study...</td>\n      <td>Education</td>\n    </tr>\n    <tr>\n      <th>7</th>\n      <td>7</td>\n      <td>University of Melbourne</td>\n      <td>http://www.unimelb.edu.au/</td>\n      <td>the university melbourne australia australias ...</td>\n      <td>Education</td>\n    </tr>\n    <tr>\n      <th>8</th>\n      <td>8</td>\n      <td>University of Tasmania</td>\n      <td>http://www.utas.edu.au/</td>\n      <td>university tasmania university tasmania browse...</td>\n      <td>Education</td>\n    </tr>\n    <tr>\n      <th>9</th>\n      <td>9</td>\n      <td>University of Adelaide</td>\n      <td>http://www.adelaide.edu.au/</td>\n      <td>the university adelaide the university adelaid...</td>\n      <td>Education</td>\n    </tr>\n    <tr>\n      <th>10</th>\n      <td>10</td>\n      <td>James Cook University</td>\n      <td>http://www.jcu.edu.au/</td>\n      <td>study james cook university queensland jcu aus...</td>\n      <td>Education</td>\n    </tr>\n    <tr>\n      <th>11</th>\n      <td>11</td>\n      <td>Flinders University</td>\n      <td>http://www.flinders.edu.au/</td>\n      <td>flinders university adelaide south australia f...</td>\n      <td>Education</td>\n    </tr>\n    <tr>\n      <th>12</th>\n      <td>12</td>\n      <td>RMIT University</td>\n      <td>https://www.rmit.edu.au/</td>\n      <td>rmit university rmit university rmit universit...</td>\n      <td>Education</td>\n    </tr>\n    <tr>\n      <th>13</th>\n      <td>13</td>\n      <td>La Trobe University</td>\n      <td>http://www.latrobe.edu.au/</td>\n      <td>trobe university melbourne victoria australia ...</td>\n      <td>Education</td>\n    </tr>\n    <tr>\n      <th>14</th>\n      <td>14</td>\n      <td>Victoria University</td>\n      <td>http://www.vu.edu.au/</td>\n      <td>victoria university australia home study searc...</td>\n      <td>Education</td>\n    </tr>\n    <tr>\n      <th>15</th>\n      <td>15</td>\n      <td>University of New England</td>\n      <td>http://www.une.edu.au/</td>\n      <td>home university new england une home future fi...</td>\n      <td>Education</td>\n    </tr>\n    <tr>\n      <th>16</th>\n      <td>16</td>\n      <td>Deakin University</td>\n      <td>http://www.deakin.edu.au/</td>\n      <td>home deakin put deakin first courses interest ...</td>\n      <td>Education</td>\n    </tr>\n    <tr>\n      <th>17</th>\n      <td>17</td>\n      <td>Griffith University</td>\n      <td>http://www.griffith.edu.au/</td>\n      <td>griffith university personalised for internati...</td>\n      <td>Education</td>\n    </tr>\n    <tr>\n      <th>18</th>\n      <td>18</td>\n      <td>Central Queensland University</td>\n      <td>https://www.cqu.edu.au/</td>\n      <td>cquniversity find course human rights trailbla...</td>\n      <td>Education</td>\n    </tr>\n    <tr>\n      <th>19</th>\n      <td>19</td>\n      <td>University of South Australia</td>\n      <td>https://www.unisa.edu.au/</td>\n      <td>unisa university south australia university so...</td>\n      <td>Education</td>\n    </tr>\n    <tr>\n      <th>20</th>\n      <td>20</td>\n      <td>Swinburne University of Technology</td>\n      <td>http://www.swinburne.edu.au/</td>\n      <td>swinburne university technology melbourne aust...</td>\n      <td>Education</td>\n    </tr>\n    <tr>\n      <th>21</th>\n      <td>21</td>\n      <td>Bond University</td>\n      <td>http://bond.edu.au/</td>\n      <td>bond university gold coast queensland australi...</td>\n      <td>Education</td>\n    </tr>\n    <tr>\n      <th>22</th>\n      <td>22</td>\n      <td>University of the Sunshine Coast</td>\n      <td>http://www.usc.edu.au/</td>\n      <td>unisc university the sunshine coast queensland...</td>\n      <td>Education</td>\n    </tr>\n    <tr>\n      <th>23</th>\n      <td>23</td>\n      <td>Charles Sturt University</td>\n      <td>http://www.csu.edu.au/</td>\n      <td>home charles sturt university study why charle...</td>\n      <td>Education</td>\n    </tr>\n    <tr>\n      <th>24</th>\n      <td>24</td>\n      <td>University of Canberra</td>\n      <td>http://www.canberra.edu.au/</td>\n      <td>university canberra university canberrar canbe...</td>\n      <td>Education</td>\n    </tr>\n    <tr>\n      <th>25</th>\n      <td>25</td>\n      <td>Federation University</td>\n      <td>https://federation.edu.au/</td>\n      <td>federation university australia federation uni...</td>\n      <td>Education</td>\n    </tr>\n    <tr>\n      <th>26</th>\n      <td>26</td>\n      <td>Walter and Eliza Hall Institute of Medical Res...</td>\n      <td>http://www.wehi.edu.au/</td>\n      <td>wehi walter and eliza hall institute medical r...</td>\n      <td>Nonprofit</td>\n    </tr>\n    <tr>\n      <th>27</th>\n      <td>27</td>\n      <td>Charles Darwin University</td>\n      <td>http://www.cdu.edu.au/</td>\n      <td>home charles darwin university semester 2023 a...</td>\n      <td>Education</td>\n    </tr>\n    <tr>\n      <th>28</th>\n      <td>28</td>\n      <td>Australian Institute of Marine Science</td>\n      <td>http://www.aims.gov.au/</td>\n      <td>the australian institute marine science aims a...</td>\n      <td>Facility</td>\n    </tr>\n    <tr>\n      <th>29</th>\n      <td>29</td>\n      <td>Australian Antarctic Division</td>\n      <td>http://www.antarctica.gov.au/</td>\n      <td>australian antarctic program keep touch html s...</td>\n      <td>Government</td>\n    </tr>\n    <tr>\n      <th>30</th>\n      <td>30</td>\n      <td>University of Southern Queensland</td>\n      <td>http://www.usq.edu.au/</td>\n      <td>university southern queensland university sout...</td>\n      <td>Education</td>\n    </tr>\n    <tr>\n      <th>31</th>\n      <td>31</td>\n      <td>QIMR Berghofer Medical Research Institute</td>\n      <td>http://www.qimrberghofer.edu.au/</td>\n      <td>home qimr berghofer help support cancer resear...</td>\n      <td>Facility</td>\n    </tr>\n    <tr>\n      <th>32</th>\n      <td>33</td>\n      <td>Burnet Institute</td>\n      <td>http://www.burnet.edu.au/</td>\n      <td>burnet institute support about covid19 html 7e...</td>\n      <td>Nonprofit</td>\n    </tr>\n    <tr>\n      <th>33</th>\n      <td>34</td>\n      <td>Victor Chang Cardiac Research Institute</td>\n      <td>http://www.victorchang.edu.au/</td>\n      <td>home heart research fight heart disease victor...</td>\n      <td>Nonprofit</td>\n    </tr>\n    <tr>\n      <th>34</th>\n      <td>35</td>\n      <td>Murdoch Children's Research Institute</td>\n      <td>https://www.mcri.edu.au/</td>\n      <td>home murdoch childrens research institute worl...</td>\n      <td>Nonprofit</td>\n    </tr>\n    <tr>\n      <th>35</th>\n      <td>36</td>\n      <td>Mater Research</td>\n      <td>http://research.mater.org.au/</td>\n      <td>this website will overthrow your mind catch ht...</td>\n      <td>Facility</td>\n    </tr>\n    <tr>\n      <th>36</th>\n      <td>37</td>\n      <td>St Vincents Institute of Medical Research</td>\n      <td>https://www.svi.edu.au/</td>\n      <td>svi welcome svi search more ways support svis ...</td>\n      <td>Nonprofit</td>\n    </tr>\n    <tr>\n      <th>37</th>\n      <td>38</td>\n      <td>The Heart Research Institute</td>\n      <td>http://www.hri.org.au/</td>\n      <td>heart research institute xe2x80xa2 donate hear...</td>\n      <td>Facility</td>\n    </tr>\n    <tr>\n      <th>38</th>\n      <td>39</td>\n      <td>University Mental Health Research Institute</td>\n      <td>https://www.epipsi.gr/</td>\n      <td>xcex91xcfx81xcfx87xcexb9xcexbaxcexae xcex95xce...</td>\n      <td>Education</td>\n    </tr>\n    <tr>\n      <th>39</th>\n      <td>40</td>\n      <td>Australian Nuclear Science and Technology Orga...</td>\n      <td>http://www.ansto.gov.au/</td>\n      <td>ansto science ingenuity sustainability html sk...</td>\n      <td>Government</td>\n    </tr>\n    <tr>\n      <th>40</th>\n      <td>41</td>\n      <td>Naval Postgraduate School</td>\n      <td>http://www.nps.edu/</td>\n      <td>naval postgraduate school naval postgraduate s...</td>\n      <td>Education</td>\n    </tr>\n    <tr>\n      <th>41</th>\n      <td>42</td>\n      <td>Rolls-Royce (United Kingdom)</td>\n      <td>https://www.rolls-royce.com/</td>\n      <td>rtrollsroyce pioneering cuttingedge technologi...</td>\n      <td>Company</td>\n    </tr>\n    <tr>\n      <th>42</th>\n      <td>43</td>\n      <td>CSL (Australia)</td>\n      <td>https://www.csl.com/</td>\n      <td>csl global biotech leader have released our 20...</td>\n      <td>Company</td>\n    </tr>\n    <tr>\n      <th>43</th>\n      <td>44</td>\n      <td>BP (United Kingdom)</td>\n      <td>http://www.bp.com/</td>\n      <td>home reimagining energy navigating net zero fi...</td>\n      <td>Company</td>\n    </tr>\n    <tr>\n      <th>44</th>\n      <td>45</td>\n      <td>Rio Tinto (United Kingdom)</td>\n      <td>http://www.riotinto.com/</td>\n      <td>rio tinto global produce materials essential h...</td>\n      <td>Company</td>\n    </tr>\n    <tr>\n      <th>45</th>\n      <td>46</td>\n      <td>Department of Water</td>\n      <td>https://www.water.wa.gov.au/</td>\n      <td>home home home page container quick links the ...</td>\n      <td>Government</td>\n    </tr>\n    <tr>\n      <th>46</th>\n      <td>47</td>\n      <td>BAE Systems (United Kingdom)</td>\n      <td>http://www.baesystems.com/</td>\n      <td>home bae systems international search rttttttt...</td>\n      <td>Company</td>\n    </tr>\n    <tr>\n      <th>47</th>\n      <td>51</td>\n      <td>Defence Research and Development Canada</td>\n      <td>http://www.drdc-rddc.gc.ca/en/index.page</td>\n      <td>defence research and development canada defenc...</td>\n      <td>Government</td>\n    </tr>\n    <tr>\n      <th>48</th>\n      <td>52</td>\n      <td>Lions Eye Institute</td>\n      <td>https://www.lei.org.au/</td>\n      <td>home lions eye institute better vision septemb...</td>\n      <td>Nonprofit</td>\n    </tr>\n    <tr>\n      <th>49</th>\n      <td>53</td>\n      <td>Mater Health Services</td>\n      <td>http://www.mater.org.au/</td>\n      <td>rthome materr covid19 faqs important covid upd...</td>\n      <td>Healthcare</td>\n    </tr>\n  </tbody>\n</table>\n</div>"
     },
     "execution_count": 9,
     "metadata": {},
     "output_type": "execute_result"
    }
   ],
   "source": [
    "# Remove short characters and change words to lower case\n",
    "df['value'] = df['value'].apply(lambda x: \" \".join([w.lower() for w in x.split() if len(w) > 2]))\n",
    "df.head(50)"
   ],
   "metadata": {
    "collapsed": false
   }
  },
  {
   "cell_type": "code",
   "execution_count": 10,
   "outputs": [
    {
     "name": "stderr",
     "output_type": "stream",
     "text": [
      "[nltk_data] Downloading package stopwords to\n",
      "[nltk_data]     C:\\Users\\Martin\\AppData\\Roaming\\nltk_data...\n",
      "[nltk_data]   Package stopwords is already up-to-date!\n"
     ]
    },
    {
     "data": {
      "text/plain": "True"
     },
     "execution_count": 10,
     "metadata": {},
     "output_type": "execute_result"
    }
   ],
   "source": [
    "# Downloading stopwords to resolve errors\n",
    "import nltk\n",
    "nltk.download('stopwords')"
   ],
   "metadata": {
    "collapsed": false
   }
  },
  {
   "cell_type": "code",
   "execution_count": 11,
   "outputs": [
    {
     "data": {
      "text/plain": "   index                            name                      link  \\\n0      0  Australian National University    http://www.anu.edu.au/   \n1      1               Monash University    http://www.monash.edu/   \n2      2        University of Queensland     http://www.uq.edu.au/   \n3      3            Macquarie University         http://mq.edu.au/   \n4      4                     UNSW Sydney  https://www.unsw.edu.au/   \n\n                                               value       type  \n0                anu covid19 pathway skip navigation  Education  \n1  monash university one top universities austral...  Education  \n2  university queensland study find degree study ...  Education  \n3  macquarie university tertiary education macqua...  Education  \n4  unsw sydney one best universities australia ex...  Education  ",
      "text/html": "<div>\n<style scoped>\n    .dataframe tbody tr th:only-of-type {\n        vertical-align: middle;\n    }\n\n    .dataframe tbody tr th {\n        vertical-align: top;\n    }\n\n    .dataframe thead th {\n        text-align: right;\n    }\n</style>\n<table border=\"1\" class=\"dataframe\">\n  <thead>\n    <tr style=\"text-align: right;\">\n      <th></th>\n      <th>index</th>\n      <th>name</th>\n      <th>link</th>\n      <th>value</th>\n      <th>type</th>\n    </tr>\n  </thead>\n  <tbody>\n    <tr>\n      <th>0</th>\n      <td>0</td>\n      <td>Australian National University</td>\n      <td>http://www.anu.edu.au/</td>\n      <td>anu covid19 pathway skip navigation</td>\n      <td>Education</td>\n    </tr>\n    <tr>\n      <th>1</th>\n      <td>1</td>\n      <td>Monash University</td>\n      <td>http://www.monash.edu/</td>\n      <td>monash university one top universities austral...</td>\n      <td>Education</td>\n    </tr>\n    <tr>\n      <th>2</th>\n      <td>2</td>\n      <td>University of Queensland</td>\n      <td>http://www.uq.edu.au/</td>\n      <td>university queensland study find degree study ...</td>\n      <td>Education</td>\n    </tr>\n    <tr>\n      <th>3</th>\n      <td>3</td>\n      <td>Macquarie University</td>\n      <td>http://mq.edu.au/</td>\n      <td>macquarie university tertiary education macqua...</td>\n      <td>Education</td>\n    </tr>\n    <tr>\n      <th>4</th>\n      <td>4</td>\n      <td>UNSW Sydney</td>\n      <td>https://www.unsw.edu.au/</td>\n      <td>unsw sydney one best universities australia ex...</td>\n      <td>Education</td>\n    </tr>\n  </tbody>\n</table>\n</div>"
     },
     "execution_count": 11,
     "metadata": {},
     "output_type": "execute_result"
    }
   ],
   "source": [
    "# Stop word removal with nltk\n",
    "from nltk.tokenize import word_tokenize\n",
    "from nltk.corpus import stopwords\n",
    "stop_words = set(stopwords.words('english'))\n",
    "stop_words.update([\"html\", \"endif\"])\n",
    "\n",
    "df['value'] = df['value'].apply(lambda x: \" \".join([word for word in word_tokenize(x) if word not in stop_words]))\n",
    "df.head()"
   ],
   "metadata": {
    "collapsed": false
   }
  },
  {
   "cell_type": "code",
   "execution_count": 13,
   "outputs": [],
   "source": [
    "# # stem the words\n",
    "# from nltk.stem.porter import PorterStemmer\n",
    "# stemmer = PorterStemmer()\n",
    "#\n",
    "# df['value'] = df['value'].apply(lambda sentence : \" \".join([stemmer.stem(word) for word in sentence.split(\" \")]))\n",
    "# df.head()"
   ],
   "metadata": {
    "collapsed": false
   }
  },
  {
   "cell_type": "code",
   "execution_count": 14,
   "outputs": [
    {
     "name": "stderr",
     "output_type": "stream",
     "text": [
      "[nltk_data] Downloading package wordnet to\n",
      "[nltk_data]     C:\\Users\\Martin\\AppData\\Roaming\\nltk_data...\n",
      "[nltk_data]   Package wordnet is already up-to-date!\n"
     ]
    },
    {
     "data": {
      "text/plain": "True"
     },
     "execution_count": 14,
     "metadata": {},
     "output_type": "execute_result"
    }
   ],
   "source": [
    "nltk.download(\"wordnet\")"
   ],
   "metadata": {
    "collapsed": false
   }
  },
  {
   "cell_type": "code",
   "execution_count": 15,
   "outputs": [
    {
     "data": {
      "text/plain": "   index                            name                      link  \\\n0      0  Australian National University    http://www.anu.edu.au/   \n1      1               Monash University    http://www.monash.edu/   \n2      2        University of Queensland     http://www.uq.edu.au/   \n3      3            Macquarie University         http://mq.edu.au/   \n4      4                     UNSW Sydney  https://www.unsw.edu.au/   \n\n                                               value       type  \n0                anu covid19 pathway skip navigation  Education  \n1  monash university one top university australia...  Education  \n2  university queensland study find degree study ...  Education  \n3  macquarie university tertiary education macqua...  Education  \n4  unsw sydney one best university australia expl...  Education  ",
      "text/html": "<div>\n<style scoped>\n    .dataframe tbody tr th:only-of-type {\n        vertical-align: middle;\n    }\n\n    .dataframe tbody tr th {\n        vertical-align: top;\n    }\n\n    .dataframe thead th {\n        text-align: right;\n    }\n</style>\n<table border=\"1\" class=\"dataframe\">\n  <thead>\n    <tr style=\"text-align: right;\">\n      <th></th>\n      <th>index</th>\n      <th>name</th>\n      <th>link</th>\n      <th>value</th>\n      <th>type</th>\n    </tr>\n  </thead>\n  <tbody>\n    <tr>\n      <th>0</th>\n      <td>0</td>\n      <td>Australian National University</td>\n      <td>http://www.anu.edu.au/</td>\n      <td>anu covid19 pathway skip navigation</td>\n      <td>Education</td>\n    </tr>\n    <tr>\n      <th>1</th>\n      <td>1</td>\n      <td>Monash University</td>\n      <td>http://www.monash.edu/</td>\n      <td>monash university one top university australia...</td>\n      <td>Education</td>\n    </tr>\n    <tr>\n      <th>2</th>\n      <td>2</td>\n      <td>University of Queensland</td>\n      <td>http://www.uq.edu.au/</td>\n      <td>university queensland study find degree study ...</td>\n      <td>Education</td>\n    </tr>\n    <tr>\n      <th>3</th>\n      <td>3</td>\n      <td>Macquarie University</td>\n      <td>http://mq.edu.au/</td>\n      <td>macquarie university tertiary education macqua...</td>\n      <td>Education</td>\n    </tr>\n    <tr>\n      <th>4</th>\n      <td>4</td>\n      <td>UNSW Sydney</td>\n      <td>https://www.unsw.edu.au/</td>\n      <td>unsw sydney one best university australia expl...</td>\n      <td>Education</td>\n    </tr>\n  </tbody>\n</table>\n</div>"
     },
     "execution_count": 15,
     "metadata": {},
     "output_type": "execute_result"
    }
   ],
   "source": [
    "# OR Lemmatize words\n",
    "from nltk.stem import WordNetLemmatizer\n",
    "lemmatizer = WordNetLemmatizer()\n",
    "\n",
    "df['value'] = df['value'].apply(lambda x: \" \".join([lemmatizer.lemmatize(w) for w in x.split()]))\n",
    "df.head()"
   ],
   "metadata": {
    "collapsed": false
   }
  },
  {
   "cell_type": "code",
   "execution_count": 16,
   "outputs": [
    {
     "name": "stdout",
     "output_type": "stream",
     "text": [
      "0\n",
      "(83796, 5)\n",
      "0\n",
      "(83796, 5)\n"
     ]
    }
   ],
   "source": [
    "# Removing rows, where 'value' is nan\n",
    "print(df['value'].isna().sum())\n",
    "print(df.shape)\n",
    "\n",
    "df = df[df['value'].notna()]\n",
    "\n",
    "print(df['value'].isna().sum())\n",
    "print(df.shape)"
   ],
   "metadata": {
    "collapsed": false
   }
  },
  {
   "cell_type": "code",
   "execution_count": 17,
   "outputs": [
    {
     "name": "stdout",
     "output_type": "stream",
     "text": [
      "0\n",
      "(83796, 5)\n",
      "0\n",
      "(82457, 5)\n"
     ]
    }
   ],
   "source": [
    "# Remove empty rows\n",
    "print(df['value'].isna().sum())\n",
    "print(df.shape)\n",
    "\n",
    "df = df[df['value'] != \"\"]\n",
    "\n",
    "print(df['value'].isna().sum())\n",
    "print(df.shape)"
   ],
   "metadata": {
    "collapsed": false
   }
  },
  {
   "cell_type": "code",
   "execution_count": 18,
   "outputs": [
    {
     "name": "stdout",
     "output_type": "stream",
     "text": [
      "True\n",
      "74862272\n",
      "99745\n",
      "(49555, 5)\n"
     ]
    }
   ],
   "source": [
    "# Removing rows where language is not English\n",
    "def language_detection(text, method = \"single\"):\n",
    "    try:\n",
    "        result = detect_langs(text) if method.lower() != \"single\" else detect(text)\n",
    "        return result == \"en\"\n",
    "    except:\n",
    "        print(text)\n",
    "        return False\n",
    "\n",
    "DetectorFactory.seed = 0\n",
    "print(language_detection(\"Hello there, what a lovely evening!\"))\n",
    "df = df[df['value'].apply(language_detection)]\n",
    "print(df.shape)"
   ],
   "metadata": {
    "collapsed": false
   }
  },
  {
   "cell_type": "code",
   "execution_count": 19,
   "outputs": [
    {
     "data": {
      "text/plain": "        index                                              name  \\\n0           0                    Australian National University   \n1           1                                 Monash University   \n2           2                          University of Queensland   \n3           3                              Macquarie University   \n4           4                                       UNSW Sydney   \n...       ...                                               ...   \n83787  101248                      Erasmus University Rotterdam   \n83788  101249                                        LifeStream   \n83790  101252                           Shirak State University   \n83793  101255                       Radboud University Nijmegen   \n83795  101257  Northamptonshire Healthcare NHS Foundation Trust   \n\n                             link  \\\n0          http://www.anu.edu.au/   \n1          http://www.monash.edu/   \n2           http://www.uq.edu.au/   \n3               http://mq.edu.au/   \n4        https://www.unsw.edu.au/   \n...                           ...   \n83787  http://www.eur.nl/english/   \n83788    https://www.lstream.org/   \n83790          http://shsu.am/en/   \n83793   http://www.ru.nl/english/   \n83795    https://www.nhft.nhs.uk/   \n\n                                                   value        type  \n0                    anu covid19 pathway skip navigation   Education  \n1      monash university one top university australia...   Education  \n2      university queensland study find degree study ...   Education  \n3      macquarie university tertiary education macqua...   Education  \n4      unsw sydney one best university australia expl...   Education  \n...                                                  ...         ...  \n83787  erasmus university rotterdam erasmus universit...   Education  \n83788  lifestream blood bank type blood needed platel...   Nonprofit  \n83790  xc2xabm nalbandyan state university shirakxc2x...   Education  \n83793  radboud university main menu discover programm...   Education  \n83795  home nhft home search nhft website latest nhft...  Healthcare  \n\n[49555 rows x 5 columns]",
      "text/html": "<div>\n<style scoped>\n    .dataframe tbody tr th:only-of-type {\n        vertical-align: middle;\n    }\n\n    .dataframe tbody tr th {\n        vertical-align: top;\n    }\n\n    .dataframe thead th {\n        text-align: right;\n    }\n</style>\n<table border=\"1\" class=\"dataframe\">\n  <thead>\n    <tr style=\"text-align: right;\">\n      <th></th>\n      <th>index</th>\n      <th>name</th>\n      <th>link</th>\n      <th>value</th>\n      <th>type</th>\n    </tr>\n  </thead>\n  <tbody>\n    <tr>\n      <th>0</th>\n      <td>0</td>\n      <td>Australian National University</td>\n      <td>http://www.anu.edu.au/</td>\n      <td>anu covid19 pathway skip navigation</td>\n      <td>Education</td>\n    </tr>\n    <tr>\n      <th>1</th>\n      <td>1</td>\n      <td>Monash University</td>\n      <td>http://www.monash.edu/</td>\n      <td>monash university one top university australia...</td>\n      <td>Education</td>\n    </tr>\n    <tr>\n      <th>2</th>\n      <td>2</td>\n      <td>University of Queensland</td>\n      <td>http://www.uq.edu.au/</td>\n      <td>university queensland study find degree study ...</td>\n      <td>Education</td>\n    </tr>\n    <tr>\n      <th>3</th>\n      <td>3</td>\n      <td>Macquarie University</td>\n      <td>http://mq.edu.au/</td>\n      <td>macquarie university tertiary education macqua...</td>\n      <td>Education</td>\n    </tr>\n    <tr>\n      <th>4</th>\n      <td>4</td>\n      <td>UNSW Sydney</td>\n      <td>https://www.unsw.edu.au/</td>\n      <td>unsw sydney one best university australia expl...</td>\n      <td>Education</td>\n    </tr>\n    <tr>\n      <th>...</th>\n      <td>...</td>\n      <td>...</td>\n      <td>...</td>\n      <td>...</td>\n      <td>...</td>\n    </tr>\n    <tr>\n      <th>83787</th>\n      <td>101248</td>\n      <td>Erasmus University Rotterdam</td>\n      <td>http://www.eur.nl/english/</td>\n      <td>erasmus university rotterdam erasmus universit...</td>\n      <td>Education</td>\n    </tr>\n    <tr>\n      <th>83788</th>\n      <td>101249</td>\n      <td>LifeStream</td>\n      <td>https://www.lstream.org/</td>\n      <td>lifestream blood bank type blood needed platel...</td>\n      <td>Nonprofit</td>\n    </tr>\n    <tr>\n      <th>83790</th>\n      <td>101252</td>\n      <td>Shirak State University</td>\n      <td>http://shsu.am/en/</td>\n      <td>xc2xabm nalbandyan state university shirakxc2x...</td>\n      <td>Education</td>\n    </tr>\n    <tr>\n      <th>83793</th>\n      <td>101255</td>\n      <td>Radboud University Nijmegen</td>\n      <td>http://www.ru.nl/english/</td>\n      <td>radboud university main menu discover programm...</td>\n      <td>Education</td>\n    </tr>\n    <tr>\n      <th>83795</th>\n      <td>101257</td>\n      <td>Northamptonshire Healthcare NHS Foundation Trust</td>\n      <td>https://www.nhft.nhs.uk/</td>\n      <td>home nhft home search nhft website latest nhft...</td>\n      <td>Healthcare</td>\n    </tr>\n  </tbody>\n</table>\n<p>49555 rows × 5 columns</p>\n</div>"
     },
     "execution_count": 19,
     "metadata": {},
     "output_type": "execute_result"
    }
   ],
   "source": [
    "df"
   ],
   "metadata": {
    "collapsed": false
   }
  },
  {
   "cell_type": "code",
   "execution_count": 20,
   "outputs": [],
   "source": [
    "df.shape\n",
    "df.to_csv(\"dataset_final_lemmatize.csv\")"
   ],
   "metadata": {
    "collapsed": false
   }
  }
 ],
 "metadata": {
  "kernelspec": {
   "display_name": "Python 3",
   "language": "python",
   "name": "python3"
  },
  "language_info": {
   "codemirror_mode": {
    "name": "ipython",
    "version": 2
   },
   "file_extension": ".py",
   "mimetype": "text/x-python",
   "name": "python",
   "nbconvert_exporter": "python",
   "pygments_lexer": "ipython2",
   "version": "2.7.6"
  }
 },
 "nbformat": 4,
 "nbformat_minor": 0
}
