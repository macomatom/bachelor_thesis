{
 "cells": [
  {
   "cell_type": "markdown",
   "metadata": {},
   "source": [
    "https://www.tensorflow.org/text/tutorials/text_classification_rnn"
   ]
  },
  {
   "cell_type": "code",
   "execution_count": 3,
   "metadata": {},
   "outputs": [],
   "source": [
    "# filtering\n",
    "# embeding\n",
    "# max_len - radsej mensie"
   ]
  },
  {
   "cell_type": "code",
   "execution_count": 22,
   "outputs": [
    {
     "name": "stdout",
     "output_type": "stream",
     "text": [
      "[name: \"/device:CPU:0\"\n",
      "device_type: \"CPU\"\n",
      "memory_limit: 268435456\n",
      "locality {\n",
      "}\n",
      "incarnation: 4664223516110115660\n",
      "xla_global_id: -1\n",
      "]\n"
     ]
    },
    {
     "data": {
      "text/plain": "''"
     },
     "execution_count": 22,
     "metadata": {},
     "output_type": "execute_result"
    }
   ],
   "source": [
    "import os\n",
    "os.environ[\"CUDA_VISIBLE_DEVICES\"] = '0'\n",
    "\n",
    "from tensorflow.python.client import device_lib\n",
    "import tensorflow as tf\n",
    "\n",
    "print(device_lib.list_local_devices())\n",
    "tf.test.gpu_device_name()"
   ],
   "metadata": {
    "collapsed": false
   }
  },
  {
   "cell_type": "code",
   "execution_count": 1,
   "metadata": {},
   "outputs": [
    {
     "name": "stdout",
     "output_type": "stream",
     "text": [
      "2.11.0\n"
     ]
    }
   ],
   "source": [
    "import numpy as np\n",
    "import pandas as pd\n",
    "\n",
    "import pickle\n",
    "\n",
    "import os\n",
    "\n",
    "from gensim import models\n",
    "\n",
    "from keras.utils import to_categorical, plot_model\n",
    "import matplotlib.pyplot as plt\n",
    "\n",
    "\n",
    "import tensorflow as tf\n",
    "print(tf.version.VERSION)"
   ]
  },
  {
   "cell_type": "code",
   "execution_count": 2,
   "metadata": {},
   "outputs": [],
   "source": [
    "NUM_CATEGORY = 8\n",
    "BATCH_SIZE = 16\n",
    "EPOCHS = 20\n",
    "SAMPLE_SIZE = 10000\n",
    "\n",
    "VOCAB_SIZE = 1000 # Maximum vocab size.\n",
    "MAX_LEN = 1000  # Sequence length to pad the outputs to."
   ]
  },
  {
   "cell_type": "code",
   "execution_count": 3,
   "metadata": {},
   "outputs": [],
   "source": [
    "from keras.callbacks import Callback\n",
    "class History(Callback):\n",
    "    \"\"\"\n",
    "    Callback that records events into a `History` object.\n",
    "\n",
    "    This callback is automatically applied to\n",
    "    every Keras model. The `History` object\n",
    "    gets returned by the `fit` method of models.\n",
    "    \"\"\"\n",
    "\n",
    "    def on_train_begin(self, logs=None):\n",
    "        if not hasattr(self, 'epoch'):\n",
    "            self.epoch = []\n",
    "            self.history = {}\n",
    "\n",
    "    def on_epoch_end(self, epoch, logs=None):\n",
    "        logs = logs or {}\n",
    "        self.epoch.append(epoch)\n",
    "        for k, v in logs.items():\n",
    "            self.history.setdefault(k, []).append(v)\n",
    "\n",
    "\n",
    "class ModelCheckpoint(Callback):\n",
    "\n",
    "    def __init__(self, freq, directory):\n",
    "        super().__init__()\n",
    "        self.freq = freq\n",
    "        self.directory = directory\n",
    "\n",
    "    def on_epoch_begin(self, epoch, logs=None):\n",
    "        if self.freq > 0 and epoch % self.freq == 0:\n",
    "            self.model.save_pretrained(os.Path(self.directory, str(epoch)))\n",
    "\n",
    "    def on_train_end(self, logs=None):\n",
    "        self.model.save_pretrained(self.directory)"
   ]
  },
  {
   "cell_type": "code",
   "execution_count": 4,
   "metadata": {},
   "outputs": [
    {
     "name": "stdout",
     "output_type": "stream",
     "text": [
      "(39567, 7)\n"
     ]
    },
    {
     "data": {
      "text/plain": "   index                            name                      link  lang_eng  \\\n0      0  Australian National University    http://www.anu.edu.au/         1   \n1      1               Monash University    http://www.monash.edu/         1   \n2      2        University of Queensland     http://www.uq.edu.au/         1   \n3      3            Macquarie University         http://mq.edu.au/         1   \n4      4                     UNSW Sydney  https://www.unsw.edu.au/         1   \n\n   valid_dir                                              value       type  \n0          1  anu newsroom anu study anu research innovation...  Education  \n1          1  monash university one top university australia...  Education  \n2          1  university queensland university queensland ch...  Education  \n3          1  macquarie university tertiary education curren...  Education  \n4          1  unsw sydney one best university australia unsw...  Education  ",
      "text/html": "<div>\n<style scoped>\n    .dataframe tbody tr th:only-of-type {\n        vertical-align: middle;\n    }\n\n    .dataframe tbody tr th {\n        vertical-align: top;\n    }\n\n    .dataframe thead th {\n        text-align: right;\n    }\n</style>\n<table border=\"1\" class=\"dataframe\">\n  <thead>\n    <tr style=\"text-align: right;\">\n      <th></th>\n      <th>index</th>\n      <th>name</th>\n      <th>link</th>\n      <th>lang_eng</th>\n      <th>valid_dir</th>\n      <th>value</th>\n      <th>type</th>\n    </tr>\n  </thead>\n  <tbody>\n    <tr>\n      <th>0</th>\n      <td>0</td>\n      <td>Australian National University</td>\n      <td>http://www.anu.edu.au/</td>\n      <td>1</td>\n      <td>1</td>\n      <td>anu newsroom anu study anu research innovation...</td>\n      <td>Education</td>\n    </tr>\n    <tr>\n      <th>1</th>\n      <td>1</td>\n      <td>Monash University</td>\n      <td>http://www.monash.edu/</td>\n      <td>1</td>\n      <td>1</td>\n      <td>monash university one top university australia...</td>\n      <td>Education</td>\n    </tr>\n    <tr>\n      <th>2</th>\n      <td>2</td>\n      <td>University of Queensland</td>\n      <td>http://www.uq.edu.au/</td>\n      <td>1</td>\n      <td>1</td>\n      <td>university queensland university queensland ch...</td>\n      <td>Education</td>\n    </tr>\n    <tr>\n      <th>3</th>\n      <td>3</td>\n      <td>Macquarie University</td>\n      <td>http://mq.edu.au/</td>\n      <td>1</td>\n      <td>1</td>\n      <td>macquarie university tertiary education curren...</td>\n      <td>Education</td>\n    </tr>\n    <tr>\n      <th>4</th>\n      <td>4</td>\n      <td>UNSW Sydney</td>\n      <td>https://www.unsw.edu.au/</td>\n      <td>1</td>\n      <td>1</td>\n      <td>unsw sydney one best university australia unsw...</td>\n      <td>Education</td>\n    </tr>\n  </tbody>\n</table>\n</div>"
     },
     "execution_count": 4,
     "metadata": {},
     "output_type": "execute_result"
    }
   ],
   "source": [
    "# df = pd.read_csv(\"dataset_final_stem_only_eng.csv\")\n",
    "df = pd.read_csv(\"3_Preprocessing/dataset_lemmatized.csv\")\n",
    "\n",
    "# df['type'].unique()\n",
    "# len(df['type'].unique())\n",
    "print(df.shape)\n",
    "df.head()"
   ]
  },
  {
   "cell_type": "code",
   "execution_count": 5,
   "metadata": {},
   "outputs": [
    {
     "data": {
      "text/plain": "array(['Education', 'Nonprofit', 'Facility', 'Government', 'Company',\n       'Healthcare', 'Other', 'Archive'], dtype=object)"
     },
     "execution_count": 5,
     "metadata": {},
     "output_type": "execute_result"
    }
   ],
   "source": [
    "df[\"type\"].unique()"
   ]
  },
  {
   "cell_type": "code",
   "execution_count": 6,
   "metadata": {},
   "outputs": [
    {
     "data": {
      "text/plain": "Company       12217\nNonprofit      7719\nEducation      6403\nHealthcare     4108\nOther          3136\nFacility       2566\nGovernment     2045\nArchive        1373\nName: type, dtype: int64"
     },
     "execution_count": 6,
     "metadata": {},
     "output_type": "execute_result"
    }
   ],
   "source": [
    "df[\"type\"].value_counts()"
   ]
  },
  {
   "cell_type": "code",
   "execution_count": 7,
   "metadata": {},
   "outputs": [
    {
     "data": {
      "text/plain": "   index                            name                      link  lang_eng  \\\n0      0  Australian National University    http://www.anu.edu.au/         1   \n1      1               Monash University    http://www.monash.edu/         1   \n2      2        University of Queensland     http://www.uq.edu.au/         1   \n3      3            Macquarie University         http://mq.edu.au/         1   \n4      4                     UNSW Sydney  https://www.unsw.edu.au/         1   \n\n   valid_dir                                              value       type  \n0          1  anu newsroom anu study anu research innovation...  Education  \n1          1  monash university one top university australia...  Education  \n2          1  university queensland university queensland ch...  Education  \n3          1  macquarie university tertiary education curren...  Education  \n4          1  unsw sydney one best university australia unsw...  Education  ",
      "text/html": "<div>\n<style scoped>\n    .dataframe tbody tr th:only-of-type {\n        vertical-align: middle;\n    }\n\n    .dataframe tbody tr th {\n        vertical-align: top;\n    }\n\n    .dataframe thead th {\n        text-align: right;\n    }\n</style>\n<table border=\"1\" class=\"dataframe\">\n  <thead>\n    <tr style=\"text-align: right;\">\n      <th></th>\n      <th>index</th>\n      <th>name</th>\n      <th>link</th>\n      <th>lang_eng</th>\n      <th>valid_dir</th>\n      <th>value</th>\n      <th>type</th>\n    </tr>\n  </thead>\n  <tbody>\n    <tr>\n      <th>0</th>\n      <td>0</td>\n      <td>Australian National University</td>\n      <td>http://www.anu.edu.au/</td>\n      <td>1</td>\n      <td>1</td>\n      <td>anu newsroom anu study anu research innovation...</td>\n      <td>Education</td>\n    </tr>\n    <tr>\n      <th>1</th>\n      <td>1</td>\n      <td>Monash University</td>\n      <td>http://www.monash.edu/</td>\n      <td>1</td>\n      <td>1</td>\n      <td>monash university one top university australia...</td>\n      <td>Education</td>\n    </tr>\n    <tr>\n      <th>2</th>\n      <td>2</td>\n      <td>University of Queensland</td>\n      <td>http://www.uq.edu.au/</td>\n      <td>1</td>\n      <td>1</td>\n      <td>university queensland university queensland ch...</td>\n      <td>Education</td>\n    </tr>\n    <tr>\n      <th>3</th>\n      <td>3</td>\n      <td>Macquarie University</td>\n      <td>http://mq.edu.au/</td>\n      <td>1</td>\n      <td>1</td>\n      <td>macquarie university tertiary education curren...</td>\n      <td>Education</td>\n    </tr>\n    <tr>\n      <th>4</th>\n      <td>4</td>\n      <td>UNSW Sydney</td>\n      <td>https://www.unsw.edu.au/</td>\n      <td>1</td>\n      <td>1</td>\n      <td>unsw sydney one best university australia unsw...</td>\n      <td>Education</td>\n    </tr>\n  </tbody>\n</table>\n</div>"
     },
     "execution_count": 7,
     "metadata": {},
     "output_type": "execute_result"
    }
   ],
   "source": [
    "# sample_df = df[(df[\"type\"] == \"Company\") | (df[\"type\"] == \"Education\")].sample(n=SAMPLE_SIZE)\n",
    "# sample_df = df[(df[\"type\"] == \"Company\") | (df[\"type\"] == \"Education\")]\n",
    "# sample_df = df.sample(SAMPLE_SIZE)\n",
    "sample_df = df\n",
    "sample_df.head(5)"
   ]
  },
  {
   "cell_type": "code",
   "execution_count": 8,
   "metadata": {},
   "outputs": [
    {
     "name": "stdout",
     "output_type": "stream",
     "text": [
      "['Education' 'Nonprofit' 'Facility' 'Government' 'Company' 'Healthcare'\n",
      " 'Other' 'Archive']\n",
      "(39567, 7)\n"
     ]
    }
   ],
   "source": [
    "print(sample_df['type'].unique())\n",
    "print(sample_df.shape)"
   ]
  },
  {
   "cell_type": "markdown",
   "metadata": {},
   "source": [
    "# Tensorflow Keras CountVectorizer layer (LSTM)"
   ]
  },
  {
   "cell_type": "code",
   "execution_count": 9,
   "metadata": {},
   "outputs": [],
   "source": [
    "from sklearn.model_selection import train_test_split\n",
    "\n",
    "X = sample_df[\"value\"]\n",
    "y = sample_df[\"type\"]\n",
    "y = to_categorical(np.asarray(y.factorize()[0]), num_classes=NUM_CATEGORY)\n",
    "\n",
    "X_train, X_test, y_train, y_test = train_test_split(X, y, random_state=42, test_size=0.25)"
   ]
  },
  {
   "cell_type": "code",
   "execution_count": 10,
   "metadata": {},
   "outputs": [],
   "source": [
    "# Create vectorization layer\n",
    "vectorize_layer = tf.keras.layers.TextVectorization(\n",
    "    max_tokens=VOCAB_SIZE,\n",
    "    output_mode='int',\n",
    "    output_sequence_length=MAX_LEN\n",
    ")\n",
    "vectorize_layer.adapt(np.array(X_train).flatten())"
   ]
  },
  {
   "cell_type": "code",
   "execution_count": 11,
   "metadata": {},
   "outputs": [
    {
     "data": {
      "text/plain": "array(['', '[UNK]', 'public', 'health', 'university', 'research',\n       'service', 'foundation', 'news', 'institute', 'college',\n       'transitional', 'center', 'care', 'technology', 'information',\n       'product', 'new', 'program', 'science'], dtype='<U23')"
     },
     "execution_count": 11,
     "metadata": {},
     "output_type": "execute_result"
    }
   ],
   "source": [
    "vocab = np.array(vectorize_layer.get_vocabulary())\n",
    "vocab[:20]"
   ]
  },
  {
   "cell_type": "code",
   "execution_count": 12,
   "metadata": {},
   "outputs": [],
   "source": [
    "EMBEDDINGS_LEN = 300\n",
    "\n",
    "word2vec_path = 'C:\\\\Users\\\\Martin\\\\Downloads\\\\GoogleNews-vectors-negative300.bin.gz'\n",
    "keyed_vectors = models.KeyedVectors.load_word2vec_format(word2vec_path, binary=True)\n",
    "\n",
    "weights = keyed_vectors.vectors  # vectors themselves, a 2D numpy array"
   ]
  },
  {
   "cell_type": "code",
   "execution_count": 13,
   "metadata": {},
   "outputs": [],
   "source": [
    "# LSTM model\n",
    "def create_model():\n",
    "    model = tf.keras.Sequential([\n",
    "        tf.keras.layers.Input(shape=(1,), dtype=tf.string),\n",
    "        vectorize_layer,\n",
    "        \n",
    "        tf.keras.layers.Embedding(\n",
    "            input_dim=weights.shape[0],\n",
    "            output_dim=weights.shape[1],\n",
    "            weights=[weights],\n",
    "            trainable=False,\n",
    "        ),\n",
    "        \n",
    "        tf.keras.layers.Bidirectional(tf.keras.layers.LSTM(128, return_sequences=True)),\n",
    "        tf.keras.layers.Bidirectional(tf.keras.layers.LSTM(64)),\n",
    "        \n",
    "        tf.keras.layers.Dropout(0.25),\n",
    "        \n",
    "        tf.keras.layers.Dense(32, activation='relu'),\n",
    "        \n",
    "        tf.keras.layers.Dense(8, activation=\"softmax\")\n",
    "    ])\n",
    "\n",
    "    model.compile(loss=tf.keras.losses.CategoricalCrossentropy(from_logits=True),\n",
    "                  optimizer=tf.keras.optimizers.Adam(1e-4),\n",
    "                  # metrics=[tf.keras.metrics.CategoricalCrossentropy()])\n",
    "                  metrics=[tf.keras.metrics.CategoricalAccuracy()])\n",
    "\n",
    "    return model\n",
    "\n",
    "\n",
    "# model = tf.keras.Sequential([\n",
    "#     tf.keras.layers.Input(shape=(1,), dtype=tf.string),\n",
    "#     vectorize_layer,\n",
    "#     tf.keras.layers.Embedding(\n",
    "#         input_dim=len(vectorize_layer.get_vocabulary()),\n",
    "#         output_dim=64,\n",
    "#         # Use masking to handle the variable sequence lengths\n",
    "#         mask_zero=True\n",
    "#     ),\n",
    "#     tf.keras.layers.Bidirectional(tf.keras.layers.LSTM(64, return_sequences=True)),\n",
    "#     tf.keras.layers.Bidirectional(tf.keras.layers.LSTM(32)),\n",
    "#     # tf.keras.layers.Dense(128, activation='relu'),\n",
    "#     tf.keras.layers.Dense(64, activation='relu'),\n",
    "#     tf.keras.layers.Dropout(0.2),\n",
    "#     tf.keras.layers.Dense(8, activation=\"softmax\")\n",
    "# ])\n",
    "# model.summary()"
   ]
  },
  {
   "cell_type": "code",
   "execution_count": 14,
   "metadata": {},
   "outputs": [],
   "source": [
    "\n",
    "# model.compile(loss=tf.keras.losses.CategoricalCrossentropy(from_logits=True),\n",
    "#               optimizer=tf.keras.optimizers.Adam(1e-4),\n",
    "#               # metrics=[tf.keras.metrics.CategoricalCrossentropy()])\n",
    "#               metrics=[tf.keras.metrics.CategoricalAccuracy()])\n"
   ]
  },
  {
   "cell_type": "code",
   "execution_count": 15,
   "metadata": {},
   "outputs": [],
   "source": [
    "# model.load_weights(\"./model_checkpoints/model.08-1.1122-0.6232/model.08-1.1122-0.6232\")"
   ]
  },
  {
   "cell_type": "code",
   "execution_count": 16,
   "metadata": {},
   "outputs": [
    {
     "name": "stdout",
     "output_type": "stream",
     "text": [
      "Model: \"sequential\"\n",
      "_________________________________________________________________\n",
      " Layer (type)                Output Shape              Param #   \n",
      "=================================================================\n",
      " text_vectorization (TextVec  (None, 1000)             0         \n",
      " torization)                                                     \n",
      "                                                                 \n",
      " embedding (Embedding)       (None, 1000, 300)         900000000 \n",
      "                                                                 \n",
      " bidirectional (Bidirectiona  (None, 1000, 256)        439296    \n",
      " l)                                                              \n",
      "                                                                 \n",
      " bidirectional_1 (Bidirectio  (None, 128)              164352    \n",
      " nal)                                                            \n",
      "                                                                 \n",
      " dropout (Dropout)           (None, 128)               0         \n",
      "                                                                 \n",
      " dense (Dense)               (None, 32)                4128      \n",
      "                                                                 \n",
      " dense_1 (Dense)             (None, 8)                 264       \n",
      "                                                                 \n",
      "=================================================================\n",
      "Total params: 900,608,040\n",
      "Trainable params: 608,040\n",
      "Non-trainable params: 900,000,000\n",
      "_________________________________________________________________\n",
      "You must install pydot (`pip install pydot`) and install graphviz (see instructions at https://graphviz.gitlab.io/download/) for plot_model to work.\n"
     ]
    }
   ],
   "source": [
    "model = create_model()\n",
    "model.summary()\n",
    "plot_model(model, show_shapes=True, show_layer_names=True)\n",
    "\n",
    "# test_loss, test_acc = model.evaluate(X_test, y_test)\n",
    "#\n",
    "# print('Test Loss:', test_loss)\n",
    "# print('Test Accuracy:', test_acc)"
   ]
  },
  {
   "cell_type": "code",
   "execution_count": 17,
   "metadata": {},
   "outputs": [],
   "source": [
    "# model = keras.models.load_model(\"./model_checkpoints/model.02-1.5510-0.4848/model.02-1.5510-0.4848.ckpt\")\n",
    "#\n",
    "# test_loss, test_acc = model.evaluate(X_test, y_test)\n",
    "#\n",
    "# print('Test Loss:', test_loss)\n",
    "# print('Test Accuracy:', test_acc)"
   ]
  },
  {
   "cell_type": "code",
   "execution_count": 18,
   "metadata": {},
   "outputs": [
    {
     "name": "stdout",
     "output_type": "stream",
     "text": [
      "Epoch 1/20\n"
     ]
    },
    {
     "name": "stderr",
     "output_type": "stream",
     "text": [
      "C:\\Users\\Martin\\AppData\\Roaming\\Python\\Python39\\site-packages\\keras\\backend.py:5534: UserWarning: \"`categorical_crossentropy` received `from_logits=True`, but the `output` argument was produced by a Softmax activation and thus does not represent logits. Was this intended?\n",
      "  output, from_logits = _get_logits(\n"
     ]
    },
    {
     "name": "stdout",
     "output_type": "stream",
     "text": [
      " 59/928 [>.............................] - ETA: 45:21 - loss: 1.9467 - categorical_accuracy: 0.3083"
     ]
    },
    {
     "ename": "KeyboardInterrupt",
     "evalue": "",
     "output_type": "error",
     "traceback": [
      "\u001B[1;31m---------------------------------------------------------------------------\u001B[0m",
      "\u001B[1;31mKeyboardInterrupt\u001B[0m                         Traceback (most recent call last)",
      "Cell \u001B[1;32mIn[18], line 21\u001B[0m\n\u001B[0;32m      2\u001B[0m \u001B[38;5;66;03m# simple early stopping\u001B[39;00m\n\u001B[0;32m      3\u001B[0m \u001B[38;5;66;03m# es = EarlyStopping(monitor='val_loss', mode='min', verbose=1)\u001B[39;00m\n\u001B[0;32m      4\u001B[0m \u001B[38;5;66;03m# checkpoint = ModelCheckpoint(\"best_model\", monitor=\"val_categorical_accuracy\", verbose=1, save_best_only=True, mode='max')\u001B[39;00m\n\u001B[0;32m      5\u001B[0m \u001B[38;5;66;03m# callbacks_list = [checkpoint]\u001B[39;00m\n\u001B[0;32m      7\u001B[0m callbacks_list \u001B[38;5;241m=\u001B[39m [\n\u001B[0;32m      8\u001B[0m     \u001B[38;5;66;03m# tf.keras.callbacks.ModelCheckpoint(\u001B[39;00m\n\u001B[0;32m      9\u001B[0m     \u001B[38;5;66;03m#     filepath='./model_checkpoints/model.{epoch:02d}-{val_loss:.4f}-{val_categorical_accuracy:.4f}/model.{epoch:02d}-{val_loss:.4f}-{val_categorical_accuracy:.4f}.ckpt',\u001B[39;00m\n\u001B[1;32m   (...)\u001B[0m\n\u001B[0;32m     18\u001B[0m     \u001B[38;5;66;03m# ModelCheckpoint(\"best_model\", monitor=\"val_categorical_accuracy\", verbose=1, save_best_only=True, mode='max')\u001B[39;00m\n\u001B[0;32m     19\u001B[0m ]\n\u001B[1;32m---> 21\u001B[0m history \u001B[38;5;241m=\u001B[39m \u001B[43mmodel\u001B[49m\u001B[38;5;241;43m.\u001B[39;49m\u001B[43mfit\u001B[49m\u001B[43m(\u001B[49m\u001B[43mX_train\u001B[49m\u001B[43m,\u001B[49m\u001B[43m \u001B[49m\u001B[43my_train\u001B[49m\u001B[43m,\u001B[49m\u001B[43m \u001B[49m\u001B[43mvalidation_data\u001B[49m\u001B[38;5;241;43m=\u001B[39;49m\u001B[43m(\u001B[49m\u001B[43mX_test\u001B[49m\u001B[43m,\u001B[49m\u001B[43m \u001B[49m\u001B[43my_test\u001B[49m\u001B[43m)\u001B[49m\u001B[43m,\u001B[49m\u001B[43m \u001B[49m\u001B[43mepochs\u001B[49m\u001B[38;5;241;43m=\u001B[39;49m\u001B[43mEPOCHS\u001B[49m\u001B[43m,\u001B[49m\u001B[43m \u001B[49m\u001B[43mvalidation_steps\u001B[49m\u001B[38;5;241;43m=\u001B[39;49m\u001B[38;5;241;43m60\u001B[39;49m\u001B[43m,\u001B[49m\u001B[43m \u001B[49m\u001B[43mcallbacks\u001B[49m\u001B[38;5;241;43m=\u001B[39;49m\u001B[43m[\u001B[49m\u001B[43mcallbacks_list\u001B[49m\u001B[43m]\u001B[49m\u001B[43m,\u001B[49m\u001B[43m \u001B[49m\u001B[43mverbose\u001B[49m\u001B[38;5;241;43m=\u001B[39;49m\u001B[38;5;241;43m1\u001B[39;49m\u001B[43m)\u001B[49m\n",
      "File \u001B[1;32m~\\AppData\\Roaming\\Python\\Python39\\site-packages\\keras\\utils\\traceback_utils.py:65\u001B[0m, in \u001B[0;36mfilter_traceback.<locals>.error_handler\u001B[1;34m(*args, **kwargs)\u001B[0m\n\u001B[0;32m     63\u001B[0m filtered_tb \u001B[38;5;241m=\u001B[39m \u001B[38;5;28;01mNone\u001B[39;00m\n\u001B[0;32m     64\u001B[0m \u001B[38;5;28;01mtry\u001B[39;00m:\n\u001B[1;32m---> 65\u001B[0m     \u001B[38;5;28;01mreturn\u001B[39;00m fn(\u001B[38;5;241m*\u001B[39margs, \u001B[38;5;241m*\u001B[39m\u001B[38;5;241m*\u001B[39mkwargs)\n\u001B[0;32m     66\u001B[0m \u001B[38;5;28;01mexcept\u001B[39;00m \u001B[38;5;167;01mException\u001B[39;00m \u001B[38;5;28;01mas\u001B[39;00m e:\n\u001B[0;32m     67\u001B[0m     filtered_tb \u001B[38;5;241m=\u001B[39m _process_traceback_frames(e\u001B[38;5;241m.\u001B[39m__traceback__)\n",
      "File \u001B[1;32m~\\AppData\\Roaming\\Python\\Python39\\site-packages\\keras\\engine\\training.py:1650\u001B[0m, in \u001B[0;36mModel.fit\u001B[1;34m(self, x, y, batch_size, epochs, verbose, callbacks, validation_split, validation_data, shuffle, class_weight, sample_weight, initial_epoch, steps_per_epoch, validation_steps, validation_batch_size, validation_freq, max_queue_size, workers, use_multiprocessing)\u001B[0m\n\u001B[0;32m   1642\u001B[0m \u001B[38;5;28;01mwith\u001B[39;00m tf\u001B[38;5;241m.\u001B[39mprofiler\u001B[38;5;241m.\u001B[39mexperimental\u001B[38;5;241m.\u001B[39mTrace(\n\u001B[0;32m   1643\u001B[0m     \u001B[38;5;124m\"\u001B[39m\u001B[38;5;124mtrain\u001B[39m\u001B[38;5;124m\"\u001B[39m,\n\u001B[0;32m   1644\u001B[0m     epoch_num\u001B[38;5;241m=\u001B[39mepoch,\n\u001B[1;32m   (...)\u001B[0m\n\u001B[0;32m   1647\u001B[0m     _r\u001B[38;5;241m=\u001B[39m\u001B[38;5;241m1\u001B[39m,\n\u001B[0;32m   1648\u001B[0m ):\n\u001B[0;32m   1649\u001B[0m     callbacks\u001B[38;5;241m.\u001B[39mon_train_batch_begin(step)\n\u001B[1;32m-> 1650\u001B[0m     tmp_logs \u001B[38;5;241m=\u001B[39m \u001B[38;5;28;43mself\u001B[39;49m\u001B[38;5;241;43m.\u001B[39;49m\u001B[43mtrain_function\u001B[49m\u001B[43m(\u001B[49m\u001B[43miterator\u001B[49m\u001B[43m)\u001B[49m\n\u001B[0;32m   1651\u001B[0m     \u001B[38;5;28;01mif\u001B[39;00m data_handler\u001B[38;5;241m.\u001B[39mshould_sync:\n\u001B[0;32m   1652\u001B[0m         context\u001B[38;5;241m.\u001B[39masync_wait()\n",
      "File \u001B[1;32m~\\anaconda3\\envs\\bakalarka\\lib\\site-packages\\tensorflow\\python\\util\\traceback_utils.py:150\u001B[0m, in \u001B[0;36mfilter_traceback.<locals>.error_handler\u001B[1;34m(*args, **kwargs)\u001B[0m\n\u001B[0;32m    148\u001B[0m filtered_tb \u001B[38;5;241m=\u001B[39m \u001B[38;5;28;01mNone\u001B[39;00m\n\u001B[0;32m    149\u001B[0m \u001B[38;5;28;01mtry\u001B[39;00m:\n\u001B[1;32m--> 150\u001B[0m   \u001B[38;5;28;01mreturn\u001B[39;00m fn(\u001B[38;5;241m*\u001B[39margs, \u001B[38;5;241m*\u001B[39m\u001B[38;5;241m*\u001B[39mkwargs)\n\u001B[0;32m    151\u001B[0m \u001B[38;5;28;01mexcept\u001B[39;00m \u001B[38;5;167;01mException\u001B[39;00m \u001B[38;5;28;01mas\u001B[39;00m e:\n\u001B[0;32m    152\u001B[0m   filtered_tb \u001B[38;5;241m=\u001B[39m _process_traceback_frames(e\u001B[38;5;241m.\u001B[39m__traceback__)\n",
      "File \u001B[1;32m~\\anaconda3\\envs\\bakalarka\\lib\\site-packages\\tensorflow\\python\\eager\\polymorphic_function\\polymorphic_function.py:880\u001B[0m, in \u001B[0;36mFunction.__call__\u001B[1;34m(self, *args, **kwds)\u001B[0m\n\u001B[0;32m    877\u001B[0m compiler \u001B[38;5;241m=\u001B[39m \u001B[38;5;124m\"\u001B[39m\u001B[38;5;124mxla\u001B[39m\u001B[38;5;124m\"\u001B[39m \u001B[38;5;28;01mif\u001B[39;00m \u001B[38;5;28mself\u001B[39m\u001B[38;5;241m.\u001B[39m_jit_compile \u001B[38;5;28;01melse\u001B[39;00m \u001B[38;5;124m\"\u001B[39m\u001B[38;5;124mnonXla\u001B[39m\u001B[38;5;124m\"\u001B[39m\n\u001B[0;32m    879\u001B[0m \u001B[38;5;28;01mwith\u001B[39;00m OptionalXlaContext(\u001B[38;5;28mself\u001B[39m\u001B[38;5;241m.\u001B[39m_jit_compile):\n\u001B[1;32m--> 880\u001B[0m   result \u001B[38;5;241m=\u001B[39m \u001B[38;5;28mself\u001B[39m\u001B[38;5;241m.\u001B[39m_call(\u001B[38;5;241m*\u001B[39margs, \u001B[38;5;241m*\u001B[39m\u001B[38;5;241m*\u001B[39mkwds)\n\u001B[0;32m    882\u001B[0m new_tracing_count \u001B[38;5;241m=\u001B[39m \u001B[38;5;28mself\u001B[39m\u001B[38;5;241m.\u001B[39mexperimental_get_tracing_count()\n\u001B[0;32m    883\u001B[0m without_tracing \u001B[38;5;241m=\u001B[39m (tracing_count \u001B[38;5;241m==\u001B[39m new_tracing_count)\n",
      "File \u001B[1;32m~\\anaconda3\\envs\\bakalarka\\lib\\site-packages\\tensorflow\\python\\eager\\polymorphic_function\\polymorphic_function.py:912\u001B[0m, in \u001B[0;36mFunction._call\u001B[1;34m(self, *args, **kwds)\u001B[0m\n\u001B[0;32m    909\u001B[0m   \u001B[38;5;28mself\u001B[39m\u001B[38;5;241m.\u001B[39m_lock\u001B[38;5;241m.\u001B[39mrelease()\n\u001B[0;32m    910\u001B[0m   \u001B[38;5;66;03m# In this case we have created variables on the first call, so we run the\u001B[39;00m\n\u001B[0;32m    911\u001B[0m   \u001B[38;5;66;03m# defunned version which is guaranteed to never create variables.\u001B[39;00m\n\u001B[1;32m--> 912\u001B[0m   \u001B[38;5;28;01mreturn\u001B[39;00m \u001B[38;5;28mself\u001B[39m\u001B[38;5;241m.\u001B[39m_no_variable_creation_fn(\u001B[38;5;241m*\u001B[39margs, \u001B[38;5;241m*\u001B[39m\u001B[38;5;241m*\u001B[39mkwds)  \u001B[38;5;66;03m# pylint: disable=not-callable\u001B[39;00m\n\u001B[0;32m    913\u001B[0m \u001B[38;5;28;01melif\u001B[39;00m \u001B[38;5;28mself\u001B[39m\u001B[38;5;241m.\u001B[39m_variable_creation_fn \u001B[38;5;129;01mis\u001B[39;00m \u001B[38;5;129;01mnot\u001B[39;00m \u001B[38;5;28;01mNone\u001B[39;00m:\n\u001B[0;32m    914\u001B[0m   \u001B[38;5;66;03m# Release the lock early so that multiple threads can perform the call\u001B[39;00m\n\u001B[0;32m    915\u001B[0m   \u001B[38;5;66;03m# in parallel.\u001B[39;00m\n\u001B[0;32m    916\u001B[0m   \u001B[38;5;28mself\u001B[39m\u001B[38;5;241m.\u001B[39m_lock\u001B[38;5;241m.\u001B[39mrelease()\n",
      "File \u001B[1;32m~\\anaconda3\\envs\\bakalarka\\lib\\site-packages\\tensorflow\\python\\eager\\polymorphic_function\\tracing_compiler.py:134\u001B[0m, in \u001B[0;36mTracingCompiler.__call__\u001B[1;34m(self, *args, **kwargs)\u001B[0m\n\u001B[0;32m    131\u001B[0m \u001B[38;5;28;01mwith\u001B[39;00m \u001B[38;5;28mself\u001B[39m\u001B[38;5;241m.\u001B[39m_lock:\n\u001B[0;32m    132\u001B[0m   (concrete_function,\n\u001B[0;32m    133\u001B[0m    filtered_flat_args) \u001B[38;5;241m=\u001B[39m \u001B[38;5;28mself\u001B[39m\u001B[38;5;241m.\u001B[39m_maybe_define_function(args, kwargs)\n\u001B[1;32m--> 134\u001B[0m \u001B[38;5;28;01mreturn\u001B[39;00m \u001B[43mconcrete_function\u001B[49m\u001B[38;5;241;43m.\u001B[39;49m\u001B[43m_call_flat\u001B[49m\u001B[43m(\u001B[49m\n\u001B[0;32m    135\u001B[0m \u001B[43m    \u001B[49m\u001B[43mfiltered_flat_args\u001B[49m\u001B[43m,\u001B[49m\u001B[43m \u001B[49m\u001B[43mcaptured_inputs\u001B[49m\u001B[38;5;241;43m=\u001B[39;49m\u001B[43mconcrete_function\u001B[49m\u001B[38;5;241;43m.\u001B[39;49m\u001B[43mcaptured_inputs\u001B[49m\u001B[43m)\u001B[49m\n",
      "File \u001B[1;32m~\\anaconda3\\envs\\bakalarka\\lib\\site-packages\\tensorflow\\python\\eager\\polymorphic_function\\monomorphic_function.py:1745\u001B[0m, in \u001B[0;36mConcreteFunction._call_flat\u001B[1;34m(self, args, captured_inputs, cancellation_manager)\u001B[0m\n\u001B[0;32m   1741\u001B[0m possible_gradient_type \u001B[38;5;241m=\u001B[39m gradients_util\u001B[38;5;241m.\u001B[39mPossibleTapeGradientTypes(args)\n\u001B[0;32m   1742\u001B[0m \u001B[38;5;28;01mif\u001B[39;00m (possible_gradient_type \u001B[38;5;241m==\u001B[39m gradients_util\u001B[38;5;241m.\u001B[39mPOSSIBLE_GRADIENT_TYPES_NONE\n\u001B[0;32m   1743\u001B[0m     \u001B[38;5;129;01mand\u001B[39;00m executing_eagerly):\n\u001B[0;32m   1744\u001B[0m   \u001B[38;5;66;03m# No tape is watching; skip to running the function.\u001B[39;00m\n\u001B[1;32m-> 1745\u001B[0m   \u001B[38;5;28;01mreturn\u001B[39;00m \u001B[38;5;28mself\u001B[39m\u001B[38;5;241m.\u001B[39m_build_call_outputs(\u001B[38;5;28;43mself\u001B[39;49m\u001B[38;5;241;43m.\u001B[39;49m\u001B[43m_inference_function\u001B[49m\u001B[38;5;241;43m.\u001B[39;49m\u001B[43mcall\u001B[49m\u001B[43m(\u001B[49m\n\u001B[0;32m   1746\u001B[0m \u001B[43m      \u001B[49m\u001B[43mctx\u001B[49m\u001B[43m,\u001B[49m\u001B[43m \u001B[49m\u001B[43margs\u001B[49m\u001B[43m,\u001B[49m\u001B[43m \u001B[49m\u001B[43mcancellation_manager\u001B[49m\u001B[38;5;241;43m=\u001B[39;49m\u001B[43mcancellation_manager\u001B[49m\u001B[43m)\u001B[49m)\n\u001B[0;32m   1747\u001B[0m forward_backward \u001B[38;5;241m=\u001B[39m \u001B[38;5;28mself\u001B[39m\u001B[38;5;241m.\u001B[39m_select_forward_and_backward_functions(\n\u001B[0;32m   1748\u001B[0m     args,\n\u001B[0;32m   1749\u001B[0m     possible_gradient_type,\n\u001B[0;32m   1750\u001B[0m     executing_eagerly)\n\u001B[0;32m   1751\u001B[0m forward_function, args_with_tangents \u001B[38;5;241m=\u001B[39m forward_backward\u001B[38;5;241m.\u001B[39mforward()\n",
      "File \u001B[1;32m~\\anaconda3\\envs\\bakalarka\\lib\\site-packages\\tensorflow\\python\\eager\\polymorphic_function\\monomorphic_function.py:378\u001B[0m, in \u001B[0;36m_EagerDefinedFunction.call\u001B[1;34m(self, ctx, args, cancellation_manager)\u001B[0m\n\u001B[0;32m    376\u001B[0m \u001B[38;5;28;01mwith\u001B[39;00m _InterpolateFunctionError(\u001B[38;5;28mself\u001B[39m):\n\u001B[0;32m    377\u001B[0m   \u001B[38;5;28;01mif\u001B[39;00m cancellation_manager \u001B[38;5;129;01mis\u001B[39;00m \u001B[38;5;28;01mNone\u001B[39;00m:\n\u001B[1;32m--> 378\u001B[0m     outputs \u001B[38;5;241m=\u001B[39m \u001B[43mexecute\u001B[49m\u001B[38;5;241;43m.\u001B[39;49m\u001B[43mexecute\u001B[49m\u001B[43m(\u001B[49m\n\u001B[0;32m    379\u001B[0m \u001B[43m        \u001B[49m\u001B[38;5;28;43mstr\u001B[39;49m\u001B[43m(\u001B[49m\u001B[38;5;28;43mself\u001B[39;49m\u001B[38;5;241;43m.\u001B[39;49m\u001B[43msignature\u001B[49m\u001B[38;5;241;43m.\u001B[39;49m\u001B[43mname\u001B[49m\u001B[43m)\u001B[49m\u001B[43m,\u001B[49m\n\u001B[0;32m    380\u001B[0m \u001B[43m        \u001B[49m\u001B[43mnum_outputs\u001B[49m\u001B[38;5;241;43m=\u001B[39;49m\u001B[38;5;28;43mself\u001B[39;49m\u001B[38;5;241;43m.\u001B[39;49m\u001B[43m_num_outputs\u001B[49m\u001B[43m,\u001B[49m\n\u001B[0;32m    381\u001B[0m \u001B[43m        \u001B[49m\u001B[43minputs\u001B[49m\u001B[38;5;241;43m=\u001B[39;49m\u001B[43margs\u001B[49m\u001B[43m,\u001B[49m\n\u001B[0;32m    382\u001B[0m \u001B[43m        \u001B[49m\u001B[43mattrs\u001B[49m\u001B[38;5;241;43m=\u001B[39;49m\u001B[43mattrs\u001B[49m\u001B[43m,\u001B[49m\n\u001B[0;32m    383\u001B[0m \u001B[43m        \u001B[49m\u001B[43mctx\u001B[49m\u001B[38;5;241;43m=\u001B[39;49m\u001B[43mctx\u001B[49m\u001B[43m)\u001B[49m\n\u001B[0;32m    384\u001B[0m   \u001B[38;5;28;01melse\u001B[39;00m:\n\u001B[0;32m    385\u001B[0m     outputs \u001B[38;5;241m=\u001B[39m execute\u001B[38;5;241m.\u001B[39mexecute_with_cancellation(\n\u001B[0;32m    386\u001B[0m         \u001B[38;5;28mstr\u001B[39m(\u001B[38;5;28mself\u001B[39m\u001B[38;5;241m.\u001B[39msignature\u001B[38;5;241m.\u001B[39mname),\n\u001B[0;32m    387\u001B[0m         num_outputs\u001B[38;5;241m=\u001B[39m\u001B[38;5;28mself\u001B[39m\u001B[38;5;241m.\u001B[39m_num_outputs,\n\u001B[1;32m   (...)\u001B[0m\n\u001B[0;32m    390\u001B[0m         ctx\u001B[38;5;241m=\u001B[39mctx,\n\u001B[0;32m    391\u001B[0m         cancellation_manager\u001B[38;5;241m=\u001B[39mcancellation_manager)\n",
      "File \u001B[1;32m~\\anaconda3\\envs\\bakalarka\\lib\\site-packages\\tensorflow\\python\\eager\\execute.py:52\u001B[0m, in \u001B[0;36mquick_execute\u001B[1;34m(op_name, num_outputs, inputs, attrs, ctx, name)\u001B[0m\n\u001B[0;32m     50\u001B[0m \u001B[38;5;28;01mtry\u001B[39;00m:\n\u001B[0;32m     51\u001B[0m   ctx\u001B[38;5;241m.\u001B[39mensure_initialized()\n\u001B[1;32m---> 52\u001B[0m   tensors \u001B[38;5;241m=\u001B[39m \u001B[43mpywrap_tfe\u001B[49m\u001B[38;5;241;43m.\u001B[39;49m\u001B[43mTFE_Py_Execute\u001B[49m\u001B[43m(\u001B[49m\u001B[43mctx\u001B[49m\u001B[38;5;241;43m.\u001B[39;49m\u001B[43m_handle\u001B[49m\u001B[43m,\u001B[49m\u001B[43m \u001B[49m\u001B[43mdevice_name\u001B[49m\u001B[43m,\u001B[49m\u001B[43m \u001B[49m\u001B[43mop_name\u001B[49m\u001B[43m,\u001B[49m\n\u001B[0;32m     53\u001B[0m \u001B[43m                                      \u001B[49m\u001B[43minputs\u001B[49m\u001B[43m,\u001B[49m\u001B[43m \u001B[49m\u001B[43mattrs\u001B[49m\u001B[43m,\u001B[49m\u001B[43m \u001B[49m\u001B[43mnum_outputs\u001B[49m\u001B[43m)\u001B[49m\n\u001B[0;32m     54\u001B[0m \u001B[38;5;28;01mexcept\u001B[39;00m core\u001B[38;5;241m.\u001B[39m_NotOkStatusException \u001B[38;5;28;01mas\u001B[39;00m e:\n\u001B[0;32m     55\u001B[0m   \u001B[38;5;28;01mif\u001B[39;00m name \u001B[38;5;129;01mis\u001B[39;00m \u001B[38;5;129;01mnot\u001B[39;00m \u001B[38;5;28;01mNone\u001B[39;00m:\n",
      "\u001B[1;31mKeyboardInterrupt\u001B[0m: "
     ]
    }
   ],
   "source": [
    "from keras.callbacks import ModelCheckpoint, EarlyStopping\n",
    "# simple early stopping\n",
    "# es = EarlyStopping(monitor='val_loss', mode='min', verbose=1)\n",
    "# checkpoint = ModelCheckpoint(\"best_model\", monitor=\"val_categorical_accuracy\", verbose=1, save_best_only=True, mode='max')\n",
    "# callbacks_list = [checkpoint]\n",
    "\n",
    "callbacks_list = [\n",
    "    # tf.keras.callbacks.ModelCheckpoint(\n",
    "    #     filepath='./model_checkpoints/model.{epoch:02d}-{val_loss:.4f}-{val_categorical_accuracy:.4f}/model.{epoch:02d}-{val_loss:.4f}-{val_categorical_accuracy:.4f}.ckpt',\n",
    "    #     save_freq='epoch', verbose=1, monitor='val_loss',\n",
    "    #     save_weights_only=True, save_best_only=False,\n",
    "    # ),\n",
    "    ModelCheckpoint(\n",
    "        filepath='./model_checkpoints/model.{epoch:02d}-{val_loss:.4f}-{val_categorical_accuracy:.4f}',\n",
    "        freq=1,\n",
    "        directory=\"./model_checkpoints/model.{epoch:02d}-{val_loss:.4f}-{val_categorical_accuracy:.4f}'\"\n",
    "    )\n",
    "    # ModelCheckpoint(\"best_model\", monitor=\"val_categorical_accuracy\", verbose=1, save_best_only=True, mode='max')\n",
    "]\n",
    "\n",
    "history = model.fit(X_train, y_train, validation_data=(X_test, y_test), epochs=EPOCHS, validation_steps=60, callbacks=[callbacks_list], verbose=1)\n",
    "# history = model.fit(X_train, y_train, validation_data=(X_test, y_test), epochs=EPOCHS, validation_steps=30, verbose=1,use_multiprocessing=True, workers=5)"
   ]
  },
  {
   "cell_type": "markdown",
   "metadata": {},
   "source": [
    "# Zatial najlepsie:\n",
    "    75.23 (rozsireny dataset - keras TextVectorization layer, LSTM)\n",
    "    73.90 (rozsireny dataset - keras TextVectorization layer, LSTM)\n",
    "    71.28 (rozsireny dataset - keras TextVectorization layer, LSTM)\n",
    "    67.52 (rozsireny dataset - sklearn TextVectorization, Conv1D)"
   ]
  },
  {
   "cell_type": "code",
   "execution_count": null,
   "metadata": {},
   "outputs": [],
   "source": [
    "# print(model.history.history)\n",
    "# with open(\"./model_checkpoints/model1_history\", \"wb\") as file:\n",
    "#     pickle.dump(model.history.history, file)"
   ]
  },
  {
   "cell_type": "code",
   "execution_count": null,
   "metadata": {},
   "outputs": [],
   "source": [
    "with open(\"./model_checkpoints/model1_history\", \"rb\") as file:\n",
    "    history_test = pickle.load(file)\n",
    "\n",
    "print(history_test)"
   ]
  },
  {
   "cell_type": "code",
   "execution_count": null,
   "metadata": {},
   "outputs": [],
   "source": [
    "# Saving model\n",
    "# pickle.dump(model, open(\"model\", 'wb'))"
   ]
  },
  {
   "cell_type": "code",
   "execution_count": null,
   "metadata": {},
   "outputs": [],
   "source": [
    "# Load model\n",
    "# model = pickle.load(open(\"model\", 'rb'))"
   ]
  },
  {
   "cell_type": "code",
   "execution_count": null,
   "metadata": {},
   "outputs": [],
   "source": [
    "# h = history.history\n",
    "# h = history_test\n",
    "\n",
    "# plt.plot(h[\"loss\"], label=\"loss\")\n",
    "plt.plot(history_test[\"categorical_accuracy\"], label=\"categorical_accuracy\")\n",
    "plt.plot(history_test[\"val_categorical_accuracy\"], label=\"val_categorical_accuracy\")\n",
    "# plt.plot([0.5698, 0.6503, 0.6952, 0.7135, 0.7158, 0.7161, 0.7243, 0.7312, 0.7280, 0.7275], label=\"accuracy\")\n",
    "# plt.plot(h[\"val_loss\"], label=\"val_loss\")\n",
    "# plt.plot(h[\"val_loss\"], label=\"val_loss\")\n",
    "plt.title(\"Heavy model\", fontsize=20)\n",
    "plt.legend()\n",
    "plt.show()"
   ]
  },
  {
   "cell_type": "code",
   "execution_count": null,
   "metadata": {},
   "outputs": [],
   "source": [
    "plt.plot(h[\"categorical_accuracy\"], label=\"categorical_accuracy\")\n",
    "plt.plot(h[\"val_categorical_accuracy\"], label=\"val_categorical_accuracy\")\n",
    "# plt.plot(h[\"val_loss\"], label=\"val_loss\")\n",
    "plt.title(\"Acc\", fontsize=20)\n",
    "plt.legend()\n",
    "plt.show()"
   ]
  },
  {
   "cell_type": "code",
   "execution_count": null,
   "metadata": {},
   "outputs": [],
   "source": [
    "# test_loss, test_acc = model.evaluate(gen_val)\n",
    "test_loss, test_acc = model.evaluate(X_test, y_test)\n",
    "\n",
    "print('Test Loss:', test_loss)\n",
    "print('Test Accuracy:', test_acc)"
   ]
  },
  {
   "cell_type": "code",
   "execution_count": null,
   "metadata": {},
   "outputs": [],
   "source": [
    "from sklearn.metrics import confusion_matrix, ConfusionMatrixDisplay\n",
    "\n",
    "labels = df.columns\n",
    "predictions = model.predict(X_test)\n",
    "cm = confusion_matrix(y_test, predictions)\n",
    "disp = ConfusionMatrixDisplay(confusion_matrix=cm)\n",
    "fig, ax = plt.subplots(figsize=(11,11))\n",
    "disp.plot(ax=ax, cmap=\"Greens\")\n",
    "plt.title(\"Confusion matrix for individual characters\", fontsize=20)\n",
    "ax.set_xticklabels(labels)\n",
    "ax.set_yticklabels(labels)\n",
    "plt.xlabel(\"Predicted\", fontsize=14)\n",
    "plt.ylabel(\"True\", fontsize=14)\n",
    "plt.show()"
   ]
  },
  {
   "cell_type": "code",
   "execution_count": null,
   "metadata": {},
   "outputs": [],
   "source": [
    "# Doterajsie vysledky\n",
    "\n",
    "# Cely DS:\n",
    "#   2 kategorie (\"Company\" a \"Education\"):\n",
    "#       15 epoch:\n",
    "#           Train Acc: 0.9663   Train Loss: 0.0858\n",
    "#           Test Acc = 0.9286   Test Loss: 0.2270\n",
    "#       20 epoch:\n",
    "#           Train Acc: 0.9671   Train Loss: 0.0783\n",
    "#           Test Acc = 0.9270   Test Loss: 0.2536\n",
    "#       50 epoch:\n",
    "#           Train Acc: 0.9738   Train Loss: 0.0609\n",
    "#           Test Acc = 0.9167   Test Loss: 0.4088\n",
    "#\n",
    "#   8 kategorii:\n",
    "#       70 epoch:\n",
    "#           Train Acc: 0.82     Train Loss: ?\n",
    "#           Test Acc: 0.611     Test Loss: ?\n",
    "#       100 epoch:\n",
    "#           Train Acc: 0.8647   Train Loss: 0.3846\n",
    "#           Test Acc: 0.606     Test Loss: 3.0083\n",
    "#       130 epoch:\n",
    "#           Train Acc: 0.8856   Train Loss: 0.3287\n",
    "#           Test Acc: 0.6014    Test Loss: 3.6702\n",
    "#       150 epoch:\n",
    "#           Train Acc: 0.8898   Train Loss: 0.3170\n",
    "#           Test Acc: 0.5954    Test Loss: 3.7761"
   ]
  }
 ],
 "metadata": {
  "kernelspec": {
   "name": "bakalarka",
   "language": "python",
   "display_name": "bakalarka-kernel"
  },
  "language_info": {
   "codemirror_mode": {
    "name": "ipython",
    "version": 3
   },
   "file_extension": ".py",
   "mimetype": "text/x-python",
   "name": "python",
   "nbconvert_exporter": "python",
   "pygments_lexer": "ipython3",
   "version": "3.10.9"
  }
 },
 "nbformat": 4,
 "nbformat_minor": 4
}
