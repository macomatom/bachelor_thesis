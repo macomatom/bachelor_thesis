{
 "cells": [
  {
   "cell_type": "code",
   "execution_count": 1,
   "metadata": {
    "collapsed": true
   },
   "outputs": [],
   "source": [
    "import pandas as pd\n",
    "from bs4 import BeautifulSoup\n",
    "\n",
    "import os\n",
    "\n",
    "from tqdm import tqdm\n",
    "\n",
    "import warnings\n",
    "warnings.simplefilter(action='ignore', category=FutureWarning)"
   ]
  },
  {
   "cell_type": "code",
   "execution_count": 2,
   "outputs": [],
   "source": [
    "PATH = \"C:/Matko - CloudStation/UPJS/_Bakalarka/data_drojove_kody_stranok_nove/\"\n",
    "COLUMNS_NAMES = [\"valid_dir\", \"title\", \"h1\", \"h2\", \"h3\", \"h4\", \"h5\", \"h6\", \"p\", \"a\", \"li\", \"span\"]"
   ],
   "metadata": {
    "collapsed": false
   }
  },
  {
   "cell_type": "code",
   "execution_count": 3,
   "outputs": [],
   "source": [
    "# df = pd.read_csv(\"../1_Filtrovanie_dostupnosti_a_scrapovanie/dataset_unreachable_urls_filtered_with_lang_labels.csv\")\n",
    "# df = df.set_index('index')\n",
    "# df = df[df['lang_eng'] == 1] # Pracujeme iba s anglickym jazykom\n",
    "# print(df.shape)\n",
    "# df.head()\n",
    "# # df.tail()"
   ],
   "metadata": {
    "collapsed": false
   }
  },
  {
   "cell_type": "code",
   "execution_count": 4,
   "outputs": [],
   "source": [
    "# df = df.reindex(columns=df.columns.tolist() + COLUMNS_NAMES)\n",
    "# df['valid_dir'] = 0  # Default valueA\n",
    "# df.head()"
   ],
   "metadata": {
    "collapsed": false
   }
  },
  {
   "cell_type": "code",
   "execution_count": 5,
   "outputs": [],
   "source": [
    "# # # Create new dataset\n",
    "# # new_df = pd.DataFrame()\n",
    "# # i = 0\n",
    "# # for foldername in os.scandir(PATH):\n",
    "# #     # print(df.loc[[int(foldername.name)]])\n",
    "# #     if os.listdir(PATH + foldername.name):\n",
    "# #         new_df = new_df.append(df.loc[[int(foldername.name)]])\n",
    "# #\n",
    "# #     # if i > 20:\n",
    "# #     #     break\n",
    "# #\n",
    "# #     # i += 1\n",
    "#\n",
    "# # Create new dataset\n",
    "# for folder in os.scandir(PATH):\n",
    "#     if os.listdir(PATH + folder.name):\n",
    "#         df.at[int(folder.name), 'valid_dir'] = 1  # If folder exists and is not empty\n",
    "#\n",
    "# df.head()"
   ],
   "metadata": {
    "collapsed": false
   }
  },
  {
   "cell_type": "code",
   "execution_count": 6,
   "outputs": [],
   "source": [
    "# new_df = df[df['valid_dir'] == 1]\n",
    "# print(new_df.shape)\n",
    "# new_df.head()"
   ],
   "metadata": {
    "collapsed": false
   }
  },
  {
   "cell_type": "code",
   "execution_count": 7,
   "outputs": [],
   "source": [
    "# new_df_zaloha = new_df.copy()"
   ],
   "metadata": {
    "collapsed": false
   }
  },
  {
   "cell_type": "code",
   "execution_count": 8,
   "outputs": [],
   "source": [
    "# !pip install lxml"
   ],
   "metadata": {
    "collapsed": false
   }
  },
  {
   "cell_type": "code",
   "execution_count": 9,
   "outputs": [
    {
     "name": "stdout",
     "output_type": "stream",
     "text": [
      "(46278, 16)\n",
      "43991\n"
     ]
    },
    {
     "data": {
      "text/plain": "                                                    name  \\\nindex                                                      \n101248                      Erasmus University Rotterdam   \n101249                                        LifeStream   \n101252                           Shirak State University   \n101255                       Radboud University Nijmegen   \n101257  Northamptonshire Healthcare NHS Foundation Trust   \n\n                              link        type  lang_eng  valid_dir title  \\\nindex                                                                       \n101248  http://www.eur.nl/english/   Education         1          1   NaN   \n101249    https://www.lstream.org/   Nonprofit         1          1   NaN   \n101252          http://shsu.am/en/   Education         1          1   NaN   \n101255   http://www.ru.nl/english/   Education         1          1   NaN   \n101257    https://www.nhft.nhs.uk/  Healthcare         1          1   NaN   \n\n         h1   h2   h3   h4   h5   h6    p    a   li span  \nindex                                                     \n101248  NaN  NaN  NaN  NaN  NaN  NaN  NaN  NaN  NaN  NaN  \n101249  NaN  NaN  NaN  NaN  NaN  NaN  NaN  NaN  NaN  NaN  \n101252  NaN  NaN  NaN  NaN  NaN  NaN  NaN  NaN  NaN  NaN  \n101255  NaN  NaN  NaN  NaN  NaN  NaN  NaN  NaN  NaN  NaN  \n101257  NaN  NaN  NaN  NaN  NaN  NaN  NaN  NaN  NaN  NaN  ",
      "text/html": "<div>\n<style scoped>\n    .dataframe tbody tr th:only-of-type {\n        vertical-align: middle;\n    }\n\n    .dataframe tbody tr th {\n        vertical-align: top;\n    }\n\n    .dataframe thead th {\n        text-align: right;\n    }\n</style>\n<table border=\"1\" class=\"dataframe\">\n  <thead>\n    <tr style=\"text-align: right;\">\n      <th></th>\n      <th>name</th>\n      <th>link</th>\n      <th>type</th>\n      <th>lang_eng</th>\n      <th>valid_dir</th>\n      <th>title</th>\n      <th>h1</th>\n      <th>h2</th>\n      <th>h3</th>\n      <th>h4</th>\n      <th>h5</th>\n      <th>h6</th>\n      <th>p</th>\n      <th>a</th>\n      <th>li</th>\n      <th>span</th>\n    </tr>\n    <tr>\n      <th>index</th>\n      <th></th>\n      <th></th>\n      <th></th>\n      <th></th>\n      <th></th>\n      <th></th>\n      <th></th>\n      <th></th>\n      <th></th>\n      <th></th>\n      <th></th>\n      <th></th>\n      <th></th>\n      <th></th>\n      <th></th>\n      <th></th>\n    </tr>\n  </thead>\n  <tbody>\n    <tr>\n      <th>101248</th>\n      <td>Erasmus University Rotterdam</td>\n      <td>http://www.eur.nl/english/</td>\n      <td>Education</td>\n      <td>1</td>\n      <td>1</td>\n      <td>NaN</td>\n      <td>NaN</td>\n      <td>NaN</td>\n      <td>NaN</td>\n      <td>NaN</td>\n      <td>NaN</td>\n      <td>NaN</td>\n      <td>NaN</td>\n      <td>NaN</td>\n      <td>NaN</td>\n      <td>NaN</td>\n    </tr>\n    <tr>\n      <th>101249</th>\n      <td>LifeStream</td>\n      <td>https://www.lstream.org/</td>\n      <td>Nonprofit</td>\n      <td>1</td>\n      <td>1</td>\n      <td>NaN</td>\n      <td>NaN</td>\n      <td>NaN</td>\n      <td>NaN</td>\n      <td>NaN</td>\n      <td>NaN</td>\n      <td>NaN</td>\n      <td>NaN</td>\n      <td>NaN</td>\n      <td>NaN</td>\n      <td>NaN</td>\n    </tr>\n    <tr>\n      <th>101252</th>\n      <td>Shirak State University</td>\n      <td>http://shsu.am/en/</td>\n      <td>Education</td>\n      <td>1</td>\n      <td>1</td>\n      <td>NaN</td>\n      <td>NaN</td>\n      <td>NaN</td>\n      <td>NaN</td>\n      <td>NaN</td>\n      <td>NaN</td>\n      <td>NaN</td>\n      <td>NaN</td>\n      <td>NaN</td>\n      <td>NaN</td>\n      <td>NaN</td>\n    </tr>\n    <tr>\n      <th>101255</th>\n      <td>Radboud University Nijmegen</td>\n      <td>http://www.ru.nl/english/</td>\n      <td>Education</td>\n      <td>1</td>\n      <td>1</td>\n      <td>NaN</td>\n      <td>NaN</td>\n      <td>NaN</td>\n      <td>NaN</td>\n      <td>NaN</td>\n      <td>NaN</td>\n      <td>NaN</td>\n      <td>NaN</td>\n      <td>NaN</td>\n      <td>NaN</td>\n      <td>NaN</td>\n    </tr>\n    <tr>\n      <th>101257</th>\n      <td>Northamptonshire Healthcare NHS Foundation Trust</td>\n      <td>https://www.nhft.nhs.uk/</td>\n      <td>Healthcare</td>\n      <td>1</td>\n      <td>1</td>\n      <td>NaN</td>\n      <td>NaN</td>\n      <td>NaN</td>\n      <td>NaN</td>\n      <td>NaN</td>\n      <td>NaN</td>\n      <td>NaN</td>\n      <td>NaN</td>\n      <td>NaN</td>\n      <td>NaN</td>\n      <td>NaN</td>\n    </tr>\n  </tbody>\n</table>\n</div>"
     },
     "execution_count": 9,
     "metadata": {},
     "output_type": "execute_result"
    }
   ],
   "source": [
    "new_df = pd.read_csv(\"rozsireny_dataset.csv\")\n",
    "new_df = new_df.set_index('index')\n",
    "print(new_df.shape)\n",
    "print(new_df['h1'].count())\n",
    "new_df.tail()"
   ],
   "metadata": {
    "collapsed": false
   }
  },
  {
   "cell_type": "code",
   "execution_count": 11,
   "outputs": [
    {
     "name": "stderr",
     "output_type": "stream",
     "text": [
      " 44%|████▍     | 1001/2279 [07:58<30:19,  1.42s/it] "
     ]
    },
    {
     "name": "stdout",
     "output_type": "stream",
     "text": [
      "Saved cuccessfuly, new count: 44991\n"
     ]
    },
    {
     "name": "stderr",
     "output_type": "stream",
     "text": [
      " 88%|████████▊ | 2001/2279 [16:33<06:21,  1.37s/it]  "
     ]
    },
    {
     "name": "stdout",
     "output_type": "stream",
     "text": [
      "Saved cuccessfuly, new count: 45991\n"
     ]
    },
    {
     "name": "stderr",
     "output_type": "stream",
     "text": [
      "100%|█████████▉| 2278/2279 [18:47<00:00,  2.02it/s]\n"
     ]
    },
    {
     "name": "stdout",
     "output_type": "stream",
     "text": [
      "46269\n"
     ]
    }
   ],
   "source": [
    "indexes = list(new_df.index)\n",
    "od_idx, po_idx = 44000, 46279\n",
    "n_jobs = po_idx - od_idx\n",
    "\n",
    "i = 0\n",
    "with tqdm(total=(n_jobs)) as pbar:\n",
    "    # loop through every folder\n",
    "    for i, index in enumerate(indexes[od_idx:]):\n",
    "        try:\n",
    "            # Working directory\n",
    "            folder = PATH + str(index) + \"/\"\n",
    "\n",
    "            # dictionary for storing content from up to 20 subpages from working directory\n",
    "            joined_content = {col_name: \"\" for col_name in COLUMNS_NAMES[1:]}\n",
    "\n",
    "            # loop through every HTML file in working directory\n",
    "            for file in os.scandir(folder):\n",
    "\n",
    "                soup = BeautifulSoup(open(f\"{folder}{file.name}\", encoding='utf8'))\n",
    "\n",
    "                for j, col_name in enumerate(COLUMNS_NAMES[1:]):\n",
    "                    my_arr = soup.find(col_name)\n",
    "                    my_arr = my_arr.find_all(string=True, recursive=False) if my_arr is not None else []\n",
    "                    content = \" \".join(my_arr) if my_arr else \" \"\n",
    "                    # print(content)\n",
    "                    # print(df.iloc[index])\n",
    "                    joined_content[col_name] += (content + \" \")\n",
    "\n",
    "            for j, col_name in enumerate(COLUMNS_NAMES[1:]):\n",
    "                new_df.at[index, col_name] = joined_content[col_name]\n",
    "            # df.loc[df.index[index], name] = joined_content\n",
    "\n",
    "        except PermissionError:\n",
    "            print(f\"Unable to open file \\\"{folder}{file.name}\\\"\")\n",
    "        except FileNotFoundError:\n",
    "            print(f\"Unable to open file \\\"{folder}{file.name}\\\"\")\n",
    "\n",
    "        # if i%10 == 0:\n",
    "        #     print(i)\n",
    "\n",
    "        pbar.update(1)\n",
    "        i += 1\n",
    "\n",
    "        if i % 100 == 0:\n",
    "            new_df.to_csv(\"rozsireny_dataset.csv\", index=True)\n",
    "            # print(f\"Saved cuccessfuly, new count: {new_df['h1'].count()}\")\n",
    "            if i % 1000 == 0:\n",
    "                tqdm.write(f\"Saved cuccessfuly, new count: {new_df['h1'].count()}\")\n",
    "\n",
    "\n",
    "# prblematicke_indexy = [14875, 14876. 20677, 20711, 31834]\n",
    "\n",
    "new_df.to_csv(\"rozsireny_dataset.csv\", index=True)\n",
    "(new_df.shape)\n",
    "print(new_df['h1'].count())\n",
    "df_zaloha = new_df.copy()"
   ],
   "metadata": {
    "collapsed": false
   }
  },
  {
   "cell_type": "code",
   "execution_count": 12,
   "outputs": [
    {
     "name": "stdout",
     "output_type": "stream",
     "text": [
      "(46278, 16)\n",
      "32901\n"
     ]
    }
   ],
   "source": [
    "new_df.to_csv(\"rozsireny_dataset.csv\", index=True)\n",
    "print(new_df.shape)\n",
    "print(new_df['h1'].count())\n",
    "df_zaloha = new_df.copy()"
   ],
   "metadata": {
    "collapsed": false
   }
  },
  {
   "cell_type": "code",
   "execution_count": 13,
   "outputs": [
    {
     "name": "stdout",
     "output_type": "stream",
     "text": [
      "(46278, 16)\n"
     ]
    },
    {
     "data": {
      "text/plain": "                                                    name  \\\nindex                                                      \n0                         Australian National University   \n1                                      Monash University   \n2                               University of Queensland   \n3                                   Macquarie University   \n4                                            UNSW Sydney   \n...                                                  ...   \n101248                      Erasmus University Rotterdam   \n101249                                        LifeStream   \n101252                           Shirak State University   \n101255                       Radboud University Nijmegen   \n101257  Northamptonshire Healthcare NHS Foundation Trust   \n\n                              link        type  lang_eng  valid_dir  \\\nindex                                                                 \n0           http://www.anu.edu.au/   Education         1          1   \n1           http://www.monash.edu/   Education         1          1   \n2            http://www.uq.edu.au/   Education         1          1   \n3                http://mq.edu.au/   Education         1          1   \n4         https://www.unsw.edu.au/   Education         1          1   \n...                            ...         ...       ...        ...   \n101248  http://www.eur.nl/english/   Education         1          1   \n101249    https://www.lstream.org/   Nonprofit         1          1   \n101252          http://shsu.am/en/   Education         1          1   \n101255   http://www.ru.nl/english/   Education         1          1   \n101257    https://www.nhft.nhs.uk/  Healthcare         1          1   \n\n                                                    title  \\\nindex                                                       \n0       ANU Newsroom - ANU Study with us - ANU Researc...   \n1       Monash University - one of the top universitie...   \n2       The University of Queensland The University of...   \n3       \\n          \\n\\n            Macquarie Universi...   \n4       UNSW Sydney | One of the best universities in ...   \n...                                                   ...   \n101248                                                NaN   \n101249                                                NaN   \n101252                                                NaN   \n101255                                                NaN   \n101257                                                NaN   \n\n                                                       h1  \\\nindex                                                       \n0                                                           \n1       Home Home Equity, Diversity and Inclusion Equi...   \n2       \\n            Follow your passion for research...   \n3       Macquarie University home page Students \\n\\nUn...   \n4       Global feminism: Mona Eltahawy Global feminism...   \n...                                                   ...   \n101248                                                NaN   \n101249                                                NaN   \n101252                                                NaN   \n101255                                                NaN   \n101257                                                NaN   \n\n                                                       h2  \\\nindex                                                       \n0       Our COVID-19 pathway You are here You are here...   \n1       New home of Monash cardiac research New home o...   \n2       Find a program Find a program Breadcrumb Bread...   \n3       Slideshow Welcome new students! Set your caree...   \n4       Study options Study options Study options Stud...   \n...                                                   ...   \n101248                                                NaN   \n101249                                                NaN   \n101252                                                NaN   \n101255                                                NaN   \n101257                                                NaN   \n\n                                                       h3  \\\nindex                                                       \n0         ANU turns 75                           \\n   ...   \n1       \\n\\n          Top-50 university\\n\\n         \\n...   \n2       \\n            Study\\n    \\n \\n            Stud...   \n3       There’s still time to enrol for Session 1 Quic...   \n4       Proud to support Sydney WorldPride Proud to su...   \n...                                                   ...   \n101248                                                NaN   \n101249                                                NaN   \n101252                                                NaN   \n101255                                                NaN   \n101257                                                NaN   \n\n                                                       h4  \\\nindex                                                       \n0                                                           \n1                               \\n\\n          Don’t wa...   \n2                                 Pagination                \n3           Bachelor of Arts  Arts and Humanities Doub...   \n4       Visit our   for the latest on UNSW's response ...   \n...                                                   ...   \n101248                                                NaN   \n101249                                                NaN   \n101252                                                NaN   \n101255                                                NaN   \n101257                                                NaN   \n\n                                                       h5  \\\nindex                                                       \n0                                                           \n1           At Monash, we embrace diversity, actively ...   \n2                                                           \n3         Acknowledgement of Country Domestic student ...   \n4                   We will be in touch! \\n   The appl...   \n...                                                   ...   \n101248                                                NaN   \n101249                                                NaN   \n101252                                                NaN   \n101255                                                NaN   \n101257                                                NaN   \n\n                                                       h6  \\\nindex                                                       \n0                                                           \n1                                                           \n2                                                           \n3           Page owner Page owner Page owner   Page ow...   \n4                             You are an international...   \n...                                                   ...   \n101248                                                NaN   \n101249                                                NaN   \n101252                                                NaN   \n101255                                                NaN   \n101257                                                NaN   \n\n                                                        p  \\\nindex                                                       \n0       http://www.anu.edu.au/\\n html \\n [if lt IE 7 ]...   \n1       http://www.monash.edu/\\n\\n\\n\\n \\n html \\n http...   \n2       http://www.uq.edu.au/\\n html \\n https://www.uq...   \n3       http://mq.edu.au/\\n\\n html \\n https://students...   \n4       https://www.unsw.edu.au/\\n HTML \\n https://www...   \n...                                                   ...   \n101248                                                NaN   \n101249                                                NaN   \n101252                                                NaN   \n101255                                                NaN   \n101257                                                NaN   \n\n                                                        a  \\\nindex                                                       \n0       Skip navigation Skip navigation Skip navigatio...   \n1       \\n \\n \\n \\n \\n \\n \\n \\n \\n \\n \\n \\n \\n \\n \\n \\...   \n2       \\n      Skip to menu\\n     \\n      Skip to men...   \n3       Current students Current students Current stud...   \n4       \\n                Skip to Main Content\\n      ...   \n...                                                   ...   \n101248                                                NaN   \n101249                                                NaN   \n101252                                                NaN   \n101255                                                NaN   \n101257                                                NaN   \n\n                                                       li  \\\nindex                                                       \n0                                                           \n1       \\n \\n \\n \\n \\n \\n \\n \\n \\n \\n \\n \\n \\n \\n \\n \\...   \n2       \\n \\n \\n \\n a citizen of Australia or New Zeal...   \n3                                                           \n4       \\n \\n \\n \\n \\n \\n \\n \\n \\n \\n \\n \\n \\n \\n \\n \\...   \n...                                                   ...   \n101248                                                NaN   \n101249                                                NaN   \n101252                                                NaN   \n101255                                                NaN   \n101257                                                NaN   \n\n                                                     span  \nindex                                                      \n0       Search Search Search Search Search Search Sear...  \n1       Home Home Home Home Home Home Home Home Home H...  \n2       \\n \\n \\n \\n a domestic  a domestic  a domestic...  \n3       Macquarie University home page Students Macqua...  \n4       \\n \\n \\n \\n \\n \\n \\n \\n 100 \\n \\n \\n \\n \\n \\n ...  \n...                                                   ...  \n101248                                                NaN  \n101249                                                NaN  \n101252                                                NaN  \n101255                                                NaN  \n101257                                                NaN  \n\n[46278 rows x 16 columns]",
      "text/html": "<div>\n<style scoped>\n    .dataframe tbody tr th:only-of-type {\n        vertical-align: middle;\n    }\n\n    .dataframe tbody tr th {\n        vertical-align: top;\n    }\n\n    .dataframe thead th {\n        text-align: right;\n    }\n</style>\n<table border=\"1\" class=\"dataframe\">\n  <thead>\n    <tr style=\"text-align: right;\">\n      <th></th>\n      <th>name</th>\n      <th>link</th>\n      <th>type</th>\n      <th>lang_eng</th>\n      <th>valid_dir</th>\n      <th>title</th>\n      <th>h1</th>\n      <th>h2</th>\n      <th>h3</th>\n      <th>h4</th>\n      <th>h5</th>\n      <th>h6</th>\n      <th>p</th>\n      <th>a</th>\n      <th>li</th>\n      <th>span</th>\n    </tr>\n    <tr>\n      <th>index</th>\n      <th></th>\n      <th></th>\n      <th></th>\n      <th></th>\n      <th></th>\n      <th></th>\n      <th></th>\n      <th></th>\n      <th></th>\n      <th></th>\n      <th></th>\n      <th></th>\n      <th></th>\n      <th></th>\n      <th></th>\n      <th></th>\n    </tr>\n  </thead>\n  <tbody>\n    <tr>\n      <th>0</th>\n      <td>Australian National University</td>\n      <td>http://www.anu.edu.au/</td>\n      <td>Education</td>\n      <td>1</td>\n      <td>1</td>\n      <td>ANU Newsroom - ANU Study with us - ANU Researc...</td>\n      <td></td>\n      <td>Our COVID-19 pathway You are here You are here...</td>\n      <td>ANU turns 75                           \\n   ...</td>\n      <td></td>\n      <td></td>\n      <td></td>\n      <td>http://www.anu.edu.au/\\n html \\n [if lt IE 7 ]...</td>\n      <td>Skip navigation Skip navigation Skip navigatio...</td>\n      <td></td>\n      <td>Search Search Search Search Search Search Sear...</td>\n    </tr>\n    <tr>\n      <th>1</th>\n      <td>Monash University</td>\n      <td>http://www.monash.edu/</td>\n      <td>Education</td>\n      <td>1</td>\n      <td>1</td>\n      <td>Monash University - one of the top universitie...</td>\n      <td>Home Home Equity, Diversity and Inclusion Equi...</td>\n      <td>New home of Monash cardiac research New home o...</td>\n      <td>\\n\\n          Top-50 university\\n\\n         \\n...</td>\n      <td>\\n\\n          Don’t wa...</td>\n      <td>At Monash, we embrace diversity, actively ...</td>\n      <td></td>\n      <td>http://www.monash.edu/\\n\\n\\n\\n \\n html \\n http...</td>\n      <td>\\n \\n \\n \\n \\n \\n \\n \\n \\n \\n \\n \\n \\n \\n \\n \\...</td>\n      <td>\\n \\n \\n \\n \\n \\n \\n \\n \\n \\n \\n \\n \\n \\n \\n \\...</td>\n      <td>Home Home Home Home Home Home Home Home Home H...</td>\n    </tr>\n    <tr>\n      <th>2</th>\n      <td>University of Queensland</td>\n      <td>http://www.uq.edu.au/</td>\n      <td>Education</td>\n      <td>1</td>\n      <td>1</td>\n      <td>The University of Queensland The University of...</td>\n      <td>\\n            Follow your passion for research...</td>\n      <td>Find a program Find a program Breadcrumb Bread...</td>\n      <td>\\n            Study\\n    \\n \\n            Stud...</td>\n      <td>Pagination</td>\n      <td></td>\n      <td></td>\n      <td>http://www.uq.edu.au/\\n html \\n https://www.uq...</td>\n      <td>\\n      Skip to menu\\n     \\n      Skip to men...</td>\n      <td>\\n \\n \\n \\n a citizen of Australia or New Zeal...</td>\n      <td>\\n \\n \\n \\n a domestic  a domestic  a domestic...</td>\n    </tr>\n    <tr>\n      <th>3</th>\n      <td>Macquarie University</td>\n      <td>http://mq.edu.au/</td>\n      <td>Education</td>\n      <td>1</td>\n      <td>1</td>\n      <td>\\n          \\n\\n            Macquarie Universi...</td>\n      <td>Macquarie University home page Students \\n\\nUn...</td>\n      <td>Slideshow Welcome new students! Set your caree...</td>\n      <td>There’s still time to enrol for Session 1 Quic...</td>\n      <td>Bachelor of Arts  Arts and Humanities Doub...</td>\n      <td>Acknowledgement of Country Domestic student ...</td>\n      <td>Page owner Page owner Page owner   Page ow...</td>\n      <td>http://mq.edu.au/\\n\\n html \\n https://students...</td>\n      <td>Current students Current students Current stud...</td>\n      <td></td>\n      <td>Macquarie University home page Students Macqua...</td>\n    </tr>\n    <tr>\n      <th>4</th>\n      <td>UNSW Sydney</td>\n      <td>https://www.unsw.edu.au/</td>\n      <td>Education</td>\n      <td>1</td>\n      <td>1</td>\n      <td>UNSW Sydney | One of the best universities in ...</td>\n      <td>Global feminism: Mona Eltahawy Global feminism...</td>\n      <td>Study options Study options Study options Stud...</td>\n      <td>Proud to support Sydney WorldPride Proud to su...</td>\n      <td>Visit our   for the latest on UNSW's response ...</td>\n      <td>We will be in touch! \\n   The appl...</td>\n      <td>You are an international...</td>\n      <td>https://www.unsw.edu.au/\\n HTML \\n https://www...</td>\n      <td>\\n                Skip to Main Content\\n      ...</td>\n      <td>\\n \\n \\n \\n \\n \\n \\n \\n \\n \\n \\n \\n \\n \\n \\n \\...</td>\n      <td>\\n \\n \\n \\n \\n \\n \\n \\n 100 \\n \\n \\n \\n \\n \\n ...</td>\n    </tr>\n    <tr>\n      <th>...</th>\n      <td>...</td>\n      <td>...</td>\n      <td>...</td>\n      <td>...</td>\n      <td>...</td>\n      <td>...</td>\n      <td>...</td>\n      <td>...</td>\n      <td>...</td>\n      <td>...</td>\n      <td>...</td>\n      <td>...</td>\n      <td>...</td>\n      <td>...</td>\n      <td>...</td>\n      <td>...</td>\n    </tr>\n    <tr>\n      <th>101248</th>\n      <td>Erasmus University Rotterdam</td>\n      <td>http://www.eur.nl/english/</td>\n      <td>Education</td>\n      <td>1</td>\n      <td>1</td>\n      <td>NaN</td>\n      <td>NaN</td>\n      <td>NaN</td>\n      <td>NaN</td>\n      <td>NaN</td>\n      <td>NaN</td>\n      <td>NaN</td>\n      <td>NaN</td>\n      <td>NaN</td>\n      <td>NaN</td>\n      <td>NaN</td>\n    </tr>\n    <tr>\n      <th>101249</th>\n      <td>LifeStream</td>\n      <td>https://www.lstream.org/</td>\n      <td>Nonprofit</td>\n      <td>1</td>\n      <td>1</td>\n      <td>NaN</td>\n      <td>NaN</td>\n      <td>NaN</td>\n      <td>NaN</td>\n      <td>NaN</td>\n      <td>NaN</td>\n      <td>NaN</td>\n      <td>NaN</td>\n      <td>NaN</td>\n      <td>NaN</td>\n      <td>NaN</td>\n    </tr>\n    <tr>\n      <th>101252</th>\n      <td>Shirak State University</td>\n      <td>http://shsu.am/en/</td>\n      <td>Education</td>\n      <td>1</td>\n      <td>1</td>\n      <td>NaN</td>\n      <td>NaN</td>\n      <td>NaN</td>\n      <td>NaN</td>\n      <td>NaN</td>\n      <td>NaN</td>\n      <td>NaN</td>\n      <td>NaN</td>\n      <td>NaN</td>\n      <td>NaN</td>\n      <td>NaN</td>\n    </tr>\n    <tr>\n      <th>101255</th>\n      <td>Radboud University Nijmegen</td>\n      <td>http://www.ru.nl/english/</td>\n      <td>Education</td>\n      <td>1</td>\n      <td>1</td>\n      <td>NaN</td>\n      <td>NaN</td>\n      <td>NaN</td>\n      <td>NaN</td>\n      <td>NaN</td>\n      <td>NaN</td>\n      <td>NaN</td>\n      <td>NaN</td>\n      <td>NaN</td>\n      <td>NaN</td>\n      <td>NaN</td>\n    </tr>\n    <tr>\n      <th>101257</th>\n      <td>Northamptonshire Healthcare NHS Foundation Trust</td>\n      <td>https://www.nhft.nhs.uk/</td>\n      <td>Healthcare</td>\n      <td>1</td>\n      <td>1</td>\n      <td>NaN</td>\n      <td>NaN</td>\n      <td>NaN</td>\n      <td>NaN</td>\n      <td>NaN</td>\n      <td>NaN</td>\n      <td>NaN</td>\n      <td>NaN</td>\n      <td>NaN</td>\n      <td>NaN</td>\n      <td>NaN</td>\n    </tr>\n  </tbody>\n</table>\n<p>46278 rows × 16 columns</p>\n</div>"
     },
     "execution_count": 13,
     "metadata": {},
     "output_type": "execute_result"
    }
   ],
   "source": [
    "print(new_df.shape)\n",
    "new_df"
   ],
   "metadata": {
    "collapsed": false
   }
  }
 ],
 "metadata": {
  "kernelspec": {
   "display_name": "Python 3",
   "language": "python",
   "name": "python3"
  },
  "language_info": {
   "codemirror_mode": {
    "name": "ipython",
    "version": 2
   },
   "file_extension": ".py",
   "mimetype": "text/x-python",
   "name": "python",
   "nbconvert_exporter": "python",
   "pygments_lexer": "ipython2",
   "version": "2.7.6"
  }
 },
 "nbformat": 4,
 "nbformat_minor": 0
}
